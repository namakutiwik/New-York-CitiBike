{
  "nbformat": 4,
  "nbformat_minor": 0,
  "metadata": {
    "colab": {
      "name": "Import Dataset in Python.ipynb",
      "provenance": [],
      "collapsed_sections": [],
      "toc_visible": true,
      "authorship_tag": "ABX9TyMRsfOFnJ8xWmhxL8L82v7Z",
      "include_colab_link": true
    },
    "kernelspec": {
      "name": "python3",
      "display_name": "Python 3"
    },
    "language_info": {
      "name": "python"
    }
  },
  "cells": [
    {
      "cell_type": "markdown",
      "metadata": {
        "id": "view-in-github",
        "colab_type": "text"
      },
      "source": [
        "<a href=\"https://colab.research.google.com/github/namakutiwik/New-York-CitiBike/blob/main/Import_Dataset_in_Python.ipynb\" target=\"_parent\"><img src=\"https://colab.research.google.com/assets/colab-badge.svg\" alt=\"Open In Colab\"/></a>"
      ]
    },
    {
      "cell_type": "markdown",
      "metadata": {
        "id": "rQ2h7pfe81cQ"
      },
      "source": [
        "# import BigData from BigQuery"
      ]
    },
    {
      "cell_type": "code",
      "metadata": {
        "id": "OX5ipsAR8VbN"
      },
      "source": [
        "from google.colab import auth\n",
        "auth.authenticate_user()\n",
        "print('Authenticated')"
      ],
      "execution_count": null,
      "outputs": []
    },
    {
      "cell_type": "code",
      "metadata": {
        "id": "-FIaqAq58ikH"
      },
      "source": [
        "%%bigquery --project my-first-project-318200 df\n",
        "SELECT \n",
        "  *\n",
        "FROM `bigquery-public-data.new_york_citibike.citibike_stations`"
      ],
      "execution_count": null,
      "outputs": []
    },
    {
      "cell_type": "code",
      "metadata": {
        "id": "1IqspDRl8k_Z"
      },
      "source": [
        "# it is to only get the sample with random index\n",
        "\n",
        "project_id = 'my-first-project-318200'\n",
        "\n",
        "from google.cloud import bigquery\n",
        "\n",
        "client = bigquery.Client(project=project_id)\n",
        "\n",
        "sample_count = 2000\n",
        "row_count = client.query('''\n",
        "  SELECT \n",
        "    COUNT(*) as total\n",
        "  FROM `bigquery-public-data.new_york_citibike.citibike_trips`''').to_dataframe().total[0]\n",
        "\n",
        "df = client.query('''\n",
        "  SELECT\n",
        "    *\n",
        "  FROM\n",
        "    `bigquery-public-data.new_york_citibike.citibike_trips`\n",
        "  WHERE RAND() < %d/%d\n",
        "''' % (sample_count, row_count)).to_dataframe()\n",
        "\n",
        "print('Full dataset has %d rows' % row_count)"
      ],
      "execution_count": null,
      "outputs": []
    },
    {
      "cell_type": "markdown",
      "metadata": {
        "id": "7A5Dg8CT857w"
      },
      "source": [
        "# import BigData easily (local drive)"
      ]
    },
    {
      "cell_type": "code",
      "metadata": {
        "id": "G7LRagz9xSf-",
        "colab": {
          "base_uri": "https://localhost:8080/"
        },
        "outputId": "7dbcd9f0-5926-4740-d3d8-2451ced1c690"
      },
      "source": [
        "from google.colab import drive\n",
        "drive.mount('/content/drive')"
      ],
      "execution_count": null,
      "outputs": [
        {
          "output_type": "stream",
          "text": [
            "Drive already mounted at /content/drive; to attempt to forcibly remount, call drive.mount(\"/content/drive\", force_remount=True).\n"
          ],
          "name": "stdout"
        }
      ]
    },
    {
      "cell_type": "code",
      "metadata": {
        "id": "1A-dSgwBxrqM",
        "colab": {
          "base_uri": "https://localhost:8080/"
        },
        "outputId": "e05a85da-d500-4366-96b7-19eb66c76b8e"
      },
      "source": [
        "!ls"
      ],
      "execution_count": null,
      "outputs": [
        {
          "output_type": "stream",
          "text": [
            "adc.json  drive  sample_data  stations.csv\n"
          ],
          "name": "stdout"
        }
      ]
    },
    {
      "cell_type": "code",
      "metadata": {
        "id": "d0GZxwpz8usC"
      },
      "source": [
        "# multiple files\n",
        "\n",
        "import pandas as pd\n",
        "\n",
        "CHUNK_SIZE = 50000\n",
        "csv_file_list = [\"/content/drive/My Drive/Kemenkes - Data Analyst/data2015.csv\", \n",
        "                 \"/content/drive/My Drive/Kemenkes - Data Analyst/data2016.csv\", \n",
        "                 \"/content/drive/My Drive/Kemenkes - Data Analyst/data2017.csv\"]\n",
        "output_file = \"output.csv\"\n",
        "\n",
        "first_one = True\n",
        "for csv_file_name in csv_file_list:\n",
        "\n",
        "    if not first_one: # if it is not the first csv file then skip the header row (row 0) of that file\n",
        "        skip_row = [0]\n",
        "    else:\n",
        "        skip_row = []\n",
        "\n",
        "    chunk_container = pd.read_csv(csv_file_name, chunksize=CHUNK_SIZE, skiprows = skip_row)\n",
        "    for chunk in chunk_container:\n",
        "        chunk.to_csv(output_file, mode=\"a\", index=False)\n",
        "    first_one = False"
      ],
      "execution_count": null,
      "outputs": []
    },
    {
      "cell_type": "code",
      "metadata": {
        "id": "WoyoC6oq9MMs"
      },
      "source": [
        "# single file\n",
        "\n",
        "output = pd.read_csv('/content/output.csv', chunksize=50000)\n",
        "trips = pd.concat(output)"
      ],
      "execution_count": null,
      "outputs": []
    }
  ]
}