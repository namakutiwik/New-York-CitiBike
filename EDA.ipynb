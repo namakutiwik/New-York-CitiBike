{
  "nbformat": 4,
  "nbformat_minor": 0,
  "metadata": {
    "colab": {
      "name": "EDA.ipynb",
      "provenance": [],
      "collapsed_sections": [
        "XvCwMbtKztQB",
        "11-YQ-lYqciA",
        "844UwuE7zxsv",
        "Si7j3IDU1Stl",
        "erS7T1l1Du7k",
        "YZbtb4ZP8nny",
        "hMM3oJKBR8zb",
        "OOWxDrGJgPWF",
        "iPpVskXKgYC0",
        "8x-7jNspgehy",
        "bUBiraQCbYDA",
        "UmWjBWNr40lO",
        "n9LCb0o9GfRC",
        "QYK8Ys98az60",
        "vjqRnfOfE8iQ",
        "lGR8T-sMTIYV",
        "u7_cBUPMHx8P",
        "t-eGWVeCR912",
        "9qElXzCwsFhu",
        "Y_g3a0u4-A2N",
        "DCHNevVyy8RT"
      ],
      "toc_visible": true,
      "authorship_tag": "ABX9TyM+1MOoy3C1ed14x7yBeMty",
      "include_colab_link": true
    },
    "kernelspec": {
      "display_name": "Python 3",
      "name": "python3"
    },
    "language_info": {
      "name": "python"
    }
  },
  "cells": [
    {
      "cell_type": "markdown",
      "metadata": {
        "id": "view-in-github",
        "colab_type": "text"
      },
      "source": [
        "<a href=\"https://colab.research.google.com/github/namakutiwik/New-York-CitiBike/blob/main/EDA.ipynb\" target=\"_parent\"><img src=\"https://colab.research.google.com/assets/colab-badge.svg\" alt=\"Open In Colab\"/></a>"
      ]
    },
    {
      "cell_type": "markdown",
      "metadata": {
        "id": "XvCwMbtKztQB"
      },
      "source": [
        "# Install Mount Drive & Import Dataset"
      ]
    },
    {
      "cell_type": "code",
      "metadata": {
        "id": "G7LRagz9xSf-"
      },
      "source": [
        "#from google.colab import drive\n",
        "#drive.mount('/content/drive')"
      ],
      "execution_count": 1,
      "outputs": []
    },
    {
      "cell_type": "code",
      "metadata": {
        "id": "1A-dSgwBxrqM"
      },
      "source": [
        "#!ls"
      ],
      "execution_count": 2,
      "outputs": []
    },
    {
      "cell_type": "code",
      "metadata": {
        "id": "velHuNmbyOS2"
      },
      "source": [
        "# Stations dataset\n",
        "#stations = pd.read_csv('/content/drive/My Drive/Kemenkes - Data Analyst/stations.csv')\n",
        "#stations.head(2)"
      ],
      "execution_count": 3,
      "outputs": []
    },
    {
      "cell_type": "code",
      "metadata": {
        "id": "d4bSGwz8y_rY"
      },
      "source": [
        "# Trips dataset\n",
        "#trip = pd.read_csv('/content/drive/My Drive/Kemenkes - Data Analyst/trips.csv')\n",
        "#trip = trip.drop_duplicates()\n",
        "#trips = trip.iloc[1: , :]\n",
        "#trips.head(2)"
      ],
      "execution_count": 4,
      "outputs": []
    },
    {
      "cell_type": "markdown",
      "metadata": {
        "id": "11-YQ-lYqciA"
      },
      "source": [
        "# Import Dataset from API Bigquery"
      ]
    },
    {
      "cell_type": "markdown",
      "metadata": {
        "id": "6ZWqum3t23oJ"
      },
      "source": [
        "**For small dataset**"
      ]
    },
    {
      "cell_type": "code",
      "metadata": {
        "colab": {
          "base_uri": "https://localhost:8080/"
        },
        "id": "NPp1hDL3qkY1",
        "outputId": "069b71b0-a947-4304-b74a-85efa4b2b829"
      },
      "source": [
        "from google.colab import auth\n",
        "auth.authenticate_user()\n",
        "print('Authenticated')"
      ],
      "execution_count": 5,
      "outputs": [
        {
          "output_type": "stream",
          "text": [
            "Authenticated\n"
          ],
          "name": "stdout"
        }
      ]
    },
    {
      "cell_type": "code",
      "metadata": {
        "id": "5cBgBM3NqkdC"
      },
      "source": [
        "%%bigquery --project my-first-project-318200 df\n",
        "SELECT \n",
        "  *\n",
        "FROM `bigquery-public-data.new_york_citibike.citibike_stations`"
      ],
      "execution_count": 6,
      "outputs": []
    },
    {
      "cell_type": "code",
      "metadata": {
        "colab": {
          "base_uri": "https://localhost:8080/",
          "height": 0
        },
        "id": "Rt_o4MZTqkne",
        "outputId": "96d3629c-9b9a-4f67-ebf0-2684052ec8a8"
      },
      "source": [
        "stations = df\n",
        "stations.head(2)"
      ],
      "execution_count": 7,
      "outputs": [
        {
          "output_type": "execute_result",
          "data": {
            "text/html": [
              "<div>\n",
              "<style scoped>\n",
              "    .dataframe tbody tr th:only-of-type {\n",
              "        vertical-align: middle;\n",
              "    }\n",
              "\n",
              "    .dataframe tbody tr th {\n",
              "        vertical-align: top;\n",
              "    }\n",
              "\n",
              "    .dataframe thead th {\n",
              "        text-align: right;\n",
              "    }\n",
              "</style>\n",
              "<table border=\"1\" class=\"dataframe\">\n",
              "  <thead>\n",
              "    <tr style=\"text-align: right;\">\n",
              "      <th></th>\n",
              "      <th>station_id</th>\n",
              "      <th>name</th>\n",
              "      <th>short_name</th>\n",
              "      <th>latitude</th>\n",
              "      <th>longitude</th>\n",
              "      <th>region_id</th>\n",
              "      <th>rental_methods</th>\n",
              "      <th>capacity</th>\n",
              "      <th>eightd_has_key_dispenser</th>\n",
              "      <th>num_bikes_available</th>\n",
              "      <th>num_bikes_disabled</th>\n",
              "      <th>num_docks_available</th>\n",
              "      <th>num_docks_disabled</th>\n",
              "      <th>is_installed</th>\n",
              "      <th>is_renting</th>\n",
              "      <th>is_returning</th>\n",
              "      <th>eightd_has_available_keys</th>\n",
              "      <th>last_reported</th>\n",
              "    </tr>\n",
              "  </thead>\n",
              "  <tbody>\n",
              "    <tr>\n",
              "      <th>0</th>\n",
              "      <td>3321</td>\n",
              "      <td>Clinton St &amp; Union St</td>\n",
              "      <td>4266.03</td>\n",
              "      <td>-73.997853</td>\n",
              "      <td>40.683116</td>\n",
              "      <td>71.0</td>\n",
              "      <td>KEY,CREDITCARD</td>\n",
              "      <td>38</td>\n",
              "      <td>False</td>\n",
              "      <td>38</td>\n",
              "      <td>0</td>\n",
              "      <td>0</td>\n",
              "      <td>0</td>\n",
              "      <td>True</td>\n",
              "      <td>True</td>\n",
              "      <td>True</td>\n",
              "      <td>False</td>\n",
              "      <td>2021-07-03</td>\n",
              "    </tr>\n",
              "    <tr>\n",
              "      <th>1</th>\n",
              "      <td>3697</td>\n",
              "      <td>W 64 St &amp; Thelonious Monk Circle</td>\n",
              "      <td>7123.04</td>\n",
              "      <td>-73.989187</td>\n",
              "      <td>40.775160</td>\n",
              "      <td>71.0</td>\n",
              "      <td>KEY,CREDITCARD</td>\n",
              "      <td>43</td>\n",
              "      <td>False</td>\n",
              "      <td>43</td>\n",
              "      <td>0</td>\n",
              "      <td>0</td>\n",
              "      <td>0</td>\n",
              "      <td>True</td>\n",
              "      <td>True</td>\n",
              "      <td>True</td>\n",
              "      <td>False</td>\n",
              "      <td>2021-07-03</td>\n",
              "    </tr>\n",
              "  </tbody>\n",
              "</table>\n",
              "</div>"
            ],
            "text/plain": [
              "   station_id  ... last_reported\n",
              "0        3321  ...    2021-07-03\n",
              "1        3697  ...    2021-07-03\n",
              "\n",
              "[2 rows x 18 columns]"
            ]
          },
          "metadata": {
            "tags": []
          },
          "execution_count": 7
        }
      ]
    },
    {
      "cell_type": "markdown",
      "metadata": {
        "id": "jbvR7N3E3Bpe"
      },
      "source": [
        "**For big dataset**"
      ]
    },
    {
      "cell_type": "code",
      "metadata": {
        "id": "F0lk979G21Ut"
      },
      "source": [
        "project_id = 'my-first-project-318200'"
      ],
      "execution_count": 8,
      "outputs": []
    },
    {
      "cell_type": "code",
      "metadata": {
        "colab": {
          "base_uri": "https://localhost:8080/"
        },
        "id": "yJ37IqhV11oI",
        "outputId": "89a6692f-651b-4a5a-dbed-7fc8e789fd56"
      },
      "source": [
        "from google.cloud import bigquery\n",
        "\n",
        "client = bigquery.Client(project=project_id)\n",
        "\n",
        "sample_count = 2000\n",
        "row_count = client.query('''\n",
        "  SELECT \n",
        "    COUNT(*) as total\n",
        "  FROM `bigquery-public-data.new_york_citibike.citibike_trips`''').to_dataframe().total[0]\n",
        "\n",
        "df = client.query('''\n",
        "  SELECT\n",
        "    *\n",
        "  FROM\n",
        "    `bigquery-public-data.new_york_citibike.citibike_trips`\n",
        "  WHERE RAND() < %d/%d\n",
        "''' % (sample_count, row_count)).to_dataframe()\n",
        "\n",
        "print('Full dataset has %d rows' % row_count)"
      ],
      "execution_count": 9,
      "outputs": [
        {
          "output_type": "stream",
          "text": [
            "Full dataset has 58937715 rows\n"
          ],
          "name": "stdout"
        }
      ]
    },
    {
      "cell_type": "code",
      "metadata": {
        "colab": {
          "base_uri": "https://localhost:8080/",
          "height": 0
        },
        "id": "frzi6Bkoww5i",
        "outputId": "8e21a7c4-0703-4152-b141-f6a482c8e0e1"
      },
      "source": [
        "trips = df\n",
        "trips.head(2)"
      ],
      "execution_count": 10,
      "outputs": [
        {
          "output_type": "execute_result",
          "data": {
            "text/html": [
              "<div>\n",
              "<style scoped>\n",
              "    .dataframe tbody tr th:only-of-type {\n",
              "        vertical-align: middle;\n",
              "    }\n",
              "\n",
              "    .dataframe tbody tr th {\n",
              "        vertical-align: top;\n",
              "    }\n",
              "\n",
              "    .dataframe thead th {\n",
              "        text-align: right;\n",
              "    }\n",
              "</style>\n",
              "<table border=\"1\" class=\"dataframe\">\n",
              "  <thead>\n",
              "    <tr style=\"text-align: right;\">\n",
              "      <th></th>\n",
              "      <th>tripduration</th>\n",
              "      <th>starttime</th>\n",
              "      <th>stoptime</th>\n",
              "      <th>start_station_id</th>\n",
              "      <th>start_station_name</th>\n",
              "      <th>start_station_latitude</th>\n",
              "      <th>start_station_longitude</th>\n",
              "      <th>end_station_id</th>\n",
              "      <th>end_station_name</th>\n",
              "      <th>end_station_latitude</th>\n",
              "      <th>end_station_longitude</th>\n",
              "      <th>bikeid</th>\n",
              "      <th>usertype</th>\n",
              "      <th>birth_year</th>\n",
              "      <th>gender</th>\n",
              "      <th>customer_plan</th>\n",
              "    </tr>\n",
              "  </thead>\n",
              "  <tbody>\n",
              "    <tr>\n",
              "      <th>0</th>\n",
              "      <td>1481.0</td>\n",
              "      <td>2016-07-14 17:07:57</td>\n",
              "      <td>2016-07-14 17:32:38</td>\n",
              "      <td>242.0</td>\n",
              "      <td>Carlton Ave &amp; Flushing Ave</td>\n",
              "      <td>40.697787</td>\n",
              "      <td>-73.973736</td>\n",
              "      <td>217.0</td>\n",
              "      <td>Old Fulton St</td>\n",
              "      <td>40.702772</td>\n",
              "      <td>-73.993836</td>\n",
              "      <td>17076.0</td>\n",
              "      <td>Customer</td>\n",
              "      <td>NaN</td>\n",
              "      <td>unknown</td>\n",
              "      <td></td>\n",
              "    </tr>\n",
              "    <tr>\n",
              "      <th>1</th>\n",
              "      <td>935.0</td>\n",
              "      <td>2017-06-28 08:34:40</td>\n",
              "      <td>2017-06-28 08:50:16</td>\n",
              "      <td>3238.0</td>\n",
              "      <td>E 80 St &amp; 2 Ave</td>\n",
              "      <td>40.773914</td>\n",
              "      <td>-73.954395</td>\n",
              "      <td>3164.0</td>\n",
              "      <td>Columbus Ave &amp; W 72 St</td>\n",
              "      <td>40.777057</td>\n",
              "      <td>-73.978985</td>\n",
              "      <td>15800.0</td>\n",
              "      <td>Customer</td>\n",
              "      <td>NaN</td>\n",
              "      <td>unknown</td>\n",
              "      <td></td>\n",
              "    </tr>\n",
              "  </tbody>\n",
              "</table>\n",
              "</div>"
            ],
            "text/plain": [
              "   tripduration           starttime  ...   gender  customer_plan\n",
              "0        1481.0 2016-07-14 17:07:57  ...  unknown               \n",
              "1         935.0 2017-06-28 08:34:40  ...  unknown               \n",
              "\n",
              "[2 rows x 16 columns]"
            ]
          },
          "metadata": {
            "tags": []
          },
          "execution_count": 10
        }
      ]
    },
    {
      "cell_type": "markdown",
      "metadata": {
        "id": "844UwuE7zxsv"
      },
      "source": [
        "# Import Library"
      ]
    },
    {
      "cell_type": "code",
      "metadata": {
        "id": "olzREA_-y89Z"
      },
      "source": [
        "import numpy as np\n",
        "import matplotlib.pyplot as plt\n",
        "import pandas as pd\n",
        "from pandas import *\n",
        "import seaborn as sns\n",
        "from matplotlib import rcParams\n",
        "import datetime as dt\n",
        "%matplotlib inline\n",
        "sns.set_style(\"darkgrid\")\n",
        "plt.rcParams['figure.figsize'] = (12,8)"
      ],
      "execution_count": 11,
      "outputs": []
    },
    {
      "cell_type": "markdown",
      "metadata": {
        "id": "Si7j3IDU1Stl"
      },
      "source": [
        "# Exploratory Data Analysis"
      ]
    },
    {
      "cell_type": "markdown",
      "metadata": {
        "id": "FuiDU8Sy1Ykc"
      },
      "source": [
        "\n",
        "\n",
        "*  Top 5 stations with the most starts (showing # of starts)\n",
        "* Trip duration by user type\n",
        "* Most popular trips based on start station and stop station)\n",
        "* Rider behaviour by Gender and Age based on avg trip distance (station to station), median speed (trip duration / distance traveled)\n",
        "* What is the busiest bike in NYC? How many times was it used? How many minutes was it in use?\n",
        "\n",
        "\n"
      ]
    },
    {
      "cell_type": "markdown",
      "metadata": {
        "id": "loHy-9OH3dQM"
      },
      "source": [
        "\n",
        "Information of trip dataset:\n",
        "1. Trip Duration (seconds) — How long a trip lasted\n",
        "2. Start Time and Date - Self explanatory\n",
        "3. Stop Time and Date - Self explanatory\n",
        "4. Start Station Name - Self explanatory\n",
        "5. End Station Name - Self explanatory\n",
        "6. Station ID - Unique identifier for each station\n",
        "7. Station Lat/Long - Coordinates\n",
        "8. Bike ID - unique identifier for each bike\n",
        "9. User Type (Customer = 24-hour pass or 3-day pass user;  Subscriber = Annual Member) - Customers are usually tourists, subscribers are usually NYC residents\n",
        "10. Gender (Zero=unknown; 1=male; 2=female) - Usually unknown for customers since they often sign up at a kiosk\n",
        "11. Year of Birth - Self entered, not validated by an ID.\n",
        "\n"
      ]
    },
    {
      "cell_type": "markdown",
      "metadata": {
        "id": "erS7T1l1Du7k"
      },
      "source": [
        "## Cleaning Trips Dataset"
      ]
    },
    {
      "cell_type": "markdown",
      "metadata": {
        "id": "YZbtb4ZP8nny"
      },
      "source": [
        "### General"
      ]
    },
    {
      "cell_type": "code",
      "metadata": {
        "colab": {
          "base_uri": "https://localhost:8080/",
          "height": 0
        },
        "id": "JPZDw6bU42eg",
        "outputId": "6bb8bf23-ac85-49f3-f308-e5d7a671b7ef"
      },
      "source": [
        "trips.head(2)"
      ],
      "execution_count": 12,
      "outputs": [
        {
          "output_type": "execute_result",
          "data": {
            "text/html": [
              "<div>\n",
              "<style scoped>\n",
              "    .dataframe tbody tr th:only-of-type {\n",
              "        vertical-align: middle;\n",
              "    }\n",
              "\n",
              "    .dataframe tbody tr th {\n",
              "        vertical-align: top;\n",
              "    }\n",
              "\n",
              "    .dataframe thead th {\n",
              "        text-align: right;\n",
              "    }\n",
              "</style>\n",
              "<table border=\"1\" class=\"dataframe\">\n",
              "  <thead>\n",
              "    <tr style=\"text-align: right;\">\n",
              "      <th></th>\n",
              "      <th>tripduration</th>\n",
              "      <th>starttime</th>\n",
              "      <th>stoptime</th>\n",
              "      <th>start_station_id</th>\n",
              "      <th>start_station_name</th>\n",
              "      <th>start_station_latitude</th>\n",
              "      <th>start_station_longitude</th>\n",
              "      <th>end_station_id</th>\n",
              "      <th>end_station_name</th>\n",
              "      <th>end_station_latitude</th>\n",
              "      <th>end_station_longitude</th>\n",
              "      <th>bikeid</th>\n",
              "      <th>usertype</th>\n",
              "      <th>birth_year</th>\n",
              "      <th>gender</th>\n",
              "      <th>customer_plan</th>\n",
              "    </tr>\n",
              "  </thead>\n",
              "  <tbody>\n",
              "    <tr>\n",
              "      <th>0</th>\n",
              "      <td>1481.0</td>\n",
              "      <td>2016-07-14 17:07:57</td>\n",
              "      <td>2016-07-14 17:32:38</td>\n",
              "      <td>242.0</td>\n",
              "      <td>Carlton Ave &amp; Flushing Ave</td>\n",
              "      <td>40.697787</td>\n",
              "      <td>-73.973736</td>\n",
              "      <td>217.0</td>\n",
              "      <td>Old Fulton St</td>\n",
              "      <td>40.702772</td>\n",
              "      <td>-73.993836</td>\n",
              "      <td>17076.0</td>\n",
              "      <td>Customer</td>\n",
              "      <td>NaN</td>\n",
              "      <td>unknown</td>\n",
              "      <td></td>\n",
              "    </tr>\n",
              "    <tr>\n",
              "      <th>1</th>\n",
              "      <td>935.0</td>\n",
              "      <td>2017-06-28 08:34:40</td>\n",
              "      <td>2017-06-28 08:50:16</td>\n",
              "      <td>3238.0</td>\n",
              "      <td>E 80 St &amp; 2 Ave</td>\n",
              "      <td>40.773914</td>\n",
              "      <td>-73.954395</td>\n",
              "      <td>3164.0</td>\n",
              "      <td>Columbus Ave &amp; W 72 St</td>\n",
              "      <td>40.777057</td>\n",
              "      <td>-73.978985</td>\n",
              "      <td>15800.0</td>\n",
              "      <td>Customer</td>\n",
              "      <td>NaN</td>\n",
              "      <td>unknown</td>\n",
              "      <td></td>\n",
              "    </tr>\n",
              "  </tbody>\n",
              "</table>\n",
              "</div>"
            ],
            "text/plain": [
              "   tripduration           starttime  ...   gender  customer_plan\n",
              "0        1481.0 2016-07-14 17:07:57  ...  unknown               \n",
              "1         935.0 2017-06-28 08:34:40  ...  unknown               \n",
              "\n",
              "[2 rows x 16 columns]"
            ]
          },
          "metadata": {
            "tags": []
          },
          "execution_count": 12
        }
      ]
    },
    {
      "cell_type": "code",
      "metadata": {
        "colab": {
          "base_uri": "https://localhost:8080/",
          "height": 0
        },
        "id": "rUhLWTJn0BpT",
        "outputId": "a87a73ea-7850-4043-a9f3-8645880e6ad8"
      },
      "source": [
        "# Extract year from startime to get the trips' year\n",
        "trips['trips_year'] = pd.DatetimeIndex(trips['starttime']).year\n",
        "trips.head(3)"
      ],
      "execution_count": 13,
      "outputs": [
        {
          "output_type": "execute_result",
          "data": {
            "text/html": [
              "<div>\n",
              "<style scoped>\n",
              "    .dataframe tbody tr th:only-of-type {\n",
              "        vertical-align: middle;\n",
              "    }\n",
              "\n",
              "    .dataframe tbody tr th {\n",
              "        vertical-align: top;\n",
              "    }\n",
              "\n",
              "    .dataframe thead th {\n",
              "        text-align: right;\n",
              "    }\n",
              "</style>\n",
              "<table border=\"1\" class=\"dataframe\">\n",
              "  <thead>\n",
              "    <tr style=\"text-align: right;\">\n",
              "      <th></th>\n",
              "      <th>tripduration</th>\n",
              "      <th>starttime</th>\n",
              "      <th>stoptime</th>\n",
              "      <th>start_station_id</th>\n",
              "      <th>start_station_name</th>\n",
              "      <th>start_station_latitude</th>\n",
              "      <th>start_station_longitude</th>\n",
              "      <th>end_station_id</th>\n",
              "      <th>end_station_name</th>\n",
              "      <th>end_station_latitude</th>\n",
              "      <th>end_station_longitude</th>\n",
              "      <th>bikeid</th>\n",
              "      <th>usertype</th>\n",
              "      <th>birth_year</th>\n",
              "      <th>gender</th>\n",
              "      <th>customer_plan</th>\n",
              "      <th>trips_year</th>\n",
              "    </tr>\n",
              "  </thead>\n",
              "  <tbody>\n",
              "    <tr>\n",
              "      <th>0</th>\n",
              "      <td>1481.0</td>\n",
              "      <td>2016-07-14 17:07:57</td>\n",
              "      <td>2016-07-14 17:32:38</td>\n",
              "      <td>242.0</td>\n",
              "      <td>Carlton Ave &amp; Flushing Ave</td>\n",
              "      <td>40.697787</td>\n",
              "      <td>-73.973736</td>\n",
              "      <td>217.0</td>\n",
              "      <td>Old Fulton St</td>\n",
              "      <td>40.702772</td>\n",
              "      <td>-73.993836</td>\n",
              "      <td>17076.0</td>\n",
              "      <td>Customer</td>\n",
              "      <td>NaN</td>\n",
              "      <td>unknown</td>\n",
              "      <td></td>\n",
              "      <td>2016.0</td>\n",
              "    </tr>\n",
              "    <tr>\n",
              "      <th>1</th>\n",
              "      <td>935.0</td>\n",
              "      <td>2017-06-28 08:34:40</td>\n",
              "      <td>2017-06-28 08:50:16</td>\n",
              "      <td>3238.0</td>\n",
              "      <td>E 80 St &amp; 2 Ave</td>\n",
              "      <td>40.773914</td>\n",
              "      <td>-73.954395</td>\n",
              "      <td>3164.0</td>\n",
              "      <td>Columbus Ave &amp; W 72 St</td>\n",
              "      <td>40.777057</td>\n",
              "      <td>-73.978985</td>\n",
              "      <td>15800.0</td>\n",
              "      <td>Customer</td>\n",
              "      <td>NaN</td>\n",
              "      <td>unknown</td>\n",
              "      <td></td>\n",
              "      <td>2017.0</td>\n",
              "    </tr>\n",
              "    <tr>\n",
              "      <th>2</th>\n",
              "      <td>488.0</td>\n",
              "      <td>2015-04-02 08:48:30</td>\n",
              "      <td>2015-04-02 08:56:38</td>\n",
              "      <td>168.0</td>\n",
              "      <td>W 18 St &amp; 6 Ave</td>\n",
              "      <td>40.739713</td>\n",
              "      <td>-73.994564</td>\n",
              "      <td>362.0</td>\n",
              "      <td>Broadway &amp; W 37 St</td>\n",
              "      <td>40.751726</td>\n",
              "      <td>-73.987535</td>\n",
              "      <td>17655.0</td>\n",
              "      <td>Subscriber</td>\n",
              "      <td>1953.0</td>\n",
              "      <td>male</td>\n",
              "      <td></td>\n",
              "      <td>2015.0</td>\n",
              "    </tr>\n",
              "  </tbody>\n",
              "</table>\n",
              "</div>"
            ],
            "text/plain": [
              "   tripduration           starttime  ... customer_plan  trips_year\n",
              "0        1481.0 2016-07-14 17:07:57  ...                    2016.0\n",
              "1         935.0 2017-06-28 08:34:40  ...                    2017.0\n",
              "2         488.0 2015-04-02 08:48:30  ...                    2015.0\n",
              "\n",
              "[3 rows x 17 columns]"
            ]
          },
          "metadata": {
            "tags": []
          },
          "execution_count": 13
        }
      ]
    },
    {
      "cell_type": "code",
      "metadata": {
        "colab": {
          "base_uri": "https://localhost:8080/"
        },
        "id": "q9PD62yB4GKM",
        "outputId": "6f4c8df8-ab18-45b3-e675-c25890759272"
      },
      "source": [
        "pd.unique(trips.trips_year)"
      ],
      "execution_count": 14,
      "outputs": [
        {
          "output_type": "execute_result",
          "data": {
            "text/plain": [
              "array([2016., 2017., 2015., 2014., 2018., 2013.,   nan])"
            ]
          },
          "metadata": {
            "tags": []
          },
          "execution_count": 14
        }
      ]
    },
    {
      "cell_type": "code",
      "metadata": {
        "id": "Cnez57_79I35"
      },
      "source": [
        "# Get only dataset 2015-2017\n",
        "# Get indexes where name column doesn't have value\n",
        "indexNames = trips[~(trips['trips_year'] == 2015) & ~(trips['trips_year'] == 2016) & ~(trips['trips_year'] == 2017)].index \n",
        "# Delete these row indexes from dataFrame\n",
        "trips.drop(indexNames , inplace=True)"
      ],
      "execution_count": 15,
      "outputs": []
    },
    {
      "cell_type": "code",
      "metadata": {
        "colab": {
          "base_uri": "https://localhost:8080/"
        },
        "id": "yTgSJFi062mL",
        "outputId": "5228c3d0-6f3d-4812-dfe8-338ace09c495"
      },
      "source": [
        "pd.unique(trips.customer_plan)"
      ],
      "execution_count": 16,
      "outputs": [
        {
          "output_type": "execute_result",
          "data": {
            "text/plain": [
              "array([''], dtype=object)"
            ]
          },
          "metadata": {
            "tags": []
          },
          "execution_count": 16
        }
      ]
    },
    {
      "cell_type": "code",
      "metadata": {
        "id": "LTzUtJiUC2Hc"
      },
      "source": [
        "# remove unnecessary columns\n",
        "trips.drop(trips.columns[[15]], axis = 1, inplace = True)"
      ],
      "execution_count": 17,
      "outputs": []
    },
    {
      "cell_type": "code",
      "metadata": {
        "colab": {
          "base_uri": "https://localhost:8080/",
          "height": 0
        },
        "id": "6zmLFOib71a5",
        "outputId": "2f3c504c-0eb8-4df8-dadc-72348f2b57bf"
      },
      "source": [
        "trips.head(2)"
      ],
      "execution_count": 18,
      "outputs": [
        {
          "output_type": "execute_result",
          "data": {
            "text/html": [
              "<div>\n",
              "<style scoped>\n",
              "    .dataframe tbody tr th:only-of-type {\n",
              "        vertical-align: middle;\n",
              "    }\n",
              "\n",
              "    .dataframe tbody tr th {\n",
              "        vertical-align: top;\n",
              "    }\n",
              "\n",
              "    .dataframe thead th {\n",
              "        text-align: right;\n",
              "    }\n",
              "</style>\n",
              "<table border=\"1\" class=\"dataframe\">\n",
              "  <thead>\n",
              "    <tr style=\"text-align: right;\">\n",
              "      <th></th>\n",
              "      <th>tripduration</th>\n",
              "      <th>starttime</th>\n",
              "      <th>stoptime</th>\n",
              "      <th>start_station_id</th>\n",
              "      <th>start_station_name</th>\n",
              "      <th>start_station_latitude</th>\n",
              "      <th>start_station_longitude</th>\n",
              "      <th>end_station_id</th>\n",
              "      <th>end_station_name</th>\n",
              "      <th>end_station_latitude</th>\n",
              "      <th>end_station_longitude</th>\n",
              "      <th>bikeid</th>\n",
              "      <th>usertype</th>\n",
              "      <th>birth_year</th>\n",
              "      <th>gender</th>\n",
              "      <th>trips_year</th>\n",
              "    </tr>\n",
              "  </thead>\n",
              "  <tbody>\n",
              "    <tr>\n",
              "      <th>0</th>\n",
              "      <td>1481.0</td>\n",
              "      <td>2016-07-14 17:07:57</td>\n",
              "      <td>2016-07-14 17:32:38</td>\n",
              "      <td>242.0</td>\n",
              "      <td>Carlton Ave &amp; Flushing Ave</td>\n",
              "      <td>40.697787</td>\n",
              "      <td>-73.973736</td>\n",
              "      <td>217.0</td>\n",
              "      <td>Old Fulton St</td>\n",
              "      <td>40.702772</td>\n",
              "      <td>-73.993836</td>\n",
              "      <td>17076.0</td>\n",
              "      <td>Customer</td>\n",
              "      <td>NaN</td>\n",
              "      <td>unknown</td>\n",
              "      <td>2016.0</td>\n",
              "    </tr>\n",
              "    <tr>\n",
              "      <th>1</th>\n",
              "      <td>935.0</td>\n",
              "      <td>2017-06-28 08:34:40</td>\n",
              "      <td>2017-06-28 08:50:16</td>\n",
              "      <td>3238.0</td>\n",
              "      <td>E 80 St &amp; 2 Ave</td>\n",
              "      <td>40.773914</td>\n",
              "      <td>-73.954395</td>\n",
              "      <td>3164.0</td>\n",
              "      <td>Columbus Ave &amp; W 72 St</td>\n",
              "      <td>40.777057</td>\n",
              "      <td>-73.978985</td>\n",
              "      <td>15800.0</td>\n",
              "      <td>Customer</td>\n",
              "      <td>NaN</td>\n",
              "      <td>unknown</td>\n",
              "      <td>2017.0</td>\n",
              "    </tr>\n",
              "  </tbody>\n",
              "</table>\n",
              "</div>"
            ],
            "text/plain": [
              "   tripduration           starttime  ...   gender  trips_year\n",
              "0        1481.0 2016-07-14 17:07:57  ...  unknown      2016.0\n",
              "1         935.0 2017-06-28 08:34:40  ...  unknown      2017.0\n",
              "\n",
              "[2 rows x 16 columns]"
            ]
          },
          "metadata": {
            "tags": []
          },
          "execution_count": 18
        }
      ]
    },
    {
      "cell_type": "code",
      "metadata": {
        "id": "y9sz2fP78jtN"
      },
      "source": [
        "trips['trips_year'] = trips['trips_year'].astype(int)"
      ],
      "execution_count": 19,
      "outputs": []
    },
    {
      "cell_type": "markdown",
      "metadata": {
        "id": "hMM3oJKBR8zb"
      },
      "source": [
        "### Adjusting Station ID vs Station Name"
      ]
    },
    {
      "cell_type": "markdown",
      "metadata": {
        "id": "4xgTOQAwWNHo"
      },
      "source": [
        "**Checking the imbalance**"
      ]
    },
    {
      "cell_type": "code",
      "metadata": {
        "colab": {
          "base_uri": "https://localhost:8080/"
        },
        "id": "y3PYFgj28TW0",
        "outputId": "33a2e363-58dd-4f46-ae56-800b12d7b4fc"
      },
      "source": [
        "print(len(unique(trips.start_station_id)))\n",
        "print(len(unique(trips.end_station_id)))"
      ],
      "execution_count": 20,
      "outputs": [
        {
          "output_type": "stream",
          "text": [
            "421\n",
            "429\n"
          ],
          "name": "stdout"
        }
      ]
    },
    {
      "cell_type": "code",
      "metadata": {
        "colab": {
          "base_uri": "https://localhost:8080/"
        },
        "id": "OUy-kJiX8Z6d",
        "outputId": "3782ee09-d82d-4960-b56a-70c9003c2448"
      },
      "source": [
        "print(len(unique(trips.start_station_name)))\n",
        "print(len(unique(trips.end_station_name)))"
      ],
      "execution_count": 21,
      "outputs": [
        {
          "output_type": "stream",
          "text": [
            "420\n",
            "430\n"
          ],
          "name": "stdout"
        }
      ]
    },
    {
      "cell_type": "code",
      "metadata": {
        "colab": {
          "base_uri": "https://localhost:8080/"
        },
        "id": "9kHuzRFq-jgN",
        "outputId": "df053670-f69c-4a7c-c56b-befce12b0653"
      },
      "source": [
        "id_name_s = trips[['start_station_id','start_station_name','end_station_id', 'end_station_name']]\n",
        "id_name_s = id_name_s.groupby(\"start_station_id\")\n",
        "id_name_s = id_name_s.agg({\"start_station_name\": \"nunique\"})\n",
        "id_name_s = id_name_s.reset_index()\n",
        "len(id_name_s[id_name_s['start_station_name']>=2])"
      ],
      "execution_count": 22,
      "outputs": [
        {
          "output_type": "execute_result",
          "data": {
            "text/plain": [
              "5"
            ]
          },
          "metadata": {
            "tags": []
          },
          "execution_count": 22
        }
      ]
    },
    {
      "cell_type": "code",
      "metadata": {
        "colab": {
          "base_uri": "https://localhost:8080/"
        },
        "id": "BqQDruGN-jx4",
        "outputId": "63647968-85bc-4c29-8e12-22f294a66b9e"
      },
      "source": [
        "id_name_e = trips[['start_station_id','start_station_name','end_station_id', 'end_station_name']]\n",
        "id_name_e = id_name_e.groupby(\"end_station_id\")\n",
        "id_name_e = id_name_e.agg({\"end_station_name\": \"nunique\"})\n",
        "id_name_e = id_name_e.reset_index()\n",
        "len(id_name_e[id_name_e['end_station_name']>=2])"
      ],
      "execution_count": 23,
      "outputs": [
        {
          "output_type": "execute_result",
          "data": {
            "text/plain": [
              "5"
            ]
          },
          "metadata": {
            "tags": []
          },
          "execution_count": 23
        }
      ]
    },
    {
      "cell_type": "code",
      "metadata": {
        "colab": {
          "base_uri": "https://localhost:8080/",
          "height": 0
        },
        "id": "lhOmBeg6CXNN",
        "outputId": "7b2f8bb8-a4c0-4726-d2a5-2c6f747ce5f7"
      },
      "source": [
        "id_name_e[id_name_e['end_station_name']>=2].head()"
      ],
      "execution_count": 24,
      "outputs": [
        {
          "output_type": "execute_result",
          "data": {
            "text/html": [
              "<div>\n",
              "<style scoped>\n",
              "    .dataframe tbody tr th:only-of-type {\n",
              "        vertical-align: middle;\n",
              "    }\n",
              "\n",
              "    .dataframe tbody tr th {\n",
              "        vertical-align: top;\n",
              "    }\n",
              "\n",
              "    .dataframe thead th {\n",
              "        text-align: right;\n",
              "    }\n",
              "</style>\n",
              "<table border=\"1\" class=\"dataframe\">\n",
              "  <thead>\n",
              "    <tr style=\"text-align: right;\">\n",
              "      <th></th>\n",
              "      <th>end_station_id</th>\n",
              "      <th>end_station_name</th>\n",
              "    </tr>\n",
              "  </thead>\n",
              "  <tbody>\n",
              "    <tr>\n",
              "      <th>95</th>\n",
              "      <td>329.0</td>\n",
              "      <td>2</td>\n",
              "    </tr>\n",
              "    <tr>\n",
              "      <th>193</th>\n",
              "      <td>468.0</td>\n",
              "      <td>2</td>\n",
              "    </tr>\n",
              "    <tr>\n",
              "      <th>229</th>\n",
              "      <td>504.0</td>\n",
              "      <td>2</td>\n",
              "    </tr>\n",
              "    <tr>\n",
              "      <th>243</th>\n",
              "      <td>521.0</td>\n",
              "      <td>2</td>\n",
              "    </tr>\n",
              "    <tr>\n",
              "      <th>365</th>\n",
              "      <td>3263.0</td>\n",
              "      <td>2</td>\n",
              "    </tr>\n",
              "  </tbody>\n",
              "</table>\n",
              "</div>"
            ],
            "text/plain": [
              "     end_station_id  end_station_name\n",
              "95            329.0                 2\n",
              "193           468.0                 2\n",
              "229           504.0                 2\n",
              "243           521.0                 2\n",
              "365          3263.0                 2"
            ]
          },
          "metadata": {
            "tags": []
          },
          "execution_count": 24
        }
      ]
    },
    {
      "cell_type": "code",
      "metadata": {
        "colab": {
          "base_uri": "https://localhost:8080/"
        },
        "id": "LtE7LG2kBHuS",
        "outputId": "6e6ba2c5-5653-4dcf-d405-a5e81cadb91a"
      },
      "source": [
        "a = trips[trips['end_station_id']==329.0]\n",
        "unique(a.end_station_name)"
      ],
      "execution_count": 25,
      "outputs": [
        {
          "output_type": "execute_result",
          "data": {
            "text/plain": [
              "array(['Greenwich St & N Moore St', 'Greenwich St & North Moore St'],\n",
              "      dtype=object)"
            ]
          },
          "metadata": {
            "tags": []
          },
          "execution_count": 25
        }
      ]
    },
    {
      "cell_type": "markdown",
      "metadata": {
        "id": "cpxd9x1tC2B6"
      },
      "source": [
        "Since the difference, it should use id rather than name"
      ]
    },
    {
      "cell_type": "markdown",
      "metadata": {
        "id": "mCHLTJkqV8vn"
      },
      "source": [
        "**Create dataframe as dictionary**"
      ]
    },
    {
      "cell_type": "code",
      "metadata": {
        "colab": {
          "base_uri": "https://localhost:8080/"
        },
        "id": "7C_wHlq7KDQr",
        "outputId": "9024013e-018a-4084-c5e0-a14fe798f2e8"
      },
      "source": [
        "start = trips[['start_station_id', 'start_station_name']]\n",
        "len(unique(start.start_station_id))"
      ],
      "execution_count": 26,
      "outputs": [
        {
          "output_type": "execute_result",
          "data": {
            "text/plain": [
              "421"
            ]
          },
          "metadata": {
            "tags": []
          },
          "execution_count": 26
        }
      ]
    },
    {
      "cell_type": "code",
      "metadata": {
        "colab": {
          "base_uri": "https://localhost:8080/"
        },
        "id": "KF2NUoV0Sv5k",
        "outputId": "ad389550-4127-4d78-8a4e-8d96af88a238"
      },
      "source": [
        "start.drop_duplicates(subset='start_station_id', keep=\"first\", inplace=True)"
      ],
      "execution_count": 27,
      "outputs": [
        {
          "output_type": "stream",
          "text": [
            "/usr/local/lib/python3.7/dist-packages/ipykernel_launcher.py:1: SettingWithCopyWarning: \n",
            "A value is trying to be set on a copy of a slice from a DataFrame\n",
            "\n",
            "See the caveats in the documentation: https://pandas.pydata.org/pandas-docs/stable/user_guide/indexing.html#returning-a-view-versus-a-copy\n",
            "  \"\"\"Entry point for launching an IPython kernel.\n"
          ],
          "name": "stderr"
        }
      ]
    },
    {
      "cell_type": "code",
      "metadata": {
        "colab": {
          "base_uri": "https://localhost:8080/"
        },
        "id": "xl20CnvCUbna",
        "outputId": "b9f7d6a9-7b63-4c07-9a7a-6a6ca56699a9"
      },
      "source": [
        "start.rename(columns = {'start_station_id':'station_id','start_station_name':'station_name'}, inplace = True)"
      ],
      "execution_count": 28,
      "outputs": [
        {
          "output_type": "stream",
          "text": [
            "/usr/local/lib/python3.7/dist-packages/pandas/core/frame.py:4308: SettingWithCopyWarning: \n",
            "A value is trying to be set on a copy of a slice from a DataFrame\n",
            "\n",
            "See the caveats in the documentation: https://pandas.pydata.org/pandas-docs/stable/user_guide/indexing.html#returning-a-view-versus-a-copy\n",
            "  errors=errors,\n"
          ],
          "name": "stderr"
        }
      ]
    },
    {
      "cell_type": "code",
      "metadata": {
        "colab": {
          "base_uri": "https://localhost:8080/"
        },
        "id": "ybzxoorYSoLa",
        "outputId": "b7a79b23-da4b-4c6e-a3a6-fe90d95492e4"
      },
      "source": [
        "end = trips[['end_station_id', 'end_station_name']]\n",
        "len(unique(end.end_station_id))"
      ],
      "execution_count": 29,
      "outputs": [
        {
          "output_type": "execute_result",
          "data": {
            "text/plain": [
              "429"
            ]
          },
          "metadata": {
            "tags": []
          },
          "execution_count": 29
        }
      ]
    },
    {
      "cell_type": "code",
      "metadata": {
        "colab": {
          "base_uri": "https://localhost:8080/"
        },
        "id": "x48lQKreTMeR",
        "outputId": "5080f501-b83d-4f45-8ce1-2505156477bf"
      },
      "source": [
        "end.drop_duplicates(subset='end_station_id', keep=\"first\", inplace=True)"
      ],
      "execution_count": 30,
      "outputs": [
        {
          "output_type": "stream",
          "text": [
            "/usr/local/lib/python3.7/dist-packages/ipykernel_launcher.py:1: SettingWithCopyWarning: \n",
            "A value is trying to be set on a copy of a slice from a DataFrame\n",
            "\n",
            "See the caveats in the documentation: https://pandas.pydata.org/pandas-docs/stable/user_guide/indexing.html#returning-a-view-versus-a-copy\n",
            "  \"\"\"Entry point for launching an IPython kernel.\n"
          ],
          "name": "stderr"
        }
      ]
    },
    {
      "cell_type": "code",
      "metadata": {
        "colab": {
          "base_uri": "https://localhost:8080/"
        },
        "id": "09uJ9Z75UriY",
        "outputId": "f0c85a8b-e173-4841-b3d7-8b963a3c6ac4"
      },
      "source": [
        "end.rename(columns = {'end_station_id':'station_id','end_station_name':'station_name'}, inplace = True)"
      ],
      "execution_count": 31,
      "outputs": [
        {
          "output_type": "stream",
          "text": [
            "/usr/local/lib/python3.7/dist-packages/pandas/core/frame.py:4308: SettingWithCopyWarning: \n",
            "A value is trying to be set on a copy of a slice from a DataFrame\n",
            "\n",
            "See the caveats in the documentation: https://pandas.pydata.org/pandas-docs/stable/user_guide/indexing.html#returning-a-view-versus-a-copy\n",
            "  errors=errors,\n"
          ],
          "name": "stderr"
        }
      ]
    },
    {
      "cell_type": "code",
      "metadata": {
        "id": "hcjNMxjuPaXg"
      },
      "source": [
        "id_name = pd.concat([start,end])\n",
        "id_name.drop_duplicates(subset='station_id', keep=\"first\", inplace=True)"
      ],
      "execution_count": 32,
      "outputs": []
    },
    {
      "cell_type": "code",
      "metadata": {
        "id": "_49qjZjCJJ7U"
      },
      "source": [
        "id_name['station_id'] = id_name['station_id'].astype(int)"
      ],
      "execution_count": 33,
      "outputs": []
    },
    {
      "cell_type": "code",
      "metadata": {
        "colab": {
          "base_uri": "https://localhost:8080/",
          "height": 0
        },
        "id": "PNP22C8IKNxC",
        "outputId": "cacd7f30-9e9e-410d-dfc5-d94dcc142931"
      },
      "source": [
        "id_name.head(3)"
      ],
      "execution_count": 34,
      "outputs": [
        {
          "output_type": "execute_result",
          "data": {
            "text/html": [
              "<div>\n",
              "<style scoped>\n",
              "    .dataframe tbody tr th:only-of-type {\n",
              "        vertical-align: middle;\n",
              "    }\n",
              "\n",
              "    .dataframe tbody tr th {\n",
              "        vertical-align: top;\n",
              "    }\n",
              "\n",
              "    .dataframe thead th {\n",
              "        text-align: right;\n",
              "    }\n",
              "</style>\n",
              "<table border=\"1\" class=\"dataframe\">\n",
              "  <thead>\n",
              "    <tr style=\"text-align: right;\">\n",
              "      <th></th>\n",
              "      <th>station_id</th>\n",
              "      <th>station_name</th>\n",
              "    </tr>\n",
              "  </thead>\n",
              "  <tbody>\n",
              "    <tr>\n",
              "      <th>0</th>\n",
              "      <td>242</td>\n",
              "      <td>Carlton Ave &amp; Flushing Ave</td>\n",
              "    </tr>\n",
              "    <tr>\n",
              "      <th>1</th>\n",
              "      <td>3238</td>\n",
              "      <td>E 80 St &amp; 2 Ave</td>\n",
              "    </tr>\n",
              "    <tr>\n",
              "      <th>2</th>\n",
              "      <td>168</td>\n",
              "      <td>W 18 St &amp; 6 Ave</td>\n",
              "    </tr>\n",
              "  </tbody>\n",
              "</table>\n",
              "</div>"
            ],
            "text/plain": [
              "   station_id                station_name\n",
              "0         242  Carlton Ave & Flushing Ave\n",
              "1        3238             E 80 St & 2 Ave\n",
              "2         168             W 18 St & 6 Ave"
            ]
          },
          "metadata": {
            "tags": []
          },
          "execution_count": 34
        }
      ]
    },
    {
      "cell_type": "code",
      "metadata": {
        "colab": {
          "base_uri": "https://localhost:8080/"
        },
        "id": "CkWq8Zi_QEFw",
        "outputId": "1e72d55a-f4b3-4a74-a7f0-d00d6e4c5600"
      },
      "source": [
        "len(id_name)"
      ],
      "execution_count": 35,
      "outputs": [
        {
          "output_type": "execute_result",
          "data": {
            "text/plain": [
              "524"
            ]
          },
          "metadata": {
            "tags": []
          },
          "execution_count": 35
        }
      ]
    },
    {
      "cell_type": "markdown",
      "metadata": {
        "id": "LUu-oFzGW9Ct"
      },
      "source": [
        "**Combine the dataframe using lookup func.**"
      ]
    },
    {
      "cell_type": "code",
      "metadata": {
        "id": "PGXgn3F6VpnS"
      },
      "source": [
        "trips['start_station_id_copy'] = trips['start_station_id']\n",
        "trips['end_station_id_copy'] = trips['end_station_id']"
      ],
      "execution_count": 36,
      "outputs": []
    },
    {
      "cell_type": "code",
      "metadata": {
        "id": "U-PibcJWVqAL"
      },
      "source": [
        "trips.start_station_id_copy.replace(dict(zip(id_name.station_id, id_name.station_name)), inplace=True)\n",
        "trips.end_station_id_copy.replace(dict(zip(id_name.station_id, id_name.station_name)), inplace=True)"
      ],
      "execution_count": 37,
      "outputs": []
    },
    {
      "cell_type": "code",
      "metadata": {
        "id": "6YqCE9xTa0ba"
      },
      "source": [
        "trips.drop(['start_station_name','end_station_name'], 1, inplace=True)"
      ],
      "execution_count": 38,
      "outputs": []
    },
    {
      "cell_type": "code",
      "metadata": {
        "id": "LDdFAwOFayvk"
      },
      "source": [
        "trips.rename(columns = {'start_station_id_copy':'start_station_name','end_station_id_copy':'end_station_name'}, inplace = True)"
      ],
      "execution_count": 39,
      "outputs": []
    },
    {
      "cell_type": "code",
      "metadata": {
        "colab": {
          "base_uri": "https://localhost:8080/",
          "height": 0
        },
        "id": "-KyExFPAQEar",
        "outputId": "757c4b23-a54a-4695-c2dd-746e9d63d58d"
      },
      "source": [
        "trips.head(3)"
      ],
      "execution_count": 40,
      "outputs": [
        {
          "output_type": "execute_result",
          "data": {
            "text/html": [
              "<div>\n",
              "<style scoped>\n",
              "    .dataframe tbody tr th:only-of-type {\n",
              "        vertical-align: middle;\n",
              "    }\n",
              "\n",
              "    .dataframe tbody tr th {\n",
              "        vertical-align: top;\n",
              "    }\n",
              "\n",
              "    .dataframe thead th {\n",
              "        text-align: right;\n",
              "    }\n",
              "</style>\n",
              "<table border=\"1\" class=\"dataframe\">\n",
              "  <thead>\n",
              "    <tr style=\"text-align: right;\">\n",
              "      <th></th>\n",
              "      <th>tripduration</th>\n",
              "      <th>starttime</th>\n",
              "      <th>stoptime</th>\n",
              "      <th>start_station_id</th>\n",
              "      <th>start_station_latitude</th>\n",
              "      <th>start_station_longitude</th>\n",
              "      <th>end_station_id</th>\n",
              "      <th>end_station_latitude</th>\n",
              "      <th>end_station_longitude</th>\n",
              "      <th>bikeid</th>\n",
              "      <th>usertype</th>\n",
              "      <th>birth_year</th>\n",
              "      <th>gender</th>\n",
              "      <th>trips_year</th>\n",
              "      <th>start_station_name</th>\n",
              "      <th>end_station_name</th>\n",
              "    </tr>\n",
              "  </thead>\n",
              "  <tbody>\n",
              "    <tr>\n",
              "      <th>0</th>\n",
              "      <td>1481.0</td>\n",
              "      <td>2016-07-14 17:07:57</td>\n",
              "      <td>2016-07-14 17:32:38</td>\n",
              "      <td>242.0</td>\n",
              "      <td>40.697787</td>\n",
              "      <td>-73.973736</td>\n",
              "      <td>217.0</td>\n",
              "      <td>40.702772</td>\n",
              "      <td>-73.993836</td>\n",
              "      <td>17076.0</td>\n",
              "      <td>Customer</td>\n",
              "      <td>NaN</td>\n",
              "      <td>unknown</td>\n",
              "      <td>2016</td>\n",
              "      <td>Carlton Ave &amp; Flushing Ave</td>\n",
              "      <td>Old Fulton St</td>\n",
              "    </tr>\n",
              "    <tr>\n",
              "      <th>1</th>\n",
              "      <td>935.0</td>\n",
              "      <td>2017-06-28 08:34:40</td>\n",
              "      <td>2017-06-28 08:50:16</td>\n",
              "      <td>3238.0</td>\n",
              "      <td>40.773914</td>\n",
              "      <td>-73.954395</td>\n",
              "      <td>3164.0</td>\n",
              "      <td>40.777057</td>\n",
              "      <td>-73.978985</td>\n",
              "      <td>15800.0</td>\n",
              "      <td>Customer</td>\n",
              "      <td>NaN</td>\n",
              "      <td>unknown</td>\n",
              "      <td>2017</td>\n",
              "      <td>E 80 St &amp; 2 Ave</td>\n",
              "      <td>Columbus Ave &amp; W 72 St</td>\n",
              "    </tr>\n",
              "    <tr>\n",
              "      <th>2</th>\n",
              "      <td>488.0</td>\n",
              "      <td>2015-04-02 08:48:30</td>\n",
              "      <td>2015-04-02 08:56:38</td>\n",
              "      <td>168.0</td>\n",
              "      <td>40.739713</td>\n",
              "      <td>-73.994564</td>\n",
              "      <td>362.0</td>\n",
              "      <td>40.751726</td>\n",
              "      <td>-73.987535</td>\n",
              "      <td>17655.0</td>\n",
              "      <td>Subscriber</td>\n",
              "      <td>1953.0</td>\n",
              "      <td>male</td>\n",
              "      <td>2015</td>\n",
              "      <td>W 18 St &amp; 6 Ave</td>\n",
              "      <td>Broadway &amp; W 37 St</td>\n",
              "    </tr>\n",
              "  </tbody>\n",
              "</table>\n",
              "</div>"
            ],
            "text/plain": [
              "   tripduration  ...        end_station_name\n",
              "0        1481.0  ...           Old Fulton St\n",
              "1         935.0  ...  Columbus Ave & W 72 St\n",
              "2         488.0  ...      Broadway & W 37 St\n",
              "\n",
              "[3 rows x 16 columns]"
            ]
          },
          "metadata": {
            "tags": []
          },
          "execution_count": 40
        }
      ]
    },
    {
      "cell_type": "markdown",
      "metadata": {
        "id": "OOWxDrGJgPWF"
      },
      "source": [
        "### Any missing value?"
      ]
    },
    {
      "cell_type": "code",
      "metadata": {
        "colab": {
          "base_uri": "https://localhost:8080/",
          "height": 0
        },
        "id": "6enF48mhVuo7",
        "outputId": "717909be-6776-4807-a800-16d82e70111a"
      },
      "source": [
        "#Percentage of missing data.\n",
        "def missing_data(df):\n",
        "    total = df.isna().sum().sort_values(ascending=False)\n",
        "    percent = round(df.isna().sum() / len(df), 4) * 100\n",
        "    missing_data = pd.concat([total, percent], axis=1, keys=['Total', 'Percent'])\n",
        "    return missing_data\n",
        "missing_data(trips)"
      ],
      "execution_count": 41,
      "outputs": [
        {
          "output_type": "execute_result",
          "data": {
            "text/html": [
              "<div>\n",
              "<style scoped>\n",
              "    .dataframe tbody tr th:only-of-type {\n",
              "        vertical-align: middle;\n",
              "    }\n",
              "\n",
              "    .dataframe tbody tr th {\n",
              "        vertical-align: top;\n",
              "    }\n",
              "\n",
              "    .dataframe thead th {\n",
              "        text-align: right;\n",
              "    }\n",
              "</style>\n",
              "<table border=\"1\" class=\"dataframe\">\n",
              "  <thead>\n",
              "    <tr style=\"text-align: right;\">\n",
              "      <th></th>\n",
              "      <th>Total</th>\n",
              "      <th>Percent</th>\n",
              "    </tr>\n",
              "  </thead>\n",
              "  <tbody>\n",
              "    <tr>\n",
              "      <th>birth_year</th>\n",
              "      <td>140</td>\n",
              "      <td>11.9</td>\n",
              "    </tr>\n",
              "    <tr>\n",
              "      <th>end_station_name</th>\n",
              "      <td>0</td>\n",
              "      <td>0.0</td>\n",
              "    </tr>\n",
              "    <tr>\n",
              "      <th>start_station_name</th>\n",
              "      <td>0</td>\n",
              "      <td>0.0</td>\n",
              "    </tr>\n",
              "    <tr>\n",
              "      <th>trips_year</th>\n",
              "      <td>0</td>\n",
              "      <td>0.0</td>\n",
              "    </tr>\n",
              "    <tr>\n",
              "      <th>gender</th>\n",
              "      <td>0</td>\n",
              "      <td>0.0</td>\n",
              "    </tr>\n",
              "    <tr>\n",
              "      <th>usertype</th>\n",
              "      <td>0</td>\n",
              "      <td>0.0</td>\n",
              "    </tr>\n",
              "    <tr>\n",
              "      <th>bikeid</th>\n",
              "      <td>0</td>\n",
              "      <td>0.0</td>\n",
              "    </tr>\n",
              "    <tr>\n",
              "      <th>end_station_longitude</th>\n",
              "      <td>0</td>\n",
              "      <td>0.0</td>\n",
              "    </tr>\n",
              "    <tr>\n",
              "      <th>end_station_latitude</th>\n",
              "      <td>0</td>\n",
              "      <td>0.0</td>\n",
              "    </tr>\n",
              "    <tr>\n",
              "      <th>end_station_id</th>\n",
              "      <td>0</td>\n",
              "      <td>0.0</td>\n",
              "    </tr>\n",
              "    <tr>\n",
              "      <th>start_station_longitude</th>\n",
              "      <td>0</td>\n",
              "      <td>0.0</td>\n",
              "    </tr>\n",
              "    <tr>\n",
              "      <th>start_station_latitude</th>\n",
              "      <td>0</td>\n",
              "      <td>0.0</td>\n",
              "    </tr>\n",
              "    <tr>\n",
              "      <th>start_station_id</th>\n",
              "      <td>0</td>\n",
              "      <td>0.0</td>\n",
              "    </tr>\n",
              "    <tr>\n",
              "      <th>stoptime</th>\n",
              "      <td>0</td>\n",
              "      <td>0.0</td>\n",
              "    </tr>\n",
              "    <tr>\n",
              "      <th>starttime</th>\n",
              "      <td>0</td>\n",
              "      <td>0.0</td>\n",
              "    </tr>\n",
              "    <tr>\n",
              "      <th>tripduration</th>\n",
              "      <td>0</td>\n",
              "      <td>0.0</td>\n",
              "    </tr>\n",
              "  </tbody>\n",
              "</table>\n",
              "</div>"
            ],
            "text/plain": [
              "                         Total  Percent\n",
              "birth_year                 140     11.9\n",
              "end_station_name             0      0.0\n",
              "start_station_name           0      0.0\n",
              "trips_year                   0      0.0\n",
              "gender                       0      0.0\n",
              "usertype                     0      0.0\n",
              "bikeid                       0      0.0\n",
              "end_station_longitude        0      0.0\n",
              "end_station_latitude         0      0.0\n",
              "end_station_id               0      0.0\n",
              "start_station_longitude      0      0.0\n",
              "start_station_latitude       0      0.0\n",
              "start_station_id             0      0.0\n",
              "stoptime                     0      0.0\n",
              "starttime                    0      0.0\n",
              "tripduration                 0      0.0"
            ]
          },
          "metadata": {
            "tags": []
          },
          "execution_count": 41
        }
      ]
    },
    {
      "cell_type": "code",
      "metadata": {
        "colab": {
          "base_uri": "https://localhost:8080/",
          "height": 0
        },
        "id": "8LRwJ-0kEgum",
        "outputId": "7f3a7954-b8a9-4a00-c0db-ad8c7d015c7c"
      },
      "source": [
        "trips[trips['birth_year'].isna()].head()"
      ],
      "execution_count": 42,
      "outputs": [
        {
          "output_type": "execute_result",
          "data": {
            "text/html": [
              "<div>\n",
              "<style scoped>\n",
              "    .dataframe tbody tr th:only-of-type {\n",
              "        vertical-align: middle;\n",
              "    }\n",
              "\n",
              "    .dataframe tbody tr th {\n",
              "        vertical-align: top;\n",
              "    }\n",
              "\n",
              "    .dataframe thead th {\n",
              "        text-align: right;\n",
              "    }\n",
              "</style>\n",
              "<table border=\"1\" class=\"dataframe\">\n",
              "  <thead>\n",
              "    <tr style=\"text-align: right;\">\n",
              "      <th></th>\n",
              "      <th>tripduration</th>\n",
              "      <th>starttime</th>\n",
              "      <th>stoptime</th>\n",
              "      <th>start_station_id</th>\n",
              "      <th>start_station_latitude</th>\n",
              "      <th>start_station_longitude</th>\n",
              "      <th>end_station_id</th>\n",
              "      <th>end_station_latitude</th>\n",
              "      <th>end_station_longitude</th>\n",
              "      <th>bikeid</th>\n",
              "      <th>usertype</th>\n",
              "      <th>birth_year</th>\n",
              "      <th>gender</th>\n",
              "      <th>trips_year</th>\n",
              "      <th>start_station_name</th>\n",
              "      <th>end_station_name</th>\n",
              "    </tr>\n",
              "  </thead>\n",
              "  <tbody>\n",
              "    <tr>\n",
              "      <th>0</th>\n",
              "      <td>1481.0</td>\n",
              "      <td>2016-07-14 17:07:57</td>\n",
              "      <td>2016-07-14 17:32:38</td>\n",
              "      <td>242.0</td>\n",
              "      <td>40.697787</td>\n",
              "      <td>-73.973736</td>\n",
              "      <td>217.0</td>\n",
              "      <td>40.702772</td>\n",
              "      <td>-73.993836</td>\n",
              "      <td>17076.0</td>\n",
              "      <td>Customer</td>\n",
              "      <td>NaN</td>\n",
              "      <td>unknown</td>\n",
              "      <td>2016</td>\n",
              "      <td>Carlton Ave &amp; Flushing Ave</td>\n",
              "      <td>Old Fulton St</td>\n",
              "    </tr>\n",
              "    <tr>\n",
              "      <th>1</th>\n",
              "      <td>935.0</td>\n",
              "      <td>2017-06-28 08:34:40</td>\n",
              "      <td>2017-06-28 08:50:16</td>\n",
              "      <td>3238.0</td>\n",
              "      <td>40.773914</td>\n",
              "      <td>-73.954395</td>\n",
              "      <td>3164.0</td>\n",
              "      <td>40.777057</td>\n",
              "      <td>-73.978985</td>\n",
              "      <td>15800.0</td>\n",
              "      <td>Customer</td>\n",
              "      <td>NaN</td>\n",
              "      <td>unknown</td>\n",
              "      <td>2017</td>\n",
              "      <td>E 80 St &amp; 2 Ave</td>\n",
              "      <td>Columbus Ave &amp; W 72 St</td>\n",
              "    </tr>\n",
              "    <tr>\n",
              "      <th>62</th>\n",
              "      <td>1392.0</td>\n",
              "      <td>2016-07-24 13:18:49</td>\n",
              "      <td>2016-07-24 13:42:01</td>\n",
              "      <td>2008.0</td>\n",
              "      <td>40.705693</td>\n",
              "      <td>-74.016777</td>\n",
              "      <td>514.0</td>\n",
              "      <td>40.760875</td>\n",
              "      <td>-74.002777</td>\n",
              "      <td>16329.0</td>\n",
              "      <td>Customer</td>\n",
              "      <td>NaN</td>\n",
              "      <td>unknown</td>\n",
              "      <td>2016</td>\n",
              "      <td>Little West St &amp; 1 Pl</td>\n",
              "      <td>12 Ave &amp; W 40 St</td>\n",
              "    </tr>\n",
              "    <tr>\n",
              "      <th>63</th>\n",
              "      <td>5192.0</td>\n",
              "      <td>2016-05-09 16:13:42</td>\n",
              "      <td>2016-05-09 17:40:15</td>\n",
              "      <td>459.0</td>\n",
              "      <td>40.746745</td>\n",
              "      <td>-74.007756</td>\n",
              "      <td>499.0</td>\n",
              "      <td>40.769155</td>\n",
              "      <td>-73.981918</td>\n",
              "      <td>16410.0</td>\n",
              "      <td>Customer</td>\n",
              "      <td>NaN</td>\n",
              "      <td>unknown</td>\n",
              "      <td>2016</td>\n",
              "      <td>W 20 St &amp; 11 Ave</td>\n",
              "      <td>Broadway &amp; W 60 St</td>\n",
              "    </tr>\n",
              "    <tr>\n",
              "      <th>72</th>\n",
              "      <td>1140.0</td>\n",
              "      <td>2016-09-12 12:45:44</td>\n",
              "      <td>2016-09-12 13:04:44</td>\n",
              "      <td>3295.0</td>\n",
              "      <td>40.791270</td>\n",
              "      <td>-73.964839</td>\n",
              "      <td>3160.0</td>\n",
              "      <td>40.778968</td>\n",
              "      <td>-73.973747</td>\n",
              "      <td>16826.0</td>\n",
              "      <td>Customer</td>\n",
              "      <td>NaN</td>\n",
              "      <td>unknown</td>\n",
              "      <td>2016</td>\n",
              "      <td>Central Park W &amp; W 96 St</td>\n",
              "      <td>Central Park West &amp; W 76 St</td>\n",
              "    </tr>\n",
              "  </tbody>\n",
              "</table>\n",
              "</div>"
            ],
            "text/plain": [
              "    tripduration  ...             end_station_name\n",
              "0         1481.0  ...                Old Fulton St\n",
              "1          935.0  ...       Columbus Ave & W 72 St\n",
              "62        1392.0  ...             12 Ave & W 40 St\n",
              "63        5192.0  ...           Broadway & W 60 St\n",
              "72        1140.0  ...  Central Park West & W 76 St\n",
              "\n",
              "[5 rows x 16 columns]"
            ]
          },
          "metadata": {
            "tags": []
          },
          "execution_count": 42
        }
      ]
    },
    {
      "cell_type": "code",
      "metadata": {
        "colab": {
          "base_uri": "https://localhost:8080/"
        },
        "id": "78skZc7MJskr",
        "outputId": "46ea802c-0a69-47e0-d848-7c4047de927a"
      },
      "source": [
        "len(trips[(trips['birth_year'].isna()) & (trips['gender']=='unknown')])"
      ],
      "execution_count": 43,
      "outputs": [
        {
          "output_type": "execute_result",
          "data": {
            "text/plain": [
              "140"
            ]
          },
          "metadata": {
            "tags": []
          },
          "execution_count": 43
        }
      ]
    },
    {
      "cell_type": "code",
      "metadata": {
        "colab": {
          "base_uri": "https://localhost:8080/"
        },
        "id": "KLI1QpvnFC53",
        "outputId": "0ceaa772-f14f-4715-9c62-d46bd1d79fb8"
      },
      "source": [
        "len(trips[(trips['birth_year'].isna()) & (trips['gender']!='unknown')])"
      ],
      "execution_count": 44,
      "outputs": [
        {
          "output_type": "execute_result",
          "data": {
            "text/plain": [
              "0"
            ]
          },
          "metadata": {
            "tags": []
          },
          "execution_count": 44
        }
      ]
    },
    {
      "cell_type": "code",
      "metadata": {
        "id": "qQg3s-a9LLp4"
      },
      "source": [
        "trips.dropna(axis = 0, inplace=True)"
      ],
      "execution_count": 45,
      "outputs": []
    },
    {
      "cell_type": "markdown",
      "metadata": {
        "id": "iPpVskXKgYC0"
      },
      "source": [
        "### Data description"
      ]
    },
    {
      "cell_type": "code",
      "metadata": {
        "colab": {
          "base_uri": "https://localhost:8080/"
        },
        "id": "V9Ag_RHAU25j",
        "outputId": "b6a3d8b2-cf08-4a8f-d5a4-72ffbf09803f"
      },
      "source": [
        "trips.dtypes"
      ],
      "execution_count": 46,
      "outputs": [
        {
          "output_type": "execute_result",
          "data": {
            "text/plain": [
              "tripduration                      float64\n",
              "starttime                  datetime64[ns]\n",
              "stoptime                   datetime64[ns]\n",
              "start_station_id                  float64\n",
              "start_station_latitude            float64\n",
              "start_station_longitude           float64\n",
              "end_station_id                    float64\n",
              "end_station_latitude              float64\n",
              "end_station_longitude             float64\n",
              "bikeid                            float64\n",
              "usertype                           object\n",
              "birth_year                        float64\n",
              "gender                             object\n",
              "trips_year                          int64\n",
              "start_station_name                 object\n",
              "end_station_name                   object\n",
              "dtype: object"
            ]
          },
          "metadata": {
            "tags": []
          },
          "execution_count": 46
        }
      ]
    },
    {
      "cell_type": "code",
      "metadata": {
        "id": "5LFk2uMdcKM6"
      },
      "source": [
        "#Ensure data is formatted correctly to avoid errors in the visuals\n",
        "trips['start_station_id'] = trips['start_station_id'].astype('category')\n",
        "trips['end_station_id'] = trips['end_station_id'].astype('category')\n",
        "trips['bikeid'] = trips['bikeid'].astype('category')\n",
        "trips['birth_year'] = trips['birth_year'].astype('category')\n",
        "trips['trips_year'] = trips['trips_year'].astype('category')"
      ],
      "execution_count": 47,
      "outputs": []
    },
    {
      "cell_type": "code",
      "metadata": {
        "id": "iV85yuBQc4AA",
        "colab": {
          "base_uri": "https://localhost:8080/",
          "height": 0
        },
        "outputId": "94dece77-6b91-489a-9d2b-716415eb3f49"
      },
      "source": [
        "round(trips.describe(),2)"
      ],
      "execution_count": 48,
      "outputs": [
        {
          "output_type": "execute_result",
          "data": {
            "text/html": [
              "<div>\n",
              "<style scoped>\n",
              "    .dataframe tbody tr th:only-of-type {\n",
              "        vertical-align: middle;\n",
              "    }\n",
              "\n",
              "    .dataframe tbody tr th {\n",
              "        vertical-align: top;\n",
              "    }\n",
              "\n",
              "    .dataframe thead th {\n",
              "        text-align: right;\n",
              "    }\n",
              "</style>\n",
              "<table border=\"1\" class=\"dataframe\">\n",
              "  <thead>\n",
              "    <tr style=\"text-align: right;\">\n",
              "      <th></th>\n",
              "      <th>tripduration</th>\n",
              "      <th>start_station_latitude</th>\n",
              "      <th>start_station_longitude</th>\n",
              "      <th>end_station_latitude</th>\n",
              "      <th>end_station_longitude</th>\n",
              "    </tr>\n",
              "  </thead>\n",
              "  <tbody>\n",
              "    <tr>\n",
              "      <th>count</th>\n",
              "      <td>1036.00</td>\n",
              "      <td>1036.00</td>\n",
              "      <td>1036.00</td>\n",
              "      <td>1036.00</td>\n",
              "      <td>1036.00</td>\n",
              "    </tr>\n",
              "    <tr>\n",
              "      <th>mean</th>\n",
              "      <td>865.34</td>\n",
              "      <td>40.74</td>\n",
              "      <td>-73.99</td>\n",
              "      <td>40.74</td>\n",
              "      <td>-73.99</td>\n",
              "    </tr>\n",
              "    <tr>\n",
              "      <th>std</th>\n",
              "      <td>3020.57</td>\n",
              "      <td>0.02</td>\n",
              "      <td>0.02</td>\n",
              "      <td>0.02</td>\n",
              "      <td>0.02</td>\n",
              "    </tr>\n",
              "    <tr>\n",
              "      <th>min</th>\n",
              "      <td>69.00</td>\n",
              "      <td>40.65</td>\n",
              "      <td>-74.02</td>\n",
              "      <td>40.65</td>\n",
              "      <td>-74.02</td>\n",
              "    </tr>\n",
              "    <tr>\n",
              "      <th>25%</th>\n",
              "      <td>359.75</td>\n",
              "      <td>40.72</td>\n",
              "      <td>-74.00</td>\n",
              "      <td>40.72</td>\n",
              "      <td>-74.00</td>\n",
              "    </tr>\n",
              "    <tr>\n",
              "      <th>50%</th>\n",
              "      <td>545.00</td>\n",
              "      <td>40.74</td>\n",
              "      <td>-73.99</td>\n",
              "      <td>40.74</td>\n",
              "      <td>-73.99</td>\n",
              "    </tr>\n",
              "    <tr>\n",
              "      <th>75%</th>\n",
              "      <td>956.25</td>\n",
              "      <td>40.75</td>\n",
              "      <td>-73.98</td>\n",
              "      <td>40.75</td>\n",
              "      <td>-73.98</td>\n",
              "    </tr>\n",
              "    <tr>\n",
              "      <th>max</th>\n",
              "      <td>93290.00</td>\n",
              "      <td>40.80</td>\n",
              "      <td>-73.93</td>\n",
              "      <td>40.81</td>\n",
              "      <td>-73.93</td>\n",
              "    </tr>\n",
              "  </tbody>\n",
              "</table>\n",
              "</div>"
            ],
            "text/plain": [
              "       tripduration  ...  end_station_longitude\n",
              "count       1036.00  ...                1036.00\n",
              "mean         865.34  ...                 -73.99\n",
              "std         3020.57  ...                   0.02\n",
              "min           69.00  ...                 -74.02\n",
              "25%          359.75  ...                 -74.00\n",
              "50%          545.00  ...                 -73.99\n",
              "75%          956.25  ...                 -73.98\n",
              "max        93290.00  ...                 -73.93\n",
              "\n",
              "[8 rows x 5 columns]"
            ]
          },
          "metadata": {
            "tags": []
          },
          "execution_count": 48
        }
      ]
    },
    {
      "cell_type": "markdown",
      "metadata": {
        "id": "8x-7jNspgehy"
      },
      "source": [
        "### Remove broken bike data"
      ]
    },
    {
      "cell_type": "code",
      "metadata": {
        "id": "4kpCXYChgiB1"
      },
      "source": [
        "#Drop double count\n",
        "trips = trips.drop(trips.index[(trips['tripduration'] < 90) & \n",
        "                  (trips['start_station_name'] == trips['end_station_name'])])"
      ],
      "execution_count": 49,
      "outputs": []
    },
    {
      "cell_type": "markdown",
      "metadata": {
        "id": "bUBiraQCbYDA"
      },
      "source": [
        "### Remove theft bike data"
      ]
    },
    {
      "cell_type": "code",
      "metadata": {
        "colab": {
          "base_uri": "https://localhost:8080/",
          "height": 0
        },
        "id": "1TMHIwJUWrJz",
        "outputId": "4967488b-f5da-450c-ac59-94595e2884c0"
      },
      "source": [
        "trips[trips['usertype']=='Subscriber'].quantile([.1, .25, .5, .75], axis = 0)"
      ],
      "execution_count": 50,
      "outputs": [
        {
          "output_type": "execute_result",
          "data": {
            "text/html": [
              "<div>\n",
              "<style scoped>\n",
              "    .dataframe tbody tr th:only-of-type {\n",
              "        vertical-align: middle;\n",
              "    }\n",
              "\n",
              "    .dataframe tbody tr th {\n",
              "        vertical-align: top;\n",
              "    }\n",
              "\n",
              "    .dataframe thead th {\n",
              "        text-align: right;\n",
              "    }\n",
              "</style>\n",
              "<table border=\"1\" class=\"dataframe\">\n",
              "  <thead>\n",
              "    <tr style=\"text-align: right;\">\n",
              "      <th></th>\n",
              "      <th>tripduration</th>\n",
              "      <th>start_station_latitude</th>\n",
              "      <th>start_station_longitude</th>\n",
              "      <th>end_station_latitude</th>\n",
              "      <th>end_station_longitude</th>\n",
              "    </tr>\n",
              "  </thead>\n",
              "  <tbody>\n",
              "    <tr>\n",
              "      <th>0.10</th>\n",
              "      <td>231.00</td>\n",
              "      <td>40.707179</td>\n",
              "      <td>-74.006818</td>\n",
              "      <td>40.703554</td>\n",
              "      <td>-74.005664</td>\n",
              "    </tr>\n",
              "    <tr>\n",
              "      <th>0.25</th>\n",
              "      <td>359.25</td>\n",
              "      <td>40.722055</td>\n",
              "      <td>-73.997890</td>\n",
              "      <td>40.720163</td>\n",
              "      <td>-73.998004</td>\n",
              "    </tr>\n",
              "    <tr>\n",
              "      <th>0.50</th>\n",
              "      <td>542.00</td>\n",
              "      <td>40.739126</td>\n",
              "      <td>-73.988084</td>\n",
              "      <td>40.736370</td>\n",
              "      <td>-73.988900</td>\n",
              "    </tr>\n",
              "    <tr>\n",
              "      <th>0.75</th>\n",
              "      <td>937.75</td>\n",
              "      <td>40.751873</td>\n",
              "      <td>-73.977910</td>\n",
              "      <td>40.751551</td>\n",
              "      <td>-73.977706</td>\n",
              "    </tr>\n",
              "  </tbody>\n",
              "</table>\n",
              "</div>"
            ],
            "text/plain": [
              "      tripduration  ...  end_station_longitude\n",
              "0.10        231.00  ...             -74.005664\n",
              "0.25        359.25  ...             -73.998004\n",
              "0.50        542.00  ...             -73.988900\n",
              "0.75        937.75  ...             -73.977706\n",
              "\n",
              "[4 rows x 5 columns]"
            ]
          },
          "metadata": {
            "tags": []
          },
          "execution_count": 50
        }
      ]
    },
    {
      "cell_type": "code",
      "metadata": {
        "colab": {
          "base_uri": "https://localhost:8080/",
          "height": 0
        },
        "id": "ItrAvV-bXKkv",
        "outputId": "3b564798-bc21-4be1-e066-4a64effc4f70"
      },
      "source": [
        "trips[trips['usertype']=='Customer'].quantile([.1, .25, .5, .75], axis = 0)"
      ],
      "execution_count": 51,
      "outputs": [
        {
          "output_type": "execute_result",
          "data": {
            "text/html": [
              "<div>\n",
              "<style scoped>\n",
              "    .dataframe tbody tr th:only-of-type {\n",
              "        vertical-align: middle;\n",
              "    }\n",
              "\n",
              "    .dataframe tbody tr th {\n",
              "        vertical-align: top;\n",
              "    }\n",
              "\n",
              "    .dataframe thead th {\n",
              "        text-align: right;\n",
              "    }\n",
              "</style>\n",
              "<table border=\"1\" class=\"dataframe\">\n",
              "  <thead>\n",
              "    <tr style=\"text-align: right;\">\n",
              "      <th></th>\n",
              "      <th>tripduration</th>\n",
              "      <th>start_station_latitude</th>\n",
              "      <th>start_station_longitude</th>\n",
              "      <th>end_station_latitude</th>\n",
              "      <th>end_station_longitude</th>\n",
              "    </tr>\n",
              "  </thead>\n",
              "  <tbody>\n",
              "    <tr>\n",
              "      <th>0.10</th>\n",
              "      <td>596.6</td>\n",
              "      <td>40.704371</td>\n",
              "      <td>-74.010836</td>\n",
              "      <td>40.705443</td>\n",
              "      <td>-74.012840</td>\n",
              "    </tr>\n",
              "    <tr>\n",
              "      <th>0.25</th>\n",
              "      <td>1107.5</td>\n",
              "      <td>40.716094</td>\n",
              "      <td>-74.006676</td>\n",
              "      <td>40.714417</td>\n",
              "      <td>-74.007851</td>\n",
              "    </tr>\n",
              "    <tr>\n",
              "      <th>0.50</th>\n",
              "      <td>1351.0</td>\n",
              "      <td>40.725004</td>\n",
              "      <td>-73.991703</td>\n",
              "      <td>40.726249</td>\n",
              "      <td>-73.996279</td>\n",
              "    </tr>\n",
              "    <tr>\n",
              "      <th>0.75</th>\n",
              "      <td>1538.5</td>\n",
              "      <td>40.759966</td>\n",
              "      <td>-73.981387</td>\n",
              "      <td>40.763863</td>\n",
              "      <td>-73.979562</td>\n",
              "    </tr>\n",
              "  </tbody>\n",
              "</table>\n",
              "</div>"
            ],
            "text/plain": [
              "      tripduration  ...  end_station_longitude\n",
              "0.10         596.6  ...             -74.012840\n",
              "0.25        1107.5  ...             -74.007851\n",
              "0.50        1351.0  ...             -73.996279\n",
              "0.75        1538.5  ...             -73.979562\n",
              "\n",
              "[4 rows x 5 columns]"
            ]
          },
          "metadata": {
            "tags": []
          },
          "execution_count": 51
        }
      ]
    },
    {
      "cell_type": "code",
      "metadata": {
        "colab": {
          "base_uri": "https://localhost:8080/",
          "height": 0
        },
        "id": "bw9-HIFLXRSa",
        "outputId": "7489ab84-ae52-450a-f7b4-713d47c22c6c"
      },
      "source": [
        "trips.quantile([.1, .25, .5, .75], axis = 0)"
      ],
      "execution_count": 52,
      "outputs": [
        {
          "output_type": "execute_result",
          "data": {
            "text/html": [
              "<div>\n",
              "<style scoped>\n",
              "    .dataframe tbody tr th:only-of-type {\n",
              "        vertical-align: middle;\n",
              "    }\n",
              "\n",
              "    .dataframe tbody tr th {\n",
              "        vertical-align: top;\n",
              "    }\n",
              "\n",
              "    .dataframe thead th {\n",
              "        text-align: right;\n",
              "    }\n",
              "</style>\n",
              "<table border=\"1\" class=\"dataframe\">\n",
              "  <thead>\n",
              "    <tr style=\"text-align: right;\">\n",
              "      <th></th>\n",
              "      <th>tripduration</th>\n",
              "      <th>start_station_latitude</th>\n",
              "      <th>start_station_longitude</th>\n",
              "      <th>end_station_latitude</th>\n",
              "      <th>end_station_longitude</th>\n",
              "    </tr>\n",
              "  </thead>\n",
              "  <tbody>\n",
              "    <tr>\n",
              "      <th>0.10</th>\n",
              "      <td>231.00</td>\n",
              "      <td>40.707099</td>\n",
              "      <td>-74.006818</td>\n",
              "      <td>40.703554</td>\n",
              "      <td>-74.006180</td>\n",
              "    </tr>\n",
              "    <tr>\n",
              "      <th>0.25</th>\n",
              "      <td>360.25</td>\n",
              "      <td>40.721904</td>\n",
              "      <td>-73.997901</td>\n",
              "      <td>40.719582</td>\n",
              "      <td>-73.998102</td>\n",
              "    </tr>\n",
              "    <tr>\n",
              "      <th>0.50</th>\n",
              "      <td>545.00</td>\n",
              "      <td>40.739071</td>\n",
              "      <td>-73.988284</td>\n",
              "      <td>40.736197</td>\n",
              "      <td>-73.988900</td>\n",
              "    </tr>\n",
              "    <tr>\n",
              "      <th>0.75</th>\n",
              "      <td>962.75</td>\n",
              "      <td>40.751873</td>\n",
              "      <td>-73.977910</td>\n",
              "      <td>40.751551</td>\n",
              "      <td>-73.977706</td>\n",
              "    </tr>\n",
              "  </tbody>\n",
              "</table>\n",
              "</div>"
            ],
            "text/plain": [
              "      tripduration  ...  end_station_longitude\n",
              "0.10        231.00  ...             -74.006180\n",
              "0.25        360.25  ...             -73.998102\n",
              "0.50        545.00  ...             -73.988900\n",
              "0.75        962.75  ...             -73.977706\n",
              "\n",
              "[4 rows x 5 columns]"
            ]
          },
          "metadata": {
            "tags": []
          },
          "execution_count": 52
        }
      ]
    },
    {
      "cell_type": "code",
      "metadata": {
        "id": "u8R9yU3KbizM"
      },
      "source": [
        "#Remove anomalies\n",
        "trips = trips.drop(trips.index[(trips['tripduration'] >= 7200)])"
      ],
      "execution_count": 53,
      "outputs": []
    },
    {
      "cell_type": "markdown",
      "metadata": {
        "id": "UmWjBWNr40lO"
      },
      "source": [
        "### Export dataset"
      ]
    },
    {
      "cell_type": "code",
      "metadata": {
        "id": "jdSsu4xh43FC"
      },
      "source": [
        "trips.to_csv (r'trips_cleaned.csv', index = False, header=True)"
      ],
      "execution_count": 54,
      "outputs": []
    },
    {
      "cell_type": "markdown",
      "metadata": {
        "id": "n9LCb0o9GfRC"
      },
      "source": [
        "## Part 1: Top 5 Start Stations"
      ]
    },
    {
      "cell_type": "code",
      "metadata": {
        "id": "DkkqY_2xGeP_",
        "colab": {
          "base_uri": "https://localhost:8080/",
          "height": 0
        },
        "outputId": "e9b726c5-ba4d-4682-a849-0abf5ac01900"
      },
      "source": [
        "#Data for Top 5 Stations\n",
        "top5 = trips.groupby('trips_year')['start_station_name'].value_counts().reset_index(name='number_of_start').groupby(['start_station_name']).mean()\n",
        "top5 = pd.DataFrame(top5.to_records()).sort_values(by=['number_of_start'],ascending=False).head(5)\n",
        "top5"
      ],
      "execution_count": 55,
      "outputs": [
        {
          "output_type": "execute_result",
          "data": {
            "text/html": [
              "<div>\n",
              "<style scoped>\n",
              "    .dataframe tbody tr th:only-of-type {\n",
              "        vertical-align: middle;\n",
              "    }\n",
              "\n",
              "    .dataframe tbody tr th {\n",
              "        vertical-align: top;\n",
              "    }\n",
              "\n",
              "    .dataframe thead th {\n",
              "        text-align: right;\n",
              "    }\n",
              "</style>\n",
              "<table border=\"1\" class=\"dataframe\">\n",
              "  <thead>\n",
              "    <tr style=\"text-align: right;\">\n",
              "      <th></th>\n",
              "      <th>start_station_name</th>\n",
              "      <th>number_of_start</th>\n",
              "    </tr>\n",
              "  </thead>\n",
              "  <tbody>\n",
              "    <tr>\n",
              "      <th>306</th>\n",
              "      <td>Stanton St &amp; Chrystie St</td>\n",
              "      <td>7.0</td>\n",
              "    </tr>\n",
              "    <tr>\n",
              "      <th>83</th>\n",
              "      <td>Carmine St &amp; 6 Ave</td>\n",
              "      <td>4.5</td>\n",
              "    </tr>\n",
              "    <tr>\n",
              "      <th>351</th>\n",
              "      <td>W 42 St &amp; 8 Ave</td>\n",
              "      <td>4.0</td>\n",
              "    </tr>\n",
              "    <tr>\n",
              "      <th>316</th>\n",
              "      <td>W 100 St &amp; Broadway</td>\n",
              "      <td>4.0</td>\n",
              "    </tr>\n",
              "    <tr>\n",
              "      <th>280</th>\n",
              "      <td>Pier 40 - Hudson River Park</td>\n",
              "      <td>4.0</td>\n",
              "    </tr>\n",
              "  </tbody>\n",
              "</table>\n",
              "</div>"
            ],
            "text/plain": [
              "              start_station_name  number_of_start\n",
              "306     Stanton St & Chrystie St              7.0\n",
              "83            Carmine St & 6 Ave              4.5\n",
              "351              W 42 St & 8 Ave              4.0\n",
              "316          W 100 St & Broadway              4.0\n",
              "280  Pier 40 - Hudson River Park              4.0"
            ]
          },
          "metadata": {
            "tags": []
          },
          "execution_count": 55
        }
      ]
    },
    {
      "cell_type": "code",
      "metadata": {
        "id": "yvkeK1fIEv2F",
        "colab": {
          "base_uri": "https://localhost:8080/",
          "height": 0
        },
        "outputId": "6b113d4b-613c-4b5a-9ce9-a62518dd1aec"
      },
      "source": [
        "#Barplot\n",
        "ax1 = sns.barplot(x='start_station_name', y='number_of_start', data = top5, palette=\"GnBu_d\"), #hue='trips_year'\n",
        "plt.show()"
      ],
      "execution_count": 56,
      "outputs": [
        {
          "output_type": "display_data",
          "data": {
            "image/png": "[encoded data removed]",
            "text/plain": [
              "<Figure size 864x576 with 1 Axes>"
            ]
          },
          "metadata": {
            "tags": []
          }
        }
      ]
    },
    {
      "cell_type": "markdown",
      "metadata": {
        "id": "QYK8Ys98az60"
      },
      "source": [
        "## Part 2: Trip Duration by User Type"
      ]
    },
    {
      "cell_type": "code",
      "metadata": {
        "colab": {
          "base_uri": "https://localhost:8080/"
        },
        "id": "DlTb-MawDcT5",
        "outputId": "98a99e3f-913a-448d-e4f7-5cd4d33b4fa6"
      },
      "source": [
        "#pd.unique(trips.usertype)\n",
        "a = trips.loc[trips['trips_year'] == 2015]\n",
        "pd.unique(a.usertype)"
      ],
      "execution_count": 57,
      "outputs": [
        {
          "output_type": "execute_result",
          "data": {
            "text/plain": [
              "array(['Subscriber'], dtype=object)"
            ]
          },
          "metadata": {
            "tags": []
          },
          "execution_count": 57
        }
      ]
    },
    {
      "cell_type": "code",
      "metadata": {
        "colab": {
          "base_uri": "https://localhost:8080/",
          "height": 0
        },
        "id": "s1pjglN5g6QC",
        "outputId": "53f1c68a-b03c-45b5-9c9c-2ff8e6a61283"
      },
      "source": [
        "#Data for Top 5 Stations visual\n",
        "TD_user = round(trips.groupby(['trips_year','usertype'])['tripduration'].mean().reset_index(name='avg_tripduration'),2)\n",
        "TD_user = TD_user.dropna(subset=['avg_tripduration'])\n",
        "TD_user = pd.DataFrame(TD_user.to_records())\n",
        "TD_user"
      ],
      "execution_count": 58,
      "outputs": [
        {
          "output_type": "execute_result",
          "data": {
            "text/html": [
              "<div>\n",
              "<style scoped>\n",
              "    .dataframe tbody tr th:only-of-type {\n",
              "        vertical-align: middle;\n",
              "    }\n",
              "\n",
              "    .dataframe tbody tr th {\n",
              "        vertical-align: top;\n",
              "    }\n",
              "\n",
              "    .dataframe thead th {\n",
              "        text-align: right;\n",
              "    }\n",
              "</style>\n",
              "<table border=\"1\" class=\"dataframe\">\n",
              "  <thead>\n",
              "    <tr style=\"text-align: right;\">\n",
              "      <th></th>\n",
              "      <th>index</th>\n",
              "      <th>trips_year</th>\n",
              "      <th>usertype</th>\n",
              "      <th>avg_tripduration</th>\n",
              "    </tr>\n",
              "  </thead>\n",
              "  <tbody>\n",
              "    <tr>\n",
              "      <th>0</th>\n",
              "      <td>1</td>\n",
              "      <td>2015</td>\n",
              "      <td>Subscriber</td>\n",
              "      <td>752.87</td>\n",
              "    </tr>\n",
              "    <tr>\n",
              "      <th>1</th>\n",
              "      <td>3</td>\n",
              "      <td>2016</td>\n",
              "      <td>Subscriber</td>\n",
              "      <td>721.89</td>\n",
              "    </tr>\n",
              "    <tr>\n",
              "      <th>2</th>\n",
              "      <td>4</td>\n",
              "      <td>2017</td>\n",
              "      <td>Customer</td>\n",
              "      <td>1414.08</td>\n",
              "    </tr>\n",
              "    <tr>\n",
              "      <th>3</th>\n",
              "      <td>5</td>\n",
              "      <td>2017</td>\n",
              "      <td>Subscriber</td>\n",
              "      <td>741.55</td>\n",
              "    </tr>\n",
              "  </tbody>\n",
              "</table>\n",
              "</div>"
            ],
            "text/plain": [
              "   index  trips_year    usertype  avg_tripduration\n",
              "0      1        2015  Subscriber            752.87\n",
              "1      3        2016  Subscriber            721.89\n",
              "2      4        2017    Customer           1414.08\n",
              "3      5        2017  Subscriber            741.55"
            ]
          },
          "metadata": {
            "tags": []
          },
          "execution_count": 58
        }
      ]
    },
    {
      "cell_type": "code",
      "metadata": {
        "colab": {
          "base_uri": "https://localhost:8080/",
          "height": 0
        },
        "id": "_WkZhapnjnX7",
        "outputId": "0b41fbf5-3f1e-47d0-9954-6baff60a1a3d"
      },
      "source": [
        "sns.boxplot(x='trips_year', y='tripduration', hue='usertype', data=trips, showfliers=True)\n",
        "plt.title(\"usertype vs tripduration\", fontsize= 12)\n",
        "plt.show()"
      ],
      "execution_count": 59,
      "outputs": [
        {
          "output_type": "display_data",
          "data": {
            "image/png": "[encoded data removed]",
            "text/plain": [
              "<Figure size 864x576 with 1 Axes>"
            ]
          },
          "metadata": {
            "tags": []
          }
        }
      ]
    },
    {
      "cell_type": "code",
      "metadata": {
        "colab": {
          "base_uri": "https://localhost:8080/",
          "height": 0
        },
        "id": "wvsXWFWPZNET",
        "outputId": "ce498d7d-8d09-4eac-da80-82dee6e5457f"
      },
      "source": [
        "sns.boxplot(x='trips_year', y='tripduration', hue='usertype', data=trips, showfliers=False)\n",
        "plt.title(\"usertype vs tripduration\", fontsize= 12)\n",
        "plt.show()"
      ],
      "execution_count": 60,
      "outputs": [
        {
          "output_type": "display_data",
          "data": {
            "image/png": "[encoded data removed]",
            "text/plain": [
              "<Figure size 864x576 with 1 Axes>"
            ]
          },
          "metadata": {
            "tags": []
          }
        }
      ]
    },
    {
      "cell_type": "code",
      "metadata": {
        "colab": {
          "base_uri": "https://localhost:8080/"
        },
        "id": "qVsDv-y-b4z5",
        "outputId": "d59d340e-a8e1-4507-b53f-56f4f35a34dd"
      },
      "source": [
        "len(trips[(trips['usertype']=='Customer') & (trips['trips_year']==2016)])"
      ],
      "execution_count": 61,
      "outputs": [
        {
          "output_type": "execute_result",
          "data": {
            "text/plain": [
              "0"
            ]
          },
          "metadata": {
            "tags": []
          },
          "execution_count": 61
        }
      ]
    },
    {
      "cell_type": "markdown",
      "metadata": {
        "id": "vjqRnfOfE8iQ"
      },
      "source": [
        "## Part 3: Most Popular Trip"
      ]
    },
    {
      "cell_type": "code",
      "metadata": {
        "colab": {
          "base_uri": "https://localhost:8080/",
          "height": 0
        },
        "id": "AReENLZSN-LF",
        "outputId": "cca695b1-a556-4d31-e887-2b447493b07e"
      },
      "source": [
        "#Identify the 10 most popular trips\n",
        "route = pd.DataFrame()\n",
        "route = trips.groupby(['trips_year','start_station_name','end_station_name']).size().reset_index(name = 'number_of_trips')\n",
        "route[\"trip\"] = route[\"start_station_name\"] + \" -- \" + route[\"end_station_name\"]\n",
        "route = route.drop(['start_station_name', \"end_station_name\"], axis = 1)\n",
        "route = route.groupby(['trip'])['number_of_trips'].mean().reset_index(name = 'number_of_trips')\n",
        "route = route.sort_values('number_of_trips', ascending = False).head(10)\n",
        "route"
      ],
      "execution_count": 62,
      "outputs": [
        {
          "output_type": "execute_result",
          "data": {
            "text/html": [
              "<div>\n",
              "<style scoped>\n",
              "    .dataframe tbody tr th:only-of-type {\n",
              "        vertical-align: middle;\n",
              "    }\n",
              "\n",
              "    .dataframe tbody tr th {\n",
              "        vertical-align: top;\n",
              "    }\n",
              "\n",
              "    .dataframe thead th {\n",
              "        text-align: right;\n",
              "    }\n",
              "</style>\n",
              "<table border=\"1\" class=\"dataframe\">\n",
              "  <thead>\n",
              "    <tr style=\"text-align: right;\">\n",
              "      <th></th>\n",
              "      <th>trip</th>\n",
              "      <th>number_of_trips</th>\n",
              "    </tr>\n",
              "  </thead>\n",
              "  <tbody>\n",
              "    <tr>\n",
              "      <th>59036</th>\n",
              "      <td>E 39 St &amp; 3 Ave -- E 48 St &amp; 3 Ave</td>\n",
              "      <td>0.666667</td>\n",
              "    </tr>\n",
              "    <tr>\n",
              "      <th>128109</th>\n",
              "      <td>Vesey Pl &amp; River Terrace -- Greenwich St &amp; Nor...</td>\n",
              "      <td>0.666667</td>\n",
              "    </tr>\n",
              "    <tr>\n",
              "      <th>42748</th>\n",
              "      <td>Dean St &amp; Hoyt St -- Dean St &amp; 4 Ave</td>\n",
              "      <td>0.666667</td>\n",
              "    </tr>\n",
              "    <tr>\n",
              "      <th>56436</th>\n",
              "      <td>E 32 St &amp; Park Ave -- 1 Ave &amp; E 30 St</td>\n",
              "      <td>0.666667</td>\n",
              "    </tr>\n",
              "    <tr>\n",
              "      <th>11307</th>\n",
              "      <td>6 Ave &amp; W 33 St -- W 25 St &amp; 6 Ave</td>\n",
              "      <td>0.666667</td>\n",
              "    </tr>\n",
              "    <tr>\n",
              "      <th>74940</th>\n",
              "      <td>E 9 St &amp; Avenue C -- Lafayette St &amp; E 8 St</td>\n",
              "      <td>0.666667</td>\n",
              "    </tr>\n",
              "    <tr>\n",
              "      <th>25985</th>\n",
              "      <td>Broadway &amp; E 22 St -- 1 Ave &amp; E 18 St</td>\n",
              "      <td>0.666667</td>\n",
              "    </tr>\n",
              "    <tr>\n",
              "      <th>21235</th>\n",
              "      <td>Barrow St &amp; Hudson St -- E 10 St &amp; 5 Ave</td>\n",
              "      <td>0.666667</td>\n",
              "    </tr>\n",
              "    <tr>\n",
              "      <th>131879</th>\n",
              "      <td>W 15 St &amp; 7 Ave -- W 16 St &amp; The High Line</td>\n",
              "      <td>0.666667</td>\n",
              "    </tr>\n",
              "    <tr>\n",
              "      <th>50175</th>\n",
              "      <td>E 16 St &amp; 5 Ave -- Lafayette St &amp; Jersey St</td>\n",
              "      <td>0.666667</td>\n",
              "    </tr>\n",
              "  </tbody>\n",
              "</table>\n",
              "</div>"
            ],
            "text/plain": [
              "                                                     trip  number_of_trips\n",
              "59036                  E 39 St & 3 Ave -- E 48 St & 3 Ave         0.666667\n",
              "128109  Vesey Pl & River Terrace -- Greenwich St & Nor...         0.666667\n",
              "42748                Dean St & Hoyt St -- Dean St & 4 Ave         0.666667\n",
              "56436               E 32 St & Park Ave -- 1 Ave & E 30 St         0.666667\n",
              "11307                  6 Ave & W 33 St -- W 25 St & 6 Ave         0.666667\n",
              "74940          E 9 St & Avenue C -- Lafayette St & E 8 St         0.666667\n",
              "25985               Broadway & E 22 St -- 1 Ave & E 18 St         0.666667\n",
              "21235            Barrow St & Hudson St -- E 10 St & 5 Ave         0.666667\n",
              "131879         W 15 St & 7 Ave -- W 16 St & The High Line         0.666667\n",
              "50175         E 16 St & 5 Ave -- Lafayette St & Jersey St         0.666667"
            ]
          },
          "metadata": {
            "tags": []
          },
          "execution_count": 62
        }
      ]
    },
    {
      "cell_type": "code",
      "metadata": {
        "colab": {
          "base_uri": "https://localhost:8080/",
          "height": 0
        },
        "id": "mEMdCKC8GPl6",
        "outputId": "693fcac9-2017-4321-d8d6-e87017a36fab"
      },
      "source": [
        "#Barplot\n",
        "ax2 = sns.barplot(x='number_of_trips', y='trip', data = route, palette=\"GnBu_d\") #hue='trips_year'\n",
        "ax2.set_title('Most Popular Trips', fontsize = 12)\n",
        "plt.show()"
      ],
      "execution_count": 63,
      "outputs": [
        {
          "output_type": "display_data",
          "data": {
            "image/png": "[encoded data removed]",
            "text/plain": [
              "<Figure size 864x576 with 1 Axes>"
            ]
          },
          "metadata": {
            "tags": []
          }
        }
      ]
    },
    {
      "cell_type": "markdown",
      "metadata": {
        "id": "lGR8T-sMTIYV"
      },
      "source": [
        "## Part 4: Rider Behaviour by Gender and Age"
      ]
    },
    {
      "cell_type": "code",
      "metadata": {
        "colab": {
          "base_uri": "https://localhost:8080/",
          "height": 0
        },
        "id": "xaUZEOdILM0n",
        "outputId": "00b9072a-94f8-4d3b-9159-7a0c0f3f4d85"
      },
      "source": [
        "behav = trips[[\"tripduration\", \"start_station_latitude\", \"start_station_longitude\", \"end_station_latitude\", \"end_station_longitude\", \"birth_year\", \"gender\", \"trips_year\"]]\n",
        "behav['age'] = 2017 - trips['birth_year'].astype(int)\n",
        "behav.head(2)"
      ],
      "execution_count": 64,
      "outputs": [
        {
          "output_type": "stream",
          "text": [
            "/usr/local/lib/python3.7/dist-packages/ipykernel_launcher.py:2: SettingWithCopyWarning: \n",
            "A value is trying to be set on a copy of a slice from a DataFrame.\n",
            "Try using .loc[row_indexer,col_indexer] = value instead\n",
            "\n",
            "See the caveats in the documentation: https://pandas.pydata.org/pandas-docs/stable/user_guide/indexing.html#returning-a-view-versus-a-copy\n",
            "  \n"
          ],
          "name": "stderr"
        },
        {
          "output_type": "execute_result",
          "data": {
            "text/html": [
              "<div>\n",
              "<style scoped>\n",
              "    .dataframe tbody tr th:only-of-type {\n",
              "        vertical-align: middle;\n",
              "    }\n",
              "\n",
              "    .dataframe tbody tr th {\n",
              "        vertical-align: top;\n",
              "    }\n",
              "\n",
              "    .dataframe thead th {\n",
              "        text-align: right;\n",
              "    }\n",
              "</style>\n",
              "<table border=\"1\" class=\"dataframe\">\n",
              "  <thead>\n",
              "    <tr style=\"text-align: right;\">\n",
              "      <th></th>\n",
              "      <th>tripduration</th>\n",
              "      <th>start_station_latitude</th>\n",
              "      <th>start_station_longitude</th>\n",
              "      <th>end_station_latitude</th>\n",
              "      <th>end_station_longitude</th>\n",
              "      <th>birth_year</th>\n",
              "      <th>gender</th>\n",
              "      <th>trips_year</th>\n",
              "      <th>age</th>\n",
              "    </tr>\n",
              "  </thead>\n",
              "  <tbody>\n",
              "    <tr>\n",
              "      <th>2</th>\n",
              "      <td>488.0</td>\n",
              "      <td>40.739713</td>\n",
              "      <td>-73.994564</td>\n",
              "      <td>40.751726</td>\n",
              "      <td>-73.987535</td>\n",
              "      <td>1953.0</td>\n",
              "      <td>male</td>\n",
              "      <td>2015</td>\n",
              "      <td>64</td>\n",
              "    </tr>\n",
              "    <tr>\n",
              "      <th>4</th>\n",
              "      <td>1158.0</td>\n",
              "      <td>40.727791</td>\n",
              "      <td>-73.985649</td>\n",
              "      <td>40.740259</td>\n",
              "      <td>-73.984092</td>\n",
              "      <td>1955.0</td>\n",
              "      <td>male</td>\n",
              "      <td>2016</td>\n",
              "      <td>62</td>\n",
              "    </tr>\n",
              "  </tbody>\n",
              "</table>\n",
              "</div>"
            ],
            "text/plain": [
              "   tripduration  start_station_latitude  ...  trips_year  age\n",
              "2         488.0               40.739713  ...        2015   64\n",
              "4        1158.0               40.727791  ...        2016   62\n",
              "\n",
              "[2 rows x 9 columns]"
            ]
          },
          "metadata": {
            "tags": []
          },
          "execution_count": 64
        }
      ]
    },
    {
      "cell_type": "code",
      "metadata": {
        "id": "OmmuyYhRVZ-O"
      },
      "source": [
        "from math import radians, cos, sin, asin, sqrt\n",
        "\n",
        "def haversine(lat1, lon1, lat2, lon2):\n",
        "\n",
        "      R = 3959.87433 # this is in miles.  For Earth radius in kilometers use 6372.8 km\n",
        "\n",
        "      dLat = radians(lat2 - lat1)\n",
        "      dLon = radians(lon2 - lon1)\n",
        "      lat1 = radians(lat1)\n",
        "      lat2 = radians(lat2)\n",
        "\n",
        "      a = sin(dLat/2)**2 + cos(lat1)*cos(lat2)*sin(dLon/2)**2\n",
        "      c = 2*asin(sqrt(a))\n",
        "\n",
        "      return R * c"
      ],
      "execution_count": 65,
      "outputs": []
    },
    {
      "cell_type": "code",
      "metadata": {
        "id": "Z5fuxdNdYH2V"
      },
      "source": [
        "dist = []\n",
        "for ind in trips.index:\n",
        "    jarak = round(haversine(behav['start_station_latitude'][ind], behav['start_station_longitude'][ind],\n",
        "                      behav['end_station_latitude'][ind], behav['end_station_longitude'][ind]),2)\n",
        "    dist.append((jarak))\n",
        "cols=['jarak']\n",
        "\n",
        "result = pd.DataFrame(dist, columns=cols)"
      ],
      "execution_count": 66,
      "outputs": []
    },
    {
      "cell_type": "code",
      "metadata": {
        "colab": {
          "base_uri": "https://localhost:8080/"
        },
        "id": "zWUwNhXaZboA",
        "outputId": "689b5288-ddb9-433f-dfad-c91df20773ac"
      },
      "source": [
        "behav['distance'] = dist"
      ],
      "execution_count": 67,
      "outputs": [
        {
          "output_type": "stream",
          "text": [
            "/usr/local/lib/python3.7/dist-packages/ipykernel_launcher.py:1: SettingWithCopyWarning: \n",
            "A value is trying to be set on a copy of a slice from a DataFrame.\n",
            "Try using .loc[row_indexer,col_indexer] = value instead\n",
            "\n",
            "See the caveats in the documentation: https://pandas.pydata.org/pandas-docs/stable/user_guide/indexing.html#returning-a-view-versus-a-copy\n",
            "  \"\"\"Entry point for launching an IPython kernel.\n"
          ],
          "name": "stderr"
        }
      ]
    },
    {
      "cell_type": "code",
      "metadata": {
        "id": "ncfdXr7bcUNc"
      },
      "source": [
        "#drop circular round trips\n",
        "behav = behav.drop(behav.index[(behav['distance'] == 0)])"
      ],
      "execution_count": 68,
      "outputs": []
    },
    {
      "cell_type": "code",
      "metadata": {
        "colab": {
          "base_uri": "https://localhost:8080/"
        },
        "id": "u3AU61bBe3p8",
        "outputId": "f25ffee8-6869-41d3-8eb8-22ddc0c69f05"
      },
      "source": [
        "pd.unique(behav.gender)"
      ],
      "execution_count": 69,
      "outputs": [
        {
          "output_type": "execute_result",
          "data": {
            "text/plain": [
              "array(['male', 'female', 'unknown'], dtype=object)"
            ]
          },
          "metadata": {
            "tags": []
          },
          "execution_count": 69
        }
      ]
    },
    {
      "cell_type": "code",
      "metadata": {
        "colab": {
          "base_uri": "https://localhost:8080/"
        },
        "id": "PYeU-ts6hlOM",
        "outputId": "c5009132-2d9b-4fd5-dee0-56ffa35379fc"
      },
      "source": [
        "len(behav[behav['gender'] == 'unknown'])"
      ],
      "execution_count": 70,
      "outputs": [
        {
          "output_type": "execute_result",
          "data": {
            "text/plain": [
              "3"
            ]
          },
          "metadata": {
            "tags": []
          },
          "execution_count": 70
        }
      ]
    },
    {
      "cell_type": "code",
      "metadata": {
        "colab": {
          "base_uri": "https://localhost:8080/"
        },
        "id": "LhT91l-8N516",
        "outputId": "c350546f-079a-4198-cb87-d17148087337"
      },
      "source": [
        "len(behav)"
      ],
      "execution_count": 71,
      "outputs": [
        {
          "output_type": "execute_result",
          "data": {
            "text/plain": [
              "1014"
            ]
          },
          "metadata": {
            "tags": []
          },
          "execution_count": 71
        }
      ]
    },
    {
      "cell_type": "code",
      "metadata": {
        "colab": {
          "base_uri": "https://localhost:8080/"
        },
        "id": "cjMaY6RpOV8C",
        "outputId": "4c2c830b-e7f7-4549-ea0f-042a8d084088"
      },
      "source": [
        "len(behav.index[(behav['age'] >= 100)])"
      ],
      "execution_count": 72,
      "outputs": [
        {
          "output_type": "execute_result",
          "data": {
            "text/plain": [
              "0"
            ]
          },
          "metadata": {
            "tags": []
          },
          "execution_count": 72
        }
      ]
    },
    {
      "cell_type": "code",
      "metadata": {
        "id": "AvfdcIItdASW"
      },
      "source": [
        "behav['mile_per_hour'] = round(behav['distance']/(behav['tripduration']/3600),2)"
      ],
      "execution_count": 73,
      "outputs": []
    },
    {
      "cell_type": "code",
      "metadata": {
        "colab": {
          "base_uri": "https://localhost:8080/",
          "height": 0
        },
        "id": "c_B2HP6ifSeX",
        "outputId": "a3df9f6c-a98c-4c82-e896-73c6a4e73031"
      },
      "source": [
        "round(behav.describe(),2)"
      ],
      "execution_count": 74,
      "outputs": [
        {
          "output_type": "execute_result",
          "data": {
            "text/html": [
              "<div>\n",
              "<style scoped>\n",
              "    .dataframe tbody tr th:only-of-type {\n",
              "        vertical-align: middle;\n",
              "    }\n",
              "\n",
              "    .dataframe tbody tr th {\n",
              "        vertical-align: top;\n",
              "    }\n",
              "\n",
              "    .dataframe thead th {\n",
              "        text-align: right;\n",
              "    }\n",
              "</style>\n",
              "<table border=\"1\" class=\"dataframe\">\n",
              "  <thead>\n",
              "    <tr style=\"text-align: right;\">\n",
              "      <th></th>\n",
              "      <th>tripduration</th>\n",
              "      <th>start_station_latitude</th>\n",
              "      <th>start_station_longitude</th>\n",
              "      <th>end_station_latitude</th>\n",
              "      <th>end_station_longitude</th>\n",
              "      <th>age</th>\n",
              "      <th>distance</th>\n",
              "      <th>mile_per_hour</th>\n",
              "    </tr>\n",
              "  </thead>\n",
              "  <tbody>\n",
              "    <tr>\n",
              "      <th>count</th>\n",
              "      <td>1014.00</td>\n",
              "      <td>1014.00</td>\n",
              "      <td>1014.00</td>\n",
              "      <td>1014.00</td>\n",
              "      <td>1014.00</td>\n",
              "      <td>1014.00</td>\n",
              "      <td>1014.00</td>\n",
              "      <td>1014.00</td>\n",
              "    </tr>\n",
              "    <tr>\n",
              "      <th>mean</th>\n",
              "      <td>742.89</td>\n",
              "      <td>40.74</td>\n",
              "      <td>-73.99</td>\n",
              "      <td>40.74</td>\n",
              "      <td>-73.99</td>\n",
              "      <td>39.25</td>\n",
              "      <td>1.11</td>\n",
              "      <td>5.74</td>\n",
              "    </tr>\n",
              "    <tr>\n",
              "      <th>std</th>\n",
              "      <td>591.48</td>\n",
              "      <td>0.02</td>\n",
              "      <td>0.02</td>\n",
              "      <td>0.02</td>\n",
              "      <td>0.02</td>\n",
              "      <td>11.55</td>\n",
              "      <td>0.85</td>\n",
              "      <td>1.70</td>\n",
              "    </tr>\n",
              "    <tr>\n",
              "      <th>min</th>\n",
              "      <td>69.00</td>\n",
              "      <td>40.66</td>\n",
              "      <td>-74.02</td>\n",
              "      <td>40.66</td>\n",
              "      <td>-74.02</td>\n",
              "      <td>18.00</td>\n",
              "      <td>0.10</td>\n",
              "      <td>0.18</td>\n",
              "    </tr>\n",
              "    <tr>\n",
              "      <th>25%</th>\n",
              "      <td>360.25</td>\n",
              "      <td>40.72</td>\n",
              "      <td>-74.00</td>\n",
              "      <td>40.72</td>\n",
              "      <td>-74.00</td>\n",
              "      <td>30.00</td>\n",
              "      <td>0.54</td>\n",
              "      <td>4.62</td>\n",
              "    </tr>\n",
              "    <tr>\n",
              "      <th>50%</th>\n",
              "      <td>542.00</td>\n",
              "      <td>40.74</td>\n",
              "      <td>-73.99</td>\n",
              "      <td>40.74</td>\n",
              "      <td>-73.99</td>\n",
              "      <td>37.00</td>\n",
              "      <td>0.83</td>\n",
              "      <td>5.76</td>\n",
              "    </tr>\n",
              "    <tr>\n",
              "      <th>75%</th>\n",
              "      <td>944.25</td>\n",
              "      <td>40.75</td>\n",
              "      <td>-73.98</td>\n",
              "      <td>40.75</td>\n",
              "      <td>-73.98</td>\n",
              "      <td>47.00</td>\n",
              "      <td>1.41</td>\n",
              "      <td>6.90</td>\n",
              "    </tr>\n",
              "    <tr>\n",
              "      <th>max</th>\n",
              "      <td>6708.00</td>\n",
              "      <td>40.80</td>\n",
              "      <td>-73.93</td>\n",
              "      <td>40.81</td>\n",
              "      <td>-73.93</td>\n",
              "      <td>75.00</td>\n",
              "      <td>6.01</td>\n",
              "      <td>12.38</td>\n",
              "    </tr>\n",
              "  </tbody>\n",
              "</table>\n",
              "</div>"
            ],
            "text/plain": [
              "       tripduration  start_station_latitude  ...  distance  mile_per_hour\n",
              "count       1014.00                 1014.00  ...   1014.00        1014.00\n",
              "mean         742.89                   40.74  ...      1.11           5.74\n",
              "std          591.48                    0.02  ...      0.85           1.70\n",
              "min           69.00                   40.66  ...      0.10           0.18\n",
              "25%          360.25                   40.72  ...      0.54           4.62\n",
              "50%          542.00                   40.74  ...      0.83           5.76\n",
              "75%          944.25                   40.75  ...      1.41           6.90\n",
              "max         6708.00                   40.80  ...      6.01          12.38\n",
              "\n",
              "[8 rows x 8 columns]"
            ]
          },
          "metadata": {
            "tags": []
          },
          "execution_count": 74
        }
      ]
    },
    {
      "cell_type": "code",
      "metadata": {
        "colab": {
          "base_uri": "https://localhost:8080/"
        },
        "id": "q_to72CDPfxq",
        "outputId": "528d7c6e-7575-43d1-8ccf-570788f9a133"
      },
      "source": [
        "behav.groupby(['age','gender']).median()['mile_per_hour'].unstack().isnull().sum()"
      ],
      "execution_count": 75,
      "outputs": [
        {
          "output_type": "execute_result",
          "data": {
            "text/plain": [
              "gender\n",
              "female      6\n",
              "male        1\n",
              "unknown    52\n",
              "dtype: int64"
            ]
          },
          "metadata": {
            "tags": []
          },
          "execution_count": 75
        }
      ]
    },
    {
      "cell_type": "code",
      "metadata": {
        "colab": {
          "base_uri": "https://localhost:8080/"
        },
        "id": "Nx87pA3ARccR",
        "outputId": "66d9bc56-8cb7-45dd-86a0-0541e40e94d5"
      },
      "source": [
        "bin = np.linspace(min(behav['age']), max(behav['age']), 15)\n",
        "len(bin)"
      ],
      "execution_count": 76,
      "outputs": [
        {
          "output_type": "execute_result",
          "data": {
            "text/plain": [
              "15"
            ]
          },
          "metadata": {
            "tags": []
          },
          "execution_count": 76
        }
      ]
    },
    {
      "cell_type": "code",
      "metadata": {
        "colab": {
          "base_uri": "https://localhost:8080/"
        },
        "id": "37b2uJdxPf5-",
        "outputId": "a2497e8f-cbae-4bd0-a7e4-b11cb379b266"
      },
      "source": [
        "cat = pd.Series(np.arange(1,len(bin)+1,1))\n",
        "len(cat)"
      ],
      "execution_count": 77,
      "outputs": [
        {
          "output_type": "execute_result",
          "data": {
            "text/plain": [
              "15"
            ]
          },
          "metadata": {
            "tags": []
          },
          "execution_count": 77
        }
      ]
    },
    {
      "cell_type": "code",
      "metadata": {
        "colab": {
          "base_uri": "https://localhost:8080/",
          "height": 0
        },
        "id": "8EelQrTRPf9j",
        "outputId": "936797eb-35ca-4bdc-ee5a-f2d977584f84"
      },
      "source": [
        "bin = pd.DataFrame(bin)\n",
        "bin = bin.rename(columns = {0:'bin'})\n",
        "cat = pd.DataFrame(cat)\n",
        "cat = cat.rename(columns = {0:'cat'})\n",
        "age_bin = pd.concat([bin, cat], axis=1)\n",
        "age_bin['bin2'] = age_bin.bin.shift(1)\n",
        "age_bin['bin2'] = age_bin['bin2'].replace(np.nan, 0)\n",
        "age_bin['cat2'] = round(age_bin['bin2'],2).astype(str) + '-' + round(age_bin['bin'],2).astype(str)\n",
        "age_bin.head()"
      ],
      "execution_count": 78,
      "outputs": [
        {
          "output_type": "execute_result",
          "data": {
            "text/html": [
              "<div>\n",
              "<style scoped>\n",
              "    .dataframe tbody tr th:only-of-type {\n",
              "        vertical-align: middle;\n",
              "    }\n",
              "\n",
              "    .dataframe tbody tr th {\n",
              "        vertical-align: top;\n",
              "    }\n",
              "\n",
              "    .dataframe thead th {\n",
              "        text-align: right;\n",
              "    }\n",
              "</style>\n",
              "<table border=\"1\" class=\"dataframe\">\n",
              "  <thead>\n",
              "    <tr style=\"text-align: right;\">\n",
              "      <th></th>\n",
              "      <th>bin</th>\n",
              "      <th>cat</th>\n",
              "      <th>bin2</th>\n",
              "      <th>cat2</th>\n",
              "    </tr>\n",
              "  </thead>\n",
              "  <tbody>\n",
              "    <tr>\n",
              "      <th>0</th>\n",
              "      <td>18.000000</td>\n",
              "      <td>1</td>\n",
              "      <td>0.000000</td>\n",
              "      <td>0.0-18.0</td>\n",
              "    </tr>\n",
              "    <tr>\n",
              "      <th>1</th>\n",
              "      <td>22.071429</td>\n",
              "      <td>2</td>\n",
              "      <td>18.000000</td>\n",
              "      <td>18.0-22.07</td>\n",
              "    </tr>\n",
              "    <tr>\n",
              "      <th>2</th>\n",
              "      <td>26.142857</td>\n",
              "      <td>3</td>\n",
              "      <td>22.071429</td>\n",
              "      <td>22.07-26.14</td>\n",
              "    </tr>\n",
              "    <tr>\n",
              "      <th>3</th>\n",
              "      <td>30.214286</td>\n",
              "      <td>4</td>\n",
              "      <td>26.142857</td>\n",
              "      <td>26.14-30.21</td>\n",
              "    </tr>\n",
              "    <tr>\n",
              "      <th>4</th>\n",
              "      <td>34.285714</td>\n",
              "      <td>5</td>\n",
              "      <td>30.214286</td>\n",
              "      <td>30.21-34.29</td>\n",
              "    </tr>\n",
              "  </tbody>\n",
              "</table>\n",
              "</div>"
            ],
            "text/plain": [
              "         bin  cat       bin2         cat2\n",
              "0  18.000000    1   0.000000     0.0-18.0\n",
              "1  22.071429    2  18.000000   18.0-22.07\n",
              "2  26.142857    3  22.071429  22.07-26.14\n",
              "3  30.214286    4  26.142857  26.14-30.21\n",
              "4  34.285714    5  30.214286  30.21-34.29"
            ]
          },
          "metadata": {
            "tags": []
          },
          "execution_count": 78
        }
      ]
    },
    {
      "cell_type": "code",
      "metadata": {
        "id": "rWfPxehvTjr4"
      },
      "source": [
        "def f(behav):\n",
        "    if behav['age'] > age_bin.iloc[0,2] and behav['age'] <= age_bin.iloc[0,0]:\n",
        "        val = age_bin.iloc[0,1] \n",
        "    elif behav['age'] > age_bin.iloc[1,2] and behav['age'] <= age_bin.iloc[1,0]:\n",
        "        val = age_bin.iloc[1,1]\n",
        "    elif behav['age'] > age_bin.iloc[2,2] and behav['age'] <= age_bin.iloc[2,0]:\n",
        "        val = age_bin.iloc[2,1]\n",
        "    elif behav['age'] > age_bin.iloc[3,2] and behav['age'] <= age_bin.iloc[3,0]:\n",
        "        val = age_bin.iloc[3,1]\n",
        "    elif behav['age'] > age_bin.iloc[4,2] and behav['age'] <= age_bin.iloc[4,0]:\n",
        "        val = age_bin.iloc[4,1]\n",
        "    elif behav['age'] > age_bin.iloc[5,2] and behav['age'] <= age_bin.iloc[5,0]:\n",
        "        val = age_bin.iloc[5,1]\n",
        "    elif behav['age'] > age_bin.iloc[6,2] and behav['age'] <= age_bin.iloc[6,0]:\n",
        "        val = age_bin.iloc[6,1]\n",
        "    elif behav['age'] > age_bin.iloc[7,2] and behav['age'] <= age_bin.iloc[7,0]:\n",
        "        val = age_bin.iloc[7,1]\n",
        "    elif behav['age'] > age_bin.iloc[8,2] and behav['age'] <= age_bin.iloc[8,0]:\n",
        "        val = age_bin.iloc[8,1]\n",
        "    elif behav['age'] > age_bin.iloc[9,2] and behav['age'] <= age_bin.iloc[9,0]:\n",
        "        val = age_bin.iloc[9,1]\n",
        "    elif behav['age'] > age_bin.iloc[10,2] and behav['age'] <= age_bin.iloc[10,0]:\n",
        "        val = age_bin.iloc[10,1]\n",
        "    elif behav['age'] > age_bin.iloc[11,2] and behav['age'] <= age_bin.iloc[11,0]:\n",
        "        val = age_bin.iloc[11,1]\n",
        "    elif behav['age'] > age_bin.iloc[12,2] and behav['age'] <= age_bin.iloc[12,0]:\n",
        "        val = age_bin.iloc[12,1]\n",
        "    elif behav['age'] > age_bin.iloc[13,2] and behav['age'] <= age_bin.iloc[13,0]:\n",
        "        val = age_bin.iloc[13,1]\n",
        "    else:\n",
        "        val = age_bin.iloc[14,1]\n",
        "    return val\n",
        "\n",
        "#create new column 'Good' using the function above\n",
        "behav['age_cat'] = behav.apply(f, axis=1)"
      ],
      "execution_count": 79,
      "outputs": []
    },
    {
      "cell_type": "code",
      "metadata": {
        "colab": {
          "base_uri": "https://localhost:8080/",
          "height": 0
        },
        "id": "MlSCapULx1YT",
        "outputId": "1048ad22-b5ad-40ea-9ed4-5120dadcdbd0"
      },
      "source": [
        "behav.head(2)"
      ],
      "execution_count": 80,
      "outputs": [
        {
          "output_type": "execute_result",
          "data": {
            "text/html": [
              "<div>\n",
              "<style scoped>\n",
              "    .dataframe tbody tr th:only-of-type {\n",
              "        vertical-align: middle;\n",
              "    }\n",
              "\n",
              "    .dataframe tbody tr th {\n",
              "        vertical-align: top;\n",
              "    }\n",
              "\n",
              "    .dataframe thead th {\n",
              "        text-align: right;\n",
              "    }\n",
              "</style>\n",
              "<table border=\"1\" class=\"dataframe\">\n",
              "  <thead>\n",
              "    <tr style=\"text-align: right;\">\n",
              "      <th></th>\n",
              "      <th>tripduration</th>\n",
              "      <th>start_station_latitude</th>\n",
              "      <th>start_station_longitude</th>\n",
              "      <th>end_station_latitude</th>\n",
              "      <th>end_station_longitude</th>\n",
              "      <th>birth_year</th>\n",
              "      <th>gender</th>\n",
              "      <th>trips_year</th>\n",
              "      <th>age</th>\n",
              "      <th>distance</th>\n",
              "      <th>mile_per_hour</th>\n",
              "      <th>age_cat</th>\n",
              "    </tr>\n",
              "  </thead>\n",
              "  <tbody>\n",
              "    <tr>\n",
              "      <th>2</th>\n",
              "      <td>488.0</td>\n",
              "      <td>40.739713</td>\n",
              "      <td>-73.994564</td>\n",
              "      <td>40.751726</td>\n",
              "      <td>-73.987535</td>\n",
              "      <td>1953.0</td>\n",
              "      <td>male</td>\n",
              "      <td>2015</td>\n",
              "      <td>64</td>\n",
              "      <td>0.91</td>\n",
              "      <td>6.71</td>\n",
              "      <td>13</td>\n",
              "    </tr>\n",
              "    <tr>\n",
              "      <th>4</th>\n",
              "      <td>1158.0</td>\n",
              "      <td>40.727791</td>\n",
              "      <td>-73.985649</td>\n",
              "      <td>40.740259</td>\n",
              "      <td>-73.984092</td>\n",
              "      <td>1955.0</td>\n",
              "      <td>male</td>\n",
              "      <td>2016</td>\n",
              "      <td>62</td>\n",
              "      <td>0.87</td>\n",
              "      <td>2.70</td>\n",
              "      <td>12</td>\n",
              "    </tr>\n",
              "  </tbody>\n",
              "</table>\n",
              "</div>"
            ],
            "text/plain": [
              "   tripduration  start_station_latitude  ...  mile_per_hour  age_cat\n",
              "2         488.0               40.739713  ...           6.71       13\n",
              "4        1158.0               40.727791  ...           2.70       12\n",
              "\n",
              "[2 rows x 12 columns]"
            ]
          },
          "metadata": {
            "tags": []
          },
          "execution_count": 80
        }
      ]
    },
    {
      "cell_type": "code",
      "metadata": {
        "id": "gYbPDPJ_7-Vt"
      },
      "source": [
        "behav_2015 = behav[behav.trips_year == 2015]\n",
        "speed_age_gender_2015 = behav_2015.groupby(['trips_year','age_cat','gender']).median()['mile_per_hour'].unstack().sort_values(['trips_year','age_cat'], ascending=True)\n",
        "speed_age_gender_2015.dropna(inplace=True)"
      ],
      "execution_count": 81,
      "outputs": []
    },
    {
      "cell_type": "code",
      "metadata": {
        "id": "edGAlz9887rn"
      },
      "source": [
        "speed_age_gender_2015 = pd.merge(age_bin, speed_age_gender_2015, left_on = 'cat', right_on = 'age_cat', how='right')\n",
        "speed_age_gender_2015 = speed_age_gender_2015.drop(['bin','cat','bin2'], axis = 1)"
      ],
      "execution_count": 82,
      "outputs": []
    },
    {
      "cell_type": "code",
      "metadata": {
        "id": "QftHAUx9HVyD"
      },
      "source": [
        "behav_2015 = behav[behav.trips_year == 2015]\n",
        "distance_age_gender_2015 = behav_2015.groupby(['trips_year','age_cat','gender']).median()['distance'].unstack().sort_values(['trips_year','age_cat'], ascending=True)\n",
        "distance_age_gender_2015.dropna(inplace=True)"
      ],
      "execution_count": 83,
      "outputs": []
    },
    {
      "cell_type": "code",
      "metadata": {
        "id": "kp4WEi2nHVyD"
      },
      "source": [
        "distance_age_gender_2015 = pd.merge(age_bin, distance_age_gender_2015, left_on = 'cat', right_on = 'age_cat', how='right')\n",
        "distance_age_gender_2015 = distance_age_gender_2015.drop(['bin','cat','bin2'], axis = 1)"
      ],
      "execution_count": 84,
      "outputs": []
    },
    {
      "cell_type": "code",
      "metadata": {
        "id": "6PM61pve5uyi"
      },
      "source": [
        "behav_2016 = behav[behav.trips_year == 2016]\n",
        "speed_age_gender_2016 = behav_2016.groupby(['trips_year','age_cat','gender']).median()['mile_per_hour'].unstack().sort_values(['trips_year','age_cat'], ascending=True)\n",
        "speed_age_gender_2016.dropna(inplace=True)"
      ],
      "execution_count": 85,
      "outputs": []
    },
    {
      "cell_type": "code",
      "metadata": {
        "id": "-XCurBEd5y5s"
      },
      "source": [
        "speed_age_gender_2016 = pd.merge(age_bin, speed_age_gender_2016, left_on = 'cat', right_on = 'age_cat', how='right')\n",
        "speed_age_gender_2016 = speed_age_gender_2016.drop(['bin','cat','bin2'], axis = 1)"
      ],
      "execution_count": 86,
      "outputs": []
    },
    {
      "cell_type": "code",
      "metadata": {
        "id": "ozV3Ik9TGryj"
      },
      "source": [
        "behav_2016 = behav[behav.trips_year == 2016]\n",
        "distance_age_gender_2016 = behav_2016.groupby(['trips_year','age_cat','gender']).median()['distance'].unstack().sort_values(['trips_year','age_cat'], ascending=True)\n",
        "distance_age_gender_2016.dropna(inplace=True)"
      ],
      "execution_count": 87,
      "outputs": []
    },
    {
      "cell_type": "code",
      "metadata": {
        "id": "5vm6imidGryj"
      },
      "source": [
        "distance_age_gender_2016 = pd.merge(age_bin, distance_age_gender_2016, left_on = 'cat', right_on = 'age_cat', how='right')\n",
        "distance_age_gender_2016 = distance_age_gender_2016.drop(['bin','cat','bin2'], axis = 1)"
      ],
      "execution_count": 88,
      "outputs": []
    },
    {
      "cell_type": "code",
      "metadata": {
        "id": "vZp1e82l-t3U"
      },
      "source": [
        "behav_2017 = behav[behav.trips_year == 2017]\n",
        "speed_age_gender_2017 = behav_2017.groupby(['trips_year','age_cat','gender']).median()['mile_per_hour'].unstack().sort_values(['trips_year','age_cat'], ascending=True)\n",
        "speed_age_gender_2017.dropna(inplace=True)"
      ],
      "execution_count": 89,
      "outputs": []
    },
    {
      "cell_type": "code",
      "metadata": {
        "id": "_CtMCYap-t3V"
      },
      "source": [
        "speed_age_gender_2017 = pd.merge(age_bin, speed_age_gender_2017, left_on = 'cat', right_on = 'age_cat', how='right')\n",
        "speed_age_gender_2017 = speed_age_gender_2017.drop(['bin','cat','bin2'], axis = 1)"
      ],
      "execution_count": 90,
      "outputs": []
    },
    {
      "cell_type": "code",
      "metadata": {
        "id": "y22YfuE0EUNu"
      },
      "source": [
        "behav_2017 = behav[behav.trips_year == 2017]\n",
        "distance_age_gender_2017 = behav_2017.groupby(['trips_year','age_cat','gender']).median()['distance'].unstack().sort_values(['trips_year','age_cat'], ascending=True)\n",
        "distance_age_gender_2017.dropna(inplace=True)"
      ],
      "execution_count": 91,
      "outputs": []
    },
    {
      "cell_type": "code",
      "metadata": {
        "id": "YaiYbcsjEUNv"
      },
      "source": [
        "distance_age_gender_2017 = pd.merge(age_bin, distance_age_gender_2017, left_on = 'cat', right_on = 'age_cat', how='right')\n",
        "distance_age_gender_2017 = distance_age_gender_2017.drop(['bin','cat','bin2'], axis = 1)"
      ],
      "execution_count": 92,
      "outputs": []
    },
    {
      "cell_type": "code",
      "metadata": {
        "id": "nl7Ic6vh9xqy"
      },
      "source": [
        "speed_age_gender = pd.concat([speed_age_gender_2015, speed_age_gender_2016, speed_age_gender_2017], axis=0)\n",
        "speed_age_gender = speed_age_gender.groupby(['cat2']).mean()\n",
        "speed_age_gender = pd.merge(speed_age_gender, age_bin, left_on='cat2', right_on='cat2', how='left').sort_values(by='cat')\n",
        "speed_age_gender.drop(['bin', 'cat', 'bin2'], axis=1, inplace=True)"
      ],
      "execution_count": 93,
      "outputs": []
    },
    {
      "cell_type": "code",
      "metadata": {
        "colab": {
          "base_uri": "https://localhost:8080/",
          "height": 0
        },
        "id": "JevZg3-UKcjw",
        "outputId": "a5997e3e-9804-4b40-aa33-2b6240fccb9c"
      },
      "source": [
        "#Barplot\n",
        "plt.plot(speed_age_gender.cat2, speed_age_gender.female, label = \"female\")\n",
        "plt.plot(speed_age_gender.cat2, speed_age_gender.male, label = \"male\")\n",
        "plt.legend()\n",
        "plt.xlabel('Age Category')\n",
        "plt.ylabel('Speed (miles/hour)')\n",
        "plt.title('Average Speed Based on Gender and Age')\n",
        "plt.xticks(rotation=45)\n",
        "plt.show()"
      ],
      "execution_count": 94,
      "outputs": [
        {
          "output_type": "display_data",
          "data": {
            "image/png": "[encoded data removed]",
            "text/plain": [
              "<Figure size 864x576 with 1 Axes>"
            ]
          },
          "metadata": {
            "tags": []
          }
        }
      ]
    },
    {
      "cell_type": "code",
      "metadata": {
        "id": "WTcfvd3FG2iv"
      },
      "source": [
        "distance_age_gender = pd.concat([distance_age_gender_2015, distance_age_gender_2016, distance_age_gender_2017], axis=0)\n",
        "distance_age_gender = distance_age_gender.groupby(['cat2']).mean()\n",
        "distance_age_gender = pd.merge(distance_age_gender, age_bin, left_on='cat2', right_on='cat2', how='left').sort_values(by='cat')\n",
        "distance_age_gender.drop(['bin', 'cat', 'bin2'], axis=1, inplace=True)"
      ],
      "execution_count": 95,
      "outputs": []
    },
    {
      "cell_type": "code",
      "metadata": {
        "colab": {
          "base_uri": "https://localhost:8080/",
          "height": 0
        },
        "id": "BwO40gHgJKYv",
        "outputId": "cf553024-a99d-40c5-9707-d97ec33a07b2"
      },
      "source": [
        "#Barplot\n",
        "plt.plot(distance_age_gender.cat2, distance_age_gender.female, label = \"female\")\n",
        "plt.plot(distance_age_gender.cat2, distance_age_gender.male, label = \"male\")\n",
        "plt.legend()\n",
        "plt.xlabel('Age Category')\n",
        "plt.ylabel('Distance (miles)')\n",
        "plt.title('Average Distance Based on Gender and Age')\n",
        "plt.xticks(rotation=45)\n",
        "plt.show()"
      ],
      "execution_count": 96,
      "outputs": [
        {
          "output_type": "display_data",
          "data": {
            "image/png": "[encoded data removed]",
            "text/plain": [
              "<Figure size 864x576 with 1 Axes>"
            ]
          },
          "metadata": {
            "tags": []
          }
        }
      ]
    },
    {
      "cell_type": "markdown",
      "metadata": {
        "id": "u7_cBUPMHx8P"
      },
      "source": [
        "## Part 5: Busiest Bike by Times and Minutes Used"
      ]
    },
    {
      "cell_type": "code",
      "metadata": {
        "colab": {
          "base_uri": "https://localhost:8080/",
          "height": 0
        },
        "id": "s6-VlimOFxNc",
        "outputId": "e9165b01-8953-46ff-bdec-15cf3d371050"
      },
      "source": [
        "#Bike usage based on number of times used\n",
        "bike_use = pd.DataFrame()\n",
        "bike_use = trips.groupby(['trips_year','bikeid']).size().reset_index(name = 'times_used')\n",
        "bike_use = bike_use.sort_values('times_used', ascending = False)\n",
        "bike_use['bikeid'] = bike_use['bikeid'].astype(int).astype(str)\n",
        "bike_use['bikeid'] = ('Bike ' + bike_use['bikeid'])\n",
        "bike_use = bike_use.groupby('bikeid').mean()['times_used'].reset_index(name = 'times_used').sort_values(by=['times_used'], ascending=False).head(10)\n",
        "bike_use.head()"
      ],
      "execution_count": 97,
      "outputs": [
        {
          "output_type": "execute_result",
          "data": {
            "text/html": [
              "<div>\n",
              "<style scoped>\n",
              "    .dataframe tbody tr th:only-of-type {\n",
              "        vertical-align: middle;\n",
              "    }\n",
              "\n",
              "    .dataframe tbody tr th {\n",
              "        vertical-align: top;\n",
              "    }\n",
              "\n",
              "    .dataframe thead th {\n",
              "        text-align: right;\n",
              "    }\n",
              "</style>\n",
              "<table border=\"1\" class=\"dataframe\">\n",
              "  <thead>\n",
              "    <tr style=\"text-align: right;\">\n",
              "      <th></th>\n",
              "      <th>bikeid</th>\n",
              "      <th>times_used</th>\n",
              "    </tr>\n",
              "  </thead>\n",
              "  <tbody>\n",
              "    <tr>\n",
              "      <th>359</th>\n",
              "      <td>Bike 19358</td>\n",
              "      <td>0.666667</td>\n",
              "    </tr>\n",
              "    <tr>\n",
              "      <th>956</th>\n",
              "      <td>Bike 30869</td>\n",
              "      <td>0.666667</td>\n",
              "    </tr>\n",
              "    <tr>\n",
              "      <th>670</th>\n",
              "      <td>Bike 24875</td>\n",
              "      <td>0.666667</td>\n",
              "    </tr>\n",
              "    <tr>\n",
              "      <th>285</th>\n",
              "      <td>Bike 18482</td>\n",
              "      <td>0.666667</td>\n",
              "    </tr>\n",
              "    <tr>\n",
              "      <th>444</th>\n",
              "      <td>Bike 20694</td>\n",
              "      <td>0.666667</td>\n",
              "    </tr>\n",
              "  </tbody>\n",
              "</table>\n",
              "</div>"
            ],
            "text/plain": [
              "         bikeid  times_used\n",
              "359  Bike 19358    0.666667\n",
              "956  Bike 30869    0.666667\n",
              "670  Bike 24875    0.666667\n",
              "285  Bike 18482    0.666667\n",
              "444  Bike 20694    0.666667"
            ]
          },
          "metadata": {
            "tags": []
          },
          "execution_count": 97
        }
      ]
    },
    {
      "cell_type": "code",
      "metadata": {
        "colab": {
          "base_uri": "https://localhost:8080/",
          "height": 0
        },
        "id": "SV9Go4QwIUl1",
        "outputId": "bbb78dd0-0680-4f71-a280-1523742f2f1f"
      },
      "source": [
        "#Barplot\n",
        "ax2 = sns.barplot(x='times_used', y='bikeid', data = bike_use, palette=\"GnBu_d\")\n",
        "ax2.set_title('Most Popular Bikes by Number of Times Used', fontsize = 12)\n",
        "plt.show()"
      ],
      "execution_count": 98,
      "outputs": [
        {
          "output_type": "display_data",
          "data": {
            "image/png": "[encoded data removed]",
            "text/plain": [
              "<Figure size 864x576 with 1 Axes>"
            ]
          },
          "metadata": {
            "tags": []
          }
        }
      ]
    },
    {
      "cell_type": "code",
      "metadata": {
        "colab": {
          "base_uri": "https://localhost:8080/",
          "height": 0
        },
        "id": "LqW_WOBGLfKT",
        "outputId": "b9ce65c0-4072-4186-b6ba-bcfe5ea2af92"
      },
      "source": [
        "#Bike usage based on minutes used\n",
        "bike_min = pd.DataFrame()\n",
        "bike_min['sec_used'] = trips.groupby(['trips_year','bikeid'])['tripduration'].sum()\n",
        "bike_min['min_used'] = round(bike_min['sec_used']/60,2)\n",
        "bike_min = bike_min.sort_values('min_used', ascending = False).reset_index()\n",
        "bike_min['bikeid'] = bike_min['bikeid'].astype(int).astype(str)\n",
        "bike_min['bikeid'] = ('Bike ' + bike_min['bikeid'])\n",
        "bike_min.drop(['sec_used'], axis = 1, inplace=True)\n",
        "bike_min = bike_min.groupby('bikeid').mean()['min_used'].reset_index(name = 'min_used').sort_values(by=['min_used'], ascending=False).head(10)\n",
        "bike_min.head()"
      ],
      "execution_count": 99,
      "outputs": [
        {
          "output_type": "execute_result",
          "data": {
            "text/html": [
              "<div>\n",
              "<style scoped>\n",
              "    .dataframe tbody tr th:only-of-type {\n",
              "        vertical-align: middle;\n",
              "    }\n",
              "\n",
              "    .dataframe tbody tr th {\n",
              "        vertical-align: top;\n",
              "    }\n",
              "\n",
              "    .dataframe thead th {\n",
              "        text-align: right;\n",
              "    }\n",
              "</style>\n",
              "<table border=\"1\" class=\"dataframe\">\n",
              "  <thead>\n",
              "    <tr style=\"text-align: right;\">\n",
              "      <th></th>\n",
              "      <th>bikeid</th>\n",
              "      <th>min_used</th>\n",
              "    </tr>\n",
              "  </thead>\n",
              "  <tbody>\n",
              "    <tr>\n",
              "      <th>636</th>\n",
              "      <td>Bike 23853</td>\n",
              "      <td>111.80</td>\n",
              "    </tr>\n",
              "    <tr>\n",
              "      <th>798</th>\n",
              "      <td>Bike 26788</td>\n",
              "      <td>72.52</td>\n",
              "    </tr>\n",
              "    <tr>\n",
              "      <th>985</th>\n",
              "      <td>Bike 32300</td>\n",
              "      <td>64.18</td>\n",
              "    </tr>\n",
              "    <tr>\n",
              "      <th>816</th>\n",
              "      <td>Bike 27102</td>\n",
              "      <td>62.72</td>\n",
              "    </tr>\n",
              "    <tr>\n",
              "      <th>574</th>\n",
              "      <td>Bike 22657</td>\n",
              "      <td>56.60</td>\n",
              "    </tr>\n",
              "  </tbody>\n",
              "</table>\n",
              "</div>"
            ],
            "text/plain": [
              "         bikeid  min_used\n",
              "636  Bike 23853    111.80\n",
              "798  Bike 26788     72.52\n",
              "985  Bike 32300     64.18\n",
              "816  Bike 27102     62.72\n",
              "574  Bike 22657     56.60"
            ]
          },
          "metadata": {
            "tags": []
          },
          "execution_count": 99
        }
      ]
    },
    {
      "cell_type": "code",
      "metadata": {
        "colab": {
          "base_uri": "https://localhost:8080/",
          "height": 0
        },
        "id": "xNTMiRdLM0Eb",
        "outputId": "bc711de8-3488-4920-ef4f-c309a9ddecc7"
      },
      "source": [
        "#Barplot\n",
        "ax2 = sns.barplot(x='min_used', y='bikeid', data = bike_min, palette=\"GnBu_d\")\n",
        "ax2.set_title('Most Popular Bikes by Minute Used', fontsize = 12)\n",
        "plt.show()"
      ],
      "execution_count": 100,
      "outputs": [
        {
          "output_type": "display_data",
          "data": {
            "image/png": "[encoded data removed]",
            "text/plain": [
              "<Figure size 864x576 with 1 Axes>"
            ]
          },
          "metadata": {
            "tags": []
          }
        }
      ]
    },
    {
      "cell_type": "markdown",
      "metadata": {
        "id": "t-eGWVeCR912"
      },
      "source": [
        "## Part 6: Distribution Issue"
      ]
    },
    {
      "cell_type": "markdown",
      "metadata": {
        "id": "9qElXzCwsFhu"
      },
      "source": [
        "### Rebalancing"
      ]
    },
    {
      "cell_type": "code",
      "metadata": {
        "id": "IXg0R2l9qFZS"
      },
      "source": [
        "# Note that the end station id for one ride is the start station id for the next.\n",
        "bike_journey = trips.sort_values(by=['bikeid','starttime'])"
      ],
      "execution_count": 101,
      "outputs": []
    },
    {
      "cell_type": "code",
      "metadata": {
        "id": "iG5AHzx8qFmg"
      },
      "source": [
        "offset = pd.DataFrame({'starttime': pd.to_datetime('2010-09-01'), 'start_station_name':0,\\\n",
        "                       'stoptime': pd.to_datetime('2010-09-01'),'end_station_name':0,'bikeid':0},index=[0])"
      ],
      "execution_count": 102,
      "outputs": []
    },
    {
      "cell_type": "code",
      "metadata": {
        "id": "tBJPT-mGqFrD"
      },
      "source": [
        "bike_journey1 = pd.concat([offset,bike_journey]).reset_index(drop=True)\n",
        "bike_journey2 = pd.concat([bike_journey,offset]).reset_index(drop=True)"
      ],
      "execution_count": 103,
      "outputs": []
    },
    {
      "cell_type": "code",
      "metadata": {
        "colab": {
          "base_uri": "https://localhost:8080/",
          "height": 0
        },
        "id": "0a1S1y3GqFvF",
        "outputId": "d4307453-5351-4779-da0f-a675505a766a"
      },
      "source": [
        "# if end_station_id != start_station_id -> rebalancing \n",
        "# Now each row shows the end of one trip and the start of the next.\n",
        "# This is the time the bike spends at the station between rides.\n",
        "bike_journey = pd.concat ([bike_journey1[['bikeid','stoptime','end_station_name']]\\\n",
        "                   ,bike_journey2[['bikeid','starttime','start_station_name']] ],\\\n",
        "                    axis=1 )\n",
        "bike_journey.head()"
      ],
      "execution_count": 104,
      "outputs": [
        {
          "output_type": "execute_result",
          "data": {
            "text/html": [
              "<div>\n",
              "<style scoped>\n",
              "    .dataframe tbody tr th:only-of-type {\n",
              "        vertical-align: middle;\n",
              "    }\n",
              "\n",
              "    .dataframe tbody tr th {\n",
              "        vertical-align: top;\n",
              "    }\n",
              "\n",
              "    .dataframe thead th {\n",
              "        text-align: right;\n",
              "    }\n",
              "</style>\n",
              "<table border=\"1\" class=\"dataframe\">\n",
              "  <thead>\n",
              "    <tr style=\"text-align: right;\">\n",
              "      <th></th>\n",
              "      <th>bikeid</th>\n",
              "      <th>stoptime</th>\n",
              "      <th>end_station_name</th>\n",
              "      <th>bikeid</th>\n",
              "      <th>starttime</th>\n",
              "      <th>start_station_name</th>\n",
              "    </tr>\n",
              "  </thead>\n",
              "  <tbody>\n",
              "    <tr>\n",
              "      <th>0</th>\n",
              "      <td>0.0</td>\n",
              "      <td>2010-09-01 00:00:00</td>\n",
              "      <td>0</td>\n",
              "      <td>14536.0</td>\n",
              "      <td>2015-11-11 12:38:22</td>\n",
              "      <td>46 Ave &amp; 5 St</td>\n",
              "    </tr>\n",
              "    <tr>\n",
              "      <th>1</th>\n",
              "      <td>14536.0</td>\n",
              "      <td>2015-11-11 12:45:09</td>\n",
              "      <td>44 Dr &amp; Jackson Ave</td>\n",
              "      <td>14540.0</td>\n",
              "      <td>2016-05-17 17:44:51</td>\n",
              "      <td>W 13 St &amp; 6 Ave</td>\n",
              "    </tr>\n",
              "    <tr>\n",
              "      <th>2</th>\n",
              "      <td>14540.0</td>\n",
              "      <td>2016-05-17 17:56:21</td>\n",
              "      <td>LaGuardia Pl &amp; W 3 St</td>\n",
              "      <td>14545.0</td>\n",
              "      <td>2015-08-20 14:25:32</td>\n",
              "      <td>E 16 St &amp; 5 Ave</td>\n",
              "    </tr>\n",
              "    <tr>\n",
              "      <th>3</th>\n",
              "      <td>14545.0</td>\n",
              "      <td>2015-08-20 14:31:07</td>\n",
              "      <td>W 11 St &amp; 6 Ave</td>\n",
              "      <td>14548.0</td>\n",
              "      <td>2015-05-06 12:23:14</td>\n",
              "      <td>5 Ave &amp; E 29 St</td>\n",
              "    </tr>\n",
              "    <tr>\n",
              "      <th>4</th>\n",
              "      <td>14548.0</td>\n",
              "      <td>2015-05-06 12:27:50</td>\n",
              "      <td>W 27 St &amp; 7 Ave</td>\n",
              "      <td>14558.0</td>\n",
              "      <td>2017-09-06 17:42:47</td>\n",
              "      <td>W 63 St &amp; Broadway</td>\n",
              "    </tr>\n",
              "  </tbody>\n",
              "</table>\n",
              "</div>"
            ],
            "text/plain": [
              "    bikeid            stoptime  ...           starttime  start_station_name\n",
              "0      0.0 2010-09-01 00:00:00  ... 2015-11-11 12:38:22       46 Ave & 5 St\n",
              "1  14536.0 2015-11-11 12:45:09  ... 2016-05-17 17:44:51     W 13 St & 6 Ave\n",
              "2  14540.0 2016-05-17 17:56:21  ... 2015-08-20 14:25:32     E 16 St & 5 Ave\n",
              "3  14545.0 2015-08-20 14:31:07  ... 2015-05-06 12:23:14     5 Ave & E 29 St\n",
              "4  14548.0 2015-05-06 12:27:50  ... 2017-09-06 17:42:47  W 63 St & Broadway\n",
              "\n",
              "[5 rows x 6 columns]"
            ]
          },
          "metadata": {
            "tags": []
          },
          "execution_count": 104
        }
      ]
    },
    {
      "cell_type": "code",
      "metadata": {
        "id": "qbEm6yXwuIM5"
      },
      "source": [
        "bike_journey.columns = ['bikeid1','starttime','start_station_name','bikeid2','stoptime','end_station_name']"
      ],
      "execution_count": 105,
      "outputs": []
    },
    {
      "cell_type": "code",
      "metadata": {
        "colab": {
          "base_uri": "https://localhost:8080/",
          "height": 0
        },
        "id": "jonlN339uIT-",
        "outputId": "6274f783-996f-4922-dfb1-441adbec19ce"
      },
      "source": [
        "bike_journey_rebal = bike_journey[['starttime','start_station_name','stoptime','end_station_name']].\\\n",
        "      loc[(bike_journey.bikeid1==bike_journey.bikeid2) & (bike_journey['start_station_name'] != bike_journey['end_station_name'])]\n",
        "bike_journey_rebal.reset_index(drop=True, inplace=True)\n",
        "bike_journey_rebal.head()"
      ],
      "execution_count": 106,
      "outputs": [
        {
          "output_type": "execute_result",
          "data": {
            "text/html": [
              "<div>\n",
              "<style scoped>\n",
              "    .dataframe tbody tr th:only-of-type {\n",
              "        vertical-align: middle;\n",
              "    }\n",
              "\n",
              "    .dataframe tbody tr th {\n",
              "        vertical-align: top;\n",
              "    }\n",
              "\n",
              "    .dataframe thead th {\n",
              "        text-align: right;\n",
              "    }\n",
              "</style>\n",
              "<table border=\"1\" class=\"dataframe\">\n",
              "  <thead>\n",
              "    <tr style=\"text-align: right;\">\n",
              "      <th></th>\n",
              "      <th>starttime</th>\n",
              "      <th>start_station_name</th>\n",
              "      <th>stoptime</th>\n",
              "      <th>end_station_name</th>\n",
              "    </tr>\n",
              "  </thead>\n",
              "  <tbody>\n",
              "    <tr>\n",
              "      <th>0</th>\n",
              "      <td>2015-08-20 06:53:02</td>\n",
              "      <td>1 Ave &amp; E 30 St</td>\n",
              "      <td>2017-06-26 20:20:16</td>\n",
              "      <td>Hudson St &amp; Reade St</td>\n",
              "    </tr>\n",
              "    <tr>\n",
              "      <th>1</th>\n",
              "      <td>2016-04-01 11:58:42</td>\n",
              "      <td>Pershing Square North</td>\n",
              "      <td>2016-09-07 12:39:41</td>\n",
              "      <td>1 Ave &amp; E 68 St</td>\n",
              "    </tr>\n",
              "    <tr>\n",
              "      <th>2</th>\n",
              "      <td>2015-03-08 09:23:00</td>\n",
              "      <td>9 Ave &amp; W 14 St</td>\n",
              "      <td>2017-07-23 17:22:27</td>\n",
              "      <td>E 15 St &amp; 3 Ave</td>\n",
              "    </tr>\n",
              "    <tr>\n",
              "      <th>3</th>\n",
              "      <td>2015-09-23 17:09:51</td>\n",
              "      <td>Vesey Pl &amp; River Terrace</td>\n",
              "      <td>2015-12-21 16:07:31</td>\n",
              "      <td>Broadway &amp; E 22 St</td>\n",
              "    </tr>\n",
              "    <tr>\n",
              "      <th>4</th>\n",
              "      <td>2015-09-25 23:44:41</td>\n",
              "      <td>N Henry St &amp; Richardson St</td>\n",
              "      <td>2017-05-03 08:11:51</td>\n",
              "      <td>W 43 St &amp; 6 Ave</td>\n",
              "    </tr>\n",
              "  </tbody>\n",
              "</table>\n",
              "</div>"
            ],
            "text/plain": [
              "            starttime  ...      end_station_name\n",
              "0 2015-08-20 06:53:02  ...  Hudson St & Reade St\n",
              "1 2016-04-01 11:58:42  ...       1 Ave & E 68 St\n",
              "2 2015-03-08 09:23:00  ...       E 15 St & 3 Ave\n",
              "3 2015-09-23 17:09:51  ...    Broadway & E 22 St\n",
              "4 2015-09-25 23:44:41  ...       W 43 St & 6 Ave\n",
              "\n",
              "[5 rows x 4 columns]"
            ]
          },
          "metadata": {
            "tags": []
          },
          "execution_count": 106
        }
      ]
    },
    {
      "cell_type": "markdown",
      "metadata": {
        "id": "Y_g3a0u4-A2N"
      },
      "source": [
        "### Station Flow"
      ]
    },
    {
      "cell_type": "code",
      "metadata": {
        "id": "rx96aq_fBCZx"
      },
      "source": [
        "bjs=bike_journey_rebal[['starttime','start_station_name']].assign(in_out=-1) # act as -1 to indicate a bike pick-up\n",
        "bje=bike_journey_rebal[['starttime','end_station_name']].assign(in_out=1) # act as 1 to indicate a drop off"
      ],
      "execution_count": 107,
      "outputs": []
    },
    {
      "cell_type": "code",
      "metadata": {
        "id": "8rP0B_ngBCde"
      },
      "source": [
        "bjs.columns=['docktime','station_name','in_out']\n",
        "bje.columns=['docktime','station_name','in_out']\n",
        "bjse=pd.concat([bjs,bje]).sort_values(by=['station_name','docktime']).reset_index(drop=True)"
      ],
      "execution_count": 108,
      "outputs": []
    },
    {
      "cell_type": "code",
      "metadata": {
        "colab": {
          "base_uri": "https://localhost:8080/",
          "height": 0
        },
        "id": "dG2HdwMNddCZ",
        "outputId": "376c3c49-8edc-4274-bb17-01830d41b458"
      },
      "source": [
        "bjse.head()"
      ],
      "execution_count": 109,
      "outputs": [
        {
          "output_type": "execute_result",
          "data": {
            "text/html": [
              "<div>\n",
              "<style scoped>\n",
              "    .dataframe tbody tr th:only-of-type {\n",
              "        vertical-align: middle;\n",
              "    }\n",
              "\n",
              "    .dataframe tbody tr th {\n",
              "        vertical-align: top;\n",
              "    }\n",
              "\n",
              "    .dataframe thead th {\n",
              "        text-align: right;\n",
              "    }\n",
              "</style>\n",
              "<table border=\"1\" class=\"dataframe\">\n",
              "  <thead>\n",
              "    <tr style=\"text-align: right;\">\n",
              "      <th></th>\n",
              "      <th>docktime</th>\n",
              "      <th>station_name</th>\n",
              "      <th>in_out</th>\n",
              "    </tr>\n",
              "  </thead>\n",
              "  <tbody>\n",
              "    <tr>\n",
              "      <th>0</th>\n",
              "      <td>2015-08-20 06:53:02</td>\n",
              "      <td>1 Ave &amp; E 30 St</td>\n",
              "      <td>-1</td>\n",
              "    </tr>\n",
              "    <tr>\n",
              "      <th>1</th>\n",
              "      <td>2017-07-06 21:36:52</td>\n",
              "      <td>1 Ave &amp; E 30 St</td>\n",
              "      <td>-1</td>\n",
              "    </tr>\n",
              "    <tr>\n",
              "      <th>2</th>\n",
              "      <td>2016-04-01 11:58:42</td>\n",
              "      <td>1 Ave &amp; E 68 St</td>\n",
              "      <td>1</td>\n",
              "    </tr>\n",
              "    <tr>\n",
              "      <th>3</th>\n",
              "      <td>2017-09-03 11:03:47</td>\n",
              "      <td>8 Ave &amp; W 16 St</td>\n",
              "      <td>1</td>\n",
              "    </tr>\n",
              "    <tr>\n",
              "      <th>4</th>\n",
              "      <td>2015-03-08 09:23:00</td>\n",
              "      <td>9 Ave &amp; W 14 St</td>\n",
              "      <td>-1</td>\n",
              "    </tr>\n",
              "  </tbody>\n",
              "</table>\n",
              "</div>"
            ],
            "text/plain": [
              "             docktime     station_name  in_out\n",
              "0 2015-08-20 06:53:02  1 Ave & E 30 St      -1\n",
              "1 2017-07-06 21:36:52  1 Ave & E 30 St      -1\n",
              "2 2016-04-01 11:58:42  1 Ave & E 68 St       1\n",
              "3 2017-09-03 11:03:47  8 Ave & W 16 St       1\n",
              "4 2015-03-08 09:23:00  9 Ave & W 14 St      -1"
            ]
          },
          "metadata": {
            "tags": []
          },
          "execution_count": 109
        }
      ]
    },
    {
      "cell_type": "markdown",
      "metadata": {
        "id": "C06_eFCdKTPY"
      },
      "source": [
        "**Check the station table according its availability**"
      ]
    },
    {
      "cell_type": "code",
      "metadata": {
        "colab": {
          "base_uri": "https://localhost:8080/",
          "height": 0
        },
        "id": "ehYm6kcOIpwa",
        "outputId": "b4d89ede-38da-459c-f09d-a285b8f418db"
      },
      "source": [
        "id_name.head(3)"
      ],
      "execution_count": 110,
      "outputs": [
        {
          "output_type": "execute_result",
          "data": {
            "text/html": [
              "<div>\n",
              "<style scoped>\n",
              "    .dataframe tbody tr th:only-of-type {\n",
              "        vertical-align: middle;\n",
              "    }\n",
              "\n",
              "    .dataframe tbody tr th {\n",
              "        vertical-align: top;\n",
              "    }\n",
              "\n",
              "    .dataframe thead th {\n",
              "        text-align: right;\n",
              "    }\n",
              "</style>\n",
              "<table border=\"1\" class=\"dataframe\">\n",
              "  <thead>\n",
              "    <tr style=\"text-align: right;\">\n",
              "      <th></th>\n",
              "      <th>station_id</th>\n",
              "      <th>station_name</th>\n",
              "    </tr>\n",
              "  </thead>\n",
              "  <tbody>\n",
              "    <tr>\n",
              "      <th>0</th>\n",
              "      <td>242</td>\n",
              "      <td>Carlton Ave &amp; Flushing Ave</td>\n",
              "    </tr>\n",
              "    <tr>\n",
              "      <th>1</th>\n",
              "      <td>3238</td>\n",
              "      <td>E 80 St &amp; 2 Ave</td>\n",
              "    </tr>\n",
              "    <tr>\n",
              "      <th>2</th>\n",
              "      <td>168</td>\n",
              "      <td>W 18 St &amp; 6 Ave</td>\n",
              "    </tr>\n",
              "  </tbody>\n",
              "</table>\n",
              "</div>"
            ],
            "text/plain": [
              "   station_id                station_name\n",
              "0         242  Carlton Ave & Flushing Ave\n",
              "1        3238             E 80 St & 2 Ave\n",
              "2         168             W 18 St & 6 Ave"
            ]
          },
          "metadata": {
            "tags": []
          },
          "execution_count": 110
        }
      ]
    },
    {
      "cell_type": "code",
      "metadata": {
        "id": "g8_a7upVBC4j"
      },
      "source": [
        "# getting bjse with its information\n",
        "dummy = pd.merge(bjse, id_name, how='inner', left_on='station_name', right_on='station_name')\n",
        "bjse_info = pd.merge(dummy, stations[['station_id','capacity','num_bikes_available', 'num_docks_available']], how='inner', left_on='station_id', right_on='station_id').drop('station_id', 1)"
      ],
      "execution_count": 111,
      "outputs": []
    },
    {
      "cell_type": "code",
      "metadata": {
        "colab": {
          "base_uri": "https://localhost:8080/",
          "height": 0
        },
        "id": "abeHZuBlL94b",
        "outputId": "a74616c2-4982-4613-fd00-f16b7ac04ba4"
      },
      "source": [
        "bjse_info.head()"
      ],
      "execution_count": 112,
      "outputs": [
        {
          "output_type": "execute_result",
          "data": {
            "text/html": [
              "<div>\n",
              "<style scoped>\n",
              "    .dataframe tbody tr th:only-of-type {\n",
              "        vertical-align: middle;\n",
              "    }\n",
              "\n",
              "    .dataframe tbody tr th {\n",
              "        vertical-align: top;\n",
              "    }\n",
              "\n",
              "    .dataframe thead th {\n",
              "        text-align: right;\n",
              "    }\n",
              "</style>\n",
              "<table border=\"1\" class=\"dataframe\">\n",
              "  <thead>\n",
              "    <tr style=\"text-align: right;\">\n",
              "      <th></th>\n",
              "      <th>docktime</th>\n",
              "      <th>station_name</th>\n",
              "      <th>in_out</th>\n",
              "      <th>capacity</th>\n",
              "      <th>num_bikes_available</th>\n",
              "      <th>num_docks_available</th>\n",
              "    </tr>\n",
              "  </thead>\n",
              "  <tbody>\n",
              "    <tr>\n",
              "      <th>0</th>\n",
              "      <td>2015-08-20 06:53:02</td>\n",
              "      <td>1 Ave &amp; E 30 St</td>\n",
              "      <td>-1</td>\n",
              "      <td>29</td>\n",
              "      <td>21</td>\n",
              "      <td>4</td>\n",
              "    </tr>\n",
              "    <tr>\n",
              "      <th>1</th>\n",
              "      <td>2017-07-06 21:36:52</td>\n",
              "      <td>1 Ave &amp; E 30 St</td>\n",
              "      <td>-1</td>\n",
              "      <td>29</td>\n",
              "      <td>21</td>\n",
              "      <td>4</td>\n",
              "    </tr>\n",
              "    <tr>\n",
              "      <th>2</th>\n",
              "      <td>2016-04-01 11:58:42</td>\n",
              "      <td>1 Ave &amp; E 68 St</td>\n",
              "      <td>1</td>\n",
              "      <td>62</td>\n",
              "      <td>27</td>\n",
              "      <td>34</td>\n",
              "    </tr>\n",
              "    <tr>\n",
              "      <th>3</th>\n",
              "      <td>2015-04-28 17:27:47</td>\n",
              "      <td>9 Ave &amp; W 45 St</td>\n",
              "      <td>1</td>\n",
              "      <td>31</td>\n",
              "      <td>15</td>\n",
              "      <td>14</td>\n",
              "    </tr>\n",
              "    <tr>\n",
              "      <th>4</th>\n",
              "      <td>2016-08-13 20:30:52</td>\n",
              "      <td>Allen St &amp; Hester St</td>\n",
              "      <td>-1</td>\n",
              "      <td>79</td>\n",
              "      <td>30</td>\n",
              "      <td>47</td>\n",
              "    </tr>\n",
              "  </tbody>\n",
              "</table>\n",
              "</div>"
            ],
            "text/plain": [
              "             docktime  ... num_docks_available\n",
              "0 2015-08-20 06:53:02  ...                   4\n",
              "1 2017-07-06 21:36:52  ...                   4\n",
              "2 2016-04-01 11:58:42  ...                  34\n",
              "3 2015-04-28 17:27:47  ...                  14\n",
              "4 2016-08-13 20:30:52  ...                  47\n",
              "\n",
              "[5 rows x 6 columns]"
            ]
          },
          "metadata": {
            "tags": []
          },
          "execution_count": 112
        }
      ]
    },
    {
      "cell_type": "markdown",
      "metadata": {
        "id": "AXSaHwpLes_t"
      },
      "source": [
        "**Set the beginning inventory**"
      ]
    },
    {
      "cell_type": "markdown",
      "metadata": {
        "id": "OXh9nNFhgK9k"
      },
      "source": [
        "Set the num_bikes_availability as the value of beginning inventory"
      ]
    },
    {
      "cell_type": "code",
      "metadata": {
        "id": "YwI2hGT1VFKy"
      },
      "source": [
        "begin_inventory = bjse_info.groupby('station_name').min()['num_bikes_available'].reset_index()"
      ],
      "execution_count": 113,
      "outputs": []
    },
    {
      "cell_type": "code",
      "metadata": {
        "id": "3qGzBLxRWvqX"
      },
      "source": [
        "begin_inventory['docktime'] = pd.Timestamp('2010-01-01T12')\n",
        "begin_inventory = begin_inventory[['docktime', 'station_name', 'num_bikes_available']]\n",
        "begin_inventory.rename(columns={'num_bikes_available': 'in_out'}, inplace=True)"
      ],
      "execution_count": 114,
      "outputs": []
    },
    {
      "cell_type": "code",
      "metadata": {
        "id": "gOdof0jhXWRg"
      },
      "source": [
        "new_bjse = pd.concat([bjse, begin_inventory], axis=0).sort_values(by=['station_name', 'docktime']).reset_index(drop=True)"
      ],
      "execution_count": 115,
      "outputs": []
    },
    {
      "cell_type": "code",
      "metadata": {
        "colab": {
          "base_uri": "https://localhost:8080/",
          "height": 0
        },
        "id": "IJjSWFYKVFb8",
        "outputId": "783ef610-bd4b-4263-bd46-ac642b0b649d"
      },
      "source": [
        "new_bjse.head()"
      ],
      "execution_count": 116,
      "outputs": [
        {
          "output_type": "execute_result",
          "data": {
            "text/html": [
              "<div>\n",
              "<style scoped>\n",
              "    .dataframe tbody tr th:only-of-type {\n",
              "        vertical-align: middle;\n",
              "    }\n",
              "\n",
              "    .dataframe tbody tr th {\n",
              "        vertical-align: top;\n",
              "    }\n",
              "\n",
              "    .dataframe thead th {\n",
              "        text-align: right;\n",
              "    }\n",
              "</style>\n",
              "<table border=\"1\" class=\"dataframe\">\n",
              "  <thead>\n",
              "    <tr style=\"text-align: right;\">\n",
              "      <th></th>\n",
              "      <th>docktime</th>\n",
              "      <th>station_name</th>\n",
              "      <th>in_out</th>\n",
              "    </tr>\n",
              "  </thead>\n",
              "  <tbody>\n",
              "    <tr>\n",
              "      <th>0</th>\n",
              "      <td>2010-01-01 12:00:00</td>\n",
              "      <td>1 Ave &amp; E 30 St</td>\n",
              "      <td>21</td>\n",
              "    </tr>\n",
              "    <tr>\n",
              "      <th>1</th>\n",
              "      <td>2015-08-20 06:53:02</td>\n",
              "      <td>1 Ave &amp; E 30 St</td>\n",
              "      <td>-1</td>\n",
              "    </tr>\n",
              "    <tr>\n",
              "      <th>2</th>\n",
              "      <td>2017-07-06 21:36:52</td>\n",
              "      <td>1 Ave &amp; E 30 St</td>\n",
              "      <td>-1</td>\n",
              "    </tr>\n",
              "    <tr>\n",
              "      <th>3</th>\n",
              "      <td>2010-01-01 12:00:00</td>\n",
              "      <td>1 Ave &amp; E 68 St</td>\n",
              "      <td>27</td>\n",
              "    </tr>\n",
              "    <tr>\n",
              "      <th>4</th>\n",
              "      <td>2016-04-01 11:58:42</td>\n",
              "      <td>1 Ave &amp; E 68 St</td>\n",
              "      <td>1</td>\n",
              "    </tr>\n",
              "  </tbody>\n",
              "</table>\n",
              "</div>"
            ],
            "text/plain": [
              "             docktime     station_name  in_out\n",
              "0 2010-01-01 12:00:00  1 Ave & E 30 St      21\n",
              "1 2015-08-20 06:53:02  1 Ave & E 30 St      -1\n",
              "2 2017-07-06 21:36:52  1 Ave & E 30 St      -1\n",
              "3 2010-01-01 12:00:00  1 Ave & E 68 St      27\n",
              "4 2016-04-01 11:58:42  1 Ave & E 68 St       1"
            ]
          },
          "metadata": {
            "tags": []
          },
          "execution_count": 116
        }
      ]
    },
    {
      "cell_type": "markdown",
      "metadata": {
        "id": "EJweOYE5fgfc"
      },
      "source": [
        "**Calculate the flow**"
      ]
    },
    {
      "cell_type": "code",
      "metadata": {
        "id": "ejW5dYC2BCmz"
      },
      "source": [
        "new_bjse[\"cum_flow\"]=new_bjse.groupby(['station_name'])['in_out'].cumsum(axis=0)"
      ],
      "execution_count": 117,
      "outputs": []
    },
    {
      "cell_type": "code",
      "metadata": {
        "id": "WTC_r1zGFSyu"
      },
      "source": [
        "new_bjse['date'] = pd.to_datetime(new_bjse['docktime']).dt.date"
      ],
      "execution_count": 118,
      "outputs": []
    },
    {
      "cell_type": "code",
      "metadata": {
        "colab": {
          "base_uri": "https://localhost:8080/",
          "height": 0
        },
        "id": "3k4QrTB5QNve",
        "outputId": "1526d2d4-9a7b-4979-a3fa-5fa4b56c3933"
      },
      "source": [
        "new_bjse.head()"
      ],
      "execution_count": 119,
      "outputs": [
        {
          "output_type": "execute_result",
          "data": {
            "text/html": [
              "<div>\n",
              "<style scoped>\n",
              "    .dataframe tbody tr th:only-of-type {\n",
              "        vertical-align: middle;\n",
              "    }\n",
              "\n",
              "    .dataframe tbody tr th {\n",
              "        vertical-align: top;\n",
              "    }\n",
              "\n",
              "    .dataframe thead th {\n",
              "        text-align: right;\n",
              "    }\n",
              "</style>\n",
              "<table border=\"1\" class=\"dataframe\">\n",
              "  <thead>\n",
              "    <tr style=\"text-align: right;\">\n",
              "      <th></th>\n",
              "      <th>docktime</th>\n",
              "      <th>station_name</th>\n",
              "      <th>in_out</th>\n",
              "      <th>cum_flow</th>\n",
              "      <th>date</th>\n",
              "    </tr>\n",
              "  </thead>\n",
              "  <tbody>\n",
              "    <tr>\n",
              "      <th>0</th>\n",
              "      <td>2010-01-01 12:00:00</td>\n",
              "      <td>1 Ave &amp; E 30 St</td>\n",
              "      <td>21</td>\n",
              "      <td>21</td>\n",
              "      <td>2010-01-01</td>\n",
              "    </tr>\n",
              "    <tr>\n",
              "      <th>1</th>\n",
              "      <td>2015-08-20 06:53:02</td>\n",
              "      <td>1 Ave &amp; E 30 St</td>\n",
              "      <td>-1</td>\n",
              "      <td>20</td>\n",
              "      <td>2015-08-20</td>\n",
              "    </tr>\n",
              "    <tr>\n",
              "      <th>2</th>\n",
              "      <td>2017-07-06 21:36:52</td>\n",
              "      <td>1 Ave &amp; E 30 St</td>\n",
              "      <td>-1</td>\n",
              "      <td>19</td>\n",
              "      <td>2017-07-06</td>\n",
              "    </tr>\n",
              "    <tr>\n",
              "      <th>3</th>\n",
              "      <td>2010-01-01 12:00:00</td>\n",
              "      <td>1 Ave &amp; E 68 St</td>\n",
              "      <td>27</td>\n",
              "      <td>27</td>\n",
              "      <td>2010-01-01</td>\n",
              "    </tr>\n",
              "    <tr>\n",
              "      <th>4</th>\n",
              "      <td>2016-04-01 11:58:42</td>\n",
              "      <td>1 Ave &amp; E 68 St</td>\n",
              "      <td>1</td>\n",
              "      <td>28</td>\n",
              "      <td>2016-04-01</td>\n",
              "    </tr>\n",
              "  </tbody>\n",
              "</table>\n",
              "</div>"
            ],
            "text/plain": [
              "             docktime     station_name  in_out  cum_flow        date\n",
              "0 2010-01-01 12:00:00  1 Ave & E 30 St      21        21  2010-01-01\n",
              "1 2015-08-20 06:53:02  1 Ave & E 30 St      -1        20  2015-08-20\n",
              "2 2017-07-06 21:36:52  1 Ave & E 30 St      -1        19  2017-07-06\n",
              "3 2010-01-01 12:00:00  1 Ave & E 68 St      27        27  2010-01-01\n",
              "4 2016-04-01 11:58:42  1 Ave & E 68 St       1        28  2016-04-01"
            ]
          },
          "metadata": {
            "tags": []
          },
          "execution_count": 119
        }
      ]
    },
    {
      "cell_type": "markdown",
      "metadata": {
        "id": "DCHNevVyy8RT"
      },
      "source": [
        "### Checking Status"
      ]
    },
    {
      "cell_type": "code",
      "metadata": {
        "id": "2aQG2RTXGQ9s"
      },
      "source": [
        "# daily update\n",
        "bjse_status_in_day = new_bjse.groupby(['station_name', 'date']).last().reset_index().drop(['docktime', 'in_out'], axis=1)"
      ],
      "execution_count": 120,
      "outputs": []
    },
    {
      "cell_type": "code",
      "metadata": {
        "id": "SMVbYV2Hwe8A"
      },
      "source": [
        "# Put the capacity daily info\n",
        "z = bjse_info[['station_name','capacity']].drop_duplicates()\n",
        "new2_bjse= pd.merge(bjse_status_in_day, z, how='inner', left_on='station_name', right_on='station_name')"
      ],
      "execution_count": 121,
      "outputs": []
    },
    {
      "cell_type": "code",
      "metadata": {
        "id": "JYhX_Wr60j4M"
      },
      "source": [
        "new2_bjse.loc[(new2_bjse['cum_flow'] < 0), 'inventory'] = 'SHORTAGE'\n",
        "new2_bjse.loc[(new2_bjse['cum_flow'] == 0), 'inventory'] = 'BALANCE'\n",
        "new2_bjse.loc[(new2_bjse['cum_flow'] > 0), 'inventory'] = 'SUPRLUS'\n",
        "new2_bjse.loc[(new2_bjse['cum_flow'] <= new2_bjse['capacity']), 'load'] = 'UNDER'\n",
        "new2_bjse.loc[(new2_bjse['cum_flow'] > new2_bjse['capacity']), 'load'] = 'OVER'  "
      ],
      "execution_count": 122,
      "outputs": []
    },
    {
      "cell_type": "code",
      "metadata": {
        "id": "VxgrY9yigetj"
      },
      "source": [
        "new2_bjse['year'] = pd.DatetimeIndex(new2_bjse['date']).year"
      ],
      "execution_count": 123,
      "outputs": []
    },
    {
      "cell_type": "code",
      "metadata": {
        "id": "_6f4a70QEhq5"
      },
      "source": [
        "new2_bjse[\"status_name\"] = new2_bjse[\"inventory\"].astype(str) + \" - \" + new2_bjse[\"load\"].astype(str)"
      ],
      "execution_count": 124,
      "outputs": []
    },
    {
      "cell_type": "code",
      "metadata": {
        "id": "lAYEUHa_67P4"
      },
      "source": [
        "# count frequency of condition in a year\n",
        "bjse_status_in_year = new2_bjse.groupby(['station_name','year','status_name']).count()['capacity'].reset_index(name='status_count')"
      ],
      "execution_count": 125,
      "outputs": []
    },
    {
      "cell_type": "code",
      "metadata": {
        "id": "5sTajiSS67Yg"
      },
      "source": [
        "bjse_status_in_year.drop(bjse_status_in_year[bjse_status_in_year['year'] == 2010].index, inplace = True)"
      ],
      "execution_count": 126,
      "outputs": []
    },
    {
      "cell_type": "code",
      "metadata": {
        "colab": {
          "base_uri": "https://localhost:8080/",
          "height": 0
        },
        "id": "v8bz9t-yDof7",
        "outputId": "6de4b811-7d6a-4742-cf55-9c997982ff6a"
      },
      "source": [
        "bjse_status_in_year.head()"
      ],
      "execution_count": 127,
      "outputs": [
        {
          "output_type": "execute_result",
          "data": {
            "text/html": [
              "<div>\n",
              "<style scoped>\n",
              "    .dataframe tbody tr th:only-of-type {\n",
              "        vertical-align: middle;\n",
              "    }\n",
              "\n",
              "    .dataframe tbody tr th {\n",
              "        vertical-align: top;\n",
              "    }\n",
              "\n",
              "    .dataframe thead th {\n",
              "        text-align: right;\n",
              "    }\n",
              "</style>\n",
              "<table border=\"1\" class=\"dataframe\">\n",
              "  <thead>\n",
              "    <tr style=\"text-align: right;\">\n",
              "      <th></th>\n",
              "      <th>station_name</th>\n",
              "      <th>year</th>\n",
              "      <th>status_name</th>\n",
              "      <th>status_count</th>\n",
              "    </tr>\n",
              "  </thead>\n",
              "  <tbody>\n",
              "    <tr>\n",
              "      <th>1</th>\n",
              "      <td>1 Ave &amp; E 30 St</td>\n",
              "      <td>2015</td>\n",
              "      <td>SUPRLUS - UNDER</td>\n",
              "      <td>1</td>\n",
              "    </tr>\n",
              "    <tr>\n",
              "      <th>2</th>\n",
              "      <td>1 Ave &amp; E 30 St</td>\n",
              "      <td>2017</td>\n",
              "      <td>SUPRLUS - UNDER</td>\n",
              "      <td>1</td>\n",
              "    </tr>\n",
              "    <tr>\n",
              "      <th>4</th>\n",
              "      <td>1 Ave &amp; E 68 St</td>\n",
              "      <td>2016</td>\n",
              "      <td>SUPRLUS - UNDER</td>\n",
              "      <td>1</td>\n",
              "    </tr>\n",
              "    <tr>\n",
              "      <th>6</th>\n",
              "      <td>9 Ave &amp; W 45 St</td>\n",
              "      <td>2015</td>\n",
              "      <td>SUPRLUS - UNDER</td>\n",
              "      <td>1</td>\n",
              "    </tr>\n",
              "    <tr>\n",
              "      <th>8</th>\n",
              "      <td>Allen St &amp; Hester St</td>\n",
              "      <td>2016</td>\n",
              "      <td>SUPRLUS - UNDER</td>\n",
              "      <td>1</td>\n",
              "    </tr>\n",
              "  </tbody>\n",
              "</table>\n",
              "</div>"
            ],
            "text/plain": [
              "           station_name  year      status_name  status_count\n",
              "1       1 Ave & E 30 St  2015  SUPRLUS - UNDER             1\n",
              "2       1 Ave & E 30 St  2017  SUPRLUS - UNDER             1\n",
              "4       1 Ave & E 68 St  2016  SUPRLUS - UNDER             1\n",
              "6       9 Ave & W 45 St  2015  SUPRLUS - UNDER             1\n",
              "8  Allen St & Hester St  2016  SUPRLUS - UNDER             1"
            ]
          },
          "metadata": {
            "tags": []
          },
          "execution_count": 127
        }
      ]
    },
    {
      "cell_type": "code",
      "metadata": {
        "id": "btAYTmrZBCp1",
        "colab": {
          "base_uri": "https://localhost:8080/",
          "height": 0
        },
        "outputId": "8cb78ae2-0a12-4e81-e2db-4dc4d4d15702"
      },
      "source": [
        "sum_distrib = pd.pivot_table(bjse_status_in_year,index=['station_name','year'],columns=['status_name'],values=['status_count'],aggfunc=np.sum).fillna(0)\n",
        "sum_distrib = pd.DataFrame(sum_distrib.to_records())\n",
        "sum_distrib.head(2)"
      ],
      "execution_count": 128,
      "outputs": [
        {
          "output_type": "execute_result",
          "data": {
            "text/html": [
              "<div>\n",
              "<style scoped>\n",
              "    .dataframe tbody tr th:only-of-type {\n",
              "        vertical-align: middle;\n",
              "    }\n",
              "\n",
              "    .dataframe tbody tr th {\n",
              "        vertical-align: top;\n",
              "    }\n",
              "\n",
              "    .dataframe thead th {\n",
              "        text-align: right;\n",
              "    }\n",
              "</style>\n",
              "<table border=\"1\" class=\"dataframe\">\n",
              "  <thead>\n",
              "    <tr style=\"text-align: right;\">\n",
              "      <th></th>\n",
              "      <th>station_name</th>\n",
              "      <th>year</th>\n",
              "      <th>('status_count', 'SHORTAGE - UNDER')</th>\n",
              "      <th>('status_count', 'SUPRLUS - OVER')</th>\n",
              "      <th>('status_count', 'SUPRLUS - UNDER')</th>\n",
              "    </tr>\n",
              "  </thead>\n",
              "  <tbody>\n",
              "    <tr>\n",
              "      <th>0</th>\n",
              "      <td>1 Ave &amp; E 30 St</td>\n",
              "      <td>2015</td>\n",
              "      <td>0.0</td>\n",
              "      <td>0.0</td>\n",
              "      <td>1.0</td>\n",
              "    </tr>\n",
              "    <tr>\n",
              "      <th>1</th>\n",
              "      <td>1 Ave &amp; E 30 St</td>\n",
              "      <td>2017</td>\n",
              "      <td>0.0</td>\n",
              "      <td>0.0</td>\n",
              "      <td>1.0</td>\n",
              "    </tr>\n",
              "  </tbody>\n",
              "</table>\n",
              "</div>"
            ],
            "text/plain": [
              "      station_name  ...  ('status_count', 'SUPRLUS - UNDER')\n",
              "0  1 Ave & E 30 St  ...                                  1.0\n",
              "1  1 Ave & E 30 St  ...                                  1.0\n",
              "\n",
              "[2 rows x 5 columns]"
            ]
          },
          "metadata": {
            "tags": []
          },
          "execution_count": 128
        }
      ]
    },
    {
      "cell_type": "code",
      "metadata": {
        "id": "Osj36JbZfTMB"
      },
      "source": [
        "sum_distrib.columns = ['station_name', 'year', 'BALANCE-UNDER', 'SURPLUS-OVER', 'SURPLUS-UNDER']"
      ],
      "execution_count": 129,
      "outputs": []
    },
    {
      "cell_type": "code",
      "metadata": {
        "colab": {
          "base_uri": "https://localhost:8080/",
          "height": 0
        },
        "id": "GshlxsoZeNcJ",
        "outputId": "e24bb1a8-c125-47c7-c8e0-a86fb11f47e9"
      },
      "source": [
        "# summary distribution status per year\n",
        "sum_distrib_per_year=sum_distrib.groupby(['year']).agg({'BALANCE-UNDER':'sum','SURPLUS-OVER':'sum','SURPLUS-UNDER':'sum'}).reset_index()\n",
        "sum_distrib_per_year"
      ],
      "execution_count": 130,
      "outputs": [
        {
          "output_type": "execute_result",
          "data": {
            "text/html": [
              "<div>\n",
              "<style scoped>\n",
              "    .dataframe tbody tr th:only-of-type {\n",
              "        vertical-align: middle;\n",
              "    }\n",
              "\n",
              "    .dataframe tbody tr th {\n",
              "        vertical-align: top;\n",
              "    }\n",
              "\n",
              "    .dataframe thead th {\n",
              "        text-align: right;\n",
              "    }\n",
              "</style>\n",
              "<table border=\"1\" class=\"dataframe\">\n",
              "  <thead>\n",
              "    <tr style=\"text-align: right;\">\n",
              "      <th></th>\n",
              "      <th>year</th>\n",
              "      <th>BALANCE-UNDER</th>\n",
              "      <th>SURPLUS-OVER</th>\n",
              "      <th>SURPLUS-UNDER</th>\n",
              "    </tr>\n",
              "  </thead>\n",
              "  <tbody>\n",
              "    <tr>\n",
              "      <th>0</th>\n",
              "      <td>2015</td>\n",
              "      <td>4.0</td>\n",
              "      <td>1.0</td>\n",
              "      <td>26.0</td>\n",
              "    </tr>\n",
              "    <tr>\n",
              "      <th>1</th>\n",
              "      <td>2016</td>\n",
              "      <td>0.0</td>\n",
              "      <td>0.0</td>\n",
              "      <td>15.0</td>\n",
              "    </tr>\n",
              "    <tr>\n",
              "      <th>2</th>\n",
              "      <td>2017</td>\n",
              "      <td>0.0</td>\n",
              "      <td>1.0</td>\n",
              "      <td>17.0</td>\n",
              "    </tr>\n",
              "  </tbody>\n",
              "</table>\n",
              "</div>"
            ],
            "text/plain": [
              "   year  BALANCE-UNDER  SURPLUS-OVER  SURPLUS-UNDER\n",
              "0  2015            4.0           1.0           26.0\n",
              "1  2016            0.0           0.0           15.0\n",
              "2  2017            0.0           1.0           17.0"
            ]
          },
          "metadata": {
            "tags": []
          },
          "execution_count": 130
        }
      ]
    },
    {
      "cell_type": "code",
      "metadata": {
        "colab": {
          "base_uri": "https://localhost:8080/",
          "height": 0
        },
        "id": "6r1VxvdzuEUV",
        "outputId": "6671d5db-6bca-4463-a219-388070cf462f"
      },
      "source": [
        "bjse_status_in_year_visual = bjse_status_in_year.groupby(['year','status_name']).sum()['status_count'].reset_index()\n",
        "bjse_status_in_year_visual.head()"
      ],
      "execution_count": 131,
      "outputs": [
        {
          "output_type": "execute_result",
          "data": {
            "text/html": [
              "<div>\n",
              "<style scoped>\n",
              "    .dataframe tbody tr th:only-of-type {\n",
              "        vertical-align: middle;\n",
              "    }\n",
              "\n",
              "    .dataframe tbody tr th {\n",
              "        vertical-align: top;\n",
              "    }\n",
              "\n",
              "    .dataframe thead th {\n",
              "        text-align: right;\n",
              "    }\n",
              "</style>\n",
              "<table border=\"1\" class=\"dataframe\">\n",
              "  <thead>\n",
              "    <tr style=\"text-align: right;\">\n",
              "      <th></th>\n",
              "      <th>year</th>\n",
              "      <th>status_name</th>\n",
              "      <th>status_count</th>\n",
              "    </tr>\n",
              "  </thead>\n",
              "  <tbody>\n",
              "    <tr>\n",
              "      <th>0</th>\n",
              "      <td>2015</td>\n",
              "      <td>SHORTAGE - UNDER</td>\n",
              "      <td>4</td>\n",
              "    </tr>\n",
              "    <tr>\n",
              "      <th>1</th>\n",
              "      <td>2015</td>\n",
              "      <td>SUPRLUS - OVER</td>\n",
              "      <td>1</td>\n",
              "    </tr>\n",
              "    <tr>\n",
              "      <th>2</th>\n",
              "      <td>2015</td>\n",
              "      <td>SUPRLUS - UNDER</td>\n",
              "      <td>26</td>\n",
              "    </tr>\n",
              "    <tr>\n",
              "      <th>3</th>\n",
              "      <td>2016</td>\n",
              "      <td>SUPRLUS - UNDER</td>\n",
              "      <td>15</td>\n",
              "    </tr>\n",
              "    <tr>\n",
              "      <th>4</th>\n",
              "      <td>2017</td>\n",
              "      <td>SUPRLUS - OVER</td>\n",
              "      <td>1</td>\n",
              "    </tr>\n",
              "  </tbody>\n",
              "</table>\n",
              "</div>"
            ],
            "text/plain": [
              "   year       status_name  status_count\n",
              "0  2015  SHORTAGE - UNDER             4\n",
              "1  2015    SUPRLUS - OVER             1\n",
              "2  2015   SUPRLUS - UNDER            26\n",
              "3  2016   SUPRLUS - UNDER            15\n",
              "4  2017    SUPRLUS - OVER             1"
            ]
          },
          "metadata": {
            "tags": []
          },
          "execution_count": 131
        }
      ]
    },
    {
      "cell_type": "code",
      "metadata": {
        "colab": {
          "base_uri": "https://localhost:8080/",
          "height": 0
        },
        "id": "IzA1_Ffhs9aW",
        "outputId": "36a6dad5-a7b4-4f5d-8366-a9f88e452f51"
      },
      "source": [
        "g = sns.catplot(\n",
        "    data=bjse_status_in_year_visual, kind=\"bar\",\n",
        "    x=\"status_name\", y=\"status_count\", hue=\"year\",\n",
        "    ci=\"sd\", palette=\"dark\", alpha=.6, height=6\n",
        "    )\n",
        "g.despine(left=True)\n",
        "g.set_axis_labels(\"\", \"Frequency\")\n",
        "g.legend.set_title(\"\")\n",
        "plt.title(\"Distribution Condition\")\n",
        "plt.xticks(rotation=45)\n",
        "plt.show()"
      ],
      "execution_count": 132,
      "outputs": [
        {
          "output_type": "display_data",
          "data": {
            "image/png": "[encoded data removed]",
            "text/plain": [
              "<Figure size 493.375x432 with 1 Axes>"
            ]
          },
          "metadata": {
            "tags": []
          }
        }
      ]
    },
    {
      "cell_type": "code",
      "metadata": {
        "id": "WdmsqUiT22kR"
      },
      "source": [
        "# summary distribution status per station in 2017\n",
        "new2_bjse_xyear = new2_bjse[new2_bjse['year']==2017]\n",
        "new2_bjse_xyear = new2_bjse_xyear.groupby(['station_name']).agg({'cum_flow':'mean','capacity':'mean'}).reset_index()"
      ],
      "execution_count": 133,
      "outputs": []
    },
    {
      "cell_type": "code",
      "metadata": {
        "colab": {
          "base_uri": "https://localhost:8080/",
          "height": 0
        },
        "id": "Ii5-emhs4eLI",
        "outputId": "d2b30771-b22a-4ca3-f88a-fbf7db645e7d"
      },
      "source": [
        "new2_bjse_xyear.loc[(new2_bjse_xyear['cum_flow'] == 0) & (new2_bjse_xyear['cum_flow'] <= new2_bjse_xyear['capacity']), 'condition'] = 'BALANCE-UNDER'\n",
        "new2_bjse_xyear.loc[(new2_bjse_xyear['cum_flow'] < 0) & (new2_bjse_xyear['cum_flow'] <= new2_bjse_xyear['capacity']), 'condition'] = 'SHORTAGE-UNDER'\n",
        "new2_bjse_xyear.loc[(new2_bjse_xyear['cum_flow'] > 0) & (new2_bjse_xyear['cum_flow'] > new2_bjse_xyear['capacity']), 'condition'] = 'SURPLUS-OVER'\n",
        "new2_bjse_xyear.loc[(new2_bjse_xyear['cum_flow'] > 0) & (new2_bjse_xyear['cum_flow'] <= new2_bjse_xyear['capacity']), 'condition'] = 'SURPLUS-UNDER'\n",
        "new2_bjse_xyear.head()"
      ],
      "execution_count": 134,
      "outputs": [
        {
          "output_type": "execute_result",
          "data": {
            "text/html": [
              "<div>\n",
              "<style scoped>\n",
              "    .dataframe tbody tr th:only-of-type {\n",
              "        vertical-align: middle;\n",
              "    }\n",
              "\n",
              "    .dataframe tbody tr th {\n",
              "        vertical-align: top;\n",
              "    }\n",
              "\n",
              "    .dataframe thead th {\n",
              "        text-align: right;\n",
              "    }\n",
              "</style>\n",
              "<table border=\"1\" class=\"dataframe\">\n",
              "  <thead>\n",
              "    <tr style=\"text-align: right;\">\n",
              "      <th></th>\n",
              "      <th>station_name</th>\n",
              "      <th>cum_flow</th>\n",
              "      <th>capacity</th>\n",
              "      <th>condition</th>\n",
              "    </tr>\n",
              "  </thead>\n",
              "  <tbody>\n",
              "    <tr>\n",
              "      <th>0</th>\n",
              "      <td>1 Ave &amp; E 30 St</td>\n",
              "      <td>19</td>\n",
              "      <td>29</td>\n",
              "      <td>SURPLUS-UNDER</td>\n",
              "    </tr>\n",
              "    <tr>\n",
              "      <th>1</th>\n",
              "      <td>Allen St &amp; Rivington St</td>\n",
              "      <td>29</td>\n",
              "      <td>42</td>\n",
              "      <td>SURPLUS-UNDER</td>\n",
              "    </tr>\n",
              "    <tr>\n",
              "      <th>2</th>\n",
              "      <td>Bond St &amp; Fulton St</td>\n",
              "      <td>40</td>\n",
              "      <td>47</td>\n",
              "      <td>SURPLUS-UNDER</td>\n",
              "    </tr>\n",
              "    <tr>\n",
              "      <th>3</th>\n",
              "      <td>Broadway &amp; E 22 St</td>\n",
              "      <td>2</td>\n",
              "      <td>0</td>\n",
              "      <td>SURPLUS-OVER</td>\n",
              "    </tr>\n",
              "    <tr>\n",
              "      <th>4</th>\n",
              "      <td>E 10 St &amp; Avenue A</td>\n",
              "      <td>33</td>\n",
              "      <td>81</td>\n",
              "      <td>SURPLUS-UNDER</td>\n",
              "    </tr>\n",
              "  </tbody>\n",
              "</table>\n",
              "</div>"
            ],
            "text/plain": [
              "              station_name  cum_flow  capacity      condition\n",
              "0          1 Ave & E 30 St        19        29  SURPLUS-UNDER\n",
              "1  Allen St & Rivington St        29        42  SURPLUS-UNDER\n",
              "2      Bond St & Fulton St        40        47  SURPLUS-UNDER\n",
              "3       Broadway & E 22 St         2         0   SURPLUS-OVER\n",
              "4       E 10 St & Avenue A        33        81  SURPLUS-UNDER"
            ]
          },
          "metadata": {
            "tags": []
          },
          "execution_count": 134
        }
      ]
    },
    {
      "cell_type": "code",
      "metadata": {
        "id": "TcVYo0x8mrrA"
      },
      "source": [
        "balance_under = new2_bjse_xyear[new2_bjse_xyear['condition']=='BALANCE-UNDER'].sort_values(by=['cum_flow'], ascending=False)\n",
        "shortage_under = new2_bjse_xyear[new2_bjse_xyear['condition']=='SHORTAGE-UNDER'].sort_values(by=['cum_flow'], ascending=True)\n",
        "surplus_over = new2_bjse_xyear[new2_bjse_xyear['condition']=='SURPLUS-OVER'].sort_values(by=['cum_flow'], ascending=False)\n",
        "surplus_under = new2_bjse_xyear[new2_bjse_xyear['condition']=='SURPLUS-UNDER'].sort_values(by=['cum_flow'], ascending=False)"
      ],
      "execution_count": 135,
      "outputs": []
    },
    {
      "cell_type": "code",
      "metadata": {
        "colab": {
          "base_uri": "https://localhost:8080/"
        },
        "id": "3O_DNP2Z8mPh",
        "outputId": "0b1ef725-ce89-47a3-9754-af50a6ebe3d9"
      },
      "source": [
        "print(len(surplus_under))\n",
        "print(len(surplus_over))"
      ],
      "execution_count": 136,
      "outputs": [
        {
          "output_type": "stream",
          "text": [
            "17\n",
            "1\n"
          ],
          "name": "stdout"
        }
      ]
    },
    {
      "cell_type": "code",
      "metadata": {
        "colab": {
          "base_uri": "https://localhost:8080/",
          "height": 0
        },
        "id": "cVZDgttS94BA",
        "outputId": "820f9164-c556-4d37-8831-8c3a2a97b804"
      },
      "source": [
        "surplus_under.loc[\"Total\", \"cum_flow\"] = surplus_under.cum_flow.sum()\n",
        "surplus_under.tail(1)"
      ],
      "execution_count": 137,
      "outputs": [
        {
          "output_type": "execute_result",
          "data": {
            "text/html": [
              "<div>\n",
              "<style scoped>\n",
              "    .dataframe tbody tr th:only-of-type {\n",
              "        vertical-align: middle;\n",
              "    }\n",
              "\n",
              "    .dataframe tbody tr th {\n",
              "        vertical-align: top;\n",
              "    }\n",
              "\n",
              "    .dataframe thead th {\n",
              "        text-align: right;\n",
              "    }\n",
              "</style>\n",
              "<table border=\"1\" class=\"dataframe\">\n",
              "  <thead>\n",
              "    <tr style=\"text-align: right;\">\n",
              "      <th></th>\n",
              "      <th>station_name</th>\n",
              "      <th>cum_flow</th>\n",
              "      <th>capacity</th>\n",
              "      <th>condition</th>\n",
              "    </tr>\n",
              "  </thead>\n",
              "  <tbody>\n",
              "    <tr>\n",
              "      <th>Total</th>\n",
              "      <td>NaN</td>\n",
              "      <td>518.0</td>\n",
              "      <td>NaN</td>\n",
              "      <td>NaN</td>\n",
              "    </tr>\n",
              "  </tbody>\n",
              "</table>\n",
              "</div>"
            ],
            "text/plain": [
              "      station_name  cum_flow  capacity condition\n",
              "Total          NaN     518.0       NaN       NaN"
            ]
          },
          "metadata": {
            "tags": []
          },
          "execution_count": 137
        }
      ]
    },
    {
      "cell_type": "code",
      "metadata": {
        "colab": {
          "base_uri": "https://localhost:8080/",
          "height": 0
        },
        "id": "gPhXShMI_uyo",
        "outputId": "076997e0-fe7a-46b5-f50c-302607dd34e5"
      },
      "source": [
        "surplus_over.loc[\"Total\", \"cum_flow\"] = surplus_over.cum_flow.sum()\n",
        "surplus_over.tail(1)"
      ],
      "execution_count": 138,
      "outputs": [
        {
          "output_type": "execute_result",
          "data": {
            "text/html": [
              "<div>\n",
              "<style scoped>\n",
              "    .dataframe tbody tr th:only-of-type {\n",
              "        vertical-align: middle;\n",
              "    }\n",
              "\n",
              "    .dataframe tbody tr th {\n",
              "        vertical-align: top;\n",
              "    }\n",
              "\n",
              "    .dataframe thead th {\n",
              "        text-align: right;\n",
              "    }\n",
              "</style>\n",
              "<table border=\"1\" class=\"dataframe\">\n",
              "  <thead>\n",
              "    <tr style=\"text-align: right;\">\n",
              "      <th></th>\n",
              "      <th>station_name</th>\n",
              "      <th>cum_flow</th>\n",
              "      <th>capacity</th>\n",
              "      <th>condition</th>\n",
              "    </tr>\n",
              "  </thead>\n",
              "  <tbody>\n",
              "    <tr>\n",
              "      <th>Total</th>\n",
              "      <td>NaN</td>\n",
              "      <td>2.0</td>\n",
              "      <td>NaN</td>\n",
              "      <td>NaN</td>\n",
              "    </tr>\n",
              "  </tbody>\n",
              "</table>\n",
              "</div>"
            ],
            "text/plain": [
              "      station_name  cum_flow  capacity condition\n",
              "Total          NaN       2.0       NaN       NaN"
            ]
          },
          "metadata": {
            "tags": []
          },
          "execution_count": 138
        }
      ]
    },
    {
      "cell_type": "markdown",
      "metadata": {
        "id": "xzZvBBFC8zbH"
      },
      "source": [
        "It is still possible to distribute from surplus_over to shortage_under"
      ]
    },
    {
      "cell_type": "code",
      "metadata": {
        "id": "rtAesVtX9AA8"
      },
      "source": [
        "q_surplus_under = surplus_under.quantile([.1, .25, .5, .75], axis = 0)\n",
        "q2_surplus_under = q_surplus_under.iloc[1,0]\n",
        "q3_surplus_under = q_surplus_under.iloc[2,0]"
      ],
      "execution_count": 139,
      "outputs": []
    },
    {
      "cell_type": "code",
      "metadata": {
        "id": "ppdBeT6F9AA9"
      },
      "source": [
        "def f(row):\n",
        "    if row['cum_flow'] < q2_surplus_under:\n",
        "        val = 'low'\n",
        "    elif row['cum_flow'] > q3_surplus_under:\n",
        "        val = 'high'\n",
        "    else:\n",
        "        val = 'medium'\n",
        "    return val\n",
        "\n",
        "surplus_under['priority'] = surplus_under.apply(f, axis=1)"
      ],
      "execution_count": 140,
      "outputs": []
    },
    {
      "cell_type": "code",
      "metadata": {
        "colab": {
          "base_uri": "https://localhost:8080/",
          "height": 0
        },
        "id": "RF3T1-m48bz0",
        "outputId": "c87015e6-45b2-4693-fe58-b05c72527a53"
      },
      "source": [
        "surplus_under.head()"
      ],
      "execution_count": 141,
      "outputs": [
        {
          "output_type": "execute_result",
          "data": {
            "text/html": [
              "<div>\n",
              "<style scoped>\n",
              "    .dataframe tbody tr th:only-of-type {\n",
              "        vertical-align: middle;\n",
              "    }\n",
              "\n",
              "    .dataframe tbody tr th {\n",
              "        vertical-align: top;\n",
              "    }\n",
              "\n",
              "    .dataframe thead th {\n",
              "        text-align: right;\n",
              "    }\n",
              "</style>\n",
              "<table border=\"1\" class=\"dataframe\">\n",
              "  <thead>\n",
              "    <tr style=\"text-align: right;\">\n",
              "      <th></th>\n",
              "      <th>station_name</th>\n",
              "      <th>cum_flow</th>\n",
              "      <th>capacity</th>\n",
              "      <th>condition</th>\n",
              "      <th>priority</th>\n",
              "    </tr>\n",
              "  </thead>\n",
              "  <tbody>\n",
              "    <tr>\n",
              "      <th>16</th>\n",
              "      <td>W 41 St &amp; 8 Ave</td>\n",
              "      <td>65.0</td>\n",
              "      <td>71.0</td>\n",
              "      <td>SURPLUS-UNDER</td>\n",
              "      <td>high</td>\n",
              "    </tr>\n",
              "    <tr>\n",
              "      <th>17</th>\n",
              "      <td>W 43 St &amp; 10 Ave</td>\n",
              "      <td>52.0</td>\n",
              "      <td>79.0</td>\n",
              "      <td>SURPLUS-UNDER</td>\n",
              "      <td>high</td>\n",
              "    </tr>\n",
              "    <tr>\n",
              "      <th>14</th>\n",
              "      <td>Schermerhorn St &amp; Court St</td>\n",
              "      <td>47.0</td>\n",
              "      <td>59.0</td>\n",
              "      <td>SURPLUS-UNDER</td>\n",
              "      <td>high</td>\n",
              "    </tr>\n",
              "    <tr>\n",
              "      <th>13</th>\n",
              "      <td>Market St &amp; Cherry St</td>\n",
              "      <td>41.0</td>\n",
              "      <td>45.0</td>\n",
              "      <td>SURPLUS-UNDER</td>\n",
              "      <td>high</td>\n",
              "    </tr>\n",
              "    <tr>\n",
              "      <th>2</th>\n",
              "      <td>Bond St &amp; Fulton St</td>\n",
              "      <td>40.0</td>\n",
              "      <td>47.0</td>\n",
              "      <td>SURPLUS-UNDER</td>\n",
              "      <td>high</td>\n",
              "    </tr>\n",
              "  </tbody>\n",
              "</table>\n",
              "</div>"
            ],
            "text/plain": [
              "                  station_name  cum_flow  capacity      condition priority\n",
              "16             W 41 St & 8 Ave      65.0      71.0  SURPLUS-UNDER     high\n",
              "17            W 43 St & 10 Ave      52.0      79.0  SURPLUS-UNDER     high\n",
              "14  Schermerhorn St & Court St      47.0      59.0  SURPLUS-UNDER     high\n",
              "13       Market St & Cherry St      41.0      45.0  SURPLUS-UNDER     high\n",
              "2          Bond St & Fulton St      40.0      47.0  SURPLUS-UNDER     high"
            ]
          },
          "metadata": {
            "tags": []
          },
          "execution_count": 141
        }
      ]
    },
    {
      "cell_type": "code",
      "metadata": {
        "colab": {
          "base_uri": "https://localhost:8080/",
          "height": 0
        },
        "id": "N0TF3xrY478N",
        "outputId": "b691594f-e861-4b98-e5e3-abd1c08b2ba9"
      },
      "source": [
        "surplus_under_visual = surplus_under.dropna().groupby(['priority']).size().reset_index(name='count')\n",
        "surplus_under_visual"
      ],
      "execution_count": 142,
      "outputs": [
        {
          "output_type": "execute_result",
          "data": {
            "text/html": [
              "<div>\n",
              "<style scoped>\n",
              "    .dataframe tbody tr th:only-of-type {\n",
              "        vertical-align: middle;\n",
              "    }\n",
              "\n",
              "    .dataframe tbody tr th {\n",
              "        vertical-align: top;\n",
              "    }\n",
              "\n",
              "    .dataframe thead th {\n",
              "        text-align: right;\n",
              "    }\n",
              "</style>\n",
              "<table border=\"1\" class=\"dataframe\">\n",
              "  <thead>\n",
              "    <tr style=\"text-align: right;\">\n",
              "      <th></th>\n",
              "      <th>priority</th>\n",
              "      <th>count</th>\n",
              "    </tr>\n",
              "  </thead>\n",
              "  <tbody>\n",
              "    <tr>\n",
              "      <th>0</th>\n",
              "      <td>high</td>\n",
              "      <td>8</td>\n",
              "    </tr>\n",
              "    <tr>\n",
              "      <th>1</th>\n",
              "      <td>low</td>\n",
              "      <td>5</td>\n",
              "    </tr>\n",
              "    <tr>\n",
              "      <th>2</th>\n",
              "      <td>medium</td>\n",
              "      <td>4</td>\n",
              "    </tr>\n",
              "  </tbody>\n",
              "</table>\n",
              "</div>"
            ],
            "text/plain": [
              "  priority  count\n",
              "0     high      8\n",
              "1      low      5\n",
              "2   medium      4"
            ]
          },
          "metadata": {
            "tags": []
          },
          "execution_count": 142
        }
      ]
    },
    {
      "cell_type": "code",
      "metadata": {
        "colab": {
          "base_uri": "https://localhost:8080/",
          "height": 0
        },
        "id": "oIh0qSUj6_gT",
        "outputId": "316962b1-13b9-4ad5-8cd7-beca900a0358"
      },
      "source": [
        "h = sns.catplot(\n",
        "    data=surplus_under_visual, kind=\"bar\",\n",
        "    x=\"priority\", y=\"count\",\n",
        "    ci=\"sd\", palette=\"dark\", alpha=.6, height=6\n",
        "    )\n",
        "h.despine(left=True)\n",
        "h.set_axis_labels(\"\", \"Total Station\")\n",
        "plt.title(\"Surplus Under\")\n",
        "plt.show()"
      ],
      "execution_count": 143,
      "outputs": [
        {
          "output_type": "display_data",
          "data": {
            "image/png": "[encoded data removed]",
            "text/plain": [
              "<Figure size 432x432 with 1 Axes>"
            ]
          },
          "metadata": {
            "tags": []
          }
        }
      ]
    },
    {
      "cell_type": "code",
      "metadata": {
        "id": "KYqbXtR_r1IV"
      },
      "source": [
        "q_surplus_over = surplus_over.quantile([.1, .25, .5, .75], axis = 0)\n",
        "q2_surplus_over = q_surplus_over.iloc[1,0]\n",
        "q3_surplus_over = q_surplus_over.iloc[2,0]"
      ],
      "execution_count": 144,
      "outputs": []
    },
    {
      "cell_type": "code",
      "metadata": {
        "id": "50s8t05m7gqE"
      },
      "source": [
        "def f(row):\n",
        "    if row['cum_flow'] < q2_surplus_over:\n",
        "        val = 'high'\n",
        "    elif row['cum_flow'] > q3_surplus_over:\n",
        "        val = 'low'\n",
        "    else:\n",
        "        val = 'medium'\n",
        "    return val\n",
        "\n",
        "surplus_over['priority'] = surplus_over.apply(f, axis=1)"
      ],
      "execution_count": 145,
      "outputs": []
    },
    {
      "cell_type": "code",
      "metadata": {
        "colab": {
          "base_uri": "https://localhost:8080/",
          "height": 0
        },
        "id": "0AaJvPUm7ZIf",
        "outputId": "5db2e2a0-ba17-41b5-aba3-e8c45cb44a1a"
      },
      "source": [
        "surplus_over.head()"
      ],
      "execution_count": 146,
      "outputs": [
        {
          "output_type": "execute_result",
          "data": {
            "text/html": [
              "<div>\n",
              "<style scoped>\n",
              "    .dataframe tbody tr th:only-of-type {\n",
              "        vertical-align: middle;\n",
              "    }\n",
              "\n",
              "    .dataframe tbody tr th {\n",
              "        vertical-align: top;\n",
              "    }\n",
              "\n",
              "    .dataframe thead th {\n",
              "        text-align: right;\n",
              "    }\n",
              "</style>\n",
              "<table border=\"1\" class=\"dataframe\">\n",
              "  <thead>\n",
              "    <tr style=\"text-align: right;\">\n",
              "      <th></th>\n",
              "      <th>station_name</th>\n",
              "      <th>cum_flow</th>\n",
              "      <th>capacity</th>\n",
              "      <th>condition</th>\n",
              "      <th>priority</th>\n",
              "    </tr>\n",
              "  </thead>\n",
              "  <tbody>\n",
              "    <tr>\n",
              "      <th>3</th>\n",
              "      <td>Broadway &amp; E 22 St</td>\n",
              "      <td>2.0</td>\n",
              "      <td>0.0</td>\n",
              "      <td>SURPLUS-OVER</td>\n",
              "      <td>medium</td>\n",
              "    </tr>\n",
              "    <tr>\n",
              "      <th>Total</th>\n",
              "      <td>NaN</td>\n",
              "      <td>2.0</td>\n",
              "      <td>NaN</td>\n",
              "      <td>NaN</td>\n",
              "      <td>medium</td>\n",
              "    </tr>\n",
              "  </tbody>\n",
              "</table>\n",
              "</div>"
            ],
            "text/plain": [
              "             station_name  cum_flow  capacity     condition priority\n",
              "3      Broadway & E 22 St       2.0       0.0  SURPLUS-OVER   medium\n",
              "Total                 NaN       2.0       NaN           NaN   medium"
            ]
          },
          "metadata": {
            "tags": []
          },
          "execution_count": 146
        }
      ]
    },
    {
      "cell_type": "code",
      "metadata": {
        "colab": {
          "base_uri": "https://localhost:8080/",
          "height": 0
        },
        "id": "as5yC69V5-TG",
        "outputId": "923d990a-6b57-462d-961e-a270187ad7a6"
      },
      "source": [
        "surplus_over_visual = surplus_over.dropna().groupby(['priority']).size().reset_index(name='count')\n",
        "surplus_over_visual"
      ],
      "execution_count": 147,
      "outputs": [
        {
          "output_type": "execute_result",
          "data": {
            "text/html": [
              "<div>\n",
              "<style scoped>\n",
              "    .dataframe tbody tr th:only-of-type {\n",
              "        vertical-align: middle;\n",
              "    }\n",
              "\n",
              "    .dataframe tbody tr th {\n",
              "        vertical-align: top;\n",
              "    }\n",
              "\n",
              "    .dataframe thead th {\n",
              "        text-align: right;\n",
              "    }\n",
              "</style>\n",
              "<table border=\"1\" class=\"dataframe\">\n",
              "  <thead>\n",
              "    <tr style=\"text-align: right;\">\n",
              "      <th></th>\n",
              "      <th>priority</th>\n",
              "      <th>count</th>\n",
              "    </tr>\n",
              "  </thead>\n",
              "  <tbody>\n",
              "    <tr>\n",
              "      <th>0</th>\n",
              "      <td>medium</td>\n",
              "      <td>1</td>\n",
              "    </tr>\n",
              "  </tbody>\n",
              "</table>\n",
              "</div>"
            ],
            "text/plain": [
              "  priority  count\n",
              "0   medium      1"
            ]
          },
          "metadata": {
            "tags": []
          },
          "execution_count": 147
        }
      ]
    },
    {
      "cell_type": "code",
      "metadata": {
        "colab": {
          "base_uri": "https://localhost:8080/",
          "height": 0
        },
        "id": "dNrxwLUm9Mzn",
        "outputId": "2493da8f-30a3-406a-9227-e4ed9ca32288"
      },
      "source": [
        "h = sns.catplot(\n",
        "    data=surplus_over_visual, kind=\"bar\",\n",
        "    x=\"priority\", y=\"count\",\n",
        "    ci=\"sd\", palette=\"dark\", alpha=.6, height=6\n",
        "    )\n",
        "h.despine(left=True)\n",
        "h.set_axis_labels(\"\", \"Total Station\")\n",
        "plt.title(\"Surplus Over\")\n",
        "plt.show()"
      ],
      "execution_count": 148,
      "outputs": [
        {
          "output_type": "display_data",
          "data": {
            "image/png": "[encoded data removed]",
            "text/plain": [
              "<Figure size 432x432 with 1 Axes>"
            ]
          },
          "metadata": {
            "tags": []
          }
        }
      ]
    },
    {
      "cell_type": "markdown",
      "metadata": {
        "id": "vVjEaD8NKNHZ"
      },
      "source": [
        "###Check the strange value"
      ]
    },
    {
      "cell_type": "code",
      "metadata": {
        "colab": {
          "base_uri": "https://localhost:8080/",
          "height": 0
        },
        "id": "qAqyPF66HVda",
        "outputId": "552683db-c067-4b2f-a373-cbbde8331529"
      },
      "source": [
        "k = new_bjse.groupby(['station_name', 'date']).last().reset_index()\n",
        "k.head()"
      ],
      "execution_count": 149,
      "outputs": [
        {
          "output_type": "execute_result",
          "data": {
            "text/html": [
              "<div>\n",
              "<style scoped>\n",
              "    .dataframe tbody tr th:only-of-type {\n",
              "        vertical-align: middle;\n",
              "    }\n",
              "\n",
              "    .dataframe tbody tr th {\n",
              "        vertical-align: top;\n",
              "    }\n",
              "\n",
              "    .dataframe thead th {\n",
              "        text-align: right;\n",
              "    }\n",
              "</style>\n",
              "<table border=\"1\" class=\"dataframe\">\n",
              "  <thead>\n",
              "    <tr style=\"text-align: right;\">\n",
              "      <th></th>\n",
              "      <th>station_name</th>\n",
              "      <th>date</th>\n",
              "      <th>docktime</th>\n",
              "      <th>in_out</th>\n",
              "      <th>cum_flow</th>\n",
              "    </tr>\n",
              "  </thead>\n",
              "  <tbody>\n",
              "    <tr>\n",
              "      <th>0</th>\n",
              "      <td>1 Ave &amp; E 30 St</td>\n",
              "      <td>2010-01-01</td>\n",
              "      <td>2010-01-01 12:00:00</td>\n",
              "      <td>21</td>\n",
              "      <td>21</td>\n",
              "    </tr>\n",
              "    <tr>\n",
              "      <th>1</th>\n",
              "      <td>1 Ave &amp; E 30 St</td>\n",
              "      <td>2015-08-20</td>\n",
              "      <td>2015-08-20 06:53:02</td>\n",
              "      <td>-1</td>\n",
              "      <td>20</td>\n",
              "    </tr>\n",
              "    <tr>\n",
              "      <th>2</th>\n",
              "      <td>1 Ave &amp; E 30 St</td>\n",
              "      <td>2017-07-06</td>\n",
              "      <td>2017-07-06 21:36:52</td>\n",
              "      <td>-1</td>\n",
              "      <td>19</td>\n",
              "    </tr>\n",
              "    <tr>\n",
              "      <th>3</th>\n",
              "      <td>1 Ave &amp; E 68 St</td>\n",
              "      <td>2010-01-01</td>\n",
              "      <td>2010-01-01 12:00:00</td>\n",
              "      <td>27</td>\n",
              "      <td>27</td>\n",
              "    </tr>\n",
              "    <tr>\n",
              "      <th>4</th>\n",
              "      <td>1 Ave &amp; E 68 St</td>\n",
              "      <td>2016-04-01</td>\n",
              "      <td>2016-04-01 11:58:42</td>\n",
              "      <td>1</td>\n",
              "      <td>28</td>\n",
              "    </tr>\n",
              "  </tbody>\n",
              "</table>\n",
              "</div>"
            ],
            "text/plain": [
              "      station_name        date            docktime  in_out  cum_flow\n",
              "0  1 Ave & E 30 St  2010-01-01 2010-01-01 12:00:00      21        21\n",
              "1  1 Ave & E 30 St  2015-08-20 2015-08-20 06:53:02      -1        20\n",
              "2  1 Ave & E 30 St  2017-07-06 2017-07-06 21:36:52      -1        19\n",
              "3  1 Ave & E 68 St  2010-01-01 2010-01-01 12:00:00      27        27\n",
              "4  1 Ave & E 68 St  2016-04-01 2016-04-01 11:58:42       1        28"
            ]
          },
          "metadata": {
            "tags": []
          },
          "execution_count": 149
        }
      ]
    },
    {
      "cell_type": "code",
      "metadata": {
        "colab": {
          "base_uri": "https://localhost:8080/",
          "height": 0
        },
        "id": "ppLgcGZiHrRw",
        "outputId": "67e6b3d0-9d60-47b1-b798-e34ce258c892"
      },
      "source": [
        "pd.set_option('display.max_columns', None)\n",
        "pd.set_option(\"max_rows\", None)\n",
        "k[k['station_name']=='1 Ave & E 15 St']"
      ],
      "execution_count": 150,
      "outputs": [
        {
          "output_type": "execute_result",
          "data": {
            "text/html": [
              "<div>\n",
              "<style scoped>\n",
              "    .dataframe tbody tr th:only-of-type {\n",
              "        vertical-align: middle;\n",
              "    }\n",
              "\n",
              "    .dataframe tbody tr th {\n",
              "        vertical-align: top;\n",
              "    }\n",
              "\n",
              "    .dataframe thead th {\n",
              "        text-align: right;\n",
              "    }\n",
              "</style>\n",
              "<table border=\"1\" class=\"dataframe\">\n",
              "  <thead>\n",
              "    <tr style=\"text-align: right;\">\n",
              "      <th></th>\n",
              "      <th>station_name</th>\n",
              "      <th>date</th>\n",
              "      <th>docktime</th>\n",
              "      <th>in_out</th>\n",
              "      <th>cum_flow</th>\n",
              "    </tr>\n",
              "  </thead>\n",
              "  <tbody>\n",
              "  </tbody>\n",
              "</table>\n",
              "</div>"
            ],
            "text/plain": [
              "Empty DataFrame\n",
              "Columns: [station_name, date, docktime, in_out, cum_flow]\n",
              "Index: []"
            ]
          },
          "metadata": {
            "tags": []
          },
          "execution_count": 150
        }
      ]
    },
    {
      "cell_type": "code",
      "metadata": {
        "id": "mPaib3xRf2jZ"
      },
      "source": [
        ""
      ],
      "execution_count": 150,
      "outputs": []
    }
  ]
}