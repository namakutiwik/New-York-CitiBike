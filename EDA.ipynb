{
  "nbformat": 4,
  "nbformat_minor": 0,
  "metadata": {
    "colab": {
      "name": "EDA.ipynb",
      "provenance": [],
      "collapsed_sections": [
        "XvCwMbtKztQB",
        "844UwuE7zxsv",
        "11-YQ-lYqciA",
        "6ZWqum3t23oJ",
        "jbvR7N3E3Bpe",
        "erS7T1l1Du7k",
        "YZbtb4ZP8nny",
        "hMM3oJKBR8zb",
        "OOWxDrGJgPWF",
        "iPpVskXKgYC0",
        "8x-7jNspgehy",
        "bUBiraQCbYDA",
        "UmWjBWNr40lO",
        "n9LCb0o9GfRC",
        "QYK8Ys98az60",
        "vjqRnfOfE8iQ",
        "lGR8T-sMTIYV",
        "u7_cBUPMHx8P",
        "9qElXzCwsFhu",
        "Y_g3a0u4-A2N"
      ],
      "toc_visible": true,
      "authorship_tag": "ABX9TyOU3n4+bmKBHuC5XqsGO9WH",
      "include_colab_link": true
    },
    "kernelspec": {
      "display_name": "Python 3",
      "name": "python3"
    },
    "language_info": {
      "name": "python"
    }
  },
  "cells": [
    {
      "cell_type": "markdown",
      "metadata": {
        "id": "view-in-github",
        "colab_type": "text"
      },
      "source": [
        "<a href=\"https://colab.research.google.com/github/namakutiwik/New-York-CitiBike/blob/main/EDA.ipynb\" target=\"_parent\"><img src=\"https://colab.research.google.com/assets/colab-badge.svg\" alt=\"Open In Colab\"/></a>"
      ]
    },
    {
      "cell_type": "markdown",
      "metadata": {
        "id": "XvCwMbtKztQB"
      },
      "source": [
        "# ***Install Mount Drive & Import Dataset***"
      ]
    },
    {
      "cell_type": "code",
      "metadata": {
        "id": "G7LRagz9xSf-",
        "colab": {
          "base_uri": "https://localhost:8080/"
        },
        "outputId": "7dbcd9f0-5926-4740-d3d8-2451ced1c690"
      },
      "source": [
        "from google.colab import drive\n",
        "drive.mount('/content/drive')"
      ],
      "execution_count": null,
      "outputs": [
        {
          "output_type": "stream",
          "text": [
            "Drive already mounted at /content/drive; to attempt to forcibly remount, call drive.mount(\"/content/drive\", force_remount=True).\n"
          ],
          "name": "stdout"
        }
      ]
    },
    {
      "cell_type": "code",
      "metadata": {
        "id": "1A-dSgwBxrqM",
        "colab": {
          "base_uri": "https://localhost:8080/"
        },
        "outputId": "e05a85da-d500-4366-96b7-19eb66c76b8e"
      },
      "source": [
        "!ls"
      ],
      "execution_count": null,
      "outputs": [
        {
          "output_type": "stream",
          "text": [
            "adc.json  drive  sample_data  stations.csv\n"
          ],
          "name": "stdout"
        }
      ]
    },
    {
      "cell_type": "code",
      "metadata": {
        "id": "EENTKtpeCaUy"
      },
      "source": [
        "import pandas as pd\n",
        "\n",
        "CHUNK_SIZE = 50000\n",
        "csv_file_list = [\"/content/drive/My Drive/Kemenkes - Data Analyst/data2015.csv\", \n",
        "                 \"/content/drive/My Drive/Kemenkes - Data Analyst/data2016.csv\", \n",
        "                 \"/content/drive/My Drive/Kemenkes - Data Analyst/data2017.csv\"]\n",
        "output_file = \"output.csv\"\n",
        "\n",
        "first_one = True\n",
        "for csv_file_name in csv_file_list:\n",
        "\n",
        "    if not first_one: # if it is not the first csv file then skip the header row (row 0) of that file\n",
        "        skip_row = [0]\n",
        "    else:\n",
        "        skip_row = []\n",
        "\n",
        "    chunk_container = pd.read_csv(csv_file_name, chunksize=CHUNK_SIZE, skiprows = skip_row)\n",
        "    for chunk in chunk_container:\n",
        "        chunk.to_csv(output_file, mode=\"a\", index=False)\n",
        "    first_one = False"
      ],
      "execution_count": null,
      "outputs": []
    },
    {
      "cell_type": "code",
      "metadata": {
        "colab": {
          "base_uri": "https://localhost:8080/"
        },
        "id": "iqgSSVjuJFUV",
        "outputId": "0f3dfaf1-bb65-45a6-dca7-8c008a65777b"
      },
      "source": [
        "output = pd.read_csv('/content/output.csv', chunksize=50000)\n",
        "trips = pd.concat(output)"
      ],
      "execution_count": null,
      "outputs": [
        {
          "output_type": "stream",
          "text": [
            "/usr/local/lib/python3.7/dist-packages/IPython/core/interactiveshell.py:2882: DtypeWarning: Columns (0,3,5,6,7,9,10,11,13,15) have mixed types.Specify dtype option on import or set low_memory=False.\n",
            "  exec(code_obj, self.user_global_ns, self.user_ns)\n",
            "/usr/local/lib/python3.7/dist-packages/IPython/core/interactiveshell.py:2882: DtypeWarning: Columns (15) have mixed types.Specify dtype option on import or set low_memory=False.\n",
            "  exec(code_obj, self.user_global_ns, self.user_ns)\n"
          ],
          "name": "stderr"
        }
      ]
    },
    {
      "cell_type": "markdown",
      "metadata": {
        "id": "844UwuE7zxsv"
      },
      "source": [
        "# Import Library"
      ]
    },
    {
      "cell_type": "code",
      "metadata": {
        "id": "olzREA_-y89Z"
      },
      "source": [
        "import numpy as np\n",
        "import matplotlib.pyplot as plt\n",
        "import pandas as pd\n",
        "from pandas import *\n",
        "import seaborn as sns\n",
        "from matplotlib import rcParams\n",
        "import datetime as dt\n",
        "%matplotlib inline\n",
        "sns.set_style(\"darkgrid\")\n",
        "plt.rcParams['figure.figsize'] = (12,8)"
      ],
      "execution_count": null,
      "outputs": []
    },
    {
      "cell_type": "markdown",
      "metadata": {
        "id": "11-YQ-lYqciA"
      },
      "source": [
        "# Import Dataset from API Bigquery"
      ]
    },
    {
      "cell_type": "markdown",
      "metadata": {
        "id": "6ZWqum3t23oJ"
      },
      "source": [
        "##### **For station dataset**"
      ]
    },
    {
      "cell_type": "code",
      "metadata": {
        "colab": {
          "base_uri": "https://localhost:8080/"
        },
        "id": "NPp1hDL3qkY1",
        "outputId": "656ad84f-7087-40e6-d86f-c33770186633"
      },
      "source": [
        "from google.colab import auth\n",
        "auth.authenticate_user()\n",
        "print('Authenticated')"
      ],
      "execution_count": null,
      "outputs": [
        {
          "output_type": "stream",
          "text": [
            "Authenticated\n"
          ],
          "name": "stdout"
        }
      ]
    },
    {
      "cell_type": "code",
      "metadata": {
        "id": "5cBgBM3NqkdC"
      },
      "source": [
        "%%bigquery --project my-first-project-318200 df\n",
        "SELECT \n",
        "  *\n",
        "FROM `bigquery-public-data.new_york_citibike.citibike_stations`"
      ],
      "execution_count": null,
      "outputs": []
    },
    {
      "cell_type": "code",
      "metadata": {
        "colab": {
          "base_uri": "https://localhost:8080/"
        },
        "id": "Rt_o4MZTqkne",
        "outputId": "f102f623-1953-4d65-a6d8-14a51e8a3940"
      },
      "source": [
        "stations = df\n",
        "stations.head(2)"
      ],
      "execution_count": null,
      "outputs": [
        {
          "output_type": "execute_result",
          "data": {
            "text/html": [
              "<div>\n",
              "<style scoped>\n",
              "    .dataframe tbody tr th:only-of-type {\n",
              "        vertical-align: middle;\n",
              "    }\n",
              "\n",
              "    .dataframe tbody tr th {\n",
              "        vertical-align: top;\n",
              "    }\n",
              "\n",
              "    .dataframe thead th {\n",
              "        text-align: right;\n",
              "    }\n",
              "</style>\n",
              "<table border=\"1\" class=\"dataframe\">\n",
              "  <thead>\n",
              "    <tr style=\"text-align: right;\">\n",
              "      <th></th>\n",
              "      <th>station_id</th>\n",
              "      <th>name</th>\n",
              "      <th>short_name</th>\n",
              "      <th>latitude</th>\n",
              "      <th>longitude</th>\n",
              "      <th>region_id</th>\n",
              "      <th>rental_methods</th>\n",
              "      <th>capacity</th>\n",
              "      <th>eightd_has_key_dispenser</th>\n",
              "      <th>num_bikes_available</th>\n",
              "      <th>num_bikes_disabled</th>\n",
              "      <th>num_docks_available</th>\n",
              "      <th>num_docks_disabled</th>\n",
              "      <th>is_installed</th>\n",
              "      <th>is_renting</th>\n",
              "      <th>is_returning</th>\n",
              "      <th>eightd_has_available_keys</th>\n",
              "      <th>last_reported</th>\n",
              "    </tr>\n",
              "  </thead>\n",
              "  <tbody>\n",
              "    <tr>\n",
              "      <th>0</th>\n",
              "      <td>116</td>\n",
              "      <td>W 17 St &amp; 8 Ave</td>\n",
              "      <td>6148.02</td>\n",
              "      <td>40.741776</td>\n",
              "      <td>-74.001497</td>\n",
              "      <td>71.0</td>\n",
              "      <td>CREDITCARD,KEY</td>\n",
              "      <td>0</td>\n",
              "      <td>False</td>\n",
              "      <td>0</td>\n",
              "      <td>0</td>\n",
              "      <td>0</td>\n",
              "      <td>0</td>\n",
              "      <td>True</td>\n",
              "      <td>True</td>\n",
              "      <td>True</td>\n",
              "      <td>False</td>\n",
              "      <td>1970-01-01</td>\n",
              "    </tr>\n",
              "    <tr>\n",
              "      <th>1</th>\n",
              "      <td>173</td>\n",
              "      <td>Broadway &amp; W 49 St</td>\n",
              "      <td>6708.02</td>\n",
              "      <td>40.760683</td>\n",
              "      <td>-73.984527</td>\n",
              "      <td>71.0</td>\n",
              "      <td>CREDITCARD,KEY</td>\n",
              "      <td>0</td>\n",
              "      <td>False</td>\n",
              "      <td>0</td>\n",
              "      <td>0</td>\n",
              "      <td>0</td>\n",
              "      <td>0</td>\n",
              "      <td>False</td>\n",
              "      <td>False</td>\n",
              "      <td>False</td>\n",
              "      <td>False</td>\n",
              "      <td>1970-01-01</td>\n",
              "    </tr>\n",
              "  </tbody>\n",
              "</table>\n",
              "</div>"
            ],
            "text/plain": [
              "   station_id                name  ... eightd_has_available_keys  last_reported\n",
              "0         116     W 17 St & 8 Ave  ...                     False     1970-01-01\n",
              "1         173  Broadway & W 49 St  ...                     False     1970-01-01\n",
              "\n",
              "[2 rows x 18 columns]"
            ]
          },
          "metadata": {
            "tags": []
          },
          "execution_count": 60
        }
      ]
    },
    {
      "cell_type": "code",
      "metadata": {
        "id": "1jwWtGdhA2Qy"
      },
      "source": [
        "stations.to_csv (r'stations.csv', index = False, header=True)"
      ],
      "execution_count": null,
      "outputs": []
    },
    {
      "cell_type": "markdown",
      "metadata": {
        "id": "jbvR7N3E3Bpe"
      },
      "source": [
        "##### **For trip dataset**"
      ]
    },
    {
      "cell_type": "code",
      "metadata": {
        "id": "F0lk979G21Ut",
        "colab": {
          "base_uri": "https://localhost:8080/"
        },
        "outputId": "40f9ce1b-0f05-498d-92c4-bd7b50205f02"
      },
      "source": [
        "# it is to only get the sample with random index\n",
        "\n",
        "project_id = 'my-first-project-318200'\n",
        "\n",
        "from google.cloud import bigquery\n",
        "\n",
        "client = bigquery.Client(project=project_id)\n",
        "\n",
        "sample_count = 2000\n",
        "row_count = client.query('''\n",
        "  SELECT \n",
        "    COUNT(*) as total\n",
        "  FROM `bigquery-public-data.new_york_citibike.citibike_trips`''').to_dataframe().total[0]\n",
        "\n",
        "df = client.query('''\n",
        "  SELECT\n",
        "    *\n",
        "  FROM\n",
        "    `bigquery-public-data.new_york_citibike.citibike_trips`\n",
        "  WHERE RAND() < %d/%d\n",
        "''' % (sample_count, row_count)).to_dataframe()\n",
        "\n",
        "print('Full dataset has %d rows' % row_count)"
      ],
      "execution_count": null,
      "outputs": [
        {
          "output_type": "stream",
          "text": [
            "Full dataset has 58937715 rows\n"
          ],
          "name": "stdout"
        }
      ]
    },
    {
      "cell_type": "code",
      "metadata": {
        "colab": {
          "base_uri": "https://localhost:8080/",
          "height": 199
        },
        "id": "frzi6Bkoww5i",
        "outputId": "89fcc802-66d9-4b29-a815-2922b3f421cb"
      },
      "source": [
        "trips = df\n",
        "trips.head(2)"
      ],
      "execution_count": null,
      "outputs": [
        {
          "output_type": "execute_result",
          "data": {
            "text/html": [
              "<div>\n",
              "<style scoped>\n",
              "    .dataframe tbody tr th:only-of-type {\n",
              "        vertical-align: middle;\n",
              "    }\n",
              "\n",
              "    .dataframe tbody tr th {\n",
              "        vertical-align: top;\n",
              "    }\n",
              "\n",
              "    .dataframe thead th {\n",
              "        text-align: right;\n",
              "    }\n",
              "</style>\n",
              "<table border=\"1\" class=\"dataframe\">\n",
              "  <thead>\n",
              "    <tr style=\"text-align: right;\">\n",
              "      <th></th>\n",
              "      <th>tripduration</th>\n",
              "      <th>starttime</th>\n",
              "      <th>stoptime</th>\n",
              "      <th>start_station_id</th>\n",
              "      <th>start_station_name</th>\n",
              "      <th>start_station_latitude</th>\n",
              "      <th>start_station_longitude</th>\n",
              "      <th>end_station_id</th>\n",
              "      <th>end_station_name</th>\n",
              "      <th>end_station_latitude</th>\n",
              "      <th>end_station_longitude</th>\n",
              "      <th>bikeid</th>\n",
              "      <th>usertype</th>\n",
              "      <th>birth_year</th>\n",
              "      <th>gender</th>\n",
              "      <th>customer_plan</th>\n",
              "    </tr>\n",
              "  </thead>\n",
              "  <tbody>\n",
              "    <tr>\n",
              "      <th>0</th>\n",
              "      <td>2103.0</td>\n",
              "      <td>2017-11-15 09:42:11</td>\n",
              "      <td>2017-11-15 10:17:14</td>\n",
              "      <td>261.0</td>\n",
              "      <td>Johnson St &amp; Gold St</td>\n",
              "      <td>40.694749</td>\n",
              "      <td>-73.983625</td>\n",
              "      <td>285.0</td>\n",
              "      <td>Broadway &amp; E 14 St</td>\n",
              "      <td>40.734546</td>\n",
              "      <td>-73.990741</td>\n",
              "      <td>31202.0</td>\n",
              "      <td>Subscriber</td>\n",
              "      <td>1946.0</td>\n",
              "      <td>female</td>\n",
              "      <td></td>\n",
              "    </tr>\n",
              "    <tr>\n",
              "      <th>1</th>\n",
              "      <td>692.0</td>\n",
              "      <td>2016-06-12 20:38:45</td>\n",
              "      <td>2016-06-12 20:50:18</td>\n",
              "      <td>502.0</td>\n",
              "      <td>Henry St &amp; Grand St</td>\n",
              "      <td>40.714215</td>\n",
              "      <td>-73.981346</td>\n",
              "      <td>349.0</td>\n",
              "      <td>Rivington St &amp; Ridge St</td>\n",
              "      <td>40.718502</td>\n",
              "      <td>-73.983299</td>\n",
              "      <td>24076.0</td>\n",
              "      <td>Subscriber</td>\n",
              "      <td>2000.0</td>\n",
              "      <td>male</td>\n",
              "      <td></td>\n",
              "    </tr>\n",
              "  </tbody>\n",
              "</table>\n",
              "</div>"
            ],
            "text/plain": [
              "   tripduration           starttime  ...  gender  customer_plan\n",
              "0        2103.0 2017-11-15 09:42:11  ...  female               \n",
              "1         692.0 2016-06-12 20:38:45  ...    male               \n",
              "\n",
              "[2 rows x 16 columns]"
            ]
          },
          "metadata": {
            "tags": []
          },
          "execution_count": 63
        }
      ]
    },
    {
      "cell_type": "code",
      "metadata": {
        "colab": {
          "base_uri": "https://localhost:8080/"
        },
        "id": "5wpd6hhZK6YC",
        "outputId": "7977ff0f-9d6c-4023-c441-ad0cba5b8a62"
      },
      "source": [
        "len(trips)"
      ],
      "execution_count": null,
      "outputs": [
        {
          "output_type": "execute_result",
          "data": {
            "text/plain": [
              "2023"
            ]
          },
          "metadata": {
            "tags": []
          },
          "execution_count": 64
        }
      ]
    },
    {
      "cell_type": "markdown",
      "metadata": {
        "id": "Si7j3IDU1Stl"
      },
      "source": [
        "# Exploratory Data Analysis"
      ]
    },
    {
      "cell_type": "markdown",
      "metadata": {
        "id": "FuiDU8Sy1Ykc"
      },
      "source": [
        "\n",
        "\n",
        "*  Top 5 stations with the most starts (showing # of starts)\n",
        "* Trip duration by user type\n",
        "* Most popular trips based on start station and stop station)\n",
        "* Rider behaviour by Gender and Age based on avg trip distance (station to station), median speed (trip duration / distance traveled)\n",
        "* What is the busiest bike in NYC? How many times was it used? How many minutes was it in use?\n",
        "\n",
        "\n"
      ]
    },
    {
      "cell_type": "markdown",
      "metadata": {
        "id": "loHy-9OH3dQM"
      },
      "source": [
        "\n",
        "Information of trip dataset:\n",
        "1. Trip Duration (seconds) — How long a trip lasted\n",
        "2. Start Time and Date - Self explanatory\n",
        "3. Stop Time and Date - Self explanatory\n",
        "4. Start Station Name - Self explanatory\n",
        "5. End Station Name - Self explanatory\n",
        "6. Station ID - Unique identifier for each station\n",
        "7. Station Lat/Long - Coordinates\n",
        "8. Bike ID - unique identifier for each bike\n",
        "9. User Type (Customer = 24-hour pass or 3-day pass user;  Subscriber = Annual Member) - Customers are usually tourists, subscribers are usually NYC residents\n",
        "10. Gender (Zero=unknown; 1=male; 2=female) - Usually unknown for customers since they often sign up at a kiosk\n",
        "11. Year of Birth - Self entered, not validated by an ID.\n",
        "\n"
      ]
    },
    {
      "cell_type": "markdown",
      "metadata": {
        "id": "erS7T1l1Du7k"
      },
      "source": [
        "## Cleaning Trips Dataset"
      ]
    },
    {
      "cell_type": "markdown",
      "metadata": {
        "id": "YZbtb4ZP8nny"
      },
      "source": [
        "### General"
      ]
    },
    {
      "cell_type": "code",
      "metadata": {
        "id": "JPZDw6bU42eg",
        "colab": {
          "base_uri": "https://localhost:8080/"
        },
        "outputId": "91718492-75e9-47b1-9884-9dd92702bf59"
      },
      "source": [
        "trips.head(2)"
      ],
      "execution_count": null,
      "outputs": [
        {
          "output_type": "execute_result",
          "data": {
            "text/html": [
              "<div>\n",
              "<style scoped>\n",
              "    .dataframe tbody tr th:only-of-type {\n",
              "        vertical-align: middle;\n",
              "    }\n",
              "\n",
              "    .dataframe tbody tr th {\n",
              "        vertical-align: top;\n",
              "    }\n",
              "\n",
              "    .dataframe thead th {\n",
              "        text-align: right;\n",
              "    }\n",
              "</style>\n",
              "<table border=\"1\" class=\"dataframe\">\n",
              "  <thead>\n",
              "    <tr style=\"text-align: right;\">\n",
              "      <th></th>\n",
              "      <th>tripduration</th>\n",
              "      <th>starttime</th>\n",
              "      <th>stoptime</th>\n",
              "      <th>start_station_id</th>\n",
              "      <th>start_station_name</th>\n",
              "      <th>start_station_latitude</th>\n",
              "      <th>start_station_longitude</th>\n",
              "      <th>end_station_id</th>\n",
              "      <th>end_station_name</th>\n",
              "      <th>end_station_latitude</th>\n",
              "      <th>end_station_longitude</th>\n",
              "      <th>bikeid</th>\n",
              "      <th>usertype</th>\n",
              "      <th>birth_year</th>\n",
              "      <th>gender</th>\n",
              "      <th>customer_plan</th>\n",
              "    </tr>\n",
              "  </thead>\n",
              "  <tbody>\n",
              "    <tr>\n",
              "      <th>0</th>\n",
              "      <td>2103.0</td>\n",
              "      <td>2017-11-15 09:42:11</td>\n",
              "      <td>2017-11-15 10:17:14</td>\n",
              "      <td>261.0</td>\n",
              "      <td>Johnson St &amp; Gold St</td>\n",
              "      <td>40.694749</td>\n",
              "      <td>-73.983625</td>\n",
              "      <td>285.0</td>\n",
              "      <td>Broadway &amp; E 14 St</td>\n",
              "      <td>40.734546</td>\n",
              "      <td>-73.990741</td>\n",
              "      <td>31202.0</td>\n",
              "      <td>Subscriber</td>\n",
              "      <td>1946.0</td>\n",
              "      <td>female</td>\n",
              "      <td></td>\n",
              "    </tr>\n",
              "    <tr>\n",
              "      <th>1</th>\n",
              "      <td>692.0</td>\n",
              "      <td>2016-06-12 20:38:45</td>\n",
              "      <td>2016-06-12 20:50:18</td>\n",
              "      <td>502.0</td>\n",
              "      <td>Henry St &amp; Grand St</td>\n",
              "      <td>40.714215</td>\n",
              "      <td>-73.981346</td>\n",
              "      <td>349.0</td>\n",
              "      <td>Rivington St &amp; Ridge St</td>\n",
              "      <td>40.718502</td>\n",
              "      <td>-73.983299</td>\n",
              "      <td>24076.0</td>\n",
              "      <td>Subscriber</td>\n",
              "      <td>2000.0</td>\n",
              "      <td>male</td>\n",
              "      <td></td>\n",
              "    </tr>\n",
              "  </tbody>\n",
              "</table>\n",
              "</div>"
            ],
            "text/plain": [
              "   tripduration           starttime  ...  gender  customer_plan\n",
              "0        2103.0 2017-11-15 09:42:11  ...  female               \n",
              "1         692.0 2016-06-12 20:38:45  ...    male               \n",
              "\n",
              "[2 rows x 16 columns]"
            ]
          },
          "metadata": {
            "tags": []
          },
          "execution_count": 65
        }
      ]
    },
    {
      "cell_type": "code",
      "metadata": {
        "id": "rUhLWTJn0BpT",
        "colab": {
          "base_uri": "https://localhost:8080/"
        },
        "outputId": "4f9e7ea5-68df-40e3-f7a2-85f6bf1b5e3d"
      },
      "source": [
        "# Extract year from startime to get the trips' year\n",
        "trips['trips_year'] = pd.DatetimeIndex(trips['starttime']).year\n",
        "trips.head(3)"
      ],
      "execution_count": null,
      "outputs": [
        {
          "output_type": "execute_result",
          "data": {
            "text/html": [
              "<div>\n",
              "<style scoped>\n",
              "    .dataframe tbody tr th:only-of-type {\n",
              "        vertical-align: middle;\n",
              "    }\n",
              "\n",
              "    .dataframe tbody tr th {\n",
              "        vertical-align: top;\n",
              "    }\n",
              "\n",
              "    .dataframe thead th {\n",
              "        text-align: right;\n",
              "    }\n",
              "</style>\n",
              "<table border=\"1\" class=\"dataframe\">\n",
              "  <thead>\n",
              "    <tr style=\"text-align: right;\">\n",
              "      <th></th>\n",
              "      <th>tripduration</th>\n",
              "      <th>starttime</th>\n",
              "      <th>stoptime</th>\n",
              "      <th>start_station_id</th>\n",
              "      <th>start_station_name</th>\n",
              "      <th>start_station_latitude</th>\n",
              "      <th>start_station_longitude</th>\n",
              "      <th>end_station_id</th>\n",
              "      <th>end_station_name</th>\n",
              "      <th>end_station_latitude</th>\n",
              "      <th>end_station_longitude</th>\n",
              "      <th>bikeid</th>\n",
              "      <th>usertype</th>\n",
              "      <th>birth_year</th>\n",
              "      <th>gender</th>\n",
              "      <th>customer_plan</th>\n",
              "      <th>trips_year</th>\n",
              "    </tr>\n",
              "  </thead>\n",
              "  <tbody>\n",
              "    <tr>\n",
              "      <th>0</th>\n",
              "      <td>2103.0</td>\n",
              "      <td>2017-11-15 09:42:11</td>\n",
              "      <td>2017-11-15 10:17:14</td>\n",
              "      <td>261.0</td>\n",
              "      <td>Johnson St &amp; Gold St</td>\n",
              "      <td>40.694749</td>\n",
              "      <td>-73.983625</td>\n",
              "      <td>285.0</td>\n",
              "      <td>Broadway &amp; E 14 St</td>\n",
              "      <td>40.734546</td>\n",
              "      <td>-73.990741</td>\n",
              "      <td>31202.0</td>\n",
              "      <td>Subscriber</td>\n",
              "      <td>1946.0</td>\n",
              "      <td>female</td>\n",
              "      <td></td>\n",
              "      <td>2017.0</td>\n",
              "    </tr>\n",
              "    <tr>\n",
              "      <th>1</th>\n",
              "      <td>692.0</td>\n",
              "      <td>2016-06-12 20:38:45</td>\n",
              "      <td>2016-06-12 20:50:18</td>\n",
              "      <td>502.0</td>\n",
              "      <td>Henry St &amp; Grand St</td>\n",
              "      <td>40.714215</td>\n",
              "      <td>-73.981346</td>\n",
              "      <td>349.0</td>\n",
              "      <td>Rivington St &amp; Ridge St</td>\n",
              "      <td>40.718502</td>\n",
              "      <td>-73.983299</td>\n",
              "      <td>24076.0</td>\n",
              "      <td>Subscriber</td>\n",
              "      <td>2000.0</td>\n",
              "      <td>male</td>\n",
              "      <td></td>\n",
              "      <td>2016.0</td>\n",
              "    </tr>\n",
              "    <tr>\n",
              "      <th>2</th>\n",
              "      <td>590.0</td>\n",
              "      <td>2016-02-03 10:12:27</td>\n",
              "      <td>2016-02-03 10:22:18</td>\n",
              "      <td>352.0</td>\n",
              "      <td>W 56 St &amp; 6 Ave</td>\n",
              "      <td>40.763406</td>\n",
              "      <td>-73.977225</td>\n",
              "      <td>474.0</td>\n",
              "      <td>5 Ave &amp; E 29 St</td>\n",
              "      <td>40.745168</td>\n",
              "      <td>-73.986831</td>\n",
              "      <td>22060.0</td>\n",
              "      <td>Subscriber</td>\n",
              "      <td>1996.0</td>\n",
              "      <td>male</td>\n",
              "      <td></td>\n",
              "      <td>2016.0</td>\n",
              "    </tr>\n",
              "  </tbody>\n",
              "</table>\n",
              "</div>"
            ],
            "text/plain": [
              "   tripduration           starttime  ... customer_plan  trips_year\n",
              "0        2103.0 2017-11-15 09:42:11  ...                    2017.0\n",
              "1         692.0 2016-06-12 20:38:45  ...                    2016.0\n",
              "2         590.0 2016-02-03 10:12:27  ...                    2016.0\n",
              "\n",
              "[3 rows x 17 columns]"
            ]
          },
          "metadata": {
            "tags": []
          },
          "execution_count": 66
        }
      ]
    },
    {
      "cell_type": "code",
      "metadata": {
        "id": "q9PD62yB4GKM",
        "colab": {
          "base_uri": "https://localhost:8080/"
        },
        "outputId": "ae73cba5-a344-4041-c503-c344ef797cf5"
      },
      "source": [
        "pd.unique(trips.trips_year)"
      ],
      "execution_count": null,
      "outputs": [
        {
          "output_type": "execute_result",
          "data": {
            "text/plain": [
              "array([2017., 2016., 2013., 2015., 2014., 2018.,   nan])"
            ]
          },
          "metadata": {
            "tags": []
          },
          "execution_count": 67
        }
      ]
    },
    {
      "cell_type": "code",
      "metadata": {
        "id": "Cnez57_79I35"
      },
      "source": [
        "# Get only dataset 2015-2017\n",
        "# Get indexes where name column doesn't have value\n",
        "indexNames = trips[~(trips['trips_year'] == 2015) & ~(trips['trips_year'] == 2016) & ~(trips['trips_year'] == 2017)].index \n",
        "# Delete these row indexes from dataFrame\n",
        "trips.drop(indexNames , inplace=True)"
      ],
      "execution_count": null,
      "outputs": []
    },
    {
      "cell_type": "code",
      "metadata": {
        "id": "yTgSJFi062mL",
        "colab": {
          "base_uri": "https://localhost:8080/"
        },
        "outputId": "406c266e-addd-4f46-9063-7e5f3f7db977"
      },
      "source": [
        "pd.unique(trips.customer_plan)"
      ],
      "execution_count": null,
      "outputs": [
        {
          "output_type": "execute_result",
          "data": {
            "text/plain": [
              "array([''], dtype=object)"
            ]
          },
          "metadata": {
            "tags": []
          },
          "execution_count": 69
        }
      ]
    },
    {
      "cell_type": "code",
      "metadata": {
        "id": "LTzUtJiUC2Hc"
      },
      "source": [
        "\n",
        "# remove unnecessary columns\n",
        "trips.drop(trips.columns[[15]], axis = 1, inplace = True)"
      ],
      "execution_count": null,
      "outputs": []
    },
    {
      "cell_type": "code",
      "metadata": {
        "id": "6zmLFOib71a5",
        "colab": {
          "base_uri": "https://localhost:8080/"
        },
        "outputId": "cf843298-a6ae-4d38-abbb-2dd66f67a094"
      },
      "source": [
        "trips.head(2)"
      ],
      "execution_count": null,
      "outputs": [
        {
          "output_type": "execute_result",
          "data": {
            "text/html": [
              "<div>\n",
              "<style scoped>\n",
              "    .dataframe tbody tr th:only-of-type {\n",
              "        vertical-align: middle;\n",
              "    }\n",
              "\n",
              "    .dataframe tbody tr th {\n",
              "        vertical-align: top;\n",
              "    }\n",
              "\n",
              "    .dataframe thead th {\n",
              "        text-align: right;\n",
              "    }\n",
              "</style>\n",
              "<table border=\"1\" class=\"dataframe\">\n",
              "  <thead>\n",
              "    <tr style=\"text-align: right;\">\n",
              "      <th></th>\n",
              "      <th>tripduration</th>\n",
              "      <th>starttime</th>\n",
              "      <th>stoptime</th>\n",
              "      <th>start_station_id</th>\n",
              "      <th>start_station_name</th>\n",
              "      <th>start_station_latitude</th>\n",
              "      <th>start_station_longitude</th>\n",
              "      <th>end_station_id</th>\n",
              "      <th>end_station_name</th>\n",
              "      <th>end_station_latitude</th>\n",
              "      <th>end_station_longitude</th>\n",
              "      <th>bikeid</th>\n",
              "      <th>usertype</th>\n",
              "      <th>birth_year</th>\n",
              "      <th>gender</th>\n",
              "      <th>trips_year</th>\n",
              "    </tr>\n",
              "  </thead>\n",
              "  <tbody>\n",
              "    <tr>\n",
              "      <th>0</th>\n",
              "      <td>2103.0</td>\n",
              "      <td>2017-11-15 09:42:11</td>\n",
              "      <td>2017-11-15 10:17:14</td>\n",
              "      <td>261.0</td>\n",
              "      <td>Johnson St &amp; Gold St</td>\n",
              "      <td>40.694749</td>\n",
              "      <td>-73.983625</td>\n",
              "      <td>285.0</td>\n",
              "      <td>Broadway &amp; E 14 St</td>\n",
              "      <td>40.734546</td>\n",
              "      <td>-73.990741</td>\n",
              "      <td>31202.0</td>\n",
              "      <td>Subscriber</td>\n",
              "      <td>1946.0</td>\n",
              "      <td>female</td>\n",
              "      <td>2017.0</td>\n",
              "    </tr>\n",
              "    <tr>\n",
              "      <th>1</th>\n",
              "      <td>692.0</td>\n",
              "      <td>2016-06-12 20:38:45</td>\n",
              "      <td>2016-06-12 20:50:18</td>\n",
              "      <td>502.0</td>\n",
              "      <td>Henry St &amp; Grand St</td>\n",
              "      <td>40.714215</td>\n",
              "      <td>-73.981346</td>\n",
              "      <td>349.0</td>\n",
              "      <td>Rivington St &amp; Ridge St</td>\n",
              "      <td>40.718502</td>\n",
              "      <td>-73.983299</td>\n",
              "      <td>24076.0</td>\n",
              "      <td>Subscriber</td>\n",
              "      <td>2000.0</td>\n",
              "      <td>male</td>\n",
              "      <td>2016.0</td>\n",
              "    </tr>\n",
              "  </tbody>\n",
              "</table>\n",
              "</div>"
            ],
            "text/plain": [
              "   tripduration           starttime  ...  gender  trips_year\n",
              "0        2103.0 2017-11-15 09:42:11  ...  female      2017.0\n",
              "1         692.0 2016-06-12 20:38:45  ...    male      2016.0\n",
              "\n",
              "[2 rows x 16 columns]"
            ]
          },
          "metadata": {
            "tags": []
          },
          "execution_count": 71
        }
      ]
    },
    {
      "cell_type": "code",
      "metadata": {
        "id": "y9sz2fP78jtN"
      },
      "source": [
        "trips['trips_year'] = trips['trips_year'].astype(int)"
      ],
      "execution_count": null,
      "outputs": []
    },
    {
      "cell_type": "markdown",
      "metadata": {
        "id": "hMM3oJKBR8zb"
      },
      "source": [
        "### Adjusting Station ID vs Station Name"
      ]
    },
    {
      "cell_type": "markdown",
      "metadata": {
        "id": "4xgTOQAwWNHo"
      },
      "source": [
        "**Checking the imbalance**"
      ]
    },
    {
      "cell_type": "code",
      "metadata": {
        "id": "y3PYFgj28TW0",
        "colab": {
          "base_uri": "https://localhost:8080/"
        },
        "outputId": "fd8d9f6d-5b2f-4f6c-d736-1ebe031896bc"
      },
      "source": [
        "print(len(unique(trips.start_station_id)))\n",
        "print(len(unique(trips.end_station_id)))"
      ],
      "execution_count": null,
      "outputs": [
        {
          "output_type": "stream",
          "text": [
            "441\n",
            "431\n"
          ],
          "name": "stdout"
        }
      ]
    },
    {
      "cell_type": "code",
      "metadata": {
        "id": "OUy-kJiX8Z6d",
        "colab": {
          "base_uri": "https://localhost:8080/"
        },
        "outputId": "598d6f18-71e2-4426-adc6-97295ca76e6a"
      },
      "source": [
        "print(len(unique(trips.start_station_name)))\n",
        "print(len(unique(trips.end_station_name)))"
      ],
      "execution_count": null,
      "outputs": [
        {
          "output_type": "stream",
          "text": [
            "437\n",
            "430\n"
          ],
          "name": "stdout"
        }
      ]
    },
    {
      "cell_type": "code",
      "metadata": {
        "id": "9kHuzRFq-jgN",
        "colab": {
          "base_uri": "https://localhost:8080/"
        },
        "outputId": "9d84dbf7-f558-4245-9dd4-e26dcc45d6aa"
      },
      "source": [
        "id_name_s = trips[['start_station_id','start_station_name','end_station_id', 'end_station_name']]\n",
        "id_name_s = id_name_s.groupby(\"start_station_id\")\n",
        "id_name_s = id_name_s.agg({\"start_station_name\": \"nunique\"})\n",
        "id_name_s = id_name_s.reset_index()\n",
        "len(id_name_s[id_name_s['start_station_name']>=2])"
      ],
      "execution_count": null,
      "outputs": [
        {
          "output_type": "execute_result",
          "data": {
            "text/plain": [
              "1"
            ]
          },
          "metadata": {
            "tags": []
          },
          "execution_count": 75
        }
      ]
    },
    {
      "cell_type": "code",
      "metadata": {
        "id": "BqQDruGN-jx4",
        "colab": {
          "base_uri": "https://localhost:8080/"
        },
        "outputId": "0253b12c-b95c-4b7c-8de4-14c38c780a96"
      },
      "source": [
        "id_name_e = trips[['start_station_id','start_station_name','end_station_id', 'end_station_name']]\n",
        "id_name_e = id_name_e.groupby(\"end_station_id\")\n",
        "id_name_e = id_name_e.agg({\"end_station_name\": \"nunique\"})\n",
        "id_name_e = id_name_e.reset_index()\n",
        "len(id_name_e[id_name_e['end_station_name']>=2])"
      ],
      "execution_count": null,
      "outputs": [
        {
          "output_type": "execute_result",
          "data": {
            "text/plain": [
              "3"
            ]
          },
          "metadata": {
            "tags": []
          },
          "execution_count": 76
        }
      ]
    },
    {
      "cell_type": "code",
      "metadata": {
        "id": "lhOmBeg6CXNN",
        "colab": {
          "base_uri": "https://localhost:8080/"
        },
        "outputId": "3a340b58-80d0-409d-fa82-230a037c0a0a"
      },
      "source": [
        "id_name_e[id_name_e['end_station_name']>=2].head()"
      ],
      "execution_count": null,
      "outputs": [
        {
          "output_type": "execute_result",
          "data": {
            "text/html": [
              "<div>\n",
              "<style scoped>\n",
              "    .dataframe tbody tr th:only-of-type {\n",
              "        vertical-align: middle;\n",
              "    }\n",
              "\n",
              "    .dataframe tbody tr th {\n",
              "        vertical-align: top;\n",
              "    }\n",
              "\n",
              "    .dataframe thead th {\n",
              "        text-align: right;\n",
              "    }\n",
              "</style>\n",
              "<table border=\"1\" class=\"dataframe\">\n",
              "  <thead>\n",
              "    <tr style=\"text-align: right;\">\n",
              "      <th></th>\n",
              "      <th>end_station_id</th>\n",
              "      <th>end_station_name</th>\n",
              "    </tr>\n",
              "  </thead>\n",
              "  <tbody>\n",
              "    <tr>\n",
              "      <th>73</th>\n",
              "      <td>312.0</td>\n",
              "      <td>2</td>\n",
              "    </tr>\n",
              "    <tr>\n",
              "      <th>104</th>\n",
              "      <td>347.0</td>\n",
              "      <td>2</td>\n",
              "    </tr>\n",
              "    <tr>\n",
              "      <th>195</th>\n",
              "      <td>468.0</td>\n",
              "      <td>2</td>\n",
              "    </tr>\n",
              "  </tbody>\n",
              "</table>\n",
              "</div>"
            ],
            "text/plain": [
              "     end_station_id  end_station_name\n",
              "73            312.0                 2\n",
              "104           347.0                 2\n",
              "195           468.0                 2"
            ]
          },
          "metadata": {
            "tags": []
          },
          "execution_count": 77
        }
      ]
    },
    {
      "cell_type": "code",
      "metadata": {
        "id": "LtE7LG2kBHuS",
        "colab": {
          "base_uri": "https://localhost:8080/"
        },
        "outputId": "ea2831df-e38d-4424-c374-2c958ae4e806"
      },
      "source": [
        "a = trips[trips['end_station_id']==329.0]\n",
        "unique(a.end_station_name)"
      ],
      "execution_count": null,
      "outputs": [
        {
          "output_type": "execute_result",
          "data": {
            "text/plain": [
              "array(['Greenwich St & N Moore St'], dtype=object)"
            ]
          },
          "metadata": {
            "tags": []
          },
          "execution_count": 78
        }
      ]
    },
    {
      "cell_type": "markdown",
      "metadata": {
        "id": "cpxd9x1tC2B6"
      },
      "source": [
        "Since the difference, it should use id rather than name"
      ]
    },
    {
      "cell_type": "markdown",
      "metadata": {
        "id": "mCHLTJkqV8vn"
      },
      "source": [
        "**Create dataframe as dictionary**"
      ]
    },
    {
      "cell_type": "code",
      "metadata": {
        "id": "7C_wHlq7KDQr",
        "colab": {
          "base_uri": "https://localhost:8080/"
        },
        "outputId": "584a70a3-90ea-4643-c6da-5af89e936ae3"
      },
      "source": [
        "start = trips[['start_station_id', 'start_station_name']]\n",
        "len(unique(start.start_station_id))"
      ],
      "execution_count": null,
      "outputs": [
        {
          "output_type": "execute_result",
          "data": {
            "text/plain": [
              "441"
            ]
          },
          "metadata": {
            "tags": []
          },
          "execution_count": 79
        }
      ]
    },
    {
      "cell_type": "code",
      "metadata": {
        "id": "KF2NUoV0Sv5k",
        "colab": {
          "base_uri": "https://localhost:8080/"
        },
        "outputId": "7ec34e01-550f-465f-9bed-7f1d002442b6"
      },
      "source": [
        "start.drop_duplicates(subset='start_station_id', keep=\"first\", inplace=True)"
      ],
      "execution_count": null,
      "outputs": [
        {
          "output_type": "stream",
          "text": [
            "/usr/local/lib/python3.7/dist-packages/ipykernel_launcher.py:1: SettingWithCopyWarning: \n",
            "A value is trying to be set on a copy of a slice from a DataFrame\n",
            "\n",
            "See the caveats in the documentation: https://pandas.pydata.org/pandas-docs/stable/user_guide/indexing.html#returning-a-view-versus-a-copy\n",
            "  \"\"\"Entry point for launching an IPython kernel.\n"
          ],
          "name": "stderr"
        }
      ]
    },
    {
      "cell_type": "code",
      "metadata": {
        "id": "xl20CnvCUbna",
        "colab": {
          "base_uri": "https://localhost:8080/"
        },
        "outputId": "8ee3a30e-2e65-493b-99d5-b9a41710a5e8"
      },
      "source": [
        "start.rename(columns = {'start_station_id':'station_id','start_station_name':'station_name'}, inplace = True)"
      ],
      "execution_count": null,
      "outputs": [
        {
          "output_type": "stream",
          "text": [
            "/usr/local/lib/python3.7/dist-packages/pandas/core/frame.py:4308: SettingWithCopyWarning: \n",
            "A value is trying to be set on a copy of a slice from a DataFrame\n",
            "\n",
            "See the caveats in the documentation: https://pandas.pydata.org/pandas-docs/stable/user_guide/indexing.html#returning-a-view-versus-a-copy\n",
            "  errors=errors,\n"
          ],
          "name": "stderr"
        }
      ]
    },
    {
      "cell_type": "code",
      "metadata": {
        "id": "ybzxoorYSoLa",
        "colab": {
          "base_uri": "https://localhost:8080/"
        },
        "outputId": "b906c8f9-f4ac-4473-8d12-d24813068be7"
      },
      "source": [
        "end = trips[['end_station_id', 'end_station_name']]\n",
        "len(unique(end.end_station_id))"
      ],
      "execution_count": null,
      "outputs": [
        {
          "output_type": "execute_result",
          "data": {
            "text/plain": [
              "431"
            ]
          },
          "metadata": {
            "tags": []
          },
          "execution_count": 82
        }
      ]
    },
    {
      "cell_type": "code",
      "metadata": {
        "id": "x48lQKreTMeR",
        "colab": {
          "base_uri": "https://localhost:8080/"
        },
        "outputId": "f0824ded-24db-4800-97d9-7b0a8a674c6a"
      },
      "source": [
        "end.drop_duplicates(subset='end_station_id', keep=\"first\", inplace=True)"
      ],
      "execution_count": null,
      "outputs": [
        {
          "output_type": "stream",
          "text": [
            "/usr/local/lib/python3.7/dist-packages/ipykernel_launcher.py:1: SettingWithCopyWarning: \n",
            "A value is trying to be set on a copy of a slice from a DataFrame\n",
            "\n",
            "See the caveats in the documentation: https://pandas.pydata.org/pandas-docs/stable/user_guide/indexing.html#returning-a-view-versus-a-copy\n",
            "  \"\"\"Entry point for launching an IPython kernel.\n"
          ],
          "name": "stderr"
        }
      ]
    },
    {
      "cell_type": "code",
      "metadata": {
        "id": "09uJ9Z75UriY",
        "colab": {
          "base_uri": "https://localhost:8080/"
        },
        "outputId": "110f3254-70fa-4428-b5a5-e838e98157bc"
      },
      "source": [
        "end.rename(columns = {'end_station_id':'station_id','end_station_name':'station_name'}, inplace = True)"
      ],
      "execution_count": null,
      "outputs": [
        {
          "output_type": "stream",
          "text": [
            "/usr/local/lib/python3.7/dist-packages/pandas/core/frame.py:4308: SettingWithCopyWarning: \n",
            "A value is trying to be set on a copy of a slice from a DataFrame\n",
            "\n",
            "See the caveats in the documentation: https://pandas.pydata.org/pandas-docs/stable/user_guide/indexing.html#returning-a-view-versus-a-copy\n",
            "  errors=errors,\n"
          ],
          "name": "stderr"
        }
      ]
    },
    {
      "cell_type": "code",
      "metadata": {
        "id": "hcjNMxjuPaXg"
      },
      "source": [
        "id_name = pd.concat([start,end])\n",
        "id_name.drop_duplicates(subset='station_id', keep=\"first\", inplace=True)"
      ],
      "execution_count": null,
      "outputs": []
    },
    {
      "cell_type": "code",
      "metadata": {
        "id": "_49qjZjCJJ7U"
      },
      "source": [
        "id_name['station_id'] = id_name['station_id'].astype(int)"
      ],
      "execution_count": null,
      "outputs": []
    },
    {
      "cell_type": "code",
      "metadata": {
        "id": "PNP22C8IKNxC",
        "colab": {
          "base_uri": "https://localhost:8080/"
        },
        "outputId": "54dd7853-12c6-4d25-8b47-7a406df0d369"
      },
      "source": [
        "id_name.head(3)"
      ],
      "execution_count": null,
      "outputs": [
        {
          "output_type": "execute_result",
          "data": {
            "text/html": [
              "<div>\n",
              "<style scoped>\n",
              "    .dataframe tbody tr th:only-of-type {\n",
              "        vertical-align: middle;\n",
              "    }\n",
              "\n",
              "    .dataframe tbody tr th {\n",
              "        vertical-align: top;\n",
              "    }\n",
              "\n",
              "    .dataframe thead th {\n",
              "        text-align: right;\n",
              "    }\n",
              "</style>\n",
              "<table border=\"1\" class=\"dataframe\">\n",
              "  <thead>\n",
              "    <tr style=\"text-align: right;\">\n",
              "      <th></th>\n",
              "      <th>station_id</th>\n",
              "      <th>station_name</th>\n",
              "    </tr>\n",
              "  </thead>\n",
              "  <tbody>\n",
              "    <tr>\n",
              "      <th>0</th>\n",
              "      <td>261</td>\n",
              "      <td>Johnson St &amp; Gold St</td>\n",
              "    </tr>\n",
              "    <tr>\n",
              "      <th>1</th>\n",
              "      <td>502</td>\n",
              "      <td>Henry St &amp; Grand St</td>\n",
              "    </tr>\n",
              "    <tr>\n",
              "      <th>2</th>\n",
              "      <td>352</td>\n",
              "      <td>W 56 St &amp; 6 Ave</td>\n",
              "    </tr>\n",
              "  </tbody>\n",
              "</table>\n",
              "</div>"
            ],
            "text/plain": [
              "   station_id          station_name\n",
              "0         261  Johnson St & Gold St\n",
              "1         502   Henry St & Grand St\n",
              "2         352       W 56 St & 6 Ave"
            ]
          },
          "metadata": {
            "tags": []
          },
          "execution_count": 87
        }
      ]
    },
    {
      "cell_type": "code",
      "metadata": {
        "id": "CkWq8Zi_QEFw",
        "colab": {
          "base_uri": "https://localhost:8080/"
        },
        "outputId": "0e361365-7553-4c0e-a9af-e6c6753c67dc"
      },
      "source": [
        "len(id_name)"
      ],
      "execution_count": null,
      "outputs": [
        {
          "output_type": "execute_result",
          "data": {
            "text/plain": [
              "544"
            ]
          },
          "metadata": {
            "tags": []
          },
          "execution_count": 88
        }
      ]
    },
    {
      "cell_type": "markdown",
      "metadata": {
        "id": "LUu-oFzGW9Ct"
      },
      "source": [
        "**Combine the dataframe using lookup func.**"
      ]
    },
    {
      "cell_type": "code",
      "metadata": {
        "id": "PGXgn3F6VpnS"
      },
      "source": [
        "trips['start_station_id_copy'] = trips['start_station_id']\n",
        "trips['end_station_id_copy'] = trips['end_station_id']"
      ],
      "execution_count": null,
      "outputs": []
    },
    {
      "cell_type": "code",
      "metadata": {
        "id": "U-PibcJWVqAL"
      },
      "source": [
        "trips.start_station_id_copy.replace(dict(zip(id_name.station_id, id_name.station_name)), inplace=True)\n",
        "trips.end_station_id_copy.replace(dict(zip(id_name.station_id, id_name.station_name)), inplace=True)"
      ],
      "execution_count": null,
      "outputs": []
    },
    {
      "cell_type": "code",
      "metadata": {
        "id": "6YqCE9xTa0ba"
      },
      "source": [
        "trips.drop(['start_station_name','end_station_name'], 1, inplace=True)"
      ],
      "execution_count": null,
      "outputs": []
    },
    {
      "cell_type": "code",
      "metadata": {
        "id": "LDdFAwOFayvk"
      },
      "source": [
        "trips.rename(columns = {'start_station_id_copy':'start_station_name','end_station_id_copy':'end_station_name'}, inplace = True)"
      ],
      "execution_count": null,
      "outputs": []
    },
    {
      "cell_type": "code",
      "metadata": {
        "id": "-KyExFPAQEar",
        "colab": {
          "base_uri": "https://localhost:8080/"
        },
        "outputId": "52c3585f-a180-4261-8075-e86c9332db8d"
      },
      "source": [
        "trips.head(3)"
      ],
      "execution_count": null,
      "outputs": [
        {
          "output_type": "execute_result",
          "data": {
            "text/html": [
              "<div>\n",
              "<style scoped>\n",
              "    .dataframe tbody tr th:only-of-type {\n",
              "        vertical-align: middle;\n",
              "    }\n",
              "\n",
              "    .dataframe tbody tr th {\n",
              "        vertical-align: top;\n",
              "    }\n",
              "\n",
              "    .dataframe thead th {\n",
              "        text-align: right;\n",
              "    }\n",
              "</style>\n",
              "<table border=\"1\" class=\"dataframe\">\n",
              "  <thead>\n",
              "    <tr style=\"text-align: right;\">\n",
              "      <th></th>\n",
              "      <th>tripduration</th>\n",
              "      <th>starttime</th>\n",
              "      <th>stoptime</th>\n",
              "      <th>start_station_id</th>\n",
              "      <th>start_station_latitude</th>\n",
              "      <th>start_station_longitude</th>\n",
              "      <th>end_station_id</th>\n",
              "      <th>end_station_latitude</th>\n",
              "      <th>end_station_longitude</th>\n",
              "      <th>bikeid</th>\n",
              "      <th>usertype</th>\n",
              "      <th>birth_year</th>\n",
              "      <th>gender</th>\n",
              "      <th>trips_year</th>\n",
              "      <th>start_station_name</th>\n",
              "      <th>end_station_name</th>\n",
              "    </tr>\n",
              "  </thead>\n",
              "  <tbody>\n",
              "    <tr>\n",
              "      <th>0</th>\n",
              "      <td>2103.0</td>\n",
              "      <td>2017-11-15 09:42:11</td>\n",
              "      <td>2017-11-15 10:17:14</td>\n",
              "      <td>261.0</td>\n",
              "      <td>40.694749</td>\n",
              "      <td>-73.983625</td>\n",
              "      <td>285.0</td>\n",
              "      <td>40.734546</td>\n",
              "      <td>-73.990741</td>\n",
              "      <td>31202.0</td>\n",
              "      <td>Subscriber</td>\n",
              "      <td>1946.0</td>\n",
              "      <td>female</td>\n",
              "      <td>2017</td>\n",
              "      <td>Johnson St &amp; Gold St</td>\n",
              "      <td>Broadway &amp; E 14 St</td>\n",
              "    </tr>\n",
              "    <tr>\n",
              "      <th>1</th>\n",
              "      <td>692.0</td>\n",
              "      <td>2016-06-12 20:38:45</td>\n",
              "      <td>2016-06-12 20:50:18</td>\n",
              "      <td>502.0</td>\n",
              "      <td>40.714215</td>\n",
              "      <td>-73.981346</td>\n",
              "      <td>349.0</td>\n",
              "      <td>40.718502</td>\n",
              "      <td>-73.983299</td>\n",
              "      <td>24076.0</td>\n",
              "      <td>Subscriber</td>\n",
              "      <td>2000.0</td>\n",
              "      <td>male</td>\n",
              "      <td>2016</td>\n",
              "      <td>Henry St &amp; Grand St</td>\n",
              "      <td>Rivington St &amp; Ridge St</td>\n",
              "    </tr>\n",
              "    <tr>\n",
              "      <th>2</th>\n",
              "      <td>590.0</td>\n",
              "      <td>2016-02-03 10:12:27</td>\n",
              "      <td>2016-02-03 10:22:18</td>\n",
              "      <td>352.0</td>\n",
              "      <td>40.763406</td>\n",
              "      <td>-73.977225</td>\n",
              "      <td>474.0</td>\n",
              "      <td>40.745168</td>\n",
              "      <td>-73.986831</td>\n",
              "      <td>22060.0</td>\n",
              "      <td>Subscriber</td>\n",
              "      <td>1996.0</td>\n",
              "      <td>male</td>\n",
              "      <td>2016</td>\n",
              "      <td>W 56 St &amp; 6 Ave</td>\n",
              "      <td>5 Ave &amp; E 29 St</td>\n",
              "    </tr>\n",
              "  </tbody>\n",
              "</table>\n",
              "</div>"
            ],
            "text/plain": [
              "   tripduration  ...         end_station_name\n",
              "0        2103.0  ...       Broadway & E 14 St\n",
              "1         692.0  ...  Rivington St & Ridge St\n",
              "2         590.0  ...          5 Ave & E 29 St\n",
              "\n",
              "[3 rows x 16 columns]"
            ]
          },
          "metadata": {
            "tags": []
          },
          "execution_count": 93
        }
      ]
    },
    {
      "cell_type": "markdown",
      "metadata": {
        "id": "OOWxDrGJgPWF"
      },
      "source": [
        "### Any missing value?"
      ]
    },
    {
      "cell_type": "code",
      "metadata": {
        "id": "6enF48mhVuo7",
        "colab": {
          "base_uri": "https://localhost:8080/"
        },
        "outputId": "1d8b7ea9-0b8c-43ec-a5d4-2a0c8fcd79b2"
      },
      "source": [
        "#Percentage of missing data.\n",
        "def missing_data(df):\n",
        "    total = df.isna().sum().sort_values(ascending=False)\n",
        "    percent = round(df.isna().sum() / len(df), 4) * 100\n",
        "    missing_data = pd.concat([total, percent], axis=1, keys=['Total', 'Percent'])\n",
        "    return missing_data\n",
        "missing_data(trips)"
      ],
      "execution_count": null,
      "outputs": [
        {
          "output_type": "execute_result",
          "data": {
            "text/html": [
              "<div>\n",
              "<style scoped>\n",
              "    .dataframe tbody tr th:only-of-type {\n",
              "        vertical-align: middle;\n",
              "    }\n",
              "\n",
              "    .dataframe tbody tr th {\n",
              "        vertical-align: top;\n",
              "    }\n",
              "\n",
              "    .dataframe thead th {\n",
              "        text-align: right;\n",
              "    }\n",
              "</style>\n",
              "<table border=\"1\" class=\"dataframe\">\n",
              "  <thead>\n",
              "    <tr style=\"text-align: right;\">\n",
              "      <th></th>\n",
              "      <th>Total</th>\n",
              "      <th>Percent</th>\n",
              "    </tr>\n",
              "  </thead>\n",
              "  <tbody>\n",
              "    <tr>\n",
              "      <th>birth_year</th>\n",
              "      <td>158</td>\n",
              "      <td>13.17</td>\n",
              "    </tr>\n",
              "    <tr>\n",
              "      <th>end_station_name</th>\n",
              "      <td>0</td>\n",
              "      <td>0.00</td>\n",
              "    </tr>\n",
              "    <tr>\n",
              "      <th>start_station_name</th>\n",
              "      <td>0</td>\n",
              "      <td>0.00</td>\n",
              "    </tr>\n",
              "    <tr>\n",
              "      <th>trips_year</th>\n",
              "      <td>0</td>\n",
              "      <td>0.00</td>\n",
              "    </tr>\n",
              "    <tr>\n",
              "      <th>gender</th>\n",
              "      <td>0</td>\n",
              "      <td>0.00</td>\n",
              "    </tr>\n",
              "    <tr>\n",
              "      <th>usertype</th>\n",
              "      <td>0</td>\n",
              "      <td>0.00</td>\n",
              "    </tr>\n",
              "    <tr>\n",
              "      <th>bikeid</th>\n",
              "      <td>0</td>\n",
              "      <td>0.00</td>\n",
              "    </tr>\n",
              "    <tr>\n",
              "      <th>end_station_longitude</th>\n",
              "      <td>0</td>\n",
              "      <td>0.00</td>\n",
              "    </tr>\n",
              "    <tr>\n",
              "      <th>end_station_latitude</th>\n",
              "      <td>0</td>\n",
              "      <td>0.00</td>\n",
              "    </tr>\n",
              "    <tr>\n",
              "      <th>end_station_id</th>\n",
              "      <td>0</td>\n",
              "      <td>0.00</td>\n",
              "    </tr>\n",
              "    <tr>\n",
              "      <th>start_station_longitude</th>\n",
              "      <td>0</td>\n",
              "      <td>0.00</td>\n",
              "    </tr>\n",
              "    <tr>\n",
              "      <th>start_station_latitude</th>\n",
              "      <td>0</td>\n",
              "      <td>0.00</td>\n",
              "    </tr>\n",
              "    <tr>\n",
              "      <th>start_station_id</th>\n",
              "      <td>0</td>\n",
              "      <td>0.00</td>\n",
              "    </tr>\n",
              "    <tr>\n",
              "      <th>stoptime</th>\n",
              "      <td>0</td>\n",
              "      <td>0.00</td>\n",
              "    </tr>\n",
              "    <tr>\n",
              "      <th>starttime</th>\n",
              "      <td>0</td>\n",
              "      <td>0.00</td>\n",
              "    </tr>\n",
              "    <tr>\n",
              "      <th>tripduration</th>\n",
              "      <td>0</td>\n",
              "      <td>0.00</td>\n",
              "    </tr>\n",
              "  </tbody>\n",
              "</table>\n",
              "</div>"
            ],
            "text/plain": [
              "                         Total  Percent\n",
              "birth_year                 158    13.17\n",
              "end_station_name             0     0.00\n",
              "start_station_name           0     0.00\n",
              "trips_year                   0     0.00\n",
              "gender                       0     0.00\n",
              "usertype                     0     0.00\n",
              "bikeid                       0     0.00\n",
              "end_station_longitude        0     0.00\n",
              "end_station_latitude         0     0.00\n",
              "end_station_id               0     0.00\n",
              "start_station_longitude      0     0.00\n",
              "start_station_latitude       0     0.00\n",
              "start_station_id             0     0.00\n",
              "stoptime                     0     0.00\n",
              "starttime                    0     0.00\n",
              "tripduration                 0     0.00"
            ]
          },
          "metadata": {
            "tags": []
          },
          "execution_count": 94
        }
      ]
    },
    {
      "cell_type": "code",
      "metadata": {
        "id": "8LRwJ-0kEgum",
        "colab": {
          "base_uri": "https://localhost:8080/"
        },
        "outputId": "88793b86-3ebf-4076-fd3d-c433605f4744"
      },
      "source": [
        "trips[trips['birth_year'].isna()].head()"
      ],
      "execution_count": null,
      "outputs": [
        {
          "output_type": "execute_result",
          "data": {
            "text/html": [
              "<div>\n",
              "<style scoped>\n",
              "    .dataframe tbody tr th:only-of-type {\n",
              "        vertical-align: middle;\n",
              "    }\n",
              "\n",
              "    .dataframe tbody tr th {\n",
              "        vertical-align: top;\n",
              "    }\n",
              "\n",
              "    .dataframe thead th {\n",
              "        text-align: right;\n",
              "    }\n",
              "</style>\n",
              "<table border=\"1\" class=\"dataframe\">\n",
              "  <thead>\n",
              "    <tr style=\"text-align: right;\">\n",
              "      <th></th>\n",
              "      <th>tripduration</th>\n",
              "      <th>starttime</th>\n",
              "      <th>stoptime</th>\n",
              "      <th>start_station_id</th>\n",
              "      <th>start_station_latitude</th>\n",
              "      <th>start_station_longitude</th>\n",
              "      <th>end_station_id</th>\n",
              "      <th>end_station_latitude</th>\n",
              "      <th>end_station_longitude</th>\n",
              "      <th>bikeid</th>\n",
              "      <th>usertype</th>\n",
              "      <th>birth_year</th>\n",
              "      <th>gender</th>\n",
              "      <th>trips_year</th>\n",
              "      <th>start_station_name</th>\n",
              "      <th>end_station_name</th>\n",
              "    </tr>\n",
              "  </thead>\n",
              "  <tbody>\n",
              "    <tr>\n",
              "      <th>3</th>\n",
              "      <td>1280.0</td>\n",
              "      <td>2017-05-09 13:33:38</td>\n",
              "      <td>2017-05-09 13:54:59</td>\n",
              "      <td>3374.0</td>\n",
              "      <td>40.799484</td>\n",
              "      <td>-73.955613</td>\n",
              "      <td>3226.0</td>\n",
              "      <td>40.782750</td>\n",
              "      <td>-73.971370</td>\n",
              "      <td>25462.0</td>\n",
              "      <td>Customer</td>\n",
              "      <td>NaN</td>\n",
              "      <td>unknown</td>\n",
              "      <td>2017</td>\n",
              "      <td>Central Park North &amp; Adam Clayton Powell Blvd</td>\n",
              "      <td>W 82 St &amp; Central Park West</td>\n",
              "    </tr>\n",
              "    <tr>\n",
              "      <th>4</th>\n",
              "      <td>942.0</td>\n",
              "      <td>2016-09-24 11:19:44</td>\n",
              "      <td>2016-09-24 11:35:27</td>\n",
              "      <td>518.0</td>\n",
              "      <td>40.747804</td>\n",
              "      <td>-73.973442</td>\n",
              "      <td>482.0</td>\n",
              "      <td>40.739355</td>\n",
              "      <td>-73.999318</td>\n",
              "      <td>24895.0</td>\n",
              "      <td>Customer</td>\n",
              "      <td>NaN</td>\n",
              "      <td>unknown</td>\n",
              "      <td>2016</td>\n",
              "      <td>E 39 St &amp; 2 Ave</td>\n",
              "      <td>W 15 St &amp; 7 Ave</td>\n",
              "    </tr>\n",
              "    <tr>\n",
              "      <th>5</th>\n",
              "      <td>1644.0</td>\n",
              "      <td>2017-06-22 22:02:11</td>\n",
              "      <td>2017-06-22 22:29:36</td>\n",
              "      <td>3180.0</td>\n",
              "      <td>40.698780</td>\n",
              "      <td>-73.997120</td>\n",
              "      <td>3180.0</td>\n",
              "      <td>40.698780</td>\n",
              "      <td>-73.997120</td>\n",
              "      <td>15628.0</td>\n",
              "      <td>Customer</td>\n",
              "      <td>NaN</td>\n",
              "      <td>unknown</td>\n",
              "      <td>2017</td>\n",
              "      <td>Brooklyn Bridge Park - Pier 2</td>\n",
              "      <td>Brooklyn Bridge Park - Pier 2</td>\n",
              "    </tr>\n",
              "    <tr>\n",
              "      <th>6</th>\n",
              "      <td>982.0</td>\n",
              "      <td>2017-11-02 18:59:38</td>\n",
              "      <td>2017-11-02 19:16:00</td>\n",
              "      <td>361.0</td>\n",
              "      <td>40.716059</td>\n",
              "      <td>-73.991908</td>\n",
              "      <td>2010.0</td>\n",
              "      <td>40.721655</td>\n",
              "      <td>-74.002347</td>\n",
              "      <td>17943.0</td>\n",
              "      <td>Subscriber</td>\n",
              "      <td>NaN</td>\n",
              "      <td>unknown</td>\n",
              "      <td>2017</td>\n",
              "      <td>Allen St &amp; Hester St</td>\n",
              "      <td>Grand St &amp; Greene St</td>\n",
              "    </tr>\n",
              "    <tr>\n",
              "      <th>7</th>\n",
              "      <td>3934.0</td>\n",
              "      <td>2017-09-09 14:25:54</td>\n",
              "      <td>2017-09-09 15:31:28</td>\n",
              "      <td>3016.0</td>\n",
              "      <td>40.720368</td>\n",
              "      <td>-73.961651</td>\n",
              "      <td>285.0</td>\n",
              "      <td>40.734546</td>\n",
              "      <td>-73.990741</td>\n",
              "      <td>28316.0</td>\n",
              "      <td>Customer</td>\n",
              "      <td>NaN</td>\n",
              "      <td>unknown</td>\n",
              "      <td>2017</td>\n",
              "      <td>Kent Ave &amp; N 7 St</td>\n",
              "      <td>Broadway &amp; E 14 St</td>\n",
              "    </tr>\n",
              "  </tbody>\n",
              "</table>\n",
              "</div>"
            ],
            "text/plain": [
              "   tripduration  ...               end_station_name\n",
              "3        1280.0  ...    W 82 St & Central Park West\n",
              "4         942.0  ...                W 15 St & 7 Ave\n",
              "5        1644.0  ...  Brooklyn Bridge Park - Pier 2\n",
              "6         982.0  ...           Grand St & Greene St\n",
              "7        3934.0  ...             Broadway & E 14 St\n",
              "\n",
              "[5 rows x 16 columns]"
            ]
          },
          "metadata": {
            "tags": []
          },
          "execution_count": 95
        }
      ]
    },
    {
      "cell_type": "code",
      "metadata": {
        "id": "78skZc7MJskr",
        "colab": {
          "base_uri": "https://localhost:8080/"
        },
        "outputId": "202c1f8a-43d3-464b-eed5-9f46a406f358"
      },
      "source": [
        "len(trips[(trips['birth_year'].isna()) & (trips['gender']=='unknown')])"
      ],
      "execution_count": null,
      "outputs": [
        {
          "output_type": "execute_result",
          "data": {
            "text/plain": [
              "158"
            ]
          },
          "metadata": {
            "tags": []
          },
          "execution_count": 96
        }
      ]
    },
    {
      "cell_type": "code",
      "metadata": {
        "id": "KLI1QpvnFC53",
        "colab": {
          "base_uri": "https://localhost:8080/"
        },
        "outputId": "e6d140e2-d319-4226-f0ea-8aae724b259d"
      },
      "source": [
        "len(trips[(trips['birth_year'].isna()) & (trips['gender']!='unknown')])"
      ],
      "execution_count": null,
      "outputs": [
        {
          "output_type": "execute_result",
          "data": {
            "text/plain": [
              "0"
            ]
          },
          "metadata": {
            "tags": []
          },
          "execution_count": 97
        }
      ]
    },
    {
      "cell_type": "code",
      "metadata": {
        "id": "qQg3s-a9LLp4"
      },
      "source": [
        "trips.dropna(axis = 0, inplace=True)"
      ],
      "execution_count": null,
      "outputs": []
    },
    {
      "cell_type": "markdown",
      "metadata": {
        "id": "iPpVskXKgYC0"
      },
      "source": [
        "### Data description"
      ]
    },
    {
      "cell_type": "code",
      "metadata": {
        "colab": {
          "base_uri": "https://localhost:8080/"
        },
        "id": "V9Ag_RHAU25j",
        "outputId": "f434132d-d824-4613-f4c9-7ad17dbf4ea2"
      },
      "source": [
        "trips.dtypes"
      ],
      "execution_count": null,
      "outputs": [
        {
          "output_type": "execute_result",
          "data": {
            "text/plain": [
              "tripduration                      float64\n",
              "starttime                  datetime64[ns]\n",
              "stoptime                   datetime64[ns]\n",
              "start_station_id                  float64\n",
              "start_station_latitude            float64\n",
              "start_station_longitude           float64\n",
              "end_station_id                    float64\n",
              "end_station_latitude              float64\n",
              "end_station_longitude             float64\n",
              "bikeid                            float64\n",
              "usertype                           object\n",
              "birth_year                        float64\n",
              "gender                             object\n",
              "trips_year                          int64\n",
              "start_station_name                 object\n",
              "end_station_name                   object\n",
              "dtype: object"
            ]
          },
          "metadata": {
            "tags": []
          },
          "execution_count": 99
        }
      ]
    },
    {
      "cell_type": "code",
      "metadata": {
        "id": "5LFk2uMdcKM6"
      },
      "source": [
        "#Ensure data is formatted correctly to avoid errors in the visuals\n",
        "#trips['starttime'] = pd.to_datetime(trips['starttime'])\n",
        "#trips['stoptime'] = pd.to_datetime(trips['stoptime'])\n",
        "trips['start_station_id'] = trips['start_station_id'].astype('category')\n",
        "trips['end_station_id'] = trips['end_station_id'].astype('category')\n",
        "trips['bikeid'] = trips['bikeid'].astype('category')\n",
        "trips['birth_year'] = trips['birth_year'].astype('category')\n",
        "trips['trips_year'] = trips['trips_year'].astype('category')"
      ],
      "execution_count": null,
      "outputs": []
    },
    {
      "cell_type": "code",
      "metadata": {
        "id": "iV85yuBQc4AA",
        "colab": {
          "base_uri": "https://localhost:8080/"
        },
        "outputId": "358f76dc-55b3-4ae3-e46c-f02c226fbcdd"
      },
      "source": [
        "round(trips.describe(),2)"
      ],
      "execution_count": null,
      "outputs": [
        {
          "output_type": "execute_result",
          "data": {
            "text/html": [
              "<div>\n",
              "<style scoped>\n",
              "    .dataframe tbody tr th:only-of-type {\n",
              "        vertical-align: middle;\n",
              "    }\n",
              "\n",
              "    .dataframe tbody tr th {\n",
              "        vertical-align: top;\n",
              "    }\n",
              "\n",
              "    .dataframe thead th {\n",
              "        text-align: right;\n",
              "    }\n",
              "</style>\n",
              "<table border=\"1\" class=\"dataframe\">\n",
              "  <thead>\n",
              "    <tr style=\"text-align: right;\">\n",
              "      <th></th>\n",
              "      <th>tripduration</th>\n",
              "      <th>start_station_latitude</th>\n",
              "      <th>start_station_longitude</th>\n",
              "      <th>end_station_latitude</th>\n",
              "      <th>end_station_longitude</th>\n",
              "    </tr>\n",
              "  </thead>\n",
              "  <tbody>\n",
              "    <tr>\n",
              "      <th>count</th>\n",
              "      <td>1042.00</td>\n",
              "      <td>1042.00</td>\n",
              "      <td>1042.00</td>\n",
              "      <td>1042.00</td>\n",
              "      <td>1042.00</td>\n",
              "    </tr>\n",
              "    <tr>\n",
              "      <th>mean</th>\n",
              "      <td>737.74</td>\n",
              "      <td>40.74</td>\n",
              "      <td>-73.99</td>\n",
              "      <td>40.74</td>\n",
              "      <td>-73.99</td>\n",
              "    </tr>\n",
              "    <tr>\n",
              "      <th>std</th>\n",
              "      <td>573.97</td>\n",
              "      <td>0.02</td>\n",
              "      <td>0.02</td>\n",
              "      <td>0.02</td>\n",
              "      <td>0.02</td>\n",
              "    </tr>\n",
              "    <tr>\n",
              "      <th>min</th>\n",
              "      <td>61.00</td>\n",
              "      <td>40.67</td>\n",
              "      <td>-74.02</td>\n",
              "      <td>40.66</td>\n",
              "      <td>-74.02</td>\n",
              "    </tr>\n",
              "    <tr>\n",
              "      <th>25%</th>\n",
              "      <td>358.25</td>\n",
              "      <td>40.72</td>\n",
              "      <td>-74.00</td>\n",
              "      <td>40.72</td>\n",
              "      <td>-74.00</td>\n",
              "    </tr>\n",
              "    <tr>\n",
              "      <th>50%</th>\n",
              "      <td>560.50</td>\n",
              "      <td>40.74</td>\n",
              "      <td>-73.99</td>\n",
              "      <td>40.74</td>\n",
              "      <td>-73.99</td>\n",
              "    </tr>\n",
              "    <tr>\n",
              "      <th>75%</th>\n",
              "      <td>968.00</td>\n",
              "      <td>40.75</td>\n",
              "      <td>-73.98</td>\n",
              "      <td>40.75</td>\n",
              "      <td>-73.98</td>\n",
              "    </tr>\n",
              "    <tr>\n",
              "      <th>max</th>\n",
              "      <td>6386.00</td>\n",
              "      <td>40.81</td>\n",
              "      <td>-73.91</td>\n",
              "      <td>40.80</td>\n",
              "      <td>-73.91</td>\n",
              "    </tr>\n",
              "  </tbody>\n",
              "</table>\n",
              "</div>"
            ],
            "text/plain": [
              "       tripduration  ...  end_station_longitude\n",
              "count       1042.00  ...                1042.00\n",
              "mean         737.74  ...                 -73.99\n",
              "std          573.97  ...                   0.02\n",
              "min           61.00  ...                 -74.02\n",
              "25%          358.25  ...                 -74.00\n",
              "50%          560.50  ...                 -73.99\n",
              "75%          968.00  ...                 -73.98\n",
              "max         6386.00  ...                 -73.91\n",
              "\n",
              "[8 rows x 5 columns]"
            ]
          },
          "metadata": {
            "tags": []
          },
          "execution_count": 101
        }
      ]
    },
    {
      "cell_type": "markdown",
      "metadata": {
        "id": "8x-7jNspgehy"
      },
      "source": [
        "### Remove broken bike data"
      ]
    },
    {
      "cell_type": "code",
      "metadata": {
        "id": "4kpCXYChgiB1"
      },
      "source": [
        "#Drop double count\n",
        "trips = trips.drop(trips.index[(trips['tripduration'] < 90) & \n",
        "                  (trips['start_station_name'] == trips['end_station_name'])])"
      ],
      "execution_count": null,
      "outputs": []
    },
    {
      "cell_type": "markdown",
      "metadata": {
        "id": "bUBiraQCbYDA"
      },
      "source": [
        "### Remove theft bike data"
      ]
    },
    {
      "cell_type": "code",
      "metadata": {
        "colab": {
          "base_uri": "https://localhost:8080/"
        },
        "id": "1TMHIwJUWrJz",
        "outputId": "90992554-8eea-4338-b901-c5ec267578eb"
      },
      "source": [
        "trips[trips['usertype']=='Subscriber'].quantile([.1, .25, .5, .75], axis = 0)"
      ],
      "execution_count": null,
      "outputs": [
        {
          "output_type": "execute_result",
          "data": {
            "text/html": [
              "<div>\n",
              "<style scoped>\n",
              "    .dataframe tbody tr th:only-of-type {\n",
              "        vertical-align: middle;\n",
              "    }\n",
              "\n",
              "    .dataframe tbody tr th {\n",
              "        vertical-align: top;\n",
              "    }\n",
              "\n",
              "    .dataframe thead th {\n",
              "        text-align: right;\n",
              "    }\n",
              "</style>\n",
              "<table border=\"1\" class=\"dataframe\">\n",
              "  <thead>\n",
              "    <tr style=\"text-align: right;\">\n",
              "      <th></th>\n",
              "      <th>tripduration</th>\n",
              "      <th>start_station_latitude</th>\n",
              "      <th>start_station_longitude</th>\n",
              "      <th>end_station_latitude</th>\n",
              "      <th>end_station_longitude</th>\n",
              "    </tr>\n",
              "  </thead>\n",
              "  <tbody>\n",
              "    <tr>\n",
              "      <th>0.10</th>\n",
              "      <td>229.2</td>\n",
              "      <td>40.705310</td>\n",
              "      <td>-74.005226</td>\n",
              "      <td>40.703652</td>\n",
              "      <td>-74.005139</td>\n",
              "    </tr>\n",
              "    <tr>\n",
              "      <th>0.25</th>\n",
              "      <td>359.0</td>\n",
              "      <td>40.720434</td>\n",
              "      <td>-73.995299</td>\n",
              "      <td>40.720664</td>\n",
              "      <td>-73.997044</td>\n",
              "    </tr>\n",
              "    <tr>\n",
              "      <th>0.50</th>\n",
              "      <td>560.0</td>\n",
              "      <td>40.737815</td>\n",
              "      <td>-73.987882</td>\n",
              "      <td>40.736245</td>\n",
              "      <td>-73.989111</td>\n",
              "    </tr>\n",
              "    <tr>\n",
              "      <th>0.75</th>\n",
              "      <td>961.0</td>\n",
              "      <td>40.751873</td>\n",
              "      <td>-73.977112</td>\n",
              "      <td>40.751726</td>\n",
              "      <td>-73.977910</td>\n",
              "    </tr>\n",
              "  </tbody>\n",
              "</table>\n",
              "</div>"
            ],
            "text/plain": [
              "      tripduration  ...  end_station_longitude\n",
              "0.10         229.2  ...             -74.005139\n",
              "0.25         359.0  ...             -73.997044\n",
              "0.50         560.0  ...             -73.989111\n",
              "0.75         961.0  ...             -73.977910\n",
              "\n",
              "[4 rows x 5 columns]"
            ]
          },
          "metadata": {
            "tags": []
          },
          "execution_count": 103
        }
      ]
    },
    {
      "cell_type": "code",
      "metadata": {
        "colab": {
          "base_uri": "https://localhost:8080/"
        },
        "id": "ItrAvV-bXKkv",
        "outputId": "c8324a7e-a22b-4d77-f6f5-d4a32c0b074f"
      },
      "source": [
        "trips[trips['usertype']=='Customer'].quantile([.1, .25, .5, .75], axis = 0)"
      ],
      "execution_count": null,
      "outputs": [
        {
          "output_type": "execute_result",
          "data": {
            "text/html": [
              "<div>\n",
              "<style scoped>\n",
              "    .dataframe tbody tr th:only-of-type {\n",
              "        vertical-align: middle;\n",
              "    }\n",
              "\n",
              "    .dataframe tbody tr th {\n",
              "        vertical-align: top;\n",
              "    }\n",
              "\n",
              "    .dataframe thead th {\n",
              "        text-align: right;\n",
              "    }\n",
              "</style>\n",
              "<table border=\"1\" class=\"dataframe\">\n",
              "  <thead>\n",
              "    <tr style=\"text-align: right;\">\n",
              "      <th></th>\n",
              "      <th>tripduration</th>\n",
              "      <th>start_station_latitude</th>\n",
              "      <th>start_station_longitude</th>\n",
              "      <th>end_station_latitude</th>\n",
              "      <th>end_station_longitude</th>\n",
              "    </tr>\n",
              "  </thead>\n",
              "  <tbody>\n",
              "    <tr>\n",
              "      <th>0.10</th>\n",
              "      <td>695.00</td>\n",
              "      <td>40.711015</td>\n",
              "      <td>-74.010048</td>\n",
              "      <td>40.704487</td>\n",
              "      <td>-74.007979</td>\n",
              "    </tr>\n",
              "    <tr>\n",
              "      <th>0.25</th>\n",
              "      <td>1183.75</td>\n",
              "      <td>40.717590</td>\n",
              "      <td>-74.003804</td>\n",
              "      <td>40.709658</td>\n",
              "      <td>-74.001573</td>\n",
              "    </tr>\n",
              "    <tr>\n",
              "      <th>0.50</th>\n",
              "      <td>2063.00</td>\n",
              "      <td>40.742549</td>\n",
              "      <td>-73.982469</td>\n",
              "      <td>40.738687</td>\n",
              "      <td>-73.985818</td>\n",
              "    </tr>\n",
              "    <tr>\n",
              "      <th>0.75</th>\n",
              "      <td>2652.00</td>\n",
              "      <td>40.764255</td>\n",
              "      <td>-73.974754</td>\n",
              "      <td>40.765909</td>\n",
              "      <td>-73.977736</td>\n",
              "    </tr>\n",
              "  </tbody>\n",
              "</table>\n",
              "</div>"
            ],
            "text/plain": [
              "      tripduration  ...  end_station_longitude\n",
              "0.10        695.00  ...             -74.007979\n",
              "0.25       1183.75  ...             -74.001573\n",
              "0.50       2063.00  ...             -73.985818\n",
              "0.75       2652.00  ...             -73.977736\n",
              "\n",
              "[4 rows x 5 columns]"
            ]
          },
          "metadata": {
            "tags": []
          },
          "execution_count": 104
        }
      ]
    },
    {
      "cell_type": "code",
      "metadata": {
        "colab": {
          "base_uri": "https://localhost:8080/"
        },
        "id": "bw9-HIFLXRSa",
        "outputId": "d0f26d22-a270-4c72-9ac1-a125c513a819"
      },
      "source": [
        "trips.quantile([.1, .25, .5, .75], axis = 0)"
      ],
      "execution_count": null,
      "outputs": [
        {
          "output_type": "execute_result",
          "data": {
            "text/html": [
              "<div>\n",
              "<style scoped>\n",
              "    .dataframe tbody tr th:only-of-type {\n",
              "        vertical-align: middle;\n",
              "    }\n",
              "\n",
              "    .dataframe tbody tr th {\n",
              "        vertical-align: top;\n",
              "    }\n",
              "\n",
              "    .dataframe thead th {\n",
              "        text-align: right;\n",
              "    }\n",
              "</style>\n",
              "<table border=\"1\" class=\"dataframe\">\n",
              "  <thead>\n",
              "    <tr style=\"text-align: right;\">\n",
              "      <th></th>\n",
              "      <th>tripduration</th>\n",
              "      <th>start_station_latitude</th>\n",
              "      <th>start_station_longitude</th>\n",
              "      <th>end_station_latitude</th>\n",
              "      <th>end_station_longitude</th>\n",
              "    </tr>\n",
              "  </thead>\n",
              "  <tbody>\n",
              "    <tr>\n",
              "      <th>0.10</th>\n",
              "      <td>229.8</td>\n",
              "      <td>40.705310</td>\n",
              "      <td>-74.005301</td>\n",
              "      <td>40.703632</td>\n",
              "      <td>-74.005139</td>\n",
              "    </tr>\n",
              "    <tr>\n",
              "      <th>0.25</th>\n",
              "      <td>359.5</td>\n",
              "      <td>40.720401</td>\n",
              "      <td>-73.995299</td>\n",
              "      <td>40.720315</td>\n",
              "      <td>-73.997045</td>\n",
              "    </tr>\n",
              "    <tr>\n",
              "      <th>0.50</th>\n",
              "      <td>563.0</td>\n",
              "      <td>40.737815</td>\n",
              "      <td>-73.987882</td>\n",
              "      <td>40.736245</td>\n",
              "      <td>-73.989111</td>\n",
              "    </tr>\n",
              "    <tr>\n",
              "      <th>0.75</th>\n",
              "      <td>968.5</td>\n",
              "      <td>40.751873</td>\n",
              "      <td>-73.977086</td>\n",
              "      <td>40.751726</td>\n",
              "      <td>-73.977910</td>\n",
              "    </tr>\n",
              "  </tbody>\n",
              "</table>\n",
              "</div>"
            ],
            "text/plain": [
              "      tripduration  ...  end_station_longitude\n",
              "0.10         229.8  ...             -74.005139\n",
              "0.25         359.5  ...             -73.997045\n",
              "0.50         563.0  ...             -73.989111\n",
              "0.75         968.5  ...             -73.977910\n",
              "\n",
              "[4 rows x 5 columns]"
            ]
          },
          "metadata": {
            "tags": []
          },
          "execution_count": 105
        }
      ]
    },
    {
      "cell_type": "code",
      "metadata": {
        "id": "u8R9yU3KbizM"
      },
      "source": [
        "#Remove anomalies\n",
        "trips = trips.drop(trips.index[(trips['tripduration'] >= 7200)])"
      ],
      "execution_count": null,
      "outputs": []
    },
    {
      "cell_type": "markdown",
      "metadata": {
        "id": "UmWjBWNr40lO"
      },
      "source": [
        "### Export dataset"
      ]
    },
    {
      "cell_type": "code",
      "metadata": {
        "id": "jdSsu4xh43FC"
      },
      "source": [
        "trips.to_csv (r'trips_cleaned.csv', index = False, header=True)"
      ],
      "execution_count": null,
      "outputs": []
    },
    {
      "cell_type": "markdown",
      "metadata": {
        "id": "n9LCb0o9GfRC"
      },
      "source": [
        "## Part 1: Top 5 Start Stations"
      ]
    },
    {
      "cell_type": "code",
      "metadata": {
        "id": "DkkqY_2xGeP_",
        "colab": {
          "base_uri": "https://localhost:8080/"
        },
        "outputId": "616c1dfe-43a2-447e-fb42-d8379290ffa9"
      },
      "source": [
        "#Data for Top 5 Stations\n",
        "top5 = trips.groupby('trips_year')['start_station_name'].value_counts().reset_index(name='number_of_start').groupby(['start_station_name']).mean()\n",
        "top5 = pd.DataFrame(top5.to_records()).sort_values(by=['number_of_start'],ascending=False).head(5)\n",
        "top5"
      ],
      "execution_count": null,
      "outputs": [
        {
          "output_type": "execute_result",
          "data": {
            "text/html": [
              "<div>\n",
              "<style scoped>\n",
              "    .dataframe tbody tr th:only-of-type {\n",
              "        vertical-align: middle;\n",
              "    }\n",
              "\n",
              "    .dataframe tbody tr th {\n",
              "        vertical-align: top;\n",
              "    }\n",
              "\n",
              "    .dataframe thead th {\n",
              "        text-align: right;\n",
              "    }\n",
              "</style>\n",
              "<table border=\"1\" class=\"dataframe\">\n",
              "  <thead>\n",
              "    <tr style=\"text-align: right;\">\n",
              "      <th></th>\n",
              "      <th>start_station_name</th>\n",
              "      <th>number_of_start</th>\n",
              "    </tr>\n",
              "  </thead>\n",
              "  <tbody>\n",
              "    <tr>\n",
              "      <th>185</th>\n",
              "      <td>E 6 St &amp; Avenue B</td>\n",
              "      <td>6.0</td>\n",
              "    </tr>\n",
              "    <tr>\n",
              "      <th>338</th>\n",
              "      <td>W 13 St &amp; Hudson St</td>\n",
              "      <td>5.0</td>\n",
              "    </tr>\n",
              "    <tr>\n",
              "      <th>139</th>\n",
              "      <td>E 17 St &amp; Broadway</td>\n",
              "      <td>5.0</td>\n",
              "    </tr>\n",
              "    <tr>\n",
              "      <th>358</th>\n",
              "      <td>W 33 St &amp; 7 Ave</td>\n",
              "      <td>5.0</td>\n",
              "    </tr>\n",
              "    <tr>\n",
              "      <th>83</th>\n",
              "      <td>Broadway &amp; W 60 St</td>\n",
              "      <td>5.0</td>\n",
              "    </tr>\n",
              "  </tbody>\n",
              "</table>\n",
              "</div>"
            ],
            "text/plain": [
              "      start_station_name  number_of_start\n",
              "185    E 6 St & Avenue B              6.0\n",
              "338  W 13 St & Hudson St              5.0\n",
              "139   E 17 St & Broadway              5.0\n",
              "358      W 33 St & 7 Ave              5.0\n",
              "83    Broadway & W 60 St              5.0"
            ]
          },
          "metadata": {
            "tags": []
          },
          "execution_count": 108
        }
      ]
    },
    {
      "cell_type": "code",
      "metadata": {
        "id": "yvkeK1fIEv2F",
        "colab": {
          "base_uri": "https://localhost:8080/"
        },
        "outputId": "7ed72e96-9e49-46a1-bb92-92dba5d8e8d8"
      },
      "source": [
        "#Barplot\n",
        "ax1 = sns.barplot(x='start_station_name', y='number_of_start', data = top5, palette=\"GnBu_d\")\n",
        "plt.xticks(rotation=45)\n",
        "plt.show()"
      ],
      "execution_count": null,
      "outputs": [
        {
          "output_type": "display_data",
          "data": {
            "image/png": "[encoded data removed]",
            "text/plain": [
              "<Figure size 864x576 with 1 Axes>"
            ]
          },
          "metadata": {
            "tags": []
          }
        }
      ]
    },
    {
      "cell_type": "markdown",
      "metadata": {
        "id": "QYK8Ys98az60"
      },
      "source": [
        "## Part 2: Trip Duration by User Type"
      ]
    },
    {
      "cell_type": "code",
      "metadata": {
        "colab": {
          "base_uri": "https://localhost:8080/"
        },
        "id": "DlTb-MawDcT5",
        "outputId": "be55bf23-729c-42dc-a24b-774d7171834a"
      },
      "source": [
        "#pd.unique(trips.usertype)\n",
        "a = trips.loc[trips['trips_year'] == 2015]\n",
        "pd.unique(a.usertype)"
      ],
      "execution_count": null,
      "outputs": [
        {
          "output_type": "execute_result",
          "data": {
            "text/plain": [
              "array(['Subscriber'], dtype=object)"
            ]
          },
          "metadata": {
            "tags": []
          },
          "execution_count": 110
        }
      ]
    },
    {
      "cell_type": "code",
      "metadata": {
        "colab": {
          "base_uri": "https://localhost:8080/"
        },
        "id": "s1pjglN5g6QC",
        "outputId": "d9aa5b8d-eb21-46a1-e349-da3aa77dee7b"
      },
      "source": [
        "#Data for Top 5 Stations visual\n",
        "TD_user = round(trips.groupby(['trips_year','usertype'])['tripduration'].mean().reset_index(name='avg_tripduration'),2)\n",
        "TD_user = TD_user.dropna(subset=['avg_tripduration'])\n",
        "TD_user = pd.DataFrame(TD_user.to_records())\n",
        "TD_user"
      ],
      "execution_count": null,
      "outputs": [
        {
          "output_type": "execute_result",
          "data": {
            "text/html": [
              "<div>\n",
              "<style scoped>\n",
              "    .dataframe tbody tr th:only-of-type {\n",
              "        vertical-align: middle;\n",
              "    }\n",
              "\n",
              "    .dataframe tbody tr th {\n",
              "        vertical-align: top;\n",
              "    }\n",
              "\n",
              "    .dataframe thead th {\n",
              "        text-align: right;\n",
              "    }\n",
              "</style>\n",
              "<table border=\"1\" class=\"dataframe\">\n",
              "  <thead>\n",
              "    <tr style=\"text-align: right;\">\n",
              "      <th></th>\n",
              "      <th>index</th>\n",
              "      <th>trips_year</th>\n",
              "      <th>usertype</th>\n",
              "      <th>avg_tripduration</th>\n",
              "    </tr>\n",
              "  </thead>\n",
              "  <tbody>\n",
              "    <tr>\n",
              "      <th>0</th>\n",
              "      <td>1</td>\n",
              "      <td>2015</td>\n",
              "      <td>Subscriber</td>\n",
              "      <td>691.05</td>\n",
              "    </tr>\n",
              "    <tr>\n",
              "      <th>1</th>\n",
              "      <td>2</td>\n",
              "      <td>2016</td>\n",
              "      <td>Customer</td>\n",
              "      <td>2496.00</td>\n",
              "    </tr>\n",
              "    <tr>\n",
              "      <th>2</th>\n",
              "      <td>3</td>\n",
              "      <td>2016</td>\n",
              "      <td>Subscriber</td>\n",
              "      <td>742.64</td>\n",
              "    </tr>\n",
              "    <tr>\n",
              "      <th>3</th>\n",
              "      <td>4</td>\n",
              "      <td>2017</td>\n",
              "      <td>Customer</td>\n",
              "      <td>1802.60</td>\n",
              "    </tr>\n",
              "    <tr>\n",
              "      <th>4</th>\n",
              "      <td>5</td>\n",
              "      <td>2017</td>\n",
              "      <td>Subscriber</td>\n",
              "      <td>753.62</td>\n",
              "    </tr>\n",
              "  </tbody>\n",
              "</table>\n",
              "</div>"
            ],
            "text/plain": [
              "   index  trips_year    usertype  avg_tripduration\n",
              "0      1        2015  Subscriber            691.05\n",
              "1      2        2016    Customer           2496.00\n",
              "2      3        2016  Subscriber            742.64\n",
              "3      4        2017    Customer           1802.60\n",
              "4      5        2017  Subscriber            753.62"
            ]
          },
          "metadata": {
            "tags": []
          },
          "execution_count": 111
        }
      ]
    },
    {
      "cell_type": "code",
      "metadata": {
        "colab": {
          "base_uri": "https://localhost:8080/"
        },
        "id": "_WkZhapnjnX7",
        "outputId": "abdd8677-03bb-4a36-cc56-fd36be0b62d3"
      },
      "source": [
        "sns.boxplot(x='trips_year', y='tripduration', hue='usertype', data=trips, showfliers=True)\n",
        "plt.title(\"usertype vs tripduration\", fontsize= 12)\n",
        "plt.show()"
      ],
      "execution_count": null,
      "outputs": [
        {
          "output_type": "display_data",
          "data": {
            "image/png": "[encoded data removed]",
            "text/plain": [
              "<Figure size 864x576 with 1 Axes>"
            ]
          },
          "metadata": {
            "tags": []
          }
        }
      ]
    },
    {
      "cell_type": "code",
      "metadata": {
        "colab": {
          "base_uri": "https://localhost:8080/"
        },
        "id": "wvsXWFWPZNET",
        "outputId": "c2d4ae25-3029-4ffd-8c0e-cb94646e8cfb"
      },
      "source": [
        "sns.boxplot(x='trips_year', y='tripduration', hue='usertype', data=trips, showfliers=False)\n",
        "plt.title(\"usertype vs tripduration\", fontsize= 12)\n",
        "plt.show()"
      ],
      "execution_count": null,
      "outputs": [
        {
          "output_type": "display_data",
          "data": {
            "image/png": "[encoded data removed]",
            "text/plain": [
              "<Figure size 864x576 with 1 Axes>"
            ]
          },
          "metadata": {
            "tags": []
          }
        }
      ]
    },
    {
      "cell_type": "code",
      "metadata": {
        "colab": {
          "base_uri": "https://localhost:8080/"
        },
        "id": "qVsDv-y-b4z5",
        "outputId": "31a181af-b505-4a1b-d1a4-bf6a8bb09f82"
      },
      "source": [
        "len(trips[(trips['usertype']=='Customer') & (trips['trips_year']==2016)])"
      ],
      "execution_count": null,
      "outputs": [
        {
          "output_type": "execute_result",
          "data": {
            "text/plain": [
              "1"
            ]
          },
          "metadata": {
            "tags": []
          },
          "execution_count": 114
        }
      ]
    },
    {
      "cell_type": "markdown",
      "metadata": {
        "id": "vjqRnfOfE8iQ"
      },
      "source": [
        "## Part 3: Most Popular Trip"
      ]
    },
    {
      "cell_type": "code",
      "metadata": {
        "id": "AReENLZSN-LF",
        "colab": {
          "base_uri": "https://localhost:8080/"
        },
        "outputId": "865c8579-6dd1-40df-c2b7-5835344be075"
      },
      "source": [
        "#Identify the 10 most popular trips\n",
        "route = pd.DataFrame()\n",
        "route = trips.groupby(['trips_year','start_station_name','end_station_name']).size().reset_index(name = 'number_of_trips')\n",
        "route[\"trip\"] = route[\"start_station_name\"] + \" -- \" + route[\"end_station_name\"]\n",
        "route = route.drop(['start_station_name', \"end_station_name\"], axis = 1)\n",
        "route = route.groupby(['trip'])['number_of_trips'].mean().reset_index(name = 'number_of_trips')\n",
        "route = route.sort_values('number_of_trips', ascending = False).head(10)\n",
        "route"
      ],
      "execution_count": null,
      "outputs": [
        {
          "output_type": "execute_result",
          "data": {
            "text/html": [
              "<div>\n",
              "<style scoped>\n",
              "    .dataframe tbody tr th:only-of-type {\n",
              "        vertical-align: middle;\n",
              "    }\n",
              "\n",
              "    .dataframe tbody tr th {\n",
              "        vertical-align: top;\n",
              "    }\n",
              "\n",
              "    .dataframe thead th {\n",
              "        text-align: right;\n",
              "    }\n",
              "</style>\n",
              "<table border=\"1\" class=\"dataframe\">\n",
              "  <thead>\n",
              "    <tr style=\"text-align: right;\">\n",
              "      <th></th>\n",
              "      <th>trip</th>\n",
              "      <th>number_of_trips</th>\n",
              "    </tr>\n",
              "  </thead>\n",
              "  <tbody>\n",
              "    <tr>\n",
              "      <th>237</th>\n",
              "      <td>1 Ave &amp; E 15 St -- Lafayette St &amp; E 8 St</td>\n",
              "      <td>1.000000</td>\n",
              "    </tr>\n",
              "    <tr>\n",
              "      <th>141334</th>\n",
              "      <td>W 26 St &amp; 8 Ave -- E 17 St &amp; Broadway</td>\n",
              "      <td>1.000000</td>\n",
              "    </tr>\n",
              "    <tr>\n",
              "      <th>16532</th>\n",
              "      <td>9 Ave &amp; W 16 St -- E 16 St &amp; 5 Ave</td>\n",
              "      <td>0.666667</td>\n",
              "    </tr>\n",
              "    <tr>\n",
              "      <th>51518</th>\n",
              "      <td>E 11 St &amp; 2 Ave -- University Pl &amp; E 14 St</td>\n",
              "      <td>0.666667</td>\n",
              "    </tr>\n",
              "    <tr>\n",
              "      <th>31945</th>\n",
              "      <td>Broadway &amp; W 49 St -- W 31 St &amp; 7 Ave</td>\n",
              "      <td>0.666667</td>\n",
              "    </tr>\n",
              "    <tr>\n",
              "      <th>27714</th>\n",
              "      <td>Broadway &amp; E 14 St -- Cooper Square &amp; E 7 St</td>\n",
              "      <td>0.666667</td>\n",
              "    </tr>\n",
              "    <tr>\n",
              "      <th>52930</th>\n",
              "      <td>E 12 St &amp; 3 Ave -- E 13 St &amp; Avenue A</td>\n",
              "      <td>0.666667</td>\n",
              "    </tr>\n",
              "    <tr>\n",
              "      <th>22618</th>\n",
              "      <td>Bank St &amp; Washington St -- Greenwich Ave &amp; 8 Ave</td>\n",
              "      <td>0.666667</td>\n",
              "    </tr>\n",
              "    <tr>\n",
              "      <th>66805</th>\n",
              "      <td>E 47 St &amp; 2 Ave -- 1 Ave &amp; E 78 St</td>\n",
              "      <td>0.666667</td>\n",
              "    </tr>\n",
              "    <tr>\n",
              "      <th>138050</th>\n",
              "      <td>W 20 St &amp; 11 Ave -- Bank St &amp; Washington St</td>\n",
              "      <td>0.666667</td>\n",
              "    </tr>\n",
              "  </tbody>\n",
              "</table>\n",
              "</div>"
            ],
            "text/plain": [
              "                                                    trip  number_of_trips\n",
              "237             1 Ave & E 15 St -- Lafayette St & E 8 St         1.000000\n",
              "141334             W 26 St & 8 Ave -- E 17 St & Broadway         1.000000\n",
              "16532                 9 Ave & W 16 St -- E 16 St & 5 Ave         0.666667\n",
              "51518         E 11 St & 2 Ave -- University Pl & E 14 St         0.666667\n",
              "31945              Broadway & W 49 St -- W 31 St & 7 Ave         0.666667\n",
              "27714       Broadway & E 14 St -- Cooper Square & E 7 St         0.666667\n",
              "52930              E 12 St & 3 Ave -- E 13 St & Avenue A         0.666667\n",
              "22618   Bank St & Washington St -- Greenwich Ave & 8 Ave         0.666667\n",
              "66805                 E 47 St & 2 Ave -- 1 Ave & E 78 St         0.666667\n",
              "138050       W 20 St & 11 Ave -- Bank St & Washington St         0.666667"
            ]
          },
          "metadata": {
            "tags": []
          },
          "execution_count": 115
        }
      ]
    },
    {
      "cell_type": "code",
      "metadata": {
        "id": "mEMdCKC8GPl6",
        "colab": {
          "base_uri": "https://localhost:8080/"
        },
        "outputId": "661e9e81-d84e-4d82-f408-91f1237a39a0"
      },
      "source": [
        "#Barplot\n",
        "ax2 = sns.barplot(x='number_of_trips', y='trip', data = route, palette=\"GnBu_d\") #hue='trips_year'\n",
        "ax2.set_title('Most Popular Trips', fontsize = 12)\n",
        "plt.show()"
      ],
      "execution_count": null,
      "outputs": [
        {
          "output_type": "display_data",
          "data": {
            "image/png": "[encoded data removed]",
            "text/plain": [
              "<Figure size 864x576 with 1 Axes>"
            ]
          },
          "metadata": {
            "tags": []
          }
        }
      ]
    },
    {
      "cell_type": "markdown",
      "metadata": {
        "id": "lGR8T-sMTIYV"
      },
      "source": [
        "## Part 4: Rider Behaviour by Gender and Age"
      ]
    },
    {
      "cell_type": "code",
      "metadata": {
        "id": "xaUZEOdILM0n",
        "colab": {
          "base_uri": "https://localhost:8080/"
        },
        "outputId": "2c5bc948-b9ed-48f1-8563-e3baa28afb29"
      },
      "source": [
        "behav = trips[[\"tripduration\", \"start_station_latitude\", \"start_station_longitude\", \"end_station_latitude\", \"end_station_longitude\", \"birth_year\", \"gender\", \"trips_year\"]]\n",
        "behav['age'] = 2017 - trips['birth_year'].astype(int)\n",
        "behav.head(2)"
      ],
      "execution_count": null,
      "outputs": [
        {
          "output_type": "stream",
          "text": [
            "/usr/local/lib/python3.7/dist-packages/ipykernel_launcher.py:2: SettingWithCopyWarning: \n",
            "A value is trying to be set on a copy of a slice from a DataFrame.\n",
            "Try using .loc[row_indexer,col_indexer] = value instead\n",
            "\n",
            "See the caveats in the documentation: https://pandas.pydata.org/pandas-docs/stable/user_guide/indexing.html#returning-a-view-versus-a-copy\n",
            "  \n"
          ],
          "name": "stderr"
        },
        {
          "output_type": "execute_result",
          "data": {
            "text/html": [
              "<div>\n",
              "<style scoped>\n",
              "    .dataframe tbody tr th:only-of-type {\n",
              "        vertical-align: middle;\n",
              "    }\n",
              "\n",
              "    .dataframe tbody tr th {\n",
              "        vertical-align: top;\n",
              "    }\n",
              "\n",
              "    .dataframe thead th {\n",
              "        text-align: right;\n",
              "    }\n",
              "</style>\n",
              "<table border=\"1\" class=\"dataframe\">\n",
              "  <thead>\n",
              "    <tr style=\"text-align: right;\">\n",
              "      <th></th>\n",
              "      <th>tripduration</th>\n",
              "      <th>start_station_latitude</th>\n",
              "      <th>start_station_longitude</th>\n",
              "      <th>end_station_latitude</th>\n",
              "      <th>end_station_longitude</th>\n",
              "      <th>birth_year</th>\n",
              "      <th>gender</th>\n",
              "      <th>trips_year</th>\n",
              "      <th>age</th>\n",
              "    </tr>\n",
              "  </thead>\n",
              "  <tbody>\n",
              "    <tr>\n",
              "      <th>0</th>\n",
              "      <td>2103.0</td>\n",
              "      <td>40.694749</td>\n",
              "      <td>-73.983625</td>\n",
              "      <td>40.734546</td>\n",
              "      <td>-73.990741</td>\n",
              "      <td>1946.0</td>\n",
              "      <td>female</td>\n",
              "      <td>2017</td>\n",
              "      <td>71</td>\n",
              "    </tr>\n",
              "    <tr>\n",
              "      <th>1</th>\n",
              "      <td>692.0</td>\n",
              "      <td>40.714215</td>\n",
              "      <td>-73.981346</td>\n",
              "      <td>40.718502</td>\n",
              "      <td>-73.983299</td>\n",
              "      <td>2000.0</td>\n",
              "      <td>male</td>\n",
              "      <td>2016</td>\n",
              "      <td>17</td>\n",
              "    </tr>\n",
              "  </tbody>\n",
              "</table>\n",
              "</div>"
            ],
            "text/plain": [
              "   tripduration  start_station_latitude  ...  trips_year  age\n",
              "0        2103.0               40.694749  ...        2017   71\n",
              "1         692.0               40.714215  ...        2016   17\n",
              "\n",
              "[2 rows x 9 columns]"
            ]
          },
          "metadata": {
            "tags": []
          },
          "execution_count": 117
        }
      ]
    },
    {
      "cell_type": "code",
      "metadata": {
        "id": "OmmuyYhRVZ-O"
      },
      "source": [
        "from math import radians, cos, sin, asin, sqrt\n",
        "\n",
        "def haversine(lat1, lon1, lat2, lon2):\n",
        "\n",
        "      R = 3959.87433 # this is in miles.  For Earth radius in kilometers use 6372.8 km\n",
        "\n",
        "      dLat = radians(lat2 - lat1)\n",
        "      dLon = radians(lon2 - lon1)\n",
        "      lat1 = radians(lat1)\n",
        "      lat2 = radians(lat2)\n",
        "\n",
        "      a = sin(dLat/2)**2 + cos(lat1)*cos(lat2)*sin(dLon/2)**2\n",
        "      c = 2*asin(sqrt(a))\n",
        "\n",
        "      return R * c"
      ],
      "execution_count": null,
      "outputs": []
    },
    {
      "cell_type": "code",
      "metadata": {
        "id": "Z5fuxdNdYH2V"
      },
      "source": [
        "dist = []\n",
        "for ind in trips.index:\n",
        "    jarak = round(haversine(behav['start_station_latitude'][ind], behav['start_station_longitude'][ind],\n",
        "                      behav['end_station_latitude'][ind], behav['end_station_longitude'][ind]),2)\n",
        "    dist.append((jarak))\n",
        "cols=['jarak']\n",
        "\n",
        "result = pd.DataFrame(dist, columns=cols)"
      ],
      "execution_count": null,
      "outputs": []
    },
    {
      "cell_type": "code",
      "metadata": {
        "id": "zWUwNhXaZboA",
        "colab": {
          "base_uri": "https://localhost:8080/"
        },
        "outputId": "3aa2074b-9009-4252-c3c5-b23bca07c2ec"
      },
      "source": [
        "behav['distance'] = dist"
      ],
      "execution_count": null,
      "outputs": [
        {
          "output_type": "stream",
          "text": [
            "/usr/local/lib/python3.7/dist-packages/ipykernel_launcher.py:1: SettingWithCopyWarning: \n",
            "A value is trying to be set on a copy of a slice from a DataFrame.\n",
            "Try using .loc[row_indexer,col_indexer] = value instead\n",
            "\n",
            "See the caveats in the documentation: https://pandas.pydata.org/pandas-docs/stable/user_guide/indexing.html#returning-a-view-versus-a-copy\n",
            "  \"\"\"Entry point for launching an IPython kernel.\n"
          ],
          "name": "stderr"
        }
      ]
    },
    {
      "cell_type": "code",
      "metadata": {
        "id": "ncfdXr7bcUNc"
      },
      "source": [
        "#drop circular round trips\n",
        "behav = behav.drop(behav.index[(behav['distance'] == 0)])"
      ],
      "execution_count": null,
      "outputs": []
    },
    {
      "cell_type": "code",
      "metadata": {
        "id": "u3AU61bBe3p8",
        "colab": {
          "base_uri": "https://localhost:8080/"
        },
        "outputId": "746a36db-e9a7-4d08-884c-27fe8625a704"
      },
      "source": [
        "pd.unique(behav.gender)"
      ],
      "execution_count": null,
      "outputs": [
        {
          "output_type": "execute_result",
          "data": {
            "text/plain": [
              "array(['female', 'male', 'unknown'], dtype=object)"
            ]
          },
          "metadata": {
            "tags": []
          },
          "execution_count": 122
        }
      ]
    },
    {
      "cell_type": "code",
      "metadata": {
        "id": "PYeU-ts6hlOM",
        "colab": {
          "base_uri": "https://localhost:8080/"
        },
        "outputId": "9e1aabf7-a1fc-419c-a6c7-b473aa338406"
      },
      "source": [
        "len(behav[behav['gender'] == 'unknown'])"
      ],
      "execution_count": null,
      "outputs": [
        {
          "output_type": "execute_result",
          "data": {
            "text/plain": [
              "1"
            ]
          },
          "metadata": {
            "tags": []
          },
          "execution_count": 123
        }
      ]
    },
    {
      "cell_type": "code",
      "metadata": {
        "id": "LhT91l-8N516",
        "colab": {
          "base_uri": "https://localhost:8080/"
        },
        "outputId": "40757bd7-a32a-4ddc-d5fb-e2b5c3128ba1"
      },
      "source": [
        "len(behav)"
      ],
      "execution_count": null,
      "outputs": [
        {
          "output_type": "execute_result",
          "data": {
            "text/plain": [
              "1026"
            ]
          },
          "metadata": {
            "tags": []
          },
          "execution_count": 124
        }
      ]
    },
    {
      "cell_type": "code",
      "metadata": {
        "id": "cjMaY6RpOV8C",
        "colab": {
          "base_uri": "https://localhost:8080/"
        },
        "outputId": "aecf18e6-042d-472f-ea08-b5b9afbcb016"
      },
      "source": [
        "len(behav.index[(behav['age'] >= 100)])"
      ],
      "execution_count": null,
      "outputs": [
        {
          "output_type": "execute_result",
          "data": {
            "text/plain": [
              "0"
            ]
          },
          "metadata": {
            "tags": []
          },
          "execution_count": 125
        }
      ]
    },
    {
      "cell_type": "code",
      "metadata": {
        "id": "AvfdcIItdASW"
      },
      "source": [
        "behav['mile_per_hour'] = round(behav['distance']/(behav['tripduration']/3600),2)"
      ],
      "execution_count": null,
      "outputs": []
    },
    {
      "cell_type": "code",
      "metadata": {
        "id": "c_B2HP6ifSeX",
        "colab": {
          "base_uri": "https://localhost:8080/"
        },
        "outputId": "88ccbe12-9aa3-4017-ef40-9467a8d63feb"
      },
      "source": [
        "round(behav.describe(),2)"
      ],
      "execution_count": null,
      "outputs": [
        {
          "output_type": "execute_result",
          "data": {
            "text/html": [
              "<div>\n",
              "<style scoped>\n",
              "    .dataframe tbody tr th:only-of-type {\n",
              "        vertical-align: middle;\n",
              "    }\n",
              "\n",
              "    .dataframe tbody tr th {\n",
              "        vertical-align: top;\n",
              "    }\n",
              "\n",
              "    .dataframe thead th {\n",
              "        text-align: right;\n",
              "    }\n",
              "</style>\n",
              "<table border=\"1\" class=\"dataframe\">\n",
              "  <thead>\n",
              "    <tr style=\"text-align: right;\">\n",
              "      <th></th>\n",
              "      <th>tripduration</th>\n",
              "      <th>start_station_latitude</th>\n",
              "      <th>start_station_longitude</th>\n",
              "      <th>end_station_latitude</th>\n",
              "      <th>end_station_longitude</th>\n",
              "      <th>age</th>\n",
              "      <th>distance</th>\n",
              "      <th>mile_per_hour</th>\n",
              "    </tr>\n",
              "  </thead>\n",
              "  <tbody>\n",
              "    <tr>\n",
              "      <th>count</th>\n",
              "      <td>1026.00</td>\n",
              "      <td>1026.00</td>\n",
              "      <td>1026.00</td>\n",
              "      <td>1026.00</td>\n",
              "      <td>1026.00</td>\n",
              "      <td>1026.00</td>\n",
              "      <td>1026.00</td>\n",
              "      <td>1026.00</td>\n",
              "    </tr>\n",
              "    <tr>\n",
              "      <th>mean</th>\n",
              "      <td>733.45</td>\n",
              "      <td>40.74</td>\n",
              "      <td>-73.99</td>\n",
              "      <td>40.74</td>\n",
              "      <td>-73.99</td>\n",
              "      <td>39.13</td>\n",
              "      <td>1.09</td>\n",
              "      <td>5.68</td>\n",
              "    </tr>\n",
              "    <tr>\n",
              "      <th>std</th>\n",
              "      <td>541.70</td>\n",
              "      <td>0.02</td>\n",
              "      <td>0.02</td>\n",
              "      <td>0.02</td>\n",
              "      <td>0.02</td>\n",
              "      <td>11.93</td>\n",
              "      <td>0.82</td>\n",
              "      <td>1.74</td>\n",
              "    </tr>\n",
              "    <tr>\n",
              "      <th>min</th>\n",
              "      <td>61.00</td>\n",
              "      <td>40.67</td>\n",
              "      <td>-74.02</td>\n",
              "      <td>40.66</td>\n",
              "      <td>-74.02</td>\n",
              "      <td>17.00</td>\n",
              "      <td>0.11</td>\n",
              "      <td>0.23</td>\n",
              "    </tr>\n",
              "    <tr>\n",
              "      <th>25%</th>\n",
              "      <td>362.00</td>\n",
              "      <td>40.72</td>\n",
              "      <td>-74.00</td>\n",
              "      <td>40.72</td>\n",
              "      <td>-74.00</td>\n",
              "      <td>30.00</td>\n",
              "      <td>0.53</td>\n",
              "      <td>4.66</td>\n",
              "    </tr>\n",
              "    <tr>\n",
              "      <th>50%</th>\n",
              "      <td>563.00</td>\n",
              "      <td>40.74</td>\n",
              "      <td>-73.99</td>\n",
              "      <td>40.74</td>\n",
              "      <td>-73.99</td>\n",
              "      <td>36.00</td>\n",
              "      <td>0.83</td>\n",
              "      <td>5.67</td>\n",
              "    </tr>\n",
              "    <tr>\n",
              "      <th>75%</th>\n",
              "      <td>968.00</td>\n",
              "      <td>40.75</td>\n",
              "      <td>-73.98</td>\n",
              "      <td>40.75</td>\n",
              "      <td>-73.98</td>\n",
              "      <td>47.00</td>\n",
              "      <td>1.42</td>\n",
              "      <td>6.78</td>\n",
              "    </tr>\n",
              "    <tr>\n",
              "      <th>max</th>\n",
              "      <td>3351.00</td>\n",
              "      <td>40.81</td>\n",
              "      <td>-73.91</td>\n",
              "      <td>40.80</td>\n",
              "      <td>-73.92</td>\n",
              "      <td>77.00</td>\n",
              "      <td>5.38</td>\n",
              "      <td>11.65</td>\n",
              "    </tr>\n",
              "  </tbody>\n",
              "</table>\n",
              "</div>"
            ],
            "text/plain": [
              "       tripduration  start_station_latitude  ...  distance  mile_per_hour\n",
              "count       1026.00                 1026.00  ...   1026.00        1026.00\n",
              "mean         733.45                   40.74  ...      1.09           5.68\n",
              "std          541.70                    0.02  ...      0.82           1.74\n",
              "min           61.00                   40.67  ...      0.11           0.23\n",
              "25%          362.00                   40.72  ...      0.53           4.66\n",
              "50%          563.00                   40.74  ...      0.83           5.67\n",
              "75%          968.00                   40.75  ...      1.42           6.78\n",
              "max         3351.00                   40.81  ...      5.38          11.65\n",
              "\n",
              "[8 rows x 8 columns]"
            ]
          },
          "metadata": {
            "tags": []
          },
          "execution_count": 127
        }
      ]
    },
    {
      "cell_type": "code",
      "metadata": {
        "id": "q_to72CDPfxq",
        "colab": {
          "base_uri": "https://localhost:8080/"
        },
        "outputId": "f02e153b-73ac-4c85-c805-1019cfa305ce"
      },
      "source": [
        "behav.groupby(['age','gender']).median()['mile_per_hour'].unstack().isnull().sum()"
      ],
      "execution_count": null,
      "outputs": [
        {
          "output_type": "execute_result",
          "data": {
            "text/plain": [
              "gender\n",
              "female      6\n",
              "male        0\n",
              "unknown    54\n",
              "dtype: int64"
            ]
          },
          "metadata": {
            "tags": []
          },
          "execution_count": 128
        }
      ]
    },
    {
      "cell_type": "code",
      "metadata": {
        "id": "Nx87pA3ARccR",
        "colab": {
          "base_uri": "https://localhost:8080/"
        },
        "outputId": "426a114d-fe41-4556-a374-9330811c8e37"
      },
      "source": [
        "bin = np.linspace(min(behav['age']), max(behav['age']), 15)\n",
        "len(bin)"
      ],
      "execution_count": null,
      "outputs": [
        {
          "output_type": "execute_result",
          "data": {
            "text/plain": [
              "15"
            ]
          },
          "metadata": {
            "tags": []
          },
          "execution_count": 129
        }
      ]
    },
    {
      "cell_type": "code",
      "metadata": {
        "id": "37b2uJdxPf5-",
        "colab": {
          "base_uri": "https://localhost:8080/"
        },
        "outputId": "9224334a-91a5-4c40-ccbd-71f0014038fa"
      },
      "source": [
        "cat = pd.Series(np.arange(1,len(bin)+1,1))\n",
        "len(cat)"
      ],
      "execution_count": null,
      "outputs": [
        {
          "output_type": "execute_result",
          "data": {
            "text/plain": [
              "15"
            ]
          },
          "metadata": {
            "tags": []
          },
          "execution_count": 130
        }
      ]
    },
    {
      "cell_type": "code",
      "metadata": {
        "id": "8EelQrTRPf9j",
        "colab": {
          "base_uri": "https://localhost:8080/"
        },
        "outputId": "57bd2a44-18b1-4148-8861-39410847c2b5"
      },
      "source": [
        "bin = pd.DataFrame(bin)\n",
        "bin = bin.rename(columns = {0:'bin'})\n",
        "cat = pd.DataFrame(cat)\n",
        "cat = cat.rename(columns = {0:'cat'})\n",
        "age_bin = pd.concat([bin, cat], axis=1)\n",
        "age_bin['bin2'] = age_bin.bin.shift(1)\n",
        "age_bin['bin2'] = age_bin['bin2'].replace(np.nan, 0)\n",
        "age_bin['cat2'] = round(age_bin['bin2'],2).astype(str) + '-' + round(age_bin['bin'],2).astype(str)\n",
        "age_bin.head()"
      ],
      "execution_count": null,
      "outputs": [
        {
          "output_type": "execute_result",
          "data": {
            "text/html": [
              "<div>\n",
              "<style scoped>\n",
              "    .dataframe tbody tr th:only-of-type {\n",
              "        vertical-align: middle;\n",
              "    }\n",
              "\n",
              "    .dataframe tbody tr th {\n",
              "        vertical-align: top;\n",
              "    }\n",
              "\n",
              "    .dataframe thead th {\n",
              "        text-align: right;\n",
              "    }\n",
              "</style>\n",
              "<table border=\"1\" class=\"dataframe\">\n",
              "  <thead>\n",
              "    <tr style=\"text-align: right;\">\n",
              "      <th></th>\n",
              "      <th>bin</th>\n",
              "      <th>cat</th>\n",
              "      <th>bin2</th>\n",
              "      <th>cat2</th>\n",
              "    </tr>\n",
              "  </thead>\n",
              "  <tbody>\n",
              "    <tr>\n",
              "      <th>0</th>\n",
              "      <td>17.000000</td>\n",
              "      <td>1</td>\n",
              "      <td>0.000000</td>\n",
              "      <td>0.0-17.0</td>\n",
              "    </tr>\n",
              "    <tr>\n",
              "      <th>1</th>\n",
              "      <td>21.285714</td>\n",
              "      <td>2</td>\n",
              "      <td>17.000000</td>\n",
              "      <td>17.0-21.29</td>\n",
              "    </tr>\n",
              "    <tr>\n",
              "      <th>2</th>\n",
              "      <td>25.571429</td>\n",
              "      <td>3</td>\n",
              "      <td>21.285714</td>\n",
              "      <td>21.29-25.57</td>\n",
              "    </tr>\n",
              "    <tr>\n",
              "      <th>3</th>\n",
              "      <td>29.857143</td>\n",
              "      <td>4</td>\n",
              "      <td>25.571429</td>\n",
              "      <td>25.57-29.86</td>\n",
              "    </tr>\n",
              "    <tr>\n",
              "      <th>4</th>\n",
              "      <td>34.142857</td>\n",
              "      <td>5</td>\n",
              "      <td>29.857143</td>\n",
              "      <td>29.86-34.14</td>\n",
              "    </tr>\n",
              "  </tbody>\n",
              "</table>\n",
              "</div>"
            ],
            "text/plain": [
              "         bin  cat       bin2         cat2\n",
              "0  17.000000    1   0.000000     0.0-17.0\n",
              "1  21.285714    2  17.000000   17.0-21.29\n",
              "2  25.571429    3  21.285714  21.29-25.57\n",
              "3  29.857143    4  25.571429  25.57-29.86\n",
              "4  34.142857    5  29.857143  29.86-34.14"
            ]
          },
          "metadata": {
            "tags": []
          },
          "execution_count": 131
        }
      ]
    },
    {
      "cell_type": "code",
      "metadata": {
        "id": "rWfPxehvTjr4"
      },
      "source": [
        "def f(behav):\n",
        "    if behav['age'] > age_bin.iloc[0,2] and behav['age'] <= age_bin.iloc[0,0]:\n",
        "        val = age_bin.iloc[0,1] \n",
        "    elif behav['age'] > age_bin.iloc[1,2] and behav['age'] <= age_bin.iloc[1,0]:\n",
        "        val = age_bin.iloc[1,1]\n",
        "    elif behav['age'] > age_bin.iloc[2,2] and behav['age'] <= age_bin.iloc[2,0]:\n",
        "        val = age_bin.iloc[2,1]\n",
        "    elif behav['age'] > age_bin.iloc[3,2] and behav['age'] <= age_bin.iloc[3,0]:\n",
        "        val = age_bin.iloc[3,1]\n",
        "    elif behav['age'] > age_bin.iloc[4,2] and behav['age'] <= age_bin.iloc[4,0]:\n",
        "        val = age_bin.iloc[4,1]\n",
        "    elif behav['age'] > age_bin.iloc[5,2] and behav['age'] <= age_bin.iloc[5,0]:\n",
        "        val = age_bin.iloc[5,1]\n",
        "    elif behav['age'] > age_bin.iloc[6,2] and behav['age'] <= age_bin.iloc[6,0]:\n",
        "        val = age_bin.iloc[6,1]\n",
        "    elif behav['age'] > age_bin.iloc[7,2] and behav['age'] <= age_bin.iloc[7,0]:\n",
        "        val = age_bin.iloc[7,1]\n",
        "    elif behav['age'] > age_bin.iloc[8,2] and behav['age'] <= age_bin.iloc[8,0]:\n",
        "        val = age_bin.iloc[8,1]\n",
        "    elif behav['age'] > age_bin.iloc[9,2] and behav['age'] <= age_bin.iloc[9,0]:\n",
        "        val = age_bin.iloc[9,1]\n",
        "    elif behav['age'] > age_bin.iloc[10,2] and behav['age'] <= age_bin.iloc[10,0]:\n",
        "        val = age_bin.iloc[10,1]\n",
        "    elif behav['age'] > age_bin.iloc[11,2] and behav['age'] <= age_bin.iloc[11,0]:\n",
        "        val = age_bin.iloc[11,1]\n",
        "    elif behav['age'] > age_bin.iloc[12,2] and behav['age'] <= age_bin.iloc[12,0]:\n",
        "        val = age_bin.iloc[12,1]\n",
        "    elif behav['age'] > age_bin.iloc[13,2] and behav['age'] <= age_bin.iloc[13,0]:\n",
        "        val = age_bin.iloc[13,1]\n",
        "    else:\n",
        "        val = age_bin.iloc[14,1]\n",
        "    return val\n",
        "\n",
        "#create new column 'Good' using the function above\n",
        "behav['age_cat'] = behav.apply(f, axis=1)"
      ],
      "execution_count": null,
      "outputs": []
    },
    {
      "cell_type": "code",
      "metadata": {
        "id": "MlSCapULx1YT",
        "colab": {
          "base_uri": "https://localhost:8080/"
        },
        "outputId": "af5be43b-8a90-4194-c2b8-2930be2b35d4"
      },
      "source": [
        "behav.head(2)"
      ],
      "execution_count": null,
      "outputs": [
        {
          "output_type": "execute_result",
          "data": {
            "text/html": [
              "<div>\n",
              "<style scoped>\n",
              "    .dataframe tbody tr th:only-of-type {\n",
              "        vertical-align: middle;\n",
              "    }\n",
              "\n",
              "    .dataframe tbody tr th {\n",
              "        vertical-align: top;\n",
              "    }\n",
              "\n",
              "    .dataframe thead th {\n",
              "        text-align: right;\n",
              "    }\n",
              "</style>\n",
              "<table border=\"1\" class=\"dataframe\">\n",
              "  <thead>\n",
              "    <tr style=\"text-align: right;\">\n",
              "      <th></th>\n",
              "      <th>tripduration</th>\n",
              "      <th>start_station_latitude</th>\n",
              "      <th>start_station_longitude</th>\n",
              "      <th>end_station_latitude</th>\n",
              "      <th>end_station_longitude</th>\n",
              "      <th>birth_year</th>\n",
              "      <th>gender</th>\n",
              "      <th>trips_year</th>\n",
              "      <th>age</th>\n",
              "      <th>distance</th>\n",
              "      <th>mile_per_hour</th>\n",
              "      <th>age_cat</th>\n",
              "    </tr>\n",
              "  </thead>\n",
              "  <tbody>\n",
              "    <tr>\n",
              "      <th>0</th>\n",
              "      <td>2103.0</td>\n",
              "      <td>40.694749</td>\n",
              "      <td>-73.983625</td>\n",
              "      <td>40.734546</td>\n",
              "      <td>-73.990741</td>\n",
              "      <td>1946.0</td>\n",
              "      <td>female</td>\n",
              "      <td>2017</td>\n",
              "      <td>71</td>\n",
              "      <td>2.78</td>\n",
              "      <td>4.76</td>\n",
              "      <td>14</td>\n",
              "    </tr>\n",
              "    <tr>\n",
              "      <th>1</th>\n",
              "      <td>692.0</td>\n",
              "      <td>40.714215</td>\n",
              "      <td>-73.981346</td>\n",
              "      <td>40.718502</td>\n",
              "      <td>-73.983299</td>\n",
              "      <td>2000.0</td>\n",
              "      <td>male</td>\n",
              "      <td>2016</td>\n",
              "      <td>17</td>\n",
              "      <td>0.31</td>\n",
              "      <td>1.61</td>\n",
              "      <td>1</td>\n",
              "    </tr>\n",
              "  </tbody>\n",
              "</table>\n",
              "</div>"
            ],
            "text/plain": [
              "   tripduration  start_station_latitude  ...  mile_per_hour  age_cat\n",
              "0        2103.0               40.694749  ...           4.76       14\n",
              "1         692.0               40.714215  ...           1.61        1\n",
              "\n",
              "[2 rows x 12 columns]"
            ]
          },
          "metadata": {
            "tags": []
          },
          "execution_count": 133
        }
      ]
    },
    {
      "cell_type": "code",
      "metadata": {
        "id": "gYbPDPJ_7-Vt"
      },
      "source": [
        "behav_2015 = behav[behav.trips_year == 2015]\n",
        "speed_age_gender_2015 = behav_2015.groupby(['trips_year','age_cat','gender']).median()['mile_per_hour'].unstack().sort_values(['trips_year','age_cat'], ascending=True)\n",
        "speed_age_gender_2015.dropna(inplace=True)"
      ],
      "execution_count": null,
      "outputs": []
    },
    {
      "cell_type": "code",
      "metadata": {
        "id": "edGAlz9887rn"
      },
      "source": [
        "speed_age_gender_2015 = pd.merge(age_bin, speed_age_gender_2015, left_on = 'cat', right_on = 'age_cat', how='right')\n",
        "speed_age_gender_2015 = speed_age_gender_2015.drop(['bin','cat','bin2'], axis = 1)"
      ],
      "execution_count": null,
      "outputs": []
    },
    {
      "cell_type": "code",
      "metadata": {
        "id": "QftHAUx9HVyD"
      },
      "source": [
        "behav_2015 = behav[behav.trips_year == 2015]\n",
        "distance_age_gender_2015 = behav_2015.groupby(['trips_year','age_cat','gender']).median()['distance'].unstack().sort_values(['trips_year','age_cat'], ascending=True)\n",
        "distance_age_gender_2015.dropna(inplace=True)"
      ],
      "execution_count": null,
      "outputs": []
    },
    {
      "cell_type": "code",
      "metadata": {
        "id": "kp4WEi2nHVyD"
      },
      "source": [
        "distance_age_gender_2015 = pd.merge(age_bin, distance_age_gender_2015, left_on = 'cat', right_on = 'age_cat', how='right')\n",
        "distance_age_gender_2015 = distance_age_gender_2015.drop(['bin','cat','bin2'], axis = 1)"
      ],
      "execution_count": null,
      "outputs": []
    },
    {
      "cell_type": "code",
      "metadata": {
        "id": "6PM61pve5uyi"
      },
      "source": [
        "behav_2016 = behav[behav.trips_year == 2016]\n",
        "speed_age_gender_2016 = behav_2016.groupby(['trips_year','age_cat','gender']).median()['mile_per_hour'].unstack().sort_values(['trips_year','age_cat'], ascending=True)\n",
        "speed_age_gender_2016.dropna(inplace=True)"
      ],
      "execution_count": null,
      "outputs": []
    },
    {
      "cell_type": "code",
      "metadata": {
        "id": "-XCurBEd5y5s"
      },
      "source": [
        "speed_age_gender_2016 = pd.merge(age_bin, speed_age_gender_2016, left_on = 'cat', right_on = 'age_cat', how='right')\n",
        "speed_age_gender_2016 = speed_age_gender_2016.drop(['bin','cat','bin2'], axis = 1)"
      ],
      "execution_count": null,
      "outputs": []
    },
    {
      "cell_type": "code",
      "metadata": {
        "id": "ozV3Ik9TGryj"
      },
      "source": [
        "behav_2016 = behav[behav.trips_year == 2016]\n",
        "distance_age_gender_2016 = behav_2016.groupby(['trips_year','age_cat','gender']).median()['distance'].unstack().sort_values(['trips_year','age_cat'], ascending=True)\n",
        "distance_age_gender_2016.dropna(inplace=True)"
      ],
      "execution_count": null,
      "outputs": []
    },
    {
      "cell_type": "code",
      "metadata": {
        "id": "5vm6imidGryj"
      },
      "source": [
        "distance_age_gender_2016 = pd.merge(age_bin, distance_age_gender_2016, left_on = 'cat', right_on = 'age_cat', how='right')\n",
        "distance_age_gender_2016 = distance_age_gender_2016.drop(['bin','cat','bin2'], axis = 1)"
      ],
      "execution_count": null,
      "outputs": []
    },
    {
      "cell_type": "code",
      "metadata": {
        "id": "vZp1e82l-t3U"
      },
      "source": [
        "behav_2017 = behav[behav.trips_year == 2017]\n",
        "speed_age_gender_2017 = behav_2017.groupby(['trips_year','age_cat','gender']).median()['mile_per_hour'].unstack().sort_values(['trips_year','age_cat'], ascending=True)\n",
        "speed_age_gender_2017.dropna(inplace=True)"
      ],
      "execution_count": null,
      "outputs": []
    },
    {
      "cell_type": "code",
      "metadata": {
        "id": "_CtMCYap-t3V"
      },
      "source": [
        "speed_age_gender_2017 = pd.merge(age_bin, speed_age_gender_2017, left_on = 'cat', right_on = 'age_cat', how='right')\n",
        "speed_age_gender_2017 = speed_age_gender_2017.drop(['bin','cat','bin2'], axis = 1)"
      ],
      "execution_count": null,
      "outputs": []
    },
    {
      "cell_type": "code",
      "metadata": {
        "id": "y22YfuE0EUNu"
      },
      "source": [
        "behav_2017 = behav[behav.trips_year == 2017]\n",
        "distance_age_gender_2017 = behav_2017.groupby(['trips_year','age_cat','gender']).median()['distance'].unstack().sort_values(['trips_year','age_cat'], ascending=True)\n",
        "distance_age_gender_2017.dropna(inplace=True)"
      ],
      "execution_count": null,
      "outputs": []
    },
    {
      "cell_type": "code",
      "metadata": {
        "id": "YaiYbcsjEUNv"
      },
      "source": [
        "distance_age_gender_2017 = pd.merge(age_bin, distance_age_gender_2017, left_on = 'cat', right_on = 'age_cat', how='right')\n",
        "distance_age_gender_2017 = distance_age_gender_2017.drop(['bin','cat','bin2'], axis = 1)"
      ],
      "execution_count": null,
      "outputs": []
    },
    {
      "cell_type": "code",
      "metadata": {
        "id": "nl7Ic6vh9xqy"
      },
      "source": [
        "speed_age_gender = pd.concat([speed_age_gender_2015, speed_age_gender_2016, speed_age_gender_2017], axis=0)\n",
        "speed_age_gender = speed_age_gender.groupby(['cat2']).mean()\n",
        "speed_age_gender = pd.merge(speed_age_gender, age_bin, left_on='cat2', right_on='cat2', how='left').sort_values(by='cat')\n",
        "speed_age_gender.drop(['bin', 'cat', 'bin2'], axis=1, inplace=True)"
      ],
      "execution_count": null,
      "outputs": []
    },
    {
      "cell_type": "code",
      "metadata": {
        "id": "JevZg3-UKcjw",
        "colab": {
          "base_uri": "https://localhost:8080/"
        },
        "outputId": "6304aa80-f854-405b-ce5e-f210ab722e6b"
      },
      "source": [
        "#Barplot\n",
        "plt.plot(speed_age_gender.cat2, speed_age_gender.female, label = \"female\")\n",
        "plt.plot(speed_age_gender.cat2, speed_age_gender.male, label = \"male\")\n",
        "plt.legend()\n",
        "plt.xlabel('Age Category')\n",
        "plt.ylabel('Speed (miles/hour)')\n",
        "plt.title('Average Speed Based on Gender and Age')\n",
        "plt.xticks(rotation=45)\n",
        "plt.show()"
      ],
      "execution_count": null,
      "outputs": [
        {
          "output_type": "display_data",
          "data": {
            "image/png": "[encoded data removed]",
            "text/plain": [
              "<Figure size 864x576 with 1 Axes>"
            ]
          },
          "metadata": {
            "tags": []
          }
        }
      ]
    },
    {
      "cell_type": "code",
      "metadata": {
        "id": "WTcfvd3FG2iv"
      },
      "source": [
        "distance_age_gender = pd.concat([distance_age_gender_2015, distance_age_gender_2016, distance_age_gender_2017], axis=0)\n",
        "distance_age_gender = distance_age_gender.groupby(['cat2']).mean()\n",
        "distance_age_gender = pd.merge(distance_age_gender, age_bin, left_on='cat2', right_on='cat2', how='left').sort_values(by='cat')\n",
        "distance_age_gender.drop(['bin', 'cat', 'bin2'], axis=1, inplace=True)"
      ],
      "execution_count": null,
      "outputs": []
    },
    {
      "cell_type": "code",
      "metadata": {
        "id": "BwO40gHgJKYv",
        "colab": {
          "base_uri": "https://localhost:8080/"
        },
        "outputId": "18c92efc-4cb1-478c-b3c2-9af654085eeb"
      },
      "source": [
        "#Barplot\n",
        "plt.plot(distance_age_gender.cat2, distance_age_gender.female, label = \"female\")\n",
        "plt.plot(distance_age_gender.cat2, distance_age_gender.male, label = \"male\")\n",
        "plt.legend()\n",
        "plt.xlabel('Age Category')\n",
        "plt.ylabel('Distance (miles)')\n",
        "plt.title('Average Distance Based on Gender and Age')\n",
        "plt.xticks(rotation=45)\n",
        "plt.show()"
      ],
      "execution_count": null,
      "outputs": [
        {
          "output_type": "display_data",
          "data": {
            "image/png": "[encoded data removed]",
            "text/plain": [
              "<Figure size 864x576 with 1 Axes>"
            ]
          },
          "metadata": {
            "tags": []
          }
        }
      ]
    },
    {
      "cell_type": "markdown",
      "metadata": {
        "id": "u7_cBUPMHx8P"
      },
      "source": [
        "## Part 5: Busiest Bike by Times and Minutes Used"
      ]
    },
    {
      "cell_type": "code",
      "metadata": {
        "id": "s6-VlimOFxNc",
        "colab": {
          "base_uri": "https://localhost:8080/"
        },
        "outputId": "135d771f-f1b5-44ba-e6ec-321442eb9867"
      },
      "source": [
        "#Bike usage based on number of times used\n",
        "bike_use = pd.DataFrame()\n",
        "bike_use = trips.groupby(['trips_year','bikeid']).size().reset_index(name = 'times_used')\n",
        "bike_use = bike_use.sort_values('times_used', ascending = False)\n",
        "bike_use['bikeid'] = bike_use['bikeid'].astype(int).astype(str)\n",
        "bike_use['bikeid'] = ('Bike ' + bike_use['bikeid'])\n",
        "bike_use = bike_use.groupby('bikeid').mean()['times_used'].reset_index(name = 'times_used').sort_values(by=['times_used'], ascending=False).head(10)\n",
        "bike_use.head()"
      ],
      "execution_count": null,
      "outputs": [
        {
          "output_type": "execute_result",
          "data": {
            "text/html": [
              "<div>\n",
              "<style scoped>\n",
              "    .dataframe tbody tr th:only-of-type {\n",
              "        vertical-align: middle;\n",
              "    }\n",
              "\n",
              "    .dataframe tbody tr th {\n",
              "        vertical-align: top;\n",
              "    }\n",
              "\n",
              "    .dataframe thead th {\n",
              "        text-align: right;\n",
              "    }\n",
              "</style>\n",
              "<table border=\"1\" class=\"dataframe\">\n",
              "  <thead>\n",
              "    <tr style=\"text-align: right;\">\n",
              "      <th></th>\n",
              "      <th>bikeid</th>\n",
              "      <th>times_used</th>\n",
              "    </tr>\n",
              "  </thead>\n",
              "  <tbody>\n",
              "    <tr>\n",
              "      <th>256</th>\n",
              "      <td>Bike 17801</td>\n",
              "      <td>1.000000</td>\n",
              "    </tr>\n",
              "    <tr>\n",
              "      <th>430</th>\n",
              "      <td>Bike 20527</td>\n",
              "      <td>1.000000</td>\n",
              "    </tr>\n",
              "    <tr>\n",
              "      <th>348</th>\n",
              "      <td>Bike 19169</td>\n",
              "      <td>0.666667</td>\n",
              "    </tr>\n",
              "    <tr>\n",
              "      <th>720</th>\n",
              "      <td>Bike 25556</td>\n",
              "      <td>0.666667</td>\n",
              "    </tr>\n",
              "    <tr>\n",
              "      <th>965</th>\n",
              "      <td>Bike 31102</td>\n",
              "      <td>0.666667</td>\n",
              "    </tr>\n",
              "  </tbody>\n",
              "</table>\n",
              "</div>"
            ],
            "text/plain": [
              "         bikeid  times_used\n",
              "256  Bike 17801    1.000000\n",
              "430  Bike 20527    1.000000\n",
              "348  Bike 19169    0.666667\n",
              "720  Bike 25556    0.666667\n",
              "965  Bike 31102    0.666667"
            ]
          },
          "metadata": {
            "tags": []
          },
          "execution_count": 150
        }
      ]
    },
    {
      "cell_type": "code",
      "metadata": {
        "id": "SV9Go4QwIUl1",
        "colab": {
          "base_uri": "https://localhost:8080/"
        },
        "outputId": "7914e5c5-1244-4da4-8a50-b59d98e018df"
      },
      "source": [
        "#Barplot\n",
        "ax2 = sns.barplot(x='times_used', y='bikeid', data = bike_use, palette=\"GnBu_d\")\n",
        "ax2.set_title('Most Popular Bikes by Number of Times Used', fontsize = 12)\n",
        "plt.show()"
      ],
      "execution_count": null,
      "outputs": [
        {
          "output_type": "display_data",
          "data": {
            "image/png": "[encoded data removed]",
            "text/plain": [
              "<Figure size 864x576 with 1 Axes>"
            ]
          },
          "metadata": {
            "tags": []
          }
        }
      ]
    },
    {
      "cell_type": "code",
      "metadata": {
        "id": "LqW_WOBGLfKT",
        "colab": {
          "base_uri": "https://localhost:8080/"
        },
        "outputId": "c13e2228-6c32-4cbe-a540-cd02a006d8e7"
      },
      "source": [
        "#Bike usage based on minutes used\n",
        "bike_min = pd.DataFrame()\n",
        "bike_min['sec_used'] = trips.groupby(['trips_year','bikeid'])['tripduration'].sum()\n",
        "bike_min['min_used'] = round(bike_min['sec_used']/60,2)\n",
        "bike_min = bike_min.sort_values('min_used', ascending = False).reset_index()\n",
        "bike_min['bikeid'] = bike_min['bikeid'].astype(int).astype(str)\n",
        "bike_min['bikeid'] = ('Bike ' + bike_min['bikeid'])\n",
        "bike_min.drop(['sec_used'], axis = 1, inplace=True)\n",
        "bike_min = bike_min.groupby('bikeid').mean()['min_used'].reset_index(name = 'min_used').sort_values(by=['min_used'], ascending=False).head(10)\n",
        "bike_min.head()"
      ],
      "execution_count": null,
      "outputs": [
        {
          "output_type": "execute_result",
          "data": {
            "text/html": [
              "<div>\n",
              "<style scoped>\n",
              "    .dataframe tbody tr th:only-of-type {\n",
              "        vertical-align: middle;\n",
              "    }\n",
              "\n",
              "    .dataframe tbody tr th {\n",
              "        vertical-align: top;\n",
              "    }\n",
              "\n",
              "    .dataframe thead th {\n",
              "        text-align: right;\n",
              "    }\n",
              "</style>\n",
              "<table border=\"1\" class=\"dataframe\">\n",
              "  <thead>\n",
              "    <tr style=\"text-align: right;\">\n",
              "      <th></th>\n",
              "      <th>bikeid</th>\n",
              "      <th>min_used</th>\n",
              "    </tr>\n",
              "  </thead>\n",
              "  <tbody>\n",
              "    <tr>\n",
              "      <th>391</th>\n",
              "      <td>Bike 19842</td>\n",
              "      <td>106.43</td>\n",
              "    </tr>\n",
              "    <tr>\n",
              "      <th>472</th>\n",
              "      <td>Bike 21188</td>\n",
              "      <td>55.85</td>\n",
              "    </tr>\n",
              "    <tr>\n",
              "      <th>144</th>\n",
              "      <td>Bike 16527</td>\n",
              "      <td>55.60</td>\n",
              "    </tr>\n",
              "    <tr>\n",
              "      <th>122</th>\n",
              "      <td>Bike 16164</td>\n",
              "      <td>54.82</td>\n",
              "    </tr>\n",
              "    <tr>\n",
              "      <th>479</th>\n",
              "      <td>Bike 21308</td>\n",
              "      <td>50.48</td>\n",
              "    </tr>\n",
              "  </tbody>\n",
              "</table>\n",
              "</div>"
            ],
            "text/plain": [
              "         bikeid  min_used\n",
              "391  Bike 19842    106.43\n",
              "472  Bike 21188     55.85\n",
              "144  Bike 16527     55.60\n",
              "122  Bike 16164     54.82\n",
              "479  Bike 21308     50.48"
            ]
          },
          "metadata": {
            "tags": []
          },
          "execution_count": 152
        }
      ]
    },
    {
      "cell_type": "code",
      "metadata": {
        "id": "xNTMiRdLM0Eb",
        "colab": {
          "base_uri": "https://localhost:8080/"
        },
        "outputId": "39cd44fe-2c00-4908-83f8-c9cdc3fab62d"
      },
      "source": [
        "#Barplot\n",
        "ax2 = sns.barplot(x='min_used', y='bikeid', data = bike_min, palette=\"GnBu_d\")\n",
        "ax2.set_title('Most Popular Bikes by Minute Used', fontsize = 12)\n",
        "plt.show()"
      ],
      "execution_count": null,
      "outputs": [
        {
          "output_type": "display_data",
          "data": {
            "image/png": "[encoded data removed]",
            "text/plain": [
              "<Figure size 864x576 with 1 Axes>"
            ]
          },
          "metadata": {
            "tags": []
          }
        }
      ]
    },
    {
      "cell_type": "markdown",
      "metadata": {
        "id": "t-eGWVeCR912"
      },
      "source": [
        "## Part 6: Distribution Issue"
      ]
    },
    {
      "cell_type": "markdown",
      "metadata": {
        "id": "9qElXzCwsFhu"
      },
      "source": [
        "### Rebalancing"
      ]
    },
    {
      "cell_type": "code",
      "metadata": {
        "id": "IXg0R2l9qFZS"
      },
      "source": [
        "# Note that the end station id for one ride is the start station id for the next.\n",
        "bike_journey = trips.sort_values(by=['bikeid','starttime'])"
      ],
      "execution_count": null,
      "outputs": []
    },
    {
      "cell_type": "code",
      "metadata": {
        "id": "iG5AHzx8qFmg"
      },
      "source": [
        "offset = pd.DataFrame({'starttime': pd.to_datetime('2010-09-01'), 'start_station_name':0,\\\n",
        "                       'stoptime': pd.to_datetime('2010-09-01'),'end_station_name':0,'bikeid':0},index=[0])"
      ],
      "execution_count": null,
      "outputs": []
    },
    {
      "cell_type": "code",
      "metadata": {
        "id": "tBJPT-mGqFrD"
      },
      "source": [
        "bike_journey1 = pd.concat([offset,bike_journey]).reset_index(drop=True)\n",
        "bike_journey2 = pd.concat([bike_journey,offset]).reset_index(drop=True)"
      ],
      "execution_count": null,
      "outputs": []
    },
    {
      "cell_type": "code",
      "metadata": {
        "id": "0a1S1y3GqFvF",
        "colab": {
          "base_uri": "https://localhost:8080/"
        },
        "outputId": "e2785037-9e71-400c-c832-76b05e8696ec"
      },
      "source": [
        "# if end_station_id != start_station_id -> rebalancing \n",
        "# Now each row shows the end of one trip and the start of the next.\n",
        "# This is the time the bike spends at the station between rides.\n",
        "bike_journey = pd.concat ([bike_journey1[['bikeid','stoptime','end_station_name']]\\\n",
        "                   ,bike_journey2[['bikeid','starttime','start_station_name']] ],\\\n",
        "                    axis=1 )\n",
        "bike_journey.head()"
      ],
      "execution_count": null,
      "outputs": [
        {
          "output_type": "execute_result",
          "data": {
            "text/html": [
              "<div>\n",
              "<style scoped>\n",
              "    .dataframe tbody tr th:only-of-type {\n",
              "        vertical-align: middle;\n",
              "    }\n",
              "\n",
              "    .dataframe tbody tr th {\n",
              "        vertical-align: top;\n",
              "    }\n",
              "\n",
              "    .dataframe thead th {\n",
              "        text-align: right;\n",
              "    }\n",
              "</style>\n",
              "<table border=\"1\" class=\"dataframe\">\n",
              "  <thead>\n",
              "    <tr style=\"text-align: right;\">\n",
              "      <th></th>\n",
              "      <th>bikeid</th>\n",
              "      <th>stoptime</th>\n",
              "      <th>end_station_name</th>\n",
              "      <th>bikeid</th>\n",
              "      <th>starttime</th>\n",
              "      <th>start_station_name</th>\n",
              "    </tr>\n",
              "  </thead>\n",
              "  <tbody>\n",
              "    <tr>\n",
              "      <th>0</th>\n",
              "      <td>0.0</td>\n",
              "      <td>2010-09-01 00:00:00</td>\n",
              "      <td>0</td>\n",
              "      <td>14534.0</td>\n",
              "      <td>2016-05-16 22:17:57</td>\n",
              "      <td>E 6 St &amp; Avenue B</td>\n",
              "    </tr>\n",
              "    <tr>\n",
              "      <th>1</th>\n",
              "      <td>14534.0</td>\n",
              "      <td>2016-05-16 22:22:42</td>\n",
              "      <td>Shevchenko Pl &amp; E 7 St</td>\n",
              "      <td>14570.0</td>\n",
              "      <td>2016-04-17 15:07:33</td>\n",
              "      <td>9 Ave &amp; W 45 St</td>\n",
              "    </tr>\n",
              "    <tr>\n",
              "      <th>2</th>\n",
              "      <td>14570.0</td>\n",
              "      <td>2016-04-17 15:45:10</td>\n",
              "      <td>Amsterdam Ave &amp; W 82 St</td>\n",
              "      <td>14576.0</td>\n",
              "      <td>2017-06-22 16:05:08</td>\n",
              "      <td>Franklin Ave &amp; Myrtle Ave</td>\n",
              "    </tr>\n",
              "    <tr>\n",
              "      <th>3</th>\n",
              "      <td>14576.0</td>\n",
              "      <td>2017-06-22 16:13:15</td>\n",
              "      <td>Tompkins Ave &amp; Hopkins St</td>\n",
              "      <td>14576.0</td>\n",
              "      <td>2017-07-21 20:30:10</td>\n",
              "      <td>Johnson St &amp; Gold St</td>\n",
              "    </tr>\n",
              "    <tr>\n",
              "      <th>4</th>\n",
              "      <td>14576.0</td>\n",
              "      <td>2017-07-21 20:44:14</td>\n",
              "      <td>Dean St &amp; 4 Ave</td>\n",
              "      <td>14583.0</td>\n",
              "      <td>2017-04-28 18:59:41</td>\n",
              "      <td>9 Ave &amp; W 45 St</td>\n",
              "    </tr>\n",
              "  </tbody>\n",
              "</table>\n",
              "</div>"
            ],
            "text/plain": [
              "    bikeid            stoptime  ...           starttime         start_station_name\n",
              "0      0.0 2010-09-01 00:00:00  ... 2016-05-16 22:17:57          E 6 St & Avenue B\n",
              "1  14534.0 2016-05-16 22:22:42  ... 2016-04-17 15:07:33            9 Ave & W 45 St\n",
              "2  14570.0 2016-04-17 15:45:10  ... 2017-06-22 16:05:08  Franklin Ave & Myrtle Ave\n",
              "3  14576.0 2017-06-22 16:13:15  ... 2017-07-21 20:30:10       Johnson St & Gold St\n",
              "4  14576.0 2017-07-21 20:44:14  ... 2017-04-28 18:59:41            9 Ave & W 45 St\n",
              "\n",
              "[5 rows x 6 columns]"
            ]
          },
          "metadata": {
            "tags": []
          },
          "execution_count": 157
        }
      ]
    },
    {
      "cell_type": "code",
      "metadata": {
        "id": "qbEm6yXwuIM5"
      },
      "source": [
        "bike_journey.columns = ['bikeid1','starttime','start_station_name','bikeid2','stoptime','end_station_name']"
      ],
      "execution_count": null,
      "outputs": []
    },
    {
      "cell_type": "code",
      "metadata": {
        "id": "jonlN339uIT-",
        "colab": {
          "base_uri": "https://localhost:8080/"
        },
        "outputId": "98b3fee4-db43-4b41-dd25-140f6ccfbf39"
      },
      "source": [
        "bike_journey_rebal = bike_journey[['starttime','start_station_name','stoptime','end_station_name']].\\\n",
        "      loc[(bike_journey.bikeid1==bike_journey.bikeid2) & (bike_journey['start_station_name'] != bike_journey['end_station_name'])]\n",
        "bike_journey_rebal.reset_index(drop=True, inplace=True)\n",
        "bike_journey_rebal.head()"
      ],
      "execution_count": null,
      "outputs": [
        {
          "output_type": "execute_result",
          "data": {
            "text/html": [
              "<div>\n",
              "<style scoped>\n",
              "    .dataframe tbody tr th:only-of-type {\n",
              "        vertical-align: middle;\n",
              "    }\n",
              "\n",
              "    .dataframe tbody tr th {\n",
              "        vertical-align: top;\n",
              "    }\n",
              "\n",
              "    .dataframe thead th {\n",
              "        text-align: right;\n",
              "    }\n",
              "</style>\n",
              "<table border=\"1\" class=\"dataframe\">\n",
              "  <thead>\n",
              "    <tr style=\"text-align: right;\">\n",
              "      <th></th>\n",
              "      <th>starttime</th>\n",
              "      <th>start_station_name</th>\n",
              "      <th>stoptime</th>\n",
              "      <th>end_station_name</th>\n",
              "    </tr>\n",
              "  </thead>\n",
              "  <tbody>\n",
              "    <tr>\n",
              "      <th>0</th>\n",
              "      <td>2017-06-22 16:13:15</td>\n",
              "      <td>Tompkins Ave &amp; Hopkins St</td>\n",
              "      <td>2017-07-21 20:30:10</td>\n",
              "      <td>Johnson St &amp; Gold St</td>\n",
              "    </tr>\n",
              "    <tr>\n",
              "      <th>1</th>\n",
              "      <td>2016-04-18 13:41:37</td>\n",
              "      <td>South End Ave &amp; Liberty St</td>\n",
              "      <td>2017-06-12 19:14:06</td>\n",
              "      <td>Great Jones St</td>\n",
              "    </tr>\n",
              "    <tr>\n",
              "      <th>2</th>\n",
              "      <td>2015-07-11 11:21:39</td>\n",
              "      <td>Broadway &amp; W 36 St</td>\n",
              "      <td>2015-09-28 13:34:01</td>\n",
              "      <td>W 53 St &amp; 10 Ave</td>\n",
              "    </tr>\n",
              "    <tr>\n",
              "      <th>3</th>\n",
              "      <td>2016-07-17 12:22:11</td>\n",
              "      <td>W 13 St &amp; 6 Ave</td>\n",
              "      <td>2017-05-04 12:38:22</td>\n",
              "      <td>1 Ave &amp; E 15 St</td>\n",
              "    </tr>\n",
              "    <tr>\n",
              "      <th>4</th>\n",
              "      <td>2015-04-15 18:22:59</td>\n",
              "      <td>E 43 St &amp; Vanderbilt Ave</td>\n",
              "      <td>2016-03-16 08:21:39</td>\n",
              "      <td>Hanson Pl &amp; St Felix St</td>\n",
              "    </tr>\n",
              "  </tbody>\n",
              "</table>\n",
              "</div>"
            ],
            "text/plain": [
              "            starttime  ...         end_station_name\n",
              "0 2017-06-22 16:13:15  ...     Johnson St & Gold St\n",
              "1 2016-04-18 13:41:37  ...           Great Jones St\n",
              "2 2015-07-11 11:21:39  ...         W 53 St & 10 Ave\n",
              "3 2016-07-17 12:22:11  ...          1 Ave & E 15 St\n",
              "4 2015-04-15 18:22:59  ...  Hanson Pl & St Felix St\n",
              "\n",
              "[5 rows x 4 columns]"
            ]
          },
          "metadata": {
            "tags": []
          },
          "execution_count": 159
        }
      ]
    },
    {
      "cell_type": "markdown",
      "metadata": {
        "id": "Y_g3a0u4-A2N"
      },
      "source": [
        "### Station Flow"
      ]
    },
    {
      "cell_type": "code",
      "metadata": {
        "id": "rx96aq_fBCZx"
      },
      "source": [
        "bjs=bike_journey_rebal[['starttime','start_station_name']].assign(in_out=-1) # act as -1 to indicate a bike pick-up\n",
        "bje=bike_journey_rebal[['starttime','end_station_name']].assign(in_out=1) # act as 1 to indicate a drop off"
      ],
      "execution_count": null,
      "outputs": []
    },
    {
      "cell_type": "code",
      "metadata": {
        "id": "8rP0B_ngBCde"
      },
      "source": [
        "bjs.columns=['docktime','station_name','in_out']\n",
        "bje.columns=['docktime','station_name','in_out']\n",
        "bjse=pd.concat([bjs,bje]).sort_values(by=['station_name','docktime']).reset_index(drop=True)"
      ],
      "execution_count": null,
      "outputs": []
    },
    {
      "cell_type": "code",
      "metadata": {
        "id": "dG2HdwMNddCZ",
        "colab": {
          "base_uri": "https://localhost:8080/"
        },
        "outputId": "a544b80c-8cb9-43ba-b106-aebe12bd4a3a"
      },
      "source": [
        "bjse.head()"
      ],
      "execution_count": null,
      "outputs": [
        {
          "output_type": "execute_result",
          "data": {
            "text/html": [
              "<div>\n",
              "<style scoped>\n",
              "    .dataframe tbody tr th:only-of-type {\n",
              "        vertical-align: middle;\n",
              "    }\n",
              "\n",
              "    .dataframe tbody tr th {\n",
              "        vertical-align: top;\n",
              "    }\n",
              "\n",
              "    .dataframe thead th {\n",
              "        text-align: right;\n",
              "    }\n",
              "</style>\n",
              "<table border=\"1\" class=\"dataframe\">\n",
              "  <thead>\n",
              "    <tr style=\"text-align: right;\">\n",
              "      <th></th>\n",
              "      <th>docktime</th>\n",
              "      <th>station_name</th>\n",
              "      <th>in_out</th>\n",
              "    </tr>\n",
              "  </thead>\n",
              "  <tbody>\n",
              "    <tr>\n",
              "      <th>0</th>\n",
              "      <td>2016-07-17 12:22:11</td>\n",
              "      <td>1 Ave &amp; E 15 St</td>\n",
              "      <td>1</td>\n",
              "    </tr>\n",
              "    <tr>\n",
              "      <th>1</th>\n",
              "      <td>2017-04-14 20:04:13</td>\n",
              "      <td>1 Ave &amp; E 30 St</td>\n",
              "      <td>1</td>\n",
              "    </tr>\n",
              "    <tr>\n",
              "      <th>2</th>\n",
              "      <td>2017-05-09 18:16:52</td>\n",
              "      <td>1 Ave &amp; E 62 St</td>\n",
              "      <td>1</td>\n",
              "    </tr>\n",
              "    <tr>\n",
              "      <th>3</th>\n",
              "      <td>2015-05-12 18:46:45</td>\n",
              "      <td>10 Ave &amp; W 28 St</td>\n",
              "      <td>-1</td>\n",
              "    </tr>\n",
              "    <tr>\n",
              "      <th>4</th>\n",
              "      <td>2016-01-21 16:41:05</td>\n",
              "      <td>11 Ave &amp; W 27 St</td>\n",
              "      <td>1</td>\n",
              "    </tr>\n",
              "  </tbody>\n",
              "</table>\n",
              "</div>"
            ],
            "text/plain": [
              "             docktime      station_name  in_out\n",
              "0 2016-07-17 12:22:11   1 Ave & E 15 St       1\n",
              "1 2017-04-14 20:04:13   1 Ave & E 30 St       1\n",
              "2 2017-05-09 18:16:52   1 Ave & E 62 St       1\n",
              "3 2015-05-12 18:46:45  10 Ave & W 28 St      -1\n",
              "4 2016-01-21 16:41:05  11 Ave & W 27 St       1"
            ]
          },
          "metadata": {
            "tags": []
          },
          "execution_count": 162
        }
      ]
    },
    {
      "cell_type": "markdown",
      "metadata": {
        "id": "C06_eFCdKTPY"
      },
      "source": [
        "**Check the station table according its availability**"
      ]
    },
    {
      "cell_type": "code",
      "metadata": {
        "id": "ehYm6kcOIpwa",
        "colab": {
          "base_uri": "https://localhost:8080/"
        },
        "outputId": "c5dfa603-55b3-46ea-b6a3-27ba07c927f2"
      },
      "source": [
        "id_name.head(3)"
      ],
      "execution_count": null,
      "outputs": [
        {
          "output_type": "execute_result",
          "data": {
            "text/html": [
              "<div>\n",
              "<style scoped>\n",
              "    .dataframe tbody tr th:only-of-type {\n",
              "        vertical-align: middle;\n",
              "    }\n",
              "\n",
              "    .dataframe tbody tr th {\n",
              "        vertical-align: top;\n",
              "    }\n",
              "\n",
              "    .dataframe thead th {\n",
              "        text-align: right;\n",
              "    }\n",
              "</style>\n",
              "<table border=\"1\" class=\"dataframe\">\n",
              "  <thead>\n",
              "    <tr style=\"text-align: right;\">\n",
              "      <th></th>\n",
              "      <th>station_id</th>\n",
              "      <th>station_name</th>\n",
              "    </tr>\n",
              "  </thead>\n",
              "  <tbody>\n",
              "    <tr>\n",
              "      <th>0</th>\n",
              "      <td>261</td>\n",
              "      <td>Johnson St &amp; Gold St</td>\n",
              "    </tr>\n",
              "    <tr>\n",
              "      <th>1</th>\n",
              "      <td>502</td>\n",
              "      <td>Henry St &amp; Grand St</td>\n",
              "    </tr>\n",
              "    <tr>\n",
              "      <th>2</th>\n",
              "      <td>352</td>\n",
              "      <td>W 56 St &amp; 6 Ave</td>\n",
              "    </tr>\n",
              "  </tbody>\n",
              "</table>\n",
              "</div>"
            ],
            "text/plain": [
              "   station_id          station_name\n",
              "0         261  Johnson St & Gold St\n",
              "1         502   Henry St & Grand St\n",
              "2         352       W 56 St & 6 Ave"
            ]
          },
          "metadata": {
            "tags": []
          },
          "execution_count": 163
        }
      ]
    },
    {
      "cell_type": "code",
      "metadata": {
        "id": "g8_a7upVBC4j"
      },
      "source": [
        "# getting bjse with its information\n",
        "dummy = pd.merge(bjse, id_name, how='inner', left_on='station_name', right_on='station_name')\n",
        "bjse_info = pd.merge(dummy, stations[['station_id','capacity','num_bikes_available', 'num_docks_available']], how='inner', left_on='station_id', right_on='station_id').drop('station_id', 1)"
      ],
      "execution_count": null,
      "outputs": []
    },
    {
      "cell_type": "code",
      "metadata": {
        "id": "abeHZuBlL94b",
        "colab": {
          "base_uri": "https://localhost:8080/"
        },
        "outputId": "211e62f8-9c25-4ca2-81ef-01d26f4e310e"
      },
      "source": [
        "bjse_info.head()"
      ],
      "execution_count": null,
      "outputs": [
        {
          "output_type": "execute_result",
          "data": {
            "text/html": [
              "<div>\n",
              "<style scoped>\n",
              "    .dataframe tbody tr th:only-of-type {\n",
              "        vertical-align: middle;\n",
              "    }\n",
              "\n",
              "    .dataframe tbody tr th {\n",
              "        vertical-align: top;\n",
              "    }\n",
              "\n",
              "    .dataframe thead th {\n",
              "        text-align: right;\n",
              "    }\n",
              "</style>\n",
              "<table border=\"1\" class=\"dataframe\">\n",
              "  <thead>\n",
              "    <tr style=\"text-align: right;\">\n",
              "      <th></th>\n",
              "      <th>docktime</th>\n",
              "      <th>station_name</th>\n",
              "      <th>in_out</th>\n",
              "      <th>capacity</th>\n",
              "      <th>num_bikes_available</th>\n",
              "      <th>num_docks_available</th>\n",
              "    </tr>\n",
              "  </thead>\n",
              "  <tbody>\n",
              "    <tr>\n",
              "      <th>0</th>\n",
              "      <td>2016-07-17 12:22:11</td>\n",
              "      <td>1 Ave &amp; E 15 St</td>\n",
              "      <td>1</td>\n",
              "      <td>54</td>\n",
              "      <td>46</td>\n",
              "      <td>6</td>\n",
              "    </tr>\n",
              "    <tr>\n",
              "      <th>1</th>\n",
              "      <td>2017-04-14 20:04:13</td>\n",
              "      <td>1 Ave &amp; E 30 St</td>\n",
              "      <td>1</td>\n",
              "      <td>29</td>\n",
              "      <td>23</td>\n",
              "      <td>0</td>\n",
              "    </tr>\n",
              "    <tr>\n",
              "      <th>2</th>\n",
              "      <td>2017-05-09 18:16:52</td>\n",
              "      <td>1 Ave &amp; E 62 St</td>\n",
              "      <td>1</td>\n",
              "      <td>45</td>\n",
              "      <td>40</td>\n",
              "      <td>5</td>\n",
              "    </tr>\n",
              "    <tr>\n",
              "      <th>3</th>\n",
              "      <td>2015-05-12 18:46:45</td>\n",
              "      <td>10 Ave &amp; W 28 St</td>\n",
              "      <td>-1</td>\n",
              "      <td>49</td>\n",
              "      <td>32</td>\n",
              "      <td>16</td>\n",
              "    </tr>\n",
              "    <tr>\n",
              "      <th>4</th>\n",
              "      <td>2016-01-21 16:41:05</td>\n",
              "      <td>11 Ave &amp; W 27 St</td>\n",
              "      <td>1</td>\n",
              "      <td>31</td>\n",
              "      <td>3</td>\n",
              "      <td>26</td>\n",
              "    </tr>\n",
              "  </tbody>\n",
              "</table>\n",
              "</div>"
            ],
            "text/plain": [
              "             docktime  ... num_docks_available\n",
              "0 2016-07-17 12:22:11  ...                   6\n",
              "1 2017-04-14 20:04:13  ...                   0\n",
              "2 2017-05-09 18:16:52  ...                   5\n",
              "3 2015-05-12 18:46:45  ...                  16\n",
              "4 2016-01-21 16:41:05  ...                  26\n",
              "\n",
              "[5 rows x 6 columns]"
            ]
          },
          "metadata": {
            "tags": []
          },
          "execution_count": 165
        }
      ]
    },
    {
      "cell_type": "markdown",
      "metadata": {
        "id": "AXSaHwpLes_t"
      },
      "source": [
        "**Set the beginning inventory**"
      ]
    },
    {
      "cell_type": "markdown",
      "metadata": {
        "id": "OXh9nNFhgK9k"
      },
      "source": [
        "Set the num_bikes_availability as the value of beginning inventory"
      ]
    },
    {
      "cell_type": "code",
      "metadata": {
        "id": "YwI2hGT1VFKy"
      },
      "source": [
        "begin_inventory = bjse_info.groupby('station_name').min()['num_bikes_available'].reset_index()"
      ],
      "execution_count": null,
      "outputs": []
    },
    {
      "cell_type": "code",
      "metadata": {
        "id": "3qGzBLxRWvqX"
      },
      "source": [
        "begin_inventory['docktime'] = pd.Timestamp('2010-01-01T12')\n",
        "begin_inventory = begin_inventory[['docktime', 'station_name', 'num_bikes_available']]\n",
        "begin_inventory.rename(columns={'num_bikes_available': 'in_out'}, inplace=True)"
      ],
      "execution_count": null,
      "outputs": []
    },
    {
      "cell_type": "code",
      "metadata": {
        "id": "gOdof0jhXWRg"
      },
      "source": [
        "new_bjse = pd.concat([bjse, begin_inventory], axis=0).sort_values(by=['station_name', 'docktime']).reset_index(drop=True)"
      ],
      "execution_count": null,
      "outputs": []
    },
    {
      "cell_type": "code",
      "metadata": {
        "id": "IJjSWFYKVFb8",
        "colab": {
          "base_uri": "https://localhost:8080/"
        },
        "outputId": "c077476d-6dd7-457f-bbdd-d9ebe638dc20"
      },
      "source": [
        "new_bjse.head()"
      ],
      "execution_count": null,
      "outputs": [
        {
          "output_type": "execute_result",
          "data": {
            "text/html": [
              "<div>\n",
              "<style scoped>\n",
              "    .dataframe tbody tr th:only-of-type {\n",
              "        vertical-align: middle;\n",
              "    }\n",
              "\n",
              "    .dataframe tbody tr th {\n",
              "        vertical-align: top;\n",
              "    }\n",
              "\n",
              "    .dataframe thead th {\n",
              "        text-align: right;\n",
              "    }\n",
              "</style>\n",
              "<table border=\"1\" class=\"dataframe\">\n",
              "  <thead>\n",
              "    <tr style=\"text-align: right;\">\n",
              "      <th></th>\n",
              "      <th>docktime</th>\n",
              "      <th>station_name</th>\n",
              "      <th>in_out</th>\n",
              "    </tr>\n",
              "  </thead>\n",
              "  <tbody>\n",
              "    <tr>\n",
              "      <th>0</th>\n",
              "      <td>2010-01-01 12:00:00</td>\n",
              "      <td>1 Ave &amp; E 15 St</td>\n",
              "      <td>46</td>\n",
              "    </tr>\n",
              "    <tr>\n",
              "      <th>1</th>\n",
              "      <td>2016-07-17 12:22:11</td>\n",
              "      <td>1 Ave &amp; E 15 St</td>\n",
              "      <td>1</td>\n",
              "    </tr>\n",
              "    <tr>\n",
              "      <th>2</th>\n",
              "      <td>2010-01-01 12:00:00</td>\n",
              "      <td>1 Ave &amp; E 30 St</td>\n",
              "      <td>23</td>\n",
              "    </tr>\n",
              "    <tr>\n",
              "      <th>3</th>\n",
              "      <td>2017-04-14 20:04:13</td>\n",
              "      <td>1 Ave &amp; E 30 St</td>\n",
              "      <td>1</td>\n",
              "    </tr>\n",
              "    <tr>\n",
              "      <th>4</th>\n",
              "      <td>2010-01-01 12:00:00</td>\n",
              "      <td>1 Ave &amp; E 62 St</td>\n",
              "      <td>40</td>\n",
              "    </tr>\n",
              "  </tbody>\n",
              "</table>\n",
              "</div>"
            ],
            "text/plain": [
              "             docktime     station_name  in_out\n",
              "0 2010-01-01 12:00:00  1 Ave & E 15 St      46\n",
              "1 2016-07-17 12:22:11  1 Ave & E 15 St       1\n",
              "2 2010-01-01 12:00:00  1 Ave & E 30 St      23\n",
              "3 2017-04-14 20:04:13  1 Ave & E 30 St       1\n",
              "4 2010-01-01 12:00:00  1 Ave & E 62 St      40"
            ]
          },
          "metadata": {
            "tags": []
          },
          "execution_count": 169
        }
      ]
    },
    {
      "cell_type": "markdown",
      "metadata": {
        "id": "EJweOYE5fgfc"
      },
      "source": [
        "**Calculate the flow**"
      ]
    },
    {
      "cell_type": "code",
      "metadata": {
        "id": "ejW5dYC2BCmz"
      },
      "source": [
        "new_bjse[\"cum_flow\"]=new_bjse.groupby(['station_name'])['in_out'].cumsum(axis=0)"
      ],
      "execution_count": null,
      "outputs": []
    },
    {
      "cell_type": "code",
      "metadata": {
        "id": "WTC_r1zGFSyu"
      },
      "source": [
        "new_bjse['date'] = pd.to_datetime(new_bjse['docktime']).dt.date"
      ],
      "execution_count": null,
      "outputs": []
    },
    {
      "cell_type": "code",
      "metadata": {
        "id": "3k4QrTB5QNve",
        "colab": {
          "base_uri": "https://localhost:8080/"
        },
        "outputId": "7943447d-d4a4-4e23-e198-dd453339c431"
      },
      "source": [
        "new_bjse.head()"
      ],
      "execution_count": null,
      "outputs": [
        {
          "output_type": "execute_result",
          "data": {
            "text/html": [
              "<div>\n",
              "<style scoped>\n",
              "    .dataframe tbody tr th:only-of-type {\n",
              "        vertical-align: middle;\n",
              "    }\n",
              "\n",
              "    .dataframe tbody tr th {\n",
              "        vertical-align: top;\n",
              "    }\n",
              "\n",
              "    .dataframe thead th {\n",
              "        text-align: right;\n",
              "    }\n",
              "</style>\n",
              "<table border=\"1\" class=\"dataframe\">\n",
              "  <thead>\n",
              "    <tr style=\"text-align: right;\">\n",
              "      <th></th>\n",
              "      <th>docktime</th>\n",
              "      <th>station_name</th>\n",
              "      <th>in_out</th>\n",
              "      <th>cum_flow</th>\n",
              "      <th>date</th>\n",
              "    </tr>\n",
              "  </thead>\n",
              "  <tbody>\n",
              "    <tr>\n",
              "      <th>0</th>\n",
              "      <td>2010-01-01 12:00:00</td>\n",
              "      <td>1 Ave &amp; E 15 St</td>\n",
              "      <td>46</td>\n",
              "      <td>46</td>\n",
              "      <td>2010-01-01</td>\n",
              "    </tr>\n",
              "    <tr>\n",
              "      <th>1</th>\n",
              "      <td>2016-07-17 12:22:11</td>\n",
              "      <td>1 Ave &amp; E 15 St</td>\n",
              "      <td>1</td>\n",
              "      <td>47</td>\n",
              "      <td>2016-07-17</td>\n",
              "    </tr>\n",
              "    <tr>\n",
              "      <th>2</th>\n",
              "      <td>2010-01-01 12:00:00</td>\n",
              "      <td>1 Ave &amp; E 30 St</td>\n",
              "      <td>23</td>\n",
              "      <td>23</td>\n",
              "      <td>2010-01-01</td>\n",
              "    </tr>\n",
              "    <tr>\n",
              "      <th>3</th>\n",
              "      <td>2017-04-14 20:04:13</td>\n",
              "      <td>1 Ave &amp; E 30 St</td>\n",
              "      <td>1</td>\n",
              "      <td>24</td>\n",
              "      <td>2017-04-14</td>\n",
              "    </tr>\n",
              "    <tr>\n",
              "      <th>4</th>\n",
              "      <td>2010-01-01 12:00:00</td>\n",
              "      <td>1 Ave &amp; E 62 St</td>\n",
              "      <td>40</td>\n",
              "      <td>40</td>\n",
              "      <td>2010-01-01</td>\n",
              "    </tr>\n",
              "  </tbody>\n",
              "</table>\n",
              "</div>"
            ],
            "text/plain": [
              "             docktime     station_name  in_out  cum_flow        date\n",
              "0 2010-01-01 12:00:00  1 Ave & E 15 St      46        46  2010-01-01\n",
              "1 2016-07-17 12:22:11  1 Ave & E 15 St       1        47  2016-07-17\n",
              "2 2010-01-01 12:00:00  1 Ave & E 30 St      23        23  2010-01-01\n",
              "3 2017-04-14 20:04:13  1 Ave & E 30 St       1        24  2017-04-14\n",
              "4 2010-01-01 12:00:00  1 Ave & E 62 St      40        40  2010-01-01"
            ]
          },
          "metadata": {
            "tags": []
          },
          "execution_count": 172
        }
      ]
    },
    {
      "cell_type": "markdown",
      "metadata": {
        "id": "DCHNevVyy8RT"
      },
      "source": [
        "### Checking Status"
      ]
    },
    {
      "cell_type": "code",
      "metadata": {
        "id": "2aQG2RTXGQ9s"
      },
      "source": [
        "# daily update\n",
        "bjse_status_in_day = new_bjse.groupby(['station_name', 'date']).last().reset_index().drop(['docktime', 'in_out'], axis=1)"
      ],
      "execution_count": null,
      "outputs": []
    },
    {
      "cell_type": "code",
      "metadata": {
        "id": "SMVbYV2Hwe8A"
      },
      "source": [
        "# Put the capacity daily info\n",
        "z = bjse_info[['station_name','capacity']].drop_duplicates()\n",
        "new2_bjse= pd.merge(bjse_status_in_day, z, how='inner', left_on='station_name', right_on='station_name')"
      ],
      "execution_count": null,
      "outputs": []
    },
    {
      "cell_type": "code",
      "metadata": {
        "id": "JYhX_Wr60j4M"
      },
      "source": [
        "new2_bjse.loc[(new2_bjse['cum_flow'] < 0), 'inventory'] = 'SHORTAGE'\n",
        "new2_bjse.loc[(new2_bjse['cum_flow'] == 0), 'inventory'] = 'BALANCE'\n",
        "new2_bjse.loc[(new2_bjse['cum_flow'] > 0), 'inventory'] = 'SUPRLUS'\n",
        "new2_bjse.loc[(new2_bjse['cum_flow'] <= new2_bjse['capacity']), 'load'] = 'UNDER'\n",
        "new2_bjse.loc[(new2_bjse['cum_flow'] > new2_bjse['capacity']), 'load'] = 'OVER'  "
      ],
      "execution_count": null,
      "outputs": []
    },
    {
      "cell_type": "code",
      "metadata": {
        "id": "VxgrY9yigetj"
      },
      "source": [
        "new2_bjse['year'] = pd.DatetimeIndex(new2_bjse['date']).year"
      ],
      "execution_count": null,
      "outputs": []
    },
    {
      "cell_type": "code",
      "metadata": {
        "id": "_6f4a70QEhq5"
      },
      "source": [
        "new2_bjse[\"status_name\"] = new2_bjse[\"inventory\"].astype(str) + \" - \" + new2_bjse[\"load\"].astype(str)"
      ],
      "execution_count": null,
      "outputs": []
    },
    {
      "cell_type": "code",
      "metadata": {
        "id": "lAYEUHa_67P4"
      },
      "source": [
        "# count frequency of condition in a year\n",
        "bjse_status_in_year = new2_bjse.groupby(['station_name','year','status_name']).count()['capacity'].reset_index(name='status_count')"
      ],
      "execution_count": null,
      "outputs": []
    },
    {
      "cell_type": "code",
      "metadata": {
        "id": "5sTajiSS67Yg"
      },
      "source": [
        "bjse_status_in_year.drop(bjse_status_in_year[bjse_status_in_year['year'] == 2010].index, inplace = True)"
      ],
      "execution_count": null,
      "outputs": []
    },
    {
      "cell_type": "code",
      "metadata": {
        "id": "v8bz9t-yDof7",
        "colab": {
          "base_uri": "https://localhost:8080/",
          "height": 204
        },
        "outputId": "964329e0-e1f1-412b-a762-4c4f45b5446b"
      },
      "source": [
        "bjse_status_in_year.head()"
      ],
      "execution_count": null,
      "outputs": [
        {
          "output_type": "execute_result",
          "data": {
            "text/html": [
              "<div>\n",
              "<style scoped>\n",
              "    .dataframe tbody tr th:only-of-type {\n",
              "        vertical-align: middle;\n",
              "    }\n",
              "\n",
              "    .dataframe tbody tr th {\n",
              "        vertical-align: top;\n",
              "    }\n",
              "\n",
              "    .dataframe thead th {\n",
              "        text-align: right;\n",
              "    }\n",
              "</style>\n",
              "<table border=\"1\" class=\"dataframe\">\n",
              "  <thead>\n",
              "    <tr style=\"text-align: right;\">\n",
              "      <th></th>\n",
              "      <th>station_name</th>\n",
              "      <th>year</th>\n",
              "      <th>status_name</th>\n",
              "      <th>status_count</th>\n",
              "    </tr>\n",
              "  </thead>\n",
              "  <tbody>\n",
              "    <tr>\n",
              "      <th>1</th>\n",
              "      <td>1 Ave &amp; E 15 St</td>\n",
              "      <td>2016</td>\n",
              "      <td>SUPRLUS - UNDER</td>\n",
              "      <td>1</td>\n",
              "    </tr>\n",
              "    <tr>\n",
              "      <th>3</th>\n",
              "      <td>1 Ave &amp; E 30 St</td>\n",
              "      <td>2017</td>\n",
              "      <td>SUPRLUS - UNDER</td>\n",
              "      <td>1</td>\n",
              "    </tr>\n",
              "    <tr>\n",
              "      <th>5</th>\n",
              "      <td>1 Ave &amp; E 62 St</td>\n",
              "      <td>2017</td>\n",
              "      <td>SUPRLUS - UNDER</td>\n",
              "      <td>1</td>\n",
              "    </tr>\n",
              "    <tr>\n",
              "      <th>7</th>\n",
              "      <td>10 Ave &amp; W 28 St</td>\n",
              "      <td>2015</td>\n",
              "      <td>SUPRLUS - UNDER</td>\n",
              "      <td>1</td>\n",
              "    </tr>\n",
              "    <tr>\n",
              "      <th>9</th>\n",
              "      <td>11 Ave &amp; W 27 St</td>\n",
              "      <td>2016</td>\n",
              "      <td>SUPRLUS - UNDER</td>\n",
              "      <td>1</td>\n",
              "    </tr>\n",
              "  </tbody>\n",
              "</table>\n",
              "</div>"
            ],
            "text/plain": [
              "       station_name  year      status_name  status_count\n",
              "1   1 Ave & E 15 St  2016  SUPRLUS - UNDER             1\n",
              "3   1 Ave & E 30 St  2017  SUPRLUS - UNDER             1\n",
              "5   1 Ave & E 62 St  2017  SUPRLUS - UNDER             1\n",
              "7  10 Ave & W 28 St  2015  SUPRLUS - UNDER             1\n",
              "9  11 Ave & W 27 St  2016  SUPRLUS - UNDER             1"
            ]
          },
          "metadata": {
            "tags": []
          },
          "execution_count": 180
        }
      ]
    },
    {
      "cell_type": "code",
      "metadata": {
        "id": "btAYTmrZBCp1",
        "colab": {
          "base_uri": "https://localhost:8080/",
          "height": 162
        },
        "outputId": "abbbaef4-4699-4953-8e96-b25df98f13d1"
      },
      "source": [
        "sum_distrib = pd.pivot_table(bjse_status_in_year,index=['station_name','year'],columns=['status_name'],values=['status_count'],aggfunc=np.sum).fillna(0)\n",
        "sum_distrib = pd.DataFrame(sum_distrib.to_records())\n",
        "sum_distrib.head(2)"
      ],
      "execution_count": null,
      "outputs": [
        {
          "output_type": "execute_result",
          "data": {
            "text/html": [
              "<div>\n",
              "<style scoped>\n",
              "    .dataframe tbody tr th:only-of-type {\n",
              "        vertical-align: middle;\n",
              "    }\n",
              "\n",
              "    .dataframe tbody tr th {\n",
              "        vertical-align: top;\n",
              "    }\n",
              "\n",
              "    .dataframe thead th {\n",
              "        text-align: right;\n",
              "    }\n",
              "</style>\n",
              "<table border=\"1\" class=\"dataframe\">\n",
              "  <thead>\n",
              "    <tr style=\"text-align: right;\">\n",
              "      <th></th>\n",
              "      <th>station_name</th>\n",
              "      <th>year</th>\n",
              "      <th>('status_count', 'BALANCE - UNDER')</th>\n",
              "      <th>('status_count', 'SHORTAGE - UNDER')</th>\n",
              "      <th>('status_count', 'SUPRLUS - OVER')</th>\n",
              "      <th>('status_count', 'SUPRLUS - UNDER')</th>\n",
              "    </tr>\n",
              "  </thead>\n",
              "  <tbody>\n",
              "    <tr>\n",
              "      <th>0</th>\n",
              "      <td>1 Ave &amp; E 15 St</td>\n",
              "      <td>2016</td>\n",
              "      <td>0.0</td>\n",
              "      <td>0.0</td>\n",
              "      <td>0.0</td>\n",
              "      <td>1.0</td>\n",
              "    </tr>\n",
              "    <tr>\n",
              "      <th>1</th>\n",
              "      <td>1 Ave &amp; E 30 St</td>\n",
              "      <td>2017</td>\n",
              "      <td>0.0</td>\n",
              "      <td>0.0</td>\n",
              "      <td>0.0</td>\n",
              "      <td>1.0</td>\n",
              "    </tr>\n",
              "  </tbody>\n",
              "</table>\n",
              "</div>"
            ],
            "text/plain": [
              "      station_name  ...  ('status_count', 'SUPRLUS - UNDER')\n",
              "0  1 Ave & E 15 St  ...                                  1.0\n",
              "1  1 Ave & E 30 St  ...                                  1.0\n",
              "\n",
              "[2 rows x 6 columns]"
            ]
          },
          "metadata": {
            "tags": []
          },
          "execution_count": 181
        }
      ]
    },
    {
      "cell_type": "code",
      "metadata": {
        "id": "Osj36JbZfTMB"
      },
      "source": [
        "sum_distrib.columns = ['station_name', 'year', 'BALANCE-UNDER', 'SHORTAGE-UNDER', 'SURPLUS-OVER', 'SURPLUS-UNDER']"
      ],
      "execution_count": null,
      "outputs": []
    },
    {
      "cell_type": "code",
      "metadata": {
        "id": "GshlxsoZeNcJ",
        "colab": {
          "base_uri": "https://localhost:8080/",
          "height": 141
        },
        "outputId": "6005be62-e12d-4827-9629-542ccbd1a6da"
      },
      "source": [
        "# summary distribution status per year\n",
        "sum_distrib_per_year=sum_distrib.groupby(['year']).agg({'BALANCE-UNDER':'sum','SHORTAGE-UNDER':'sum','SURPLUS-OVER':'sum','SURPLUS-UNDER':'sum'}).reset_index()\n",
        "sum_distrib_per_year"
      ],
      "execution_count": null,
      "outputs": [
        {
          "output_type": "execute_result",
          "data": {
            "text/html": [
              "<div>\n",
              "<style scoped>\n",
              "    .dataframe tbody tr th:only-of-type {\n",
              "        vertical-align: middle;\n",
              "    }\n",
              "\n",
              "    .dataframe tbody tr th {\n",
              "        vertical-align: top;\n",
              "    }\n",
              "\n",
              "    .dataframe thead th {\n",
              "        text-align: right;\n",
              "    }\n",
              "</style>\n",
              "<table border=\"1\" class=\"dataframe\">\n",
              "  <thead>\n",
              "    <tr style=\"text-align: right;\">\n",
              "      <th></th>\n",
              "      <th>year</th>\n",
              "      <th>BALANCE-UNDER</th>\n",
              "      <th>SHORTAGE-UNDER</th>\n",
              "      <th>SURPLUS-OVER</th>\n",
              "      <th>SURPLUS-UNDER</th>\n",
              "    </tr>\n",
              "  </thead>\n",
              "  <tbody>\n",
              "    <tr>\n",
              "      <th>0</th>\n",
              "      <td>2015</td>\n",
              "      <td>1.0</td>\n",
              "      <td>0.0</td>\n",
              "      <td>0.0</td>\n",
              "      <td>26.0</td>\n",
              "    </tr>\n",
              "    <tr>\n",
              "      <th>1</th>\n",
              "      <td>2016</td>\n",
              "      <td>0.0</td>\n",
              "      <td>1.0</td>\n",
              "      <td>1.0</td>\n",
              "      <td>18.0</td>\n",
              "    </tr>\n",
              "    <tr>\n",
              "      <th>2</th>\n",
              "      <td>2017</td>\n",
              "      <td>0.0</td>\n",
              "      <td>1.0</td>\n",
              "      <td>0.0</td>\n",
              "      <td>22.0</td>\n",
              "    </tr>\n",
              "  </tbody>\n",
              "</table>\n",
              "</div>"
            ],
            "text/plain": [
              "   year  BALANCE-UNDER  SHORTAGE-UNDER  SURPLUS-OVER  SURPLUS-UNDER\n",
              "0  2015            1.0             0.0           0.0           26.0\n",
              "1  2016            0.0             1.0           1.0           18.0\n",
              "2  2017            0.0             1.0           0.0           22.0"
            ]
          },
          "metadata": {
            "tags": []
          },
          "execution_count": 183
        }
      ]
    },
    {
      "cell_type": "code",
      "metadata": {
        "id": "6r1VxvdzuEUV",
        "colab": {
          "base_uri": "https://localhost:8080/",
          "height": 204
        },
        "outputId": "9a941df1-1964-4fa5-938f-c7f122da9575"
      },
      "source": [
        "bjse_status_in_year_visual = bjse_status_in_year.groupby(['year','status_name']).sum()['status_count'].reset_index()\n",
        "bjse_status_in_year_visual.head()"
      ],
      "execution_count": null,
      "outputs": [
        {
          "output_type": "execute_result",
          "data": {
            "text/html": [
              "<div>\n",
              "<style scoped>\n",
              "    .dataframe tbody tr th:only-of-type {\n",
              "        vertical-align: middle;\n",
              "    }\n",
              "\n",
              "    .dataframe tbody tr th {\n",
              "        vertical-align: top;\n",
              "    }\n",
              "\n",
              "    .dataframe thead th {\n",
              "        text-align: right;\n",
              "    }\n",
              "</style>\n",
              "<table border=\"1\" class=\"dataframe\">\n",
              "  <thead>\n",
              "    <tr style=\"text-align: right;\">\n",
              "      <th></th>\n",
              "      <th>year</th>\n",
              "      <th>status_name</th>\n",
              "      <th>status_count</th>\n",
              "    </tr>\n",
              "  </thead>\n",
              "  <tbody>\n",
              "    <tr>\n",
              "      <th>0</th>\n",
              "      <td>2015</td>\n",
              "      <td>BALANCE - UNDER</td>\n",
              "      <td>1</td>\n",
              "    </tr>\n",
              "    <tr>\n",
              "      <th>1</th>\n",
              "      <td>2015</td>\n",
              "      <td>SUPRLUS - UNDER</td>\n",
              "      <td>26</td>\n",
              "    </tr>\n",
              "    <tr>\n",
              "      <th>2</th>\n",
              "      <td>2016</td>\n",
              "      <td>SHORTAGE - UNDER</td>\n",
              "      <td>1</td>\n",
              "    </tr>\n",
              "    <tr>\n",
              "      <th>3</th>\n",
              "      <td>2016</td>\n",
              "      <td>SUPRLUS - OVER</td>\n",
              "      <td>1</td>\n",
              "    </tr>\n",
              "    <tr>\n",
              "      <th>4</th>\n",
              "      <td>2016</td>\n",
              "      <td>SUPRLUS - UNDER</td>\n",
              "      <td>18</td>\n",
              "    </tr>\n",
              "  </tbody>\n",
              "</table>\n",
              "</div>"
            ],
            "text/plain": [
              "   year       status_name  status_count\n",
              "0  2015   BALANCE - UNDER             1\n",
              "1  2015   SUPRLUS - UNDER            26\n",
              "2  2016  SHORTAGE - UNDER             1\n",
              "3  2016    SUPRLUS - OVER             1\n",
              "4  2016   SUPRLUS - UNDER            18"
            ]
          },
          "metadata": {
            "tags": []
          },
          "execution_count": 184
        }
      ]
    },
    {
      "cell_type": "code",
      "metadata": {
        "id": "IzA1_Ffhs9aW",
        "colab": {
          "base_uri": "https://localhost:8080/",
          "height": 525
        },
        "outputId": "c3d182fc-d9ba-465c-e4bd-2e737a7d0bb6"
      },
      "source": [
        "g = sns.catplot(\n",
        "    data=bjse_status_in_year_visual, kind=\"bar\",\n",
        "    x=\"status_name\", y=\"status_count\", hue=\"year\",\n",
        "    ci=\"sd\", palette=\"dark\", alpha=.6, height=6\n",
        "    )\n",
        "g.despine(left=True)\n",
        "g.set_axis_labels(\"\", \"Frequency\")\n",
        "g.legend.set_title(\"\")\n",
        "plt.title(\"Distribution Condition\")\n",
        "plt.xticks(rotation=45)\n",
        "plt.show()"
      ],
      "execution_count": null,
      "outputs": [
        {
          "output_type": "display_data",
          "data": {
            "image/png": "[encoded data removed]",
            "text/plain": [
              "<Figure size 493.375x432 with 1 Axes>"
            ]
          },
          "metadata": {
            "tags": []
          }
        }
      ]
    },
    {
      "cell_type": "code",
      "metadata": {
        "id": "WdmsqUiT22kR"
      },
      "source": [
        "# summary distribution status per station in 2017\n",
        "new2_bjse_xyear = new2_bjse[new2_bjse['year']==2017]\n",
        "new2_bjse_xyear = new2_bjse_xyear.groupby(['station_name']).agg({'cum_flow':'mean','capacity':'mean'}).reset_index()"
      ],
      "execution_count": null,
      "outputs": []
    },
    {
      "cell_type": "code",
      "metadata": {
        "id": "Ii5-emhs4eLI",
        "colab": {
          "base_uri": "https://localhost:8080/",
          "height": 204
        },
        "outputId": "cb583a45-8ff7-4e84-dc4a-349be3db8c62"
      },
      "source": [
        "new2_bjse_xyear.loc[(new2_bjse_xyear['cum_flow'] == 0) & (new2_bjse_xyear['cum_flow'] <= new2_bjse_xyear['capacity']), 'condition'] = 'BALANCE-UNDER'\n",
        "new2_bjse_xyear.loc[(new2_bjse_xyear['cum_flow'] < 0) & (new2_bjse_xyear['cum_flow'] <= new2_bjse_xyear['capacity']), 'condition'] = 'SHORTAGE-UNDER'\n",
        "new2_bjse_xyear.loc[(new2_bjse_xyear['cum_flow'] > 0) & (new2_bjse_xyear['cum_flow'] > new2_bjse_xyear['capacity']), 'condition'] = 'SURPLUS-OVER'\n",
        "new2_bjse_xyear.loc[(new2_bjse_xyear['cum_flow'] > 0) & (new2_bjse_xyear['cum_flow'] <= new2_bjse_xyear['capacity']), 'condition'] = 'SURPLUS-UNDER'\n",
        "new2_bjse_xyear.head()"
      ],
      "execution_count": null,
      "outputs": [
        {
          "output_type": "execute_result",
          "data": {
            "text/html": [
              "<div>\n",
              "<style scoped>\n",
              "    .dataframe tbody tr th:only-of-type {\n",
              "        vertical-align: middle;\n",
              "    }\n",
              "\n",
              "    .dataframe tbody tr th {\n",
              "        vertical-align: top;\n",
              "    }\n",
              "\n",
              "    .dataframe thead th {\n",
              "        text-align: right;\n",
              "    }\n",
              "</style>\n",
              "<table border=\"1\" class=\"dataframe\">\n",
              "  <thead>\n",
              "    <tr style=\"text-align: right;\">\n",
              "      <th></th>\n",
              "      <th>station_name</th>\n",
              "      <th>cum_flow</th>\n",
              "      <th>capacity</th>\n",
              "      <th>condition</th>\n",
              "    </tr>\n",
              "  </thead>\n",
              "  <tbody>\n",
              "    <tr>\n",
              "      <th>0</th>\n",
              "      <td>1 Ave &amp; E 30 St</td>\n",
              "      <td>24</td>\n",
              "      <td>29</td>\n",
              "      <td>SURPLUS-UNDER</td>\n",
              "    </tr>\n",
              "    <tr>\n",
              "      <th>1</th>\n",
              "      <td>1 Ave &amp; E 62 St</td>\n",
              "      <td>41</td>\n",
              "      <td>45</td>\n",
              "      <td>SURPLUS-UNDER</td>\n",
              "    </tr>\n",
              "    <tr>\n",
              "      <th>2</th>\n",
              "      <td>5 St &amp; 6 Ave</td>\n",
              "      <td>9</td>\n",
              "      <td>23</td>\n",
              "      <td>SURPLUS-UNDER</td>\n",
              "    </tr>\n",
              "    <tr>\n",
              "      <th>3</th>\n",
              "      <td>Berry St &amp; N 8 St</td>\n",
              "      <td>3</td>\n",
              "      <td>27</td>\n",
              "      <td>SURPLUS-UNDER</td>\n",
              "    </tr>\n",
              "    <tr>\n",
              "      <th>4</th>\n",
              "      <td>Broadway &amp; E 22 St</td>\n",
              "      <td>-1</td>\n",
              "      <td>0</td>\n",
              "      <td>SHORTAGE-UNDER</td>\n",
              "    </tr>\n",
              "  </tbody>\n",
              "</table>\n",
              "</div>"
            ],
            "text/plain": [
              "         station_name  cum_flow  capacity       condition\n",
              "0     1 Ave & E 30 St        24        29   SURPLUS-UNDER\n",
              "1     1 Ave & E 62 St        41        45   SURPLUS-UNDER\n",
              "2        5 St & 6 Ave         9        23   SURPLUS-UNDER\n",
              "3   Berry St & N 8 St         3        27   SURPLUS-UNDER\n",
              "4  Broadway & E 22 St        -1         0  SHORTAGE-UNDER"
            ]
          },
          "metadata": {
            "tags": []
          },
          "execution_count": 193
        }
      ]
    },
    {
      "cell_type": "code",
      "metadata": {
        "id": "TcVYo0x8mrrA"
      },
      "source": [
        "balance_under = new2_bjse_xyear[new2_bjse_xyear['condition']=='BALANCE-UNDER'].sort_values(by=['cum_flow'], ascending=False)\n",
        "shortage_under = new2_bjse_xyear[new2_bjse_xyear['condition']=='SHORTAGE-UNDER'].sort_values(by=['cum_flow'], ascending=True)\n",
        "surplus_over = new2_bjse_xyear[new2_bjse_xyear['condition']=='SURPLUS-OVER'].sort_values(by=['cum_flow'], ascending=False)\n",
        "surplus_under = new2_bjse_xyear[new2_bjse_xyear['condition']=='SURPLUS-UNDER'].sort_values(by=['cum_flow'], ascending=False)"
      ],
      "execution_count": null,
      "outputs": []
    },
    {
      "cell_type": "code",
      "metadata": {
        "id": "3O_DNP2Z8mPh",
        "colab": {
          "base_uri": "https://localhost:8080/"
        },
        "outputId": "5de33e87-6231-41fd-eaec-b1ffbad67da9"
      },
      "source": [
        "print(len(surplus_under))\n",
        "print(len(shortage_under))"
      ],
      "execution_count": null,
      "outputs": [
        {
          "output_type": "stream",
          "text": [
            "22\n",
            "1\n"
          ],
          "name": "stdout"
        }
      ]
    },
    {
      "cell_type": "code",
      "metadata": {
        "id": "cVZDgttS94BA",
        "colab": {
          "base_uri": "https://localhost:8080/",
          "height": 80
        },
        "outputId": "48255335-4849-4c1e-b661-c0860542253d"
      },
      "source": [
        "surplus_under.loc[\"Total\", \"cum_flow\"] = surplus_under.cum_flow.sum()\n",
        "surplus_under.tail(1)"
      ],
      "execution_count": null,
      "outputs": [
        {
          "output_type": "execute_result",
          "data": {
            "text/html": [
              "<div>\n",
              "<style scoped>\n",
              "    .dataframe tbody tr th:only-of-type {\n",
              "        vertical-align: middle;\n",
              "    }\n",
              "\n",
              "    .dataframe tbody tr th {\n",
              "        vertical-align: top;\n",
              "    }\n",
              "\n",
              "    .dataframe thead th {\n",
              "        text-align: right;\n",
              "    }\n",
              "</style>\n",
              "<table border=\"1\" class=\"dataframe\">\n",
              "  <thead>\n",
              "    <tr style=\"text-align: right;\">\n",
              "      <th></th>\n",
              "      <th>station_name</th>\n",
              "      <th>cum_flow</th>\n",
              "      <th>capacity</th>\n",
              "      <th>condition</th>\n",
              "    </tr>\n",
              "  </thead>\n",
              "  <tbody>\n",
              "    <tr>\n",
              "      <th>Total</th>\n",
              "      <td>NaN</td>\n",
              "      <td>536.0</td>\n",
              "      <td>NaN</td>\n",
              "      <td>NaN</td>\n",
              "    </tr>\n",
              "  </tbody>\n",
              "</table>\n",
              "</div>"
            ],
            "text/plain": [
              "      station_name  cum_flow  capacity condition\n",
              "Total          NaN     536.0       NaN       NaN"
            ]
          },
          "metadata": {
            "tags": []
          },
          "execution_count": 196
        }
      ]
    },
    {
      "cell_type": "code",
      "metadata": {
        "id": "gPhXShMI_uyo",
        "colab": {
          "base_uri": "https://localhost:8080/",
          "height": 80
        },
        "outputId": "72bfe567-8537-4a33-997d-b8f2c0cdfdde"
      },
      "source": [
        "shortage_under.loc[\"Total\", \"cum_flow\"] = shortage_under.cum_flow.sum()\n",
        "shortage_under.tail(1)"
      ],
      "execution_count": null,
      "outputs": [
        {
          "output_type": "execute_result",
          "data": {
            "text/html": [
              "<div>\n",
              "<style scoped>\n",
              "    .dataframe tbody tr th:only-of-type {\n",
              "        vertical-align: middle;\n",
              "    }\n",
              "\n",
              "    .dataframe tbody tr th {\n",
              "        vertical-align: top;\n",
              "    }\n",
              "\n",
              "    .dataframe thead th {\n",
              "        text-align: right;\n",
              "    }\n",
              "</style>\n",
              "<table border=\"1\" class=\"dataframe\">\n",
              "  <thead>\n",
              "    <tr style=\"text-align: right;\">\n",
              "      <th></th>\n",
              "      <th>station_name</th>\n",
              "      <th>cum_flow</th>\n",
              "      <th>capacity</th>\n",
              "      <th>condition</th>\n",
              "    </tr>\n",
              "  </thead>\n",
              "  <tbody>\n",
              "    <tr>\n",
              "      <th>Total</th>\n",
              "      <td>NaN</td>\n",
              "      <td>-1.0</td>\n",
              "      <td>NaN</td>\n",
              "      <td>NaN</td>\n",
              "    </tr>\n",
              "  </tbody>\n",
              "</table>\n",
              "</div>"
            ],
            "text/plain": [
              "      station_name  cum_flow  capacity condition\n",
              "Total          NaN      -1.0       NaN       NaN"
            ]
          },
          "metadata": {
            "tags": []
          },
          "execution_count": 197
        }
      ]
    },
    {
      "cell_type": "markdown",
      "metadata": {
        "id": "xzZvBBFC8zbH"
      },
      "source": [
        "It is still possible to distribute from surplus_under to shortage_under"
      ]
    },
    {
      "cell_type": "code",
      "metadata": {
        "id": "rtAesVtX9AA8"
      },
      "source": [
        "q_surplus_under = surplus_under.quantile([.1, .25, .5, .75], axis = 0)\n",
        "q2_surplus_under = q_surplus_under.iloc[1,0]\n",
        "q3_surplus_under = q_surplus_under.iloc[2,0]"
      ],
      "execution_count": null,
      "outputs": []
    },
    {
      "cell_type": "code",
      "metadata": {
        "id": "ppdBeT6F9AA9"
      },
      "source": [
        "def f(row):\n",
        "    if row['cum_flow'] < q2_surplus_under:\n",
        "        val = 'low'\n",
        "    elif row['cum_flow'] > q3_surplus_under:\n",
        "        val = 'high'\n",
        "    else:\n",
        "        val = 'medium'\n",
        "    return val\n",
        "\n",
        "surplus_under['priority'] = surplus_under.apply(f, axis=1)"
      ],
      "execution_count": null,
      "outputs": []
    },
    {
      "cell_type": "code",
      "metadata": {
        "id": "RF3T1-m48bz0",
        "colab": {
          "base_uri": "https://localhost:8080/",
          "height": 204
        },
        "outputId": "33008ea2-372b-4588-a37a-d3790d57f3cb"
      },
      "source": [
        "surplus_under.head()"
      ],
      "execution_count": null,
      "outputs": [
        {
          "output_type": "execute_result",
          "data": {
            "text/html": [
              "<div>\n",
              "<style scoped>\n",
              "    .dataframe tbody tr th:only-of-type {\n",
              "        vertical-align: middle;\n",
              "    }\n",
              "\n",
              "    .dataframe tbody tr th {\n",
              "        vertical-align: top;\n",
              "    }\n",
              "\n",
              "    .dataframe thead th {\n",
              "        text-align: right;\n",
              "    }\n",
              "</style>\n",
              "<table border=\"1\" class=\"dataframe\">\n",
              "  <thead>\n",
              "    <tr style=\"text-align: right;\">\n",
              "      <th></th>\n",
              "      <th>station_name</th>\n",
              "      <th>cum_flow</th>\n",
              "      <th>capacity</th>\n",
              "      <th>condition</th>\n",
              "      <th>priority</th>\n",
              "    </tr>\n",
              "  </thead>\n",
              "  <tbody>\n",
              "    <tr>\n",
              "      <th>14</th>\n",
              "      <td>Lispenard St &amp; Broadway</td>\n",
              "      <td>76.0</td>\n",
              "      <td>79.0</td>\n",
              "      <td>SURPLUS-UNDER</td>\n",
              "      <td>high</td>\n",
              "    </tr>\n",
              "    <tr>\n",
              "      <th>7</th>\n",
              "      <td>E 2 St &amp; 2 Ave</td>\n",
              "      <td>53.0</td>\n",
              "      <td>58.0</td>\n",
              "      <td>SURPLUS-UNDER</td>\n",
              "      <td>high</td>\n",
              "    </tr>\n",
              "    <tr>\n",
              "      <th>10</th>\n",
              "      <td>Grand St &amp; Greene St</td>\n",
              "      <td>52.0</td>\n",
              "      <td>65.0</td>\n",
              "      <td>SURPLUS-UNDER</td>\n",
              "      <td>high</td>\n",
              "    </tr>\n",
              "    <tr>\n",
              "      <th>13</th>\n",
              "      <td>Lexington Ave &amp; E 24 St</td>\n",
              "      <td>41.0</td>\n",
              "      <td>53.0</td>\n",
              "      <td>SURPLUS-UNDER</td>\n",
              "      <td>high</td>\n",
              "    </tr>\n",
              "    <tr>\n",
              "      <th>1</th>\n",
              "      <td>1 Ave &amp; E 62 St</td>\n",
              "      <td>41.0</td>\n",
              "      <td>45.0</td>\n",
              "      <td>SURPLUS-UNDER</td>\n",
              "      <td>high</td>\n",
              "    </tr>\n",
              "  </tbody>\n",
              "</table>\n",
              "</div>"
            ],
            "text/plain": [
              "               station_name  cum_flow  capacity      condition priority\n",
              "14  Lispenard St & Broadway      76.0      79.0  SURPLUS-UNDER     high\n",
              "7            E 2 St & 2 Ave      53.0      58.0  SURPLUS-UNDER     high\n",
              "10     Grand St & Greene St      52.0      65.0  SURPLUS-UNDER     high\n",
              "13  Lexington Ave & E 24 St      41.0      53.0  SURPLUS-UNDER     high\n",
              "1           1 Ave & E 62 St      41.0      45.0  SURPLUS-UNDER     high"
            ]
          },
          "metadata": {
            "tags": []
          },
          "execution_count": 200
        }
      ]
    },
    {
      "cell_type": "code",
      "metadata": {
        "id": "N0TF3xrY478N",
        "colab": {
          "base_uri": "https://localhost:8080/",
          "height": 141
        },
        "outputId": "558d1536-df66-435a-dfec-dfb85aa124d7"
      },
      "source": [
        "surplus_under_visual = surplus_under.dropna().groupby(['priority']).size().reset_index(name='count')\n",
        "surplus_under_visual"
      ],
      "execution_count": null,
      "outputs": [
        {
          "output_type": "execute_result",
          "data": {
            "text/html": [
              "<div>\n",
              "<style scoped>\n",
              "    .dataframe tbody tr th:only-of-type {\n",
              "        vertical-align: middle;\n",
              "    }\n",
              "\n",
              "    .dataframe tbody tr th {\n",
              "        vertical-align: top;\n",
              "    }\n",
              "\n",
              "    .dataframe thead th {\n",
              "        text-align: right;\n",
              "    }\n",
              "</style>\n",
              "<table border=\"1\" class=\"dataframe\">\n",
              "  <thead>\n",
              "    <tr style=\"text-align: right;\">\n",
              "      <th></th>\n",
              "      <th>priority</th>\n",
              "      <th>count</th>\n",
              "    </tr>\n",
              "  </thead>\n",
              "  <tbody>\n",
              "    <tr>\n",
              "      <th>0</th>\n",
              "      <td>high</td>\n",
              "      <td>10</td>\n",
              "    </tr>\n",
              "    <tr>\n",
              "      <th>1</th>\n",
              "      <td>low</td>\n",
              "      <td>5</td>\n",
              "    </tr>\n",
              "    <tr>\n",
              "      <th>2</th>\n",
              "      <td>medium</td>\n",
              "      <td>7</td>\n",
              "    </tr>\n",
              "  </tbody>\n",
              "</table>\n",
              "</div>"
            ],
            "text/plain": [
              "  priority  count\n",
              "0     high     10\n",
              "1      low      5\n",
              "2   medium      7"
            ]
          },
          "metadata": {
            "tags": []
          },
          "execution_count": 201
        }
      ]
    },
    {
      "cell_type": "code",
      "metadata": {
        "id": "oIh0qSUj6_gT",
        "colab": {
          "base_uri": "https://localhost:8080/",
          "height": 457
        },
        "outputId": "b7083d58-3f70-48ba-a849-1ee77682c5e6"
      },
      "source": [
        "h = sns.catplot(\n",
        "    data=surplus_under_visual, kind=\"bar\",\n",
        "    x=\"priority\", y=\"count\",\n",
        "    ci=\"sd\", palette=\"dark\", alpha=.6, height=6\n",
        "    )\n",
        "h.despine(left=True)\n",
        "h.set_axis_labels(\"\", \"Total Station\")\n",
        "plt.title(\"Surplus Over\")\n",
        "plt.show()"
      ],
      "execution_count": null,
      "outputs": [
        {
          "output_type": "display_data",
          "data": {
            "image/png": "[encoded data removed]",
            "text/plain": [
              "<Figure size 432x432 with 1 Axes>"
            ]
          },
          "metadata": {
            "tags": []
          }
        }
      ]
    },
    {
      "cell_type": "code",
      "metadata": {
        "id": "KYqbXtR_r1IV"
      },
      "source": [
        "q_shortage_under = shortage_under.quantile([.1, .25, .5, .75], axis = 0)\n",
        "q2_shortage_under = q_shortage_under.iloc[1,0]\n",
        "q3_shortage_under = q_shortage_under.iloc[2,0]"
      ],
      "execution_count": null,
      "outputs": []
    },
    {
      "cell_type": "code",
      "metadata": {
        "id": "50s8t05m7gqE"
      },
      "source": [
        "def f(row):\n",
        "    if row['cum_flow'] < q2_shortage_under:\n",
        "        val = 'high'\n",
        "    elif row['cum_flow'] > q3_shortage_under:\n",
        "        val = 'low'\n",
        "    else:\n",
        "        val = 'medium'\n",
        "    return val\n",
        "\n",
        "shortage_under['priority'] = shortage_under.apply(f, axis=1)"
      ],
      "execution_count": null,
      "outputs": []
    },
    {
      "cell_type": "code",
      "metadata": {
        "id": "0AaJvPUm7ZIf",
        "colab": {
          "base_uri": "https://localhost:8080/",
          "height": 111
        },
        "outputId": "ba8a56a8-5a1d-46d0-ebf5-a4bbe90a911c"
      },
      "source": [
        "shortage_under.head()"
      ],
      "execution_count": null,
      "outputs": [
        {
          "output_type": "execute_result",
          "data": {
            "text/html": [
              "<div>\n",
              "<style scoped>\n",
              "    .dataframe tbody tr th:only-of-type {\n",
              "        vertical-align: middle;\n",
              "    }\n",
              "\n",
              "    .dataframe tbody tr th {\n",
              "        vertical-align: top;\n",
              "    }\n",
              "\n",
              "    .dataframe thead th {\n",
              "        text-align: right;\n",
              "    }\n",
              "</style>\n",
              "<table border=\"1\" class=\"dataframe\">\n",
              "  <thead>\n",
              "    <tr style=\"text-align: right;\">\n",
              "      <th></th>\n",
              "      <th>station_name</th>\n",
              "      <th>cum_flow</th>\n",
              "      <th>capacity</th>\n",
              "      <th>condition</th>\n",
              "      <th>priority</th>\n",
              "    </tr>\n",
              "  </thead>\n",
              "  <tbody>\n",
              "    <tr>\n",
              "      <th>4</th>\n",
              "      <td>Broadway &amp; E 22 St</td>\n",
              "      <td>-1.0</td>\n",
              "      <td>0.0</td>\n",
              "      <td>SHORTAGE-UNDER</td>\n",
              "      <td>medium</td>\n",
              "    </tr>\n",
              "    <tr>\n",
              "      <th>Total</th>\n",
              "      <td>NaN</td>\n",
              "      <td>-1.0</td>\n",
              "      <td>NaN</td>\n",
              "      <td>NaN</td>\n",
              "      <td>medium</td>\n",
              "    </tr>\n",
              "  </tbody>\n",
              "</table>\n",
              "</div>"
            ],
            "text/plain": [
              "             station_name  cum_flow  capacity       condition priority\n",
              "4      Broadway & E 22 St      -1.0       0.0  SHORTAGE-UNDER   medium\n",
              "Total                 NaN      -1.0       NaN             NaN   medium"
            ]
          },
          "metadata": {
            "tags": []
          },
          "execution_count": 205
        }
      ]
    },
    {
      "cell_type": "code",
      "metadata": {
        "id": "as5yC69V5-TG",
        "colab": {
          "base_uri": "https://localhost:8080/",
          "height": 80
        },
        "outputId": "3beef072-255f-4d21-b889-462898394790"
      },
      "source": [
        "shortage_under_visual = shortage_under.dropna().groupby(['priority']).size().reset_index(name='count')\n",
        "shortage_under_visual"
      ],
      "execution_count": null,
      "outputs": [
        {
          "output_type": "execute_result",
          "data": {
            "text/html": [
              "<div>\n",
              "<style scoped>\n",
              "    .dataframe tbody tr th:only-of-type {\n",
              "        vertical-align: middle;\n",
              "    }\n",
              "\n",
              "    .dataframe tbody tr th {\n",
              "        vertical-align: top;\n",
              "    }\n",
              "\n",
              "    .dataframe thead th {\n",
              "        text-align: right;\n",
              "    }\n",
              "</style>\n",
              "<table border=\"1\" class=\"dataframe\">\n",
              "  <thead>\n",
              "    <tr style=\"text-align: right;\">\n",
              "      <th></th>\n",
              "      <th>priority</th>\n",
              "      <th>count</th>\n",
              "    </tr>\n",
              "  </thead>\n",
              "  <tbody>\n",
              "    <tr>\n",
              "      <th>0</th>\n",
              "      <td>medium</td>\n",
              "      <td>1</td>\n",
              "    </tr>\n",
              "  </tbody>\n",
              "</table>\n",
              "</div>"
            ],
            "text/plain": [
              "  priority  count\n",
              "0   medium      1"
            ]
          },
          "metadata": {
            "tags": []
          },
          "execution_count": 206
        }
      ]
    },
    {
      "cell_type": "code",
      "metadata": {
        "id": "dNrxwLUm9Mzn",
        "colab": {
          "base_uri": "https://localhost:8080/",
          "height": 457
        },
        "outputId": "c3488136-8338-448a-8aca-3e2f1cb128ce"
      },
      "source": [
        "h = sns.catplot(\n",
        "    data=shortage_under_visual, kind=\"bar\",\n",
        "    x=\"priority\", y=\"count\",\n",
        "    ci=\"sd\", palette=\"dark\", alpha=.6, height=6\n",
        "    )\n",
        "h.despine(left=True)\n",
        "h.set_axis_labels(\"\", \"Total Station\")\n",
        "plt.title(\"Shortage Under\")\n",
        "plt.show()"
      ],
      "execution_count": null,
      "outputs": [
        {
          "output_type": "display_data",
          "data": {
            "image/png": "[encoded data removed]",
            "text/plain": [
              "<Figure size 432x432 with 1 Axes>"
            ]
          },
          "metadata": {
            "tags": []
          }
        }
      ]
    },
    {
      "cell_type": "markdown",
      "metadata": {
        "id": "vVjEaD8NKNHZ"
      },
      "source": [
        "###Check the strange value"
      ]
    },
    {
      "cell_type": "code",
      "metadata": {
        "id": "qAqyPF66HVda"
      },
      "source": [
        "k = new_bjse.groupby(['station_name', 'date']).last().reset_index()\n",
        "k.head()"
      ],
      "execution_count": null,
      "outputs": []
    },
    {
      "cell_type": "code",
      "metadata": {
        "id": "ppLgcGZiHrRw"
      },
      "source": [
        "pd.set_option('display.max_columns', None)\n",
        "pd.set_option(\"max_rows\", None)\n",
        "k[k['station_name']=='1 Ave & E 15 St']"
      ],
      "execution_count": null,
      "outputs": []
    },
    {
      "cell_type": "code",
      "metadata": {
        "id": "mPaib3xRf2jZ"
      },
      "source": [
        ""
      ],
      "execution_count": null,
      "outputs": []
    }
  ]
}